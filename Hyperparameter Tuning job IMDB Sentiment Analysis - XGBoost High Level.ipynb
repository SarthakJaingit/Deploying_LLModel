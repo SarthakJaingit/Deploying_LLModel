{
 "cells": [
  {
   "cell_type": "markdown",
   "metadata": {},
   "source": [
    "# Sentiment Analysis\n",
    "\n",
    "## Using XGBoost in SageMaker\n",
    "\n",
    "_Deep Learning Nanodegree Program | Deployment_\n",
    "\n",
    "---\n",
    "\n",
    "In this example of using Amazon's SageMaker service we will construct a random tree model to predict the sentiment of a movie review. You may have seen a version of this example in a pervious lesson although it would have been done using the sklearn package. Instead, we will be using the XGBoost package as it is provided to us by Amazon.\n",
    "\n",
    "## Instructions\n",
    "\n",
    "Some template code has already been provided for you, and you will need to implement additional functionality to successfully complete this notebook. You will not need to modify the included code beyond what is requested. Sections that begin with '**TODO**' in the header indicate that you need to complete or implement some portion within them. Instructions will be provided for each section and the specifics of the implementation are marked in the code block with a `# TODO: ...` comment. Please be sure to read the instructions carefully!\n",
    "\n",
    "In addition to implementing code, there will be questions for you to answer which relate to the task and your implementation. Each section where you will answer a question is preceded by a '**Question:**' header. Carefully read each question and provide your answer below the '**Answer:**' header by editing the Markdown cell.\n",
    "\n",
    "> **Note**: Code and Markdown cells can be executed using the **Shift+Enter** keyboard shortcut. In addition, a cell can be edited by typically clicking it (double-click for Markdown cells) or by pressing **Enter** while it is highlighted."
   ]
  },
  {
   "cell_type": "markdown",
   "metadata": {},
   "source": [
    "## Step 1: Downloading the data\n",
    "\n",
    "The dataset we are going to use is very popular among researchers in Natural Language Processing, usually referred to as the [IMDb dataset](http://ai.stanford.edu/~amaas/data/sentiment/). It consists of movie reviews from the website [imdb.com](http://www.imdb.com/), each labeled as either '**pos**itive', if the reviewer enjoyed the film, or '**neg**ative' otherwise.\n",
    "\n",
    "> Maas, Andrew L., et al. [Learning Word Vectors for Sentiment Analysis](http://ai.stanford.edu/~amaas/data/sentiment/). In _Proceedings of the 49th Annual Meeting of the Association for Computational Linguistics: Human Language Technologies_. Association for Computational Linguistics, 2011.\n",
    "\n",
    "We begin by using some Jupyter Notebook magic to download and extract the dataset."
   ]
  },
  {
   "cell_type": "code",
   "execution_count": 56,
   "metadata": {},
   "outputs": [
    {
     "name": "stdout",
     "output_type": "stream",
     "text": [
      "mkdir: cannot create directory ‘../data’: File exists\n",
      "--2020-09-28 05:15:47--  http://ai.stanford.edu/~amaas/data/sentiment/aclImdb_v1.tar.gz\n",
      "Resolving ai.stanford.edu (ai.stanford.edu)... 171.64.68.10\n",
      "Connecting to ai.stanford.edu (ai.stanford.edu)|171.64.68.10|:80... connected.\n",
      "HTTP request sent, awaiting response... 200 OK\n",
      "Length: 84125825 (80M) [application/x-gzip]\n",
      "Saving to: ‘../data/aclImdb_v1.tar.gz’\n",
      "\n",
      "../data/aclImdb_v1. 100%[===================>]  80.23M  40.4MB/s    in 2.0s    \n",
      "\n",
      "2020-09-28 05:15:49 (40.4 MB/s) - ‘../data/aclImdb_v1.tar.gz’ saved [84125825/84125825]\n",
      "\n"
     ]
    }
   ],
   "source": [
    "%mkdir ../data\n",
    "!wget -O ../data/aclImdb_v1.tar.gz http://ai.stanford.edu/~amaas/data/sentiment/aclImdb_v1.tar.gz\n",
    "!tar -zxf ../data/aclImdb_v1.tar.gz -C ../data"
   ]
  },
  {
   "cell_type": "markdown",
   "metadata": {},
   "source": [
    "## Step 2: Preparing the data\n",
    "\n",
    "The data we have downloaded is split into various files, each of which contains a single review. It will be much easier going forward if we combine these individual files into two large files, one for training and one for testing."
   ]
  },
  {
   "cell_type": "code",
   "execution_count": 57,
   "metadata": {},
   "outputs": [],
   "source": [
    "import os\n",
    "import glob\n",
    "\n",
    "def read_imdb_data(data_dir='../data/aclImdb'):\n",
    "    data = {}\n",
    "    labels = {}\n",
    "    \n",
    "    for data_type in ['train', 'test']:\n",
    "        data[data_type] = {}\n",
    "        labels[data_type] = {}\n",
    "        \n",
    "        for sentiment in ['pos', 'neg']:\n",
    "            data[data_type][sentiment] = []\n",
    "            labels[data_type][sentiment] = []\n",
    "            \n",
    "            path = os.path.join(data_dir, data_type, sentiment, '*.txt')\n",
    "            files = glob.glob(path)\n",
    "            \n",
    "            for f in files:\n",
    "                with open(f) as review:\n",
    "                    data[data_type][sentiment].append(review.read())\n",
    "                    # Here we represent a positive review by '1' and a negative review by '0'\n",
    "                    labels[data_type][sentiment].append(1 if sentiment == 'pos' else 0)\n",
    "                    \n",
    "            assert len(data[data_type][sentiment]) == len(labels[data_type][sentiment]), \\\n",
    "                    \"{}/{} data size does not match labels size\".format(data_type, sentiment)\n",
    "                \n",
    "    return data, labels"
   ]
  },
  {
   "cell_type": "code",
   "execution_count": 58,
   "metadata": {},
   "outputs": [
    {
     "name": "stdout",
     "output_type": "stream",
     "text": [
      "IMDB reviews: train = 12500 pos / 12500 neg, test = 12500 pos / 12500 neg\n"
     ]
    }
   ],
   "source": [
    "data, labels = read_imdb_data()\n",
    "print(\"IMDB reviews: train = {} pos / {} neg, test = {} pos / {} neg\".format(\n",
    "            len(data['train']['pos']), len(data['train']['neg']),\n",
    "            len(data['test']['pos']), len(data['test']['neg'])))"
   ]
  },
  {
   "cell_type": "code",
   "execution_count": 59,
   "metadata": {},
   "outputs": [],
   "source": [
    "from sklearn.utils import shuffle\n",
    "\n",
    "def prepare_imdb_data(data, labels):\n",
    "    \"\"\"Prepare training and test sets from IMDb movie reviews.\"\"\"\n",
    "    \n",
    "    #Combine positive and negative reviews and labels\n",
    "    data_train = data['train']['pos'] + data['train']['neg']\n",
    "    data_test = data['test']['pos'] + data['test']['neg']\n",
    "    labels_train = labels['train']['pos'] + labels['train']['neg']\n",
    "    labels_test = labels['test']['pos'] + labels['test']['neg']\n",
    "    \n",
    "    #Shuffle reviews and corresponding labels within training and test sets\n",
    "    data_train, labels_train = shuffle(data_train, labels_train)\n",
    "    data_test, labels_test = shuffle(data_test, labels_test)\n",
    "    \n",
    "    # Return a unified training data, test data, training labels, test labets\n",
    "    return data_train, data_test, labels_train, labels_test"
   ]
  },
  {
   "cell_type": "code",
   "execution_count": 60,
   "metadata": {},
   "outputs": [
    {
     "name": "stdout",
     "output_type": "stream",
     "text": [
      "IMDb reviews (combined): train = 25000, test = 25000\n"
     ]
    }
   ],
   "source": [
    "train_X, test_X, train_y, test_y = prepare_imdb_data(data, labels)\n",
    "print(\"IMDb reviews (combined): train = {}, test = {}\".format(len(train_X), len(test_X)))"
   ]
  },
  {
   "cell_type": "code",
   "execution_count": 61,
   "metadata": {},
   "outputs": [
    {
     "data": {
      "text/plain": [
       "\"My Brother And I Have Pokemon 4Ever On DVD. We Watched It Like A Couple Of Times And It Was The Best. Too Bad It A New Pokemon Didn't Talk This Time. I'll Get Used To It.<br /><br />The Iron Masked Marauder Was Pretty Mean When He Captured Celebi With His Dark Ball. Good Thing Ash And Sam Managed To Snap Him Out Of His Control.<br /><br />There Was Only One Song In The Ending Credits Called Cele-B-R-A-T-E Performed By Russell Velazquez.<br /><br />Pokemon 4Ever Became A Success Since The Three Previous Films And People Will Always Love That Film.\""
      ]
     },
     "execution_count": 61,
     "metadata": {},
     "output_type": "execute_result"
    }
   ],
   "source": [
    "train_X[100]"
   ]
  },
  {
   "cell_type": "markdown",
   "metadata": {},
   "source": [
    "## Step 3: Processing the data\n",
    "\n",
    "Now that we have our training and testing datasets merged and ready to use, we need to start processing the raw data into something that will be useable by our machine learning algorithm. To begin with, we remove any html formatting that may appear in the reviews and perform some standard natural language processing in order to homogenize the data."
   ]
  },
  {
   "cell_type": "code",
   "execution_count": 62,
   "metadata": {},
   "outputs": [
    {
     "name": "stderr",
     "output_type": "stream",
     "text": [
      "[nltk_data] Downloading package stopwords to\n",
      "[nltk_data]     /home/ec2-user/nltk_data...\n",
      "[nltk_data]   Package stopwords is already up-to-date!\n"
     ]
    }
   ],
   "source": [
    "import nltk\n",
    "nltk.download(\"stopwords\")\n",
    "from nltk.corpus import stopwords\n",
    "from nltk.stem.porter import *\n",
    "stemmer = PorterStemmer()"
   ]
  },
  {
   "cell_type": "code",
   "execution_count": 63,
   "metadata": {},
   "outputs": [
    {
     "name": "stdout",
     "output_type": "stream",
     "text": [
      "Requirement already satisfied: joblib in /home/ec2-user/anaconda3/envs/python3/lib/python3.6/site-packages (0.14.1)\n",
      "\u001b[33mWARNING: You are using pip version 20.0.2; however, version 20.2.3 is available.\n",
      "You should consider upgrading via the '/home/ec2-user/anaconda3/envs/python3/bin/python -m pip install --upgrade pip' command.\u001b[0m\n"
     ]
    }
   ],
   "source": [
    "!pip install joblib"
   ]
  },
  {
   "cell_type": "code",
   "execution_count": 64,
   "metadata": {},
   "outputs": [],
   "source": [
    "import re\n",
    "from bs4 import BeautifulSoup\n",
    "\n",
    "def review_to_words(review):\n",
    "    text = BeautifulSoup(review, \"html.parser\").get_text() # Remove HTML tags\n",
    "    text = re.sub(r\"[^a-zA-Z0-9]\", \" \", text.lower()) # Convert to lower case\n",
    "    words = text.split() # Split string into words\n",
    "    words = [w for w in words if w not in stopwords.words(\"english\")] # Remove stopwords\n",
    "    words = [PorterStemmer().stem(w) for w in words] # stem\n",
    "    \n",
    "    return words"
   ]
  },
  {
   "cell_type": "code",
   "execution_count": 65,
   "metadata": {},
   "outputs": [],
   "source": [
    "import pickle\n",
    "\n",
    "cache_dir = os.path.join(\"../cache\", \"sentiment_analysis\")  # where to store cache files\n",
    "os.makedirs(cache_dir, exist_ok=True)  # ensure cache directory exists\n",
    "\n",
    "def preprocess_data(data_train, data_test, labels_train, labels_test,\n",
    "                    cache_dir=cache_dir, cache_file=\"preprocessed_data.pkl\"):\n",
    "    \"\"\"Convert each review to words; read from cache if available.\"\"\"\n",
    "\n",
    "    # If cache_file is not None, try to read from it first\n",
    "    cache_data = None\n",
    "    if cache_file is not None:\n",
    "        try:\n",
    "            with open(os.path.join(cache_dir, cache_file), \"rb\") as f:\n",
    "                cache_data = pickle.load(f)\n",
    "            print(\"Read preprocessed data from cache file:\", cache_file)\n",
    "        except:\n",
    "            pass  # unable to read from cache, but that's okay\n",
    "    \n",
    "    # If cache is missing, then do the heavy lifting\n",
    "    if cache_data is None:\n",
    "        # Preprocess training and test data to obtain words for each review\n",
    "        #words_train = list(map(review_to_words, data_train))\n",
    "        #words_test = list(map(review_to_words, data_test))\n",
    "        words_train = [review_to_words(review) for review in data_train]\n",
    "        words_test = [review_to_words(review) for review in data_test]\n",
    "        \n",
    "        # Write to cache file for future runs\n",
    "        if cache_file is not None:\n",
    "            cache_data = dict(words_train=words_train, words_test=words_test,\n",
    "                              labels_train=labels_train, labels_test=labels_test)\n",
    "            with open(os.path.join(cache_dir, cache_file), \"wb\") as f:\n",
    "                pickle.dump(cache_data, f)\n",
    "            print(\"Wrote preprocessed data to cache file:\", cache_file)\n",
    "    else:\n",
    "        # Unpack data loaded from cache file\n",
    "        words_train, words_test, labels_train, labels_test = (cache_data['words_train'],\n",
    "                cache_data['words_test'], cache_data['labels_train'], cache_data['labels_test'])\n",
    "    \n",
    "    return words_train, words_test, labels_train, labels_test"
   ]
  },
  {
   "cell_type": "code",
   "execution_count": 66,
   "metadata": {},
   "outputs": [
    {
     "name": "stdout",
     "output_type": "stream",
     "text": [
      "Read preprocessed data from cache file: preprocessed_data.pkl\n"
     ]
    }
   ],
   "source": [
    "# Preprocess data\n",
    "train_X, test_X, train_y, test_y = preprocess_data(train_X, test_X, train_y, test_y)"
   ]
  },
  {
   "cell_type": "markdown",
   "metadata": {},
   "source": [
    "### Extract Bag-of-Words features\n",
    "\n",
    "For the model we will be implementing, rather than using the reviews directly, we are going to transform each review into a Bag-of-Words feature representation. Keep in mind that 'in the wild' we will only have access to the training set so our transformer can only use the training set to construct a representation."
   ]
  },
  {
   "cell_type": "code",
   "execution_count": 67,
   "metadata": {},
   "outputs": [],
   "source": [
    "import numpy as np\n",
    "from sklearn.feature_extraction.text import CountVectorizer\n",
    "import joblib\n",
    "# joblib is an enhanced version of pickle that is more efficient for storing NumPy arrays\n",
    "\n",
    "def extract_BoW_features(words_train, words_test, vocabulary_size=5000,\n",
    "                         cache_dir=cache_dir, cache_file=\"bow_features.pkl\"):\n",
    "    \"\"\"Extract Bag-of-Words for a given set of documents, already preprocessed into words.\"\"\"\n",
    "    \n",
    "    # If cache_file is not None, try to read from it first\n",
    "    cache_data = None\n",
    "    if cache_file is not None:\n",
    "        try:\n",
    "            with open(os.path.join(cache_dir, cache_file), \"rb\") as f:\n",
    "                cache_data = joblib.load(f)\n",
    "            print(\"Read features from cache file:\", cache_file)\n",
    "        except:\n",
    "            pass  # unable to read from cache, but that's okay\n",
    "    \n",
    "    # If cache is missing, then do the heavy lifting\n",
    "    if cache_data is None:\n",
    "        # Fit a vectorizer to training documents and use it to transform them\n",
    "        # NOTE: Training documents have already been preprocessed and tokenized into words;\n",
    "        #       pass in dummy functions to skip those steps, e.g. preprocessor=lambda x: x\n",
    "        vectorizer = CountVectorizer(max_features=vocabulary_size,\n",
    "                preprocessor=lambda x: x, tokenizer=lambda x: x)  # already preprocessed\n",
    "        features_train = vectorizer.fit_transform(words_train).toarray()\n",
    "\n",
    "        # Apply the same vectorizer to transform the test documents (ignore unknown words)\n",
    "        features_test = vectorizer.transform(words_test).toarray()\n",
    "        \n",
    "        # NOTE: Remember to convert the features using .toarray() for a compact representation\n",
    "        \n",
    "        # Write to cache file for future runs (store vocabulary as well)\n",
    "        if cache_file is not None:\n",
    "            vocabulary = vectorizer.vocabulary_\n",
    "            cache_data = dict(features_train=features_train, features_test=features_test,\n",
    "                             vocabulary=vocabulary)\n",
    "            with open(os.path.join(cache_dir, cache_file), \"wb\") as f:\n",
    "                joblib.dump(cache_data, f)\n",
    "            print(\"Wrote features to cache file:\", cache_file)\n",
    "    else:\n",
    "        # Unpack data loaded from cache file\n",
    "        features_train, features_test, vocabulary = (cache_data['features_train'],\n",
    "                cache_data['features_test'], cache_data['vocabulary'])\n",
    "    \n",
    "    # Return both the extracted features as well as the vocabulary\n",
    "    return features_train, features_test, vocabulary"
   ]
  },
  {
   "cell_type": "code",
   "execution_count": 68,
   "metadata": {},
   "outputs": [
    {
     "name": "stdout",
     "output_type": "stream",
     "text": [
      "Read features from cache file: bow_features.pkl\n"
     ]
    }
   ],
   "source": [
    "# Extract Bag of Words features for both training and test datasets\n",
    "train_X, test_X, vocabulary = extract_BoW_features(train_X, test_X)"
   ]
  },
  {
   "cell_type": "markdown",
   "metadata": {},
   "source": [
    "## Step 4: Classification using XGBoost\n",
    "\n",
    "Now that we have created the feature representation of our training (and testing) data, it is time to start setting up and using the XGBoost classifier provided by SageMaker.\n",
    "\n",
    "### Writing the dataset\n",
    "\n",
    "The XGBoost classifier that we will be using requires the dataset to be written to a file and stored using Amazon S3. To do this, we will start by splitting the training dataset into two parts, the data we will train the model with and a validation set. Then, we will write those datasets to a file and upload the files to S3. In addition, we will write the test set input to a file and upload the file to S3. This is so that we can use SageMakers Batch Transform functionality to test our model once we've fit it."
   ]
  },
  {
   "cell_type": "code",
   "execution_count": 69,
   "metadata": {},
   "outputs": [],
   "source": [
    "import pandas as pd\n",
    "\n",
    "val_X = pd.DataFrame(train_X[:10000])\n",
    "train_X = pd.DataFrame(train_X[10000:])\n",
    "\n",
    "val_y = pd.DataFrame(train_y[:10000])\n",
    "train_y = pd.DataFrame(train_y[10000:])\n",
    "\n",
    "test_y = pd.DataFrame(test_y)\n",
    "test_X = pd.DataFrame(test_X)"
   ]
  },
  {
   "cell_type": "markdown",
   "metadata": {},
   "source": [
    "The documentation for the XGBoost algorithm in SageMaker requires that the saved datasets should contain no headers or index and that for the training and validation data, the label should occur first for each sample.\n",
    "\n",
    "For more information about this and other algorithms, the SageMaker developer documentation can be found on __[Amazon's website.](https://docs.aws.amazon.com/sagemaker/latest/dg/)__"
   ]
  },
  {
   "cell_type": "code",
   "execution_count": 70,
   "metadata": {},
   "outputs": [],
   "source": [
    "# First we make sure that the local directory in which we'd like to store the training and validation csv files exists.\n",
    "data_dir = '../data/xgboost'\n",
    "if not os.path.exists(data_dir):\n",
    "    os.makedirs(data_dir)"
   ]
  },
  {
   "cell_type": "code",
   "execution_count": 71,
   "metadata": {},
   "outputs": [],
   "source": [
    "# First, save the test data to test.csv in the data_dir directory. Note that we do not save the associated ground truth\n",
    "# labels, instead we will use them later to compare with our model output.\n",
    "\n",
    "pd.DataFrame(test_X).to_csv(os.path.join(data_dir, 'test.csv'), header=False, index=False)\n",
    "pd.concat([val_y, val_X], axis=1).to_csv(os.path.join(data_dir, 'validation.csv'), header=False, index=False)\n",
    "pd.concat([train_y, train_X], axis=1).to_csv(os.path.join(data_dir, 'train.csv'), header=False, index=False)"
   ]
  },
  {
   "cell_type": "code",
   "execution_count": 72,
   "metadata": {},
   "outputs": [],
   "source": [
    "# To save a bit of memory we can set text_X, train_X, val_X, train_y and val_y to None.\n",
    "\n",
    "train_X = val_X = train_y = val_y = None"
   ]
  },
  {
   "cell_type": "markdown",
   "metadata": {},
   "source": [
    "### Uploading Training / Validation files to S3\n",
    "\n",
    "Amazon's S3 service allows us to store files that can be access by both the built-in training models such as the XGBoost model we will be using as well as custom models such as the one we will see a little later.\n",
    "\n",
    "For this, and most other tasks we will be doing using SageMaker, there are two methods we could use. The first is to use the low level functionality of SageMaker which requires knowing each of the objects involved in the SageMaker environment. The second is to use the high level functionality in which certain choices have been made on the user's behalf. The low level approach benefits from allowing the user a great deal of flexibility while the high level approach makes development much quicker. For our purposes we will opt to use the high level approach although using the low-level approach is certainly an option.\n",
    "\n",
    "Recall the method `upload_data()` which is a member of object representing our current SageMaker session. What this method does is upload the data to the default bucket (which is created if it does not exist) into the path described by the key_prefix variable. To see this for yourself, once you have uploaded the data files, go to the S3 console and look to see where the files have been uploaded.\n",
    "\n",
    "For additional resources, see the __[SageMaker API documentation](http://sagemaker.readthedocs.io/en/latest/)__ and in addition the __[SageMaker Developer Guide.](https://docs.aws.amazon.com/sagemaker/latest/dg/)__"
   ]
  },
  {
   "cell_type": "code",
   "execution_count": 73,
   "metadata": {},
   "outputs": [],
   "source": [
    "import sagemaker\n",
    "\n",
    "session = sagemaker.Session() # Store the current SageMaker session\n",
    "\n",
    "# S3 prefix (which folder will we use)\n",
    "prefix = 'sentiment-xgboost'\n",
    "\n",
    "test_location = session.upload_data(os.path.join(data_dir, 'test.csv'), key_prefix=prefix)\n",
    "val_location = session.upload_data(os.path.join(data_dir, 'validation.csv'), key_prefix=prefix)\n",
    "train_location = session.upload_data(os.path.join(data_dir, 'train.csv'), key_prefix=prefix)"
   ]
  },
  {
   "cell_type": "markdown",
   "metadata": {},
   "source": [
    "### (TODO) Creating a hypertuned XGBoost model\n",
    "\n",
    "Now that the data has been uploaded it is time to create the XGBoost model. As in the Boston Housing notebook, the first step is to create an estimator object which will be used as the *base* of your hyperparameter tuning job."
   ]
  },
  {
   "cell_type": "code",
   "execution_count": 43,
   "metadata": {},
   "outputs": [],
   "source": [
    "from sagemaker import get_execution_role\n",
    "\n",
    "# Our current execution role is require when creating the model as the training\n",
    "# and inference code will need to access the model artifacts.\n",
    "role = get_execution_role()"
   ]
  },
  {
   "cell_type": "code",
   "execution_count": 44,
   "metadata": {},
   "outputs": [
    {
     "name": "stderr",
     "output_type": "stream",
     "text": [
      "'get_image_uri' method will be deprecated in favor of 'ImageURIProvider' class in SageMaker Python SDK v2.\n",
      "There is a more up to date SageMaker XGBoost image. To use the newer image, please set 'repo_version'='1.0-1'. For example:\n",
      "\tget_image_uri(region, 'xgboost', '1.0-1').\n"
     ]
    }
   ],
   "source": [
    "# We need to retrieve the location of the container which is provided by Amazon for using XGBoost.\n",
    "# As a matter of convenience, the training and inference code both use the same container.\n",
    "from sagemaker.amazon.amazon_estimator import get_image_uri\n",
    "\n",
    "container = get_image_uri(session.boto_region_name, 'xgboost')"
   ]
  },
  {
   "cell_type": "code",
   "execution_count": 45,
   "metadata": {},
   "outputs": [
    {
     "name": "stderr",
     "output_type": "stream",
     "text": [
      "Parameter image_name will be renamed to image_uri in SageMaker Python SDK v2.\n"
     ]
    }
   ],
   "source": [
    "# TODO: Create a SageMaker estimator using the container location determined in the previous cell.\n",
    "#       It is recommended that you use a single training instance of type ml.m4.xlarge. It is also\n",
    "#       recommended that you use 's3://{}/{}/output'.format(session.default_bucket(), prefix) as the\n",
    "#       output path.\n",
    "\n",
    "xgb = sagemaker.estimator.Estimator(container, # Container where the model and application will reside\n",
    "                                   role, # gives access to S3 where are data will be stored, used, and transfered\n",
    "                                   train_instance_count = 1, # How much virtual servers will we run our model in\n",
    "                                   train_instance_type = 'ml.m4.xlarge', # what type of instance type\n",
    "                                   output_path = 's3://{}/{}/output'.format(session.default_bucket(), prefix),\n",
    "                                   sagemaker_session = session)\n",
    "\n",
    "# TODO: Set the XGBoost hyperparameters in the xgb object. Don't forget that in this case we have a binary\n",
    "#       label so we should be using the 'binary:logistic' objective.\n",
    "\n",
    "xgb.set_hyperparameters(max_depth = 5,\n",
    "                       eta = 0.2,\n",
    "                       gamma = 4,\n",
    "                       min_child_weight = 6,\n",
    "                       subsample = 0.8,\n",
    "                       silent = 0,\n",
    "                       objective = \"binary:logistic\", \n",
    "                       early_stopping_rounds=10,\n",
    "                       num_round = 400)\n",
    "\n"
   ]
  },
  {
   "cell_type": "markdown",
   "metadata": {},
   "source": [
    "### (TODO) Create the hyperparameter tuner\n",
    "\n",
    "Now that the base estimator has been set up we need to construct a hyperparameter tuner object which we will use to request SageMaker construct a hyperparameter tuning job.\n",
    "\n",
    "**Note:** Training a single sentiment analysis XGBoost model takes longer than training a Boston Housing XGBoost model so if you don't want the hyperparameter tuning job to take too long, make sure to not set the total number of models (jobs) too high."
   ]
  },
  {
   "cell_type": "code",
   "execution_count": 46,
   "metadata": {},
   "outputs": [],
   "source": [
    "# First, make sure to import the relevant objects used to construct the tuner\n",
    "from sagemaker.tuner import IntegerParameter, ContinuousParameter, HyperparameterTuner\n",
    "\n",
    "# TODO: Create the hyperparameter tuner object\n",
    "\n",
    "xgb_hyperparameter_tuner = HyperparameterTuner(estimator = xgb,\n",
    "                                               objective_metric_name = \"validation:rmse\",\n",
    "                                               objective_type = \"Minimize\",\n",
    "                                               max_jobs = 5,\n",
    "                                               max_parallel_jobs = 3,\n",
    "                                               hyperparameter_ranges = {\n",
    "                                                   'max_depth': IntegerParameter(3, 12),\n",
    "                                                   'eta': ContinuousParameter(0.05, 0.5),\n",
    "                                                   'gamma': IntegerParameter(2, 9),\n",
    "                                                   'min_child_weight': IntegerParameter(3, 10),\n",
    "                                                   'subsample': ContinuousParameter(0.5, 0.9),\n",
    "                                                   \n",
    "                                               }\n",
    "                                              )\n",
    "\n",
    "\n"
   ]
  },
  {
   "cell_type": "markdown",
   "metadata": {},
   "source": [
    "### Fit the hyperparameter tuner\n",
    "\n",
    "Now that the hyperparameter tuner object has been constructed, it is time to fit the various models and find the best performing model."
   ]
  },
  {
   "cell_type": "code",
   "execution_count": 47,
   "metadata": {},
   "outputs": [
    {
     "name": "stderr",
     "output_type": "stream",
     "text": [
      "'s3_input' class will be renamed to 'TrainingInput' in SageMaker Python SDK v2.\n",
      "'s3_input' class will be renamed to 'TrainingInput' in SageMaker Python SDK v2.\n"
     ]
    }
   ],
   "source": [
    "s3_input_train = sagemaker.s3_input(s3_data=train_location, content_type='csv')\n",
    "s3_input_validation = sagemaker.s3_input(s3_data=val_location, content_type='csv')"
   ]
  },
  {
   "cell_type": "code",
   "execution_count": 48,
   "metadata": {},
   "outputs": [],
   "source": [
    "xgb_hyperparameter_tuner.fit({'train': s3_input_train, 'validation': s3_input_validation})"
   ]
  },
  {
   "cell_type": "markdown",
   "metadata": {},
   "source": [
    "Remember that the tuning job is constructed and run in the background so if we want to see the progress of our training job we need to call the `wait()` method."
   ]
  },
  {
   "cell_type": "code",
   "execution_count": 49,
   "metadata": {},
   "outputs": [
    {
     "name": "stdout",
     "output_type": "stream",
     "text": [
      ".......................................................................................................................................................................................................................!\n"
     ]
    }
   ],
   "source": [
    "xgb_hyperparameter_tuner.wait()"
   ]
  },
  {
   "cell_type": "markdown",
   "metadata": {},
   "source": [
    "### (TODO) Testing the model\n",
    "\n",
    "Now that we've run our hyperparameter tuning job, it's time to see how well the best performing model actually performs. To do this we will use SageMaker's Batch Transform functionality. Batch Transform is a convenient way to perform inference on a large dataset in a way that is not realtime. That is, we don't necessarily need to use our model's results immediately and instead we can peform inference on a large number of samples. An example of this in industry might be peforming an end of month report. This method of inference can also be useful to us as it means to can perform inference on our entire test set. \n",
    "\n",
    "Remember that in order to create a transformer object to perform the batch transform job, we need a trained estimator object. We can do that using the `attach()` method, creating an estimator object which is attached to the best trained job."
   ]
  },
  {
   "cell_type": "code",
   "execution_count": 50,
   "metadata": {},
   "outputs": [
    {
     "data": {
      "text/plain": [
       "'xgboost-200928-0442-003-021a4bd3'"
      ]
     },
     "execution_count": 50,
     "metadata": {},
     "output_type": "execute_result"
    }
   ],
   "source": [
    "xgb_hyperparameter_tuner.best_training_job()"
   ]
  },
  {
   "cell_type": "code",
   "execution_count": 51,
   "metadata": {},
   "outputs": [
    {
     "name": "stderr",
     "output_type": "stream",
     "text": [
      "Parameter image_name will be renamed to image_uri in SageMaker Python SDK v2.\n"
     ]
    },
    {
     "name": "stdout",
     "output_type": "stream",
     "text": [
      "2020-09-28 04:55:59 Starting - Preparing the instances for training\n",
      "2020-09-28 04:55:59 Downloading - Downloading input data\n",
      "2020-09-28 04:55:59 Training - Training image download completed. Training in progress.\n",
      "2020-09-28 04:55:59 Uploading - Uploading generated training model\n",
      "2020-09-28 04:55:59 Completed - Training job completed\u001b[34mArguments: train\u001b[0m\n",
      "\u001b[34m[2020-09-28:04:45:46:INFO] Running standalone xgboost training.\u001b[0m\n",
      "\u001b[34m[2020-09-28:04:45:46:INFO] Setting up HPO optimized metric to be : rmse\u001b[0m\n",
      "\u001b[34m[2020-09-28:04:45:46:INFO] File size need to be processed in the node: 238.47mb. Available memory size in the node: 8478.76mb\u001b[0m\n",
      "\u001b[34m[2020-09-28:04:45:46:INFO] Determined delimiter of CSV input is ','\u001b[0m\n",
      "\u001b[34m[04:45:46] S3DistributionType set as FullyReplicated\u001b[0m\n",
      "\u001b[34m[04:45:48] 15000x5000 matrix with 75000000 entries loaded from /opt/ml/input/data/train?format=csv&label_column=0&delimiter=,\u001b[0m\n",
      "\u001b[34m[2020-09-28:04:45:48:INFO] Determined delimiter of CSV input is ','\u001b[0m\n",
      "\u001b[34m[04:45:48] S3DistributionType set as FullyReplicated\u001b[0m\n",
      "\u001b[34m[04:45:49] 10000x5000 matrix with 50000000 entries loaded from /opt/ml/input/data/validation?format=csv&label_column=0&delimiter=,\u001b[0m\n",
      "\u001b[34m[04:45:54] src/tree/updater_prune.cc:74: tree pruning end, 1 roots, 168 extra nodes, 28 pruned nodes, max_depth=12\u001b[0m\n",
      "\u001b[34m[0]#011train-rmse:0.469424#011validation-rmse:0.472482\u001b[0m\n",
      "\u001b[34mMultiple eval metrics have been passed: 'validation-rmse' will be used for early stopping.\n",
      "\u001b[0m\n",
      "\u001b[34mWill train until validation-rmse hasn't improved in 10 rounds.\u001b[0m\n",
      "\u001b[34m[04:45:58] src/tree/updater_prune.cc:74: tree pruning end, 1 roots, 160 extra nodes, 28 pruned nodes, max_depth=12\u001b[0m\n",
      "\u001b[34m[1]#011train-rmse:0.44663#011validation-rmse:0.453363\u001b[0m\n",
      "\u001b[34m[04:46:01] src/tree/updater_prune.cc:74: tree pruning end, 1 roots, 136 extra nodes, 36 pruned nodes, max_depth=12\u001b[0m\n",
      "\u001b[34m[2]#011train-rmse:0.429818#011validation-rmse:0.438966\u001b[0m\n",
      "\u001b[34m[04:46:04] src/tree/updater_prune.cc:74: tree pruning end, 1 roots, 164 extra nodes, 22 pruned nodes, max_depth=12\u001b[0m\n",
      "\u001b[34m[3]#011train-rmse:0.416141#011validation-rmse:0.428857\u001b[0m\n",
      "\u001b[34m[04:46:08] src/tree/updater_prune.cc:74: tree pruning end, 1 roots, 106 extra nodes, 30 pruned nodes, max_depth=12\u001b[0m\n",
      "\u001b[34m[4]#011train-rmse:0.405012#011validation-rmse:0.419604\u001b[0m\n",
      "\u001b[34m[04:46:11] src/tree/updater_prune.cc:74: tree pruning end, 1 roots, 136 extra nodes, 52 pruned nodes, max_depth=12\u001b[0m\n",
      "\u001b[34m[5]#011train-rmse:0.39568#011validation-rmse:0.412729\u001b[0m\n",
      "\u001b[34m[04:46:14] src/tree/updater_prune.cc:74: tree pruning end, 1 roots, 132 extra nodes, 28 pruned nodes, max_depth=12\u001b[0m\n",
      "\u001b[34m[6]#011train-rmse:0.387498#011validation-rmse:0.406315\u001b[0m\n",
      "\u001b[34m[04:46:17] src/tree/updater_prune.cc:74: tree pruning end, 1 roots, 114 extra nodes, 34 pruned nodes, max_depth=12\u001b[0m\n",
      "\u001b[34m[7]#011train-rmse:0.380148#011validation-rmse:0.400575\u001b[0m\n",
      "\u001b[34m[04:46:20] src/tree/updater_prune.cc:74: tree pruning end, 1 roots, 112 extra nodes, 28 pruned nodes, max_depth=12\u001b[0m\n",
      "\u001b[34m[8]#011train-rmse:0.373522#011validation-rmse:0.395995\u001b[0m\n",
      "\u001b[34m[04:46:23] src/tree/updater_prune.cc:74: tree pruning end, 1 roots, 112 extra nodes, 26 pruned nodes, max_depth=12\u001b[0m\n",
      "\u001b[34m[9]#011train-rmse:0.367733#011validation-rmse:0.391301\u001b[0m\n",
      "\u001b[34m[04:46:26] src/tree/updater_prune.cc:74: tree pruning end, 1 roots, 90 extra nodes, 36 pruned nodes, max_depth=12\u001b[0m\n",
      "\u001b[34m[10]#011train-rmse:0.362536#011validation-rmse:0.387394\u001b[0m\n",
      "\u001b[34m[04:46:29] src/tree/updater_prune.cc:74: tree pruning end, 1 roots, 100 extra nodes, 44 pruned nodes, max_depth=12\u001b[0m\n",
      "\u001b[34m[11]#011train-rmse:0.357379#011validation-rmse:0.383616\u001b[0m\n",
      "\u001b[34m[04:46:33] src/tree/updater_prune.cc:74: tree pruning end, 1 roots, 108 extra nodes, 26 pruned nodes, max_depth=12\u001b[0m\n",
      "\u001b[34m[12]#011train-rmse:0.352426#011validation-rmse:0.380511\u001b[0m\n",
      "\u001b[34m[04:46:36] src/tree/updater_prune.cc:74: tree pruning end, 1 roots, 82 extra nodes, 20 pruned nodes, max_depth=12\u001b[0m\n",
      "\u001b[34m[13]#011train-rmse:0.347879#011validation-rmse:0.376923\u001b[0m\n",
      "\u001b[34m[04:46:39] src/tree/updater_prune.cc:74: tree pruning end, 1 roots, 54 extra nodes, 26 pruned nodes, max_depth=12\u001b[0m\n",
      "\u001b[34m[14]#011train-rmse:0.344422#011validation-rmse:0.374538\u001b[0m\n",
      "\u001b[34m[04:46:42] src/tree/updater_prune.cc:74: tree pruning end, 1 roots, 124 extra nodes, 28 pruned nodes, max_depth=12\u001b[0m\n",
      "\u001b[34m[15]#011train-rmse:0.340083#011validation-rmse:0.371931\u001b[0m\n",
      "\u001b[34m[04:46:45] src/tree/updater_prune.cc:74: tree pruning end, 1 roots, 78 extra nodes, 28 pruned nodes, max_depth=12\u001b[0m\n",
      "\u001b[34m[16]#011train-rmse:0.336719#011validation-rmse:0.369652\u001b[0m\n",
      "\u001b[34m[04:46:48] src/tree/updater_prune.cc:74: tree pruning end, 1 roots, 90 extra nodes, 30 pruned nodes, max_depth=12\u001b[0m\n",
      "\u001b[34m[17]#011train-rmse:0.33289#011validation-rmse:0.367349\u001b[0m\n",
      "\u001b[34m[04:46:51] src/tree/updater_prune.cc:74: tree pruning end, 1 roots, 94 extra nodes, 24 pruned nodes, max_depth=12\u001b[0m\n",
      "\u001b[34m[18]#011train-rmse:0.329329#011validation-rmse:0.365442\u001b[0m\n",
      "\u001b[34m[04:46:54] src/tree/updater_prune.cc:74: tree pruning end, 1 roots, 82 extra nodes, 16 pruned nodes, max_depth=12\u001b[0m\n",
      "\u001b[34m[19]#011train-rmse:0.326391#011validation-rmse:0.363426\u001b[0m\n",
      "\u001b[34m[04:46:57] src/tree/updater_prune.cc:74: tree pruning end, 1 roots, 78 extra nodes, 26 pruned nodes, max_depth=12\u001b[0m\n",
      "\u001b[34m[20]#011train-rmse:0.323307#011validation-rmse:0.361499\u001b[0m\n",
      "\u001b[34m[04:47:00] src/tree/updater_prune.cc:74: tree pruning end, 1 roots, 106 extra nodes, 42 pruned nodes, max_depth=12\u001b[0m\n",
      "\u001b[34m[21]#011train-rmse:0.32002#011validation-rmse:0.360358\u001b[0m\n",
      "\u001b[34m[04:47:04] src/tree/updater_prune.cc:74: tree pruning end, 1 roots, 72 extra nodes, 34 pruned nodes, max_depth=12\u001b[0m\n",
      "\u001b[34m[22]#011train-rmse:0.317456#011validation-rmse:0.358754\u001b[0m\n",
      "\u001b[34m[04:47:07] src/tree/updater_prune.cc:74: tree pruning end, 1 roots, 118 extra nodes, 24 pruned nodes, max_depth=12\u001b[0m\n",
      "\u001b[34m[23]#011train-rmse:0.314018#011validation-rmse:0.357163\u001b[0m\n",
      "\u001b[34m[04:47:10] src/tree/updater_prune.cc:74: tree pruning end, 1 roots, 62 extra nodes, 38 pruned nodes, max_depth=12\u001b[0m\n",
      "\u001b[34m[24]#011train-rmse:0.311763#011validation-rmse:0.355721\u001b[0m\n",
      "\u001b[34m[04:47:13] src/tree/updater_prune.cc:74: tree pruning end, 1 roots, 56 extra nodes, 20 pruned nodes, max_depth=12\u001b[0m\n",
      "\u001b[34m[25]#011train-rmse:0.309483#011validation-rmse:0.354107\u001b[0m\n",
      "\u001b[34m[04:47:16] src/tree/updater_prune.cc:74: tree pruning end, 1 roots, 90 extra nodes, 22 pruned nodes, max_depth=12\u001b[0m\n",
      "\u001b[34m[26]#011train-rmse:0.306682#011validation-rmse:0.352991\u001b[0m\n",
      "\u001b[34m[04:47:19] src/tree/updater_prune.cc:74: tree pruning end, 1 roots, 88 extra nodes, 22 pruned nodes, max_depth=12\u001b[0m\n",
      "\u001b[34m[27]#011train-rmse:0.304391#011validation-rmse:0.351708\u001b[0m\n",
      "\u001b[34m[04:47:22] src/tree/updater_prune.cc:74: tree pruning end, 1 roots, 62 extra nodes, 22 pruned nodes, max_depth=12\u001b[0m\n",
      "\u001b[34m[28]#011train-rmse:0.301976#011validation-rmse:0.350006\u001b[0m\n",
      "\u001b[34m[04:47:25] src/tree/updater_prune.cc:74: tree pruning end, 1 roots, 58 extra nodes, 24 pruned nodes, max_depth=12\u001b[0m\n",
      "\u001b[34m[29]#011train-rmse:0.300053#011validation-rmse:0.348899\u001b[0m\n",
      "\u001b[34m[04:47:28] src/tree/updater_prune.cc:74: tree pruning end, 1 roots, 46 extra nodes, 22 pruned nodes, max_depth=12\u001b[0m\n",
      "\u001b[34m[30]#011train-rmse:0.29817#011validation-rmse:0.347664\u001b[0m\n",
      "\u001b[34m[04:47:31] src/tree/updater_prune.cc:74: tree pruning end, 1 roots, 58 extra nodes, 30 pruned nodes, max_depth=12\u001b[0m\n",
      "\u001b[34m[31]#011train-rmse:0.296351#011validation-rmse:0.346893\u001b[0m\n",
      "\u001b[34m[04:47:34] src/tree/updater_prune.cc:74: tree pruning end, 1 roots, 64 extra nodes, 32 pruned nodes, max_depth=12\u001b[0m\n",
      "\u001b[34m[32]#011train-rmse:0.294594#011validation-rmse:0.346125\u001b[0m\n",
      "\u001b[34m[04:47:38] src/tree/updater_prune.cc:74: tree pruning end, 1 roots, 92 extra nodes, 18 pruned nodes, max_depth=12\u001b[0m\n",
      "\u001b[34m[33]#011train-rmse:0.292254#011validation-rmse:0.34516\u001b[0m\n",
      "\u001b[34m[04:47:41] src/tree/updater_prune.cc:74: tree pruning end, 1 roots, 90 extra nodes, 18 pruned nodes, max_depth=12\u001b[0m\n",
      "\u001b[34m[34]#011train-rmse:0.289922#011validation-rmse:0.344331\u001b[0m\n",
      "\u001b[34m[04:47:44] src/tree/updater_prune.cc:74: tree pruning end, 1 roots, 86 extra nodes, 18 pruned nodes, max_depth=12\u001b[0m\n",
      "\u001b[34m[35]#011train-rmse:0.287598#011validation-rmse:0.343214\u001b[0m\n",
      "\u001b[34m[04:47:47] src/tree/updater_prune.cc:74: tree pruning end, 1 roots, 48 extra nodes, 14 pruned nodes, max_depth=12\u001b[0m\n",
      "\u001b[34m[36]#011train-rmse:0.285942#011validation-rmse:0.34232\u001b[0m\n",
      "\u001b[34m[04:47:50] src/tree/updater_prune.cc:74: tree pruning end, 1 roots, 66 extra nodes, 12 pruned nodes, max_depth=12\u001b[0m\n",
      "\u001b[34m[37]#011train-rmse:0.284216#011validation-rmse:0.341719\u001b[0m\n",
      "\u001b[34m[04:47:53] src/tree/updater_prune.cc:74: tree pruning end, 1 roots, 40 extra nodes, 10 pruned nodes, max_depth=12\u001b[0m\n",
      "\u001b[34m[38]#011train-rmse:0.282787#011validation-rmse:0.340821\u001b[0m\n",
      "\u001b[34m[04:47:56] src/tree/updater_prune.cc:74: tree pruning end, 1 roots, 58 extra nodes, 18 pruned nodes, max_depth=12\u001b[0m\n",
      "\u001b[34m[39]#011train-rmse:0.281156#011validation-rmse:0.339947\u001b[0m\n",
      "\u001b[34m[04:47:59] src/tree/updater_prune.cc:74: tree pruning end, 1 roots, 48 extra nodes, 16 pruned nodes, max_depth=12\u001b[0m\n",
      "\u001b[34m[40]#011train-rmse:0.279744#011validation-rmse:0.338965\u001b[0m\n",
      "\u001b[34m[04:48:02] src/tree/updater_prune.cc:74: tree pruning end, 1 roots, 52 extra nodes, 14 pruned nodes, max_depth=12\u001b[0m\n",
      "\u001b[34m[41]#011train-rmse:0.278351#011validation-rmse:0.338159\u001b[0m\n",
      "\u001b[34m[04:48:05] src/tree/updater_prune.cc:74: tree pruning end, 1 roots, 46 extra nodes, 24 pruned nodes, max_depth=12\u001b[0m\n",
      "\u001b[34m[42]#011train-rmse:0.277153#011validation-rmse:0.337469\u001b[0m\n",
      "\u001b[34m[04:48:08] src/tree/updater_prune.cc:74: tree pruning end, 1 roots, 110 extra nodes, 22 pruned nodes, max_depth=12\u001b[0m\n",
      "\u001b[34m[43]#011train-rmse:0.274759#011validation-rmse:0.336486\u001b[0m\n",
      "\u001b[34m[04:48:11] src/tree/updater_prune.cc:74: tree pruning end, 1 roots, 46 extra nodes, 14 pruned nodes, max_depth=12\u001b[0m\n",
      "\u001b[34m[44]#011train-rmse:0.273496#011validation-rmse:0.335766\u001b[0m\n",
      "\u001b[34m[04:48:14] src/tree/updater_prune.cc:74: tree pruning end, 1 roots, 54 extra nodes, 24 pruned nodes, max_depth=12\u001b[0m\n",
      "\u001b[34m[45]#011train-rmse:0.272228#011validation-rmse:0.334914\u001b[0m\n",
      "\u001b[34m[04:48:17] src/tree/updater_prune.cc:74: tree pruning end, 1 roots, 52 extra nodes, 16 pruned nodes, max_depth=12\u001b[0m\n",
      "\u001b[34m[46]#011train-rmse:0.271016#011validation-rmse:0.334458\u001b[0m\n",
      "\u001b[34m[04:48:21] src/tree/updater_prune.cc:74: tree pruning end, 1 roots, 46 extra nodes, 20 pruned nodes, max_depth=12\u001b[0m\n",
      "\u001b[34m[47]#011train-rmse:0.269847#011validation-rmse:0.333921\u001b[0m\n",
      "\u001b[34m[04:48:24] src/tree/updater_prune.cc:74: tree pruning end, 1 roots, 60 extra nodes, 24 pruned nodes, max_depth=12\u001b[0m\n",
      "\u001b[34m[48]#011train-rmse:0.268566#011validation-rmse:0.333112\u001b[0m\n",
      "\u001b[34m[04:48:27] src/tree/updater_prune.cc:74: tree pruning end, 1 roots, 40 extra nodes, 14 pruned nodes, max_depth=12\u001b[0m\n",
      "\u001b[34m[49]#011train-rmse:0.267682#011validation-rmse:0.332595\u001b[0m\n",
      "\u001b[34m[04:48:30] src/tree/updater_prune.cc:74: tree pruning end, 1 roots, 80 extra nodes, 12 pruned nodes, max_depth=12\u001b[0m\n",
      "\u001b[34m[50]#011train-rmse:0.266095#011validation-rmse:0.332293\u001b[0m\n",
      "\u001b[34m[04:48:33] src/tree/updater_prune.cc:74: tree pruning end, 1 roots, 36 extra nodes, 8 pruned nodes, max_depth=12\u001b[0m\n",
      "\u001b[34m[51]#011train-rmse:0.265147#011validation-rmse:0.33171\u001b[0m\n",
      "\u001b[34m[04:48:36] src/tree/updater_prune.cc:74: tree pruning end, 1 roots, 66 extra nodes, 24 pruned nodes, max_depth=12\u001b[0m\n",
      "\u001b[34m[52]#011train-rmse:0.263646#011validation-rmse:0.33137\u001b[0m\n",
      "\u001b[34m[04:48:39] src/tree/updater_prune.cc:74: tree pruning end, 1 roots, 34 extra nodes, 20 pruned nodes, max_depth=12\u001b[0m\n",
      "\u001b[34m[53]#011train-rmse:0.262756#011validation-rmse:0.330849\u001b[0m\n",
      "\u001b[34m[04:48:42] src/tree/updater_prune.cc:74: tree pruning end, 1 roots, 88 extra nodes, 26 pruned nodes, max_depth=12\u001b[0m\n",
      "\u001b[34m[54]#011train-rmse:0.261207#011validation-rmse:0.330245\u001b[0m\n",
      "\u001b[34m[04:48:45] src/tree/updater_prune.cc:74: tree pruning end, 1 roots, 60 extra nodes, 20 pruned nodes, max_depth=12\u001b[0m\n",
      "\u001b[34m[55]#011train-rmse:0.25994#011validation-rmse:0.329978\u001b[0m\n",
      "\u001b[34m[04:48:49] src/tree/updater_prune.cc:74: tree pruning end, 1 roots, 48 extra nodes, 10 pruned nodes, max_depth=12\u001b[0m\n",
      "\u001b[34m[56]#011train-rmse:0.258792#011validation-rmse:0.329373\u001b[0m\n",
      "\u001b[34m[04:48:52] src/tree/updater_prune.cc:74: tree pruning end, 1 roots, 38 extra nodes, 14 pruned nodes, max_depth=12\u001b[0m\n",
      "\u001b[34m[57]#011train-rmse:0.257868#011validation-rmse:0.328967\u001b[0m\n",
      "\u001b[34m[04:48:55] src/tree/updater_prune.cc:74: tree pruning end, 1 roots, 46 extra nodes, 8 pruned nodes, max_depth=12\u001b[0m\n",
      "\u001b[34m[58]#011train-rmse:0.257032#011validation-rmse:0.328616\u001b[0m\n",
      "\u001b[34m[04:48:58] src/tree/updater_prune.cc:74: tree pruning end, 1 roots, 68 extra nodes, 36 pruned nodes, max_depth=12\u001b[0m\n",
      "\u001b[34m[59]#011train-rmse:0.255549#011validation-rmse:0.328362\u001b[0m\n",
      "\u001b[34m[04:49:01] src/tree/updater_prune.cc:74: tree pruning end, 1 roots, 68 extra nodes, 28 pruned nodes, max_depth=12\u001b[0m\n",
      "\u001b[34m[60]#011train-rmse:0.254252#011validation-rmse:0.328004\u001b[0m\n",
      "\u001b[34m[04:49:04] src/tree/updater_prune.cc:74: tree pruning end, 1 roots, 40 extra nodes, 14 pruned nodes, max_depth=12\u001b[0m\n",
      "\u001b[34m[61]#011train-rmse:0.253343#011validation-rmse:0.327684\u001b[0m\n",
      "\u001b[34m[04:49:07] src/tree/updater_prune.cc:74: tree pruning end, 1 roots, 50 extra nodes, 16 pruned nodes, max_depth=12\u001b[0m\n",
      "\u001b[34m[62]#011train-rmse:0.252321#011validation-rmse:0.327497\u001b[0m\n",
      "\u001b[34m[04:49:10] src/tree/updater_prune.cc:74: tree pruning end, 1 roots, 66 extra nodes, 14 pruned nodes, max_depth=12\u001b[0m\n",
      "\u001b[34m[63]#011train-rmse:0.251005#011validation-rmse:0.327413\u001b[0m\n",
      "\u001b[34m[04:49:13] src/tree/updater_prune.cc:74: tree pruning end, 1 roots, 44 extra nodes, 14 pruned nodes, max_depth=12\u001b[0m\n",
      "\u001b[34m[64]#011train-rmse:0.250145#011validation-rmse:0.327298\u001b[0m\n",
      "\u001b[34m[04:49:16] src/tree/updater_prune.cc:74: tree pruning end, 1 roots, 56 extra nodes, 18 pruned nodes, max_depth=12\u001b[0m\n",
      "\u001b[34m[65]#011train-rmse:0.249033#011validation-rmse:0.327278\u001b[0m\n",
      "\u001b[34m[04:49:20] src/tree/updater_prune.cc:74: tree pruning end, 1 roots, 50 extra nodes, 10 pruned nodes, max_depth=12\u001b[0m\n",
      "\u001b[34m[66]#011train-rmse:0.247958#011validation-rmse:0.327146\u001b[0m\n",
      "\u001b[34m[04:49:23] src/tree/updater_prune.cc:74: tree pruning end, 1 roots, 40 extra nodes, 20 pruned nodes, max_depth=12\u001b[0m\n",
      "\u001b[34m[67]#011train-rmse:0.247248#011validation-rmse:0.326761\u001b[0m\n",
      "\u001b[34m[04:49:26] src/tree/updater_prune.cc:74: tree pruning end, 1 roots, 50 extra nodes, 12 pruned nodes, max_depth=12\u001b[0m\n",
      "\u001b[34m[68]#011train-rmse:0.246201#011validation-rmse:0.326462\u001b[0m\n",
      "\u001b[34m[04:49:29] src/tree/updater_prune.cc:74: tree pruning end, 1 roots, 34 extra nodes, 10 pruned nodes, max_depth=12\u001b[0m\n",
      "\u001b[34m[69]#011train-rmse:0.245664#011validation-rmse:0.326339\u001b[0m\n",
      "\u001b[34m[04:49:32] src/tree/updater_prune.cc:74: tree pruning end, 1 roots, 32 extra nodes, 0 pruned nodes, max_depth=12\u001b[0m\n",
      "\u001b[34m[70]#011train-rmse:0.245009#011validation-rmse:0.325934\u001b[0m\n",
      "\u001b[34m[04:49:35] src/tree/updater_prune.cc:74: tree pruning end, 1 roots, 60 extra nodes, 26 pruned nodes, max_depth=12\u001b[0m\n",
      "\u001b[34m[71]#011train-rmse:0.243884#011validation-rmse:0.325511\u001b[0m\n",
      "\u001b[34m[04:49:38] src/tree/updater_prune.cc:74: tree pruning end, 1 roots, 52 extra nodes, 26 pruned nodes, max_depth=12\u001b[0m\n",
      "\u001b[34m[72]#011train-rmse:0.242835#011validation-rmse:0.325295\u001b[0m\n",
      "\u001b[34m[04:49:41] src/tree/updater_prune.cc:74: tree pruning end, 1 roots, 44 extra nodes, 18 pruned nodes, max_depth=12\u001b[0m\n",
      "\u001b[34m[73]#011train-rmse:0.242051#011validation-rmse:0.324896\u001b[0m\n",
      "\u001b[34m[04:49:44] src/tree/updater_prune.cc:74: tree pruning end, 1 roots, 48 extra nodes, 16 pruned nodes, max_depth=12\u001b[0m\n",
      "\u001b[34m[74]#011train-rmse:0.241151#011validation-rmse:0.324543\u001b[0m\n",
      "\u001b[34m[04:49:47] src/tree/updater_prune.cc:74: tree pruning end, 1 roots, 46 extra nodes, 10 pruned nodes, max_depth=12\u001b[0m\n",
      "\u001b[34m[75]#011train-rmse:0.24022#011validation-rmse:0.324392\u001b[0m\n",
      "\u001b[34m[04:49:51] src/tree/updater_prune.cc:74: tree pruning end, 1 roots, 74 extra nodes, 24 pruned nodes, max_depth=12\u001b[0m\n",
      "\u001b[34m[76]#011train-rmse:0.238941#011validation-rmse:0.324257\u001b[0m\n",
      "\u001b[34m[04:49:54] src/tree/updater_prune.cc:74: tree pruning end, 1 roots, 36 extra nodes, 14 pruned nodes, max_depth=12\u001b[0m\n",
      "\u001b[34m[77]#011train-rmse:0.238196#011validation-rmse:0.324039\u001b[0m\n",
      "\u001b[34m[04:49:57] src/tree/updater_prune.cc:74: tree pruning end, 1 roots, 58 extra nodes, 24 pruned nodes, max_depth=12\u001b[0m\n",
      "\u001b[34m[78]#011train-rmse:0.237023#011validation-rmse:0.323634\u001b[0m\n",
      "\u001b[34m[04:50:00] src/tree/updater_prune.cc:74: tree pruning end, 1 roots, 44 extra nodes, 20 pruned nodes, max_depth=12\u001b[0m\n",
      "\u001b[34m[79]#011train-rmse:0.236255#011validation-rmse:0.323448\u001b[0m\n",
      "\u001b[34m[04:50:03] src/tree/updater_prune.cc:74: tree pruning end, 1 roots, 44 extra nodes, 20 pruned nodes, max_depth=12\u001b[0m\n",
      "\u001b[34m[80]#011train-rmse:0.235569#011validation-rmse:0.323054\u001b[0m\n",
      "\u001b[34m[04:50:06] src/tree/updater_prune.cc:74: tree pruning end, 1 roots, 38 extra nodes, 14 pruned nodes, max_depth=12\u001b[0m\n",
      "\u001b[34m[81]#011train-rmse:0.234937#011validation-rmse:0.322771\u001b[0m\n",
      "\u001b[34m[04:50:09] src/tree/updater_prune.cc:74: tree pruning end, 1 roots, 36 extra nodes, 14 pruned nodes, max_depth=12\u001b[0m\n",
      "\u001b[34m[82]#011train-rmse:0.23417#011validation-rmse:0.322574\u001b[0m\n",
      "\u001b[34m[04:50:12] src/tree/updater_prune.cc:74: tree pruning end, 1 roots, 70 extra nodes, 32 pruned nodes, max_depth=12\u001b[0m\n",
      "\u001b[34m[83]#011train-rmse:0.232966#011validation-rmse:0.322528\u001b[0m\n",
      "\u001b[34m[04:50:15] src/tree/updater_prune.cc:74: tree pruning end, 1 roots, 40 extra nodes, 14 pruned nodes, max_depth=12\u001b[0m\n",
      "\u001b[34m[84]#011train-rmse:0.232232#011validation-rmse:0.322323\u001b[0m\n",
      "\u001b[34m[04:50:18] src/tree/updater_prune.cc:74: tree pruning end, 1 roots, 52 extra nodes, 22 pruned nodes, max_depth=12\u001b[0m\n",
      "\u001b[34m[85]#011train-rmse:0.231424#011validation-rmse:0.321946\u001b[0m\n",
      "\u001b[34m[04:50:21] src/tree/updater_prune.cc:74: tree pruning end, 1 roots, 32 extra nodes, 14 pruned nodes, max_depth=12\u001b[0m\n",
      "\u001b[34m[86]#011train-rmse:0.230769#011validation-rmse:0.32157\u001b[0m\n",
      "\u001b[34m[04:50:24] src/tree/updater_prune.cc:74: tree pruning end, 1 roots, 48 extra nodes, 24 pruned nodes, max_depth=12\u001b[0m\n",
      "\u001b[34m[87]#011train-rmse:0.229904#011validation-rmse:0.321432\u001b[0m\n",
      "\u001b[34m[04:50:28] src/tree/updater_prune.cc:74: tree pruning end, 1 roots, 30 extra nodes, 18 pruned nodes, max_depth=12\u001b[0m\n",
      "\u001b[34m[88]#011train-rmse:0.229381#011validation-rmse:0.321216\u001b[0m\n",
      "\u001b[34m[04:50:31] src/tree/updater_prune.cc:74: tree pruning end, 1 roots, 30 extra nodes, 6 pruned nodes, max_depth=12\u001b[0m\n",
      "\u001b[34m[89]#011train-rmse:0.228901#011validation-rmse:0.321088\u001b[0m\n",
      "\u001b[34m[04:50:34] src/tree/updater_prune.cc:74: tree pruning end, 1 roots, 46 extra nodes, 16 pruned nodes, max_depth=12\u001b[0m\n",
      "\u001b[34m[90]#011train-rmse:0.228075#011validation-rmse:0.320754\u001b[0m\n",
      "\u001b[34m[04:50:37] src/tree/updater_prune.cc:74: tree pruning end, 1 roots, 44 extra nodes, 18 pruned nodes, max_depth=12\u001b[0m\n",
      "\u001b[34m[91]#011train-rmse:0.227275#011validation-rmse:0.320645\u001b[0m\n",
      "\u001b[34m[04:50:40] src/tree/updater_prune.cc:74: tree pruning end, 1 roots, 30 extra nodes, 24 pruned nodes, max_depth=12\u001b[0m\n",
      "\u001b[34m[92]#011train-rmse:0.226793#011validation-rmse:0.320413\u001b[0m\n",
      "\u001b[34m[04:50:43] src/tree/updater_prune.cc:74: tree pruning end, 1 roots, 28 extra nodes, 16 pruned nodes, max_depth=12\u001b[0m\n",
      "\u001b[34m[93]#011train-rmse:0.226318#011validation-rmse:0.319971\u001b[0m\n",
      "\u001b[34m[04:50:46] src/tree/updater_prune.cc:74: tree pruning end, 1 roots, 42 extra nodes, 14 pruned nodes, max_depth=12\u001b[0m\n",
      "\u001b[34m[94]#011train-rmse:0.225614#011validation-rmse:0.319786\u001b[0m\n",
      "\u001b[34m[04:50:49] src/tree/updater_prune.cc:74: tree pruning end, 1 roots, 46 extra nodes, 32 pruned nodes, max_depth=12\u001b[0m\n",
      "\u001b[34m[95]#011train-rmse:0.224773#011validation-rmse:0.319719\u001b[0m\n",
      "\u001b[34m[04:50:52] src/tree/updater_prune.cc:74: tree pruning end, 1 roots, 36 extra nodes, 12 pruned nodes, max_depth=12\u001b[0m\n",
      "\u001b[34m[96]#011train-rmse:0.224148#011validation-rmse:0.319325\u001b[0m\n",
      "\u001b[34m[04:50:55] src/tree/updater_prune.cc:74: tree pruning end, 1 roots, 34 extra nodes, 16 pruned nodes, max_depth=12\u001b[0m\n",
      "\u001b[34m[97]#011train-rmse:0.223739#011validation-rmse:0.319219\u001b[0m\n",
      "\u001b[34m[04:50:58] src/tree/updater_prune.cc:74: tree pruning end, 1 roots, 40 extra nodes, 14 pruned nodes, max_depth=12\u001b[0m\n",
      "\u001b[34m[98]#011train-rmse:0.223201#011validation-rmse:0.319076\u001b[0m\n",
      "\u001b[34m[04:51:02] src/tree/updater_prune.cc:74: tree pruning end, 1 roots, 42 extra nodes, 18 pruned nodes, max_depth=12\u001b[0m\n",
      "\u001b[34m[99]#011train-rmse:0.22247#011validation-rmse:0.31872\u001b[0m\n",
      "\u001b[34m[04:51:05] src/tree/updater_prune.cc:74: tree pruning end, 1 roots, 30 extra nodes, 18 pruned nodes, max_depth=12\u001b[0m\n",
      "\u001b[34m[100]#011train-rmse:0.221966#011validation-rmse:0.318651\u001b[0m\n",
      "\u001b[34m[04:51:08] src/tree/updater_prune.cc:74: tree pruning end, 1 roots, 58 extra nodes, 18 pruned nodes, max_depth=12\u001b[0m\n",
      "\u001b[34m[101]#011train-rmse:0.220807#011validation-rmse:0.31856\u001b[0m\n",
      "\u001b[34m[04:51:11] src/tree/updater_prune.cc:74: tree pruning end, 1 roots, 56 extra nodes, 18 pruned nodes, max_depth=12\u001b[0m\n",
      "\u001b[34m[102]#011train-rmse:0.219931#011validation-rmse:0.318248\u001b[0m\n",
      "\u001b[34m[04:51:14] src/tree/updater_prune.cc:74: tree pruning end, 1 roots, 36 extra nodes, 16 pruned nodes, max_depth=12\u001b[0m\n",
      "\u001b[34m[103]#011train-rmse:0.219303#011validation-rmse:0.317878\u001b[0m\n",
      "\u001b[34m[04:51:17] src/tree/updater_prune.cc:74: tree pruning end, 1 roots, 54 extra nodes, 8 pruned nodes, max_depth=12\u001b[0m\n",
      "\u001b[34m[104]#011train-rmse:0.218473#011validation-rmse:0.317787\u001b[0m\n",
      "\u001b[34m[04:51:20] src/tree/updater_prune.cc:74: tree pruning end, 1 roots, 32 extra nodes, 10 pruned nodes, max_depth=12\u001b[0m\n",
      "\u001b[34m[105]#011train-rmse:0.217972#011validation-rmse:0.317594\u001b[0m\n",
      "\u001b[34m[04:51:23] src/tree/updater_prune.cc:74: tree pruning end, 1 roots, 32 extra nodes, 18 pruned nodes, max_depth=12\u001b[0m\n",
      "\u001b[34m[106]#011train-rmse:0.217597#011validation-rmse:0.317482\u001b[0m\n",
      "\u001b[34m[04:51:26] src/tree/updater_prune.cc:74: tree pruning end, 1 roots, 26 extra nodes, 8 pruned nodes, max_depth=12\u001b[0m\n",
      "\u001b[34m[107]#011train-rmse:0.217212#011validation-rmse:0.317204\u001b[0m\n",
      "\u001b[34m[04:51:29] src/tree/updater_prune.cc:74: tree pruning end, 1 roots, 32 extra nodes, 8 pruned nodes, max_depth=12\u001b[0m\n",
      "\u001b[34m[108]#011train-rmse:0.216858#011validation-rmse:0.317003\u001b[0m\n",
      "\u001b[34m[04:51:32] src/tree/updater_prune.cc:74: tree pruning end, 1 roots, 38 extra nodes, 24 pruned nodes, max_depth=12\u001b[0m\n",
      "\u001b[34m[109]#011train-rmse:0.216349#011validation-rmse:0.316884\u001b[0m\n",
      "\u001b[34m[04:51:36] src/tree/updater_prune.cc:74: tree pruning end, 1 roots, 26 extra nodes, 6 pruned nodes, max_depth=12\u001b[0m\n",
      "\u001b[34m[110]#011train-rmse:0.215936#011validation-rmse:0.316598\u001b[0m\n",
      "\u001b[34m[04:51:39] src/tree/updater_prune.cc:74: tree pruning end, 1 roots, 38 extra nodes, 8 pruned nodes, max_depth=12\u001b[0m\n",
      "\u001b[34m[111]#011train-rmse:0.215304#011validation-rmse:0.316402\u001b[0m\n",
      "\u001b[34m[04:51:42] src/tree/updater_prune.cc:74: tree pruning end, 1 roots, 46 extra nodes, 14 pruned nodes, max_depth=12\u001b[0m\n",
      "\u001b[34m[112]#011train-rmse:0.214614#011validation-rmse:0.316178\u001b[0m\n",
      "\u001b[34m[04:51:45] src/tree/updater_prune.cc:74: tree pruning end, 1 roots, 28 extra nodes, 6 pruned nodes, max_depth=12\u001b[0m\n",
      "\u001b[34m[113]#011train-rmse:0.214141#011validation-rmse:0.316061\u001b[0m\n",
      "\u001b[34m[04:51:48] src/tree/updater_prune.cc:74: tree pruning end, 1 roots, 40 extra nodes, 10 pruned nodes, max_depth=12\u001b[0m\n",
      "\u001b[34m[114]#011train-rmse:0.213622#011validation-rmse:0.315948\u001b[0m\n",
      "\u001b[34m[04:51:51] src/tree/updater_prune.cc:74: tree pruning end, 1 roots, 34 extra nodes, 8 pruned nodes, max_depth=12\u001b[0m\n",
      "\u001b[34m[115]#011train-rmse:0.213162#011validation-rmse:0.315959\u001b[0m\n",
      "\u001b[34m[04:51:54] src/tree/updater_prune.cc:74: tree pruning end, 1 roots, 44 extra nodes, 26 pruned nodes, max_depth=12\u001b[0m\n",
      "\u001b[34m[116]#011train-rmse:0.21251#011validation-rmse:0.315894\u001b[0m\n",
      "\u001b[34m[04:51:57] src/tree/updater_prune.cc:74: tree pruning end, 1 roots, 34 extra nodes, 22 pruned nodes, max_depth=12\u001b[0m\n",
      "\u001b[34m[117]#011train-rmse:0.212089#011validation-rmse:0.315591\u001b[0m\n",
      "\u001b[34m[04:52:00] src/tree/updater_prune.cc:74: tree pruning end, 1 roots, 28 extra nodes, 6 pruned nodes, max_depth=12\u001b[0m\n",
      "\u001b[34m[118]#011train-rmse:0.211802#011validation-rmse:0.31544\u001b[0m\n",
      "\u001b[34m[04:52:03] src/tree/updater_prune.cc:74: tree pruning end, 1 roots, 42 extra nodes, 24 pruned nodes, max_depth=12\u001b[0m\n",
      "\u001b[34m[119]#011train-rmse:0.211181#011validation-rmse:0.315407\u001b[0m\n",
      "\u001b[34m[04:52:06] src/tree/updater_prune.cc:74: tree pruning end, 1 roots, 26 extra nodes, 16 pruned nodes, max_depth=12\u001b[0m\n",
      "\u001b[34m[120]#011train-rmse:0.210809#011validation-rmse:0.315402\u001b[0m\n",
      "\u001b[34m[04:52:10] src/tree/updater_prune.cc:74: tree pruning end, 1 roots, 42 extra nodes, 20 pruned nodes, max_depth=12\u001b[0m\n",
      "\u001b[34m[121]#011train-rmse:0.21015#011validation-rmse:0.315393\u001b[0m\n",
      "\u001b[34m[04:52:13] src/tree/updater_prune.cc:74: tree pruning end, 1 roots, 46 extra nodes, 24 pruned nodes, max_depth=12\u001b[0m\n",
      "\u001b[34m[122]#011train-rmse:0.209532#011validation-rmse:0.315296\u001b[0m\n",
      "\u001b[34m[04:52:16] src/tree/updater_prune.cc:74: tree pruning end, 1 roots, 40 extra nodes, 20 pruned nodes, max_depth=12\u001b[0m\n",
      "\u001b[34m[123]#011train-rmse:0.20898#011validation-rmse:0.315114\u001b[0m\n",
      "\u001b[34m[04:52:19] src/tree/updater_prune.cc:74: tree pruning end, 1 roots, 28 extra nodes, 18 pruned nodes, max_depth=12\u001b[0m\n",
      "\u001b[34m[124]#011train-rmse:0.208587#011validation-rmse:0.315133\u001b[0m\n",
      "\u001b[34m[04:52:22] src/tree/updater_prune.cc:74: tree pruning end, 1 roots, 44 extra nodes, 26 pruned nodes, max_depth=12\u001b[0m\n",
      "\u001b[34m[125]#011train-rmse:0.207868#011validation-rmse:0.315059\u001b[0m\n",
      "\u001b[34m[04:52:25] src/tree/updater_prune.cc:74: tree pruning end, 1 roots, 32 extra nodes, 28 pruned nodes, max_depth=12\u001b[0m\n",
      "\u001b[34m[126]#011train-rmse:0.207387#011validation-rmse:0.315027\u001b[0m\n",
      "\u001b[34m[04:52:28] src/tree/updater_prune.cc:74: tree pruning end, 1 roots, 32 extra nodes, 16 pruned nodes, max_depth=12\u001b[0m\n",
      "\u001b[34m[127]#011train-rmse:0.206959#011validation-rmse:0.315044\u001b[0m\n",
      "\u001b[34m[04:52:32] src/tree/updater_prune.cc:74: tree pruning end, 1 roots, 40 extra nodes, 16 pruned nodes, max_depth=12\u001b[0m\n",
      "\u001b[34m[128]#011train-rmse:0.206325#011validation-rmse:0.31492\u001b[0m\n",
      "\u001b[34m[04:52:35] src/tree/updater_prune.cc:74: tree pruning end, 1 roots, 52 extra nodes, 14 pruned nodes, max_depth=12\u001b[0m\n",
      "\u001b[34m[129]#011train-rmse:0.205401#011validation-rmse:0.314694\u001b[0m\n",
      "\u001b[34m[04:52:38] src/tree/updater_prune.cc:74: tree pruning end, 1 roots, 40 extra nodes, 22 pruned nodes, max_depth=12\u001b[0m\n",
      "\u001b[34m[130]#011train-rmse:0.204914#011validation-rmse:0.314602\u001b[0m\n",
      "\u001b[34m[04:52:41] src/tree/updater_prune.cc:74: tree pruning end, 1 roots, 42 extra nodes, 22 pruned nodes, max_depth=12\u001b[0m\n",
      "\u001b[34m[131]#011train-rmse:0.20421#011validation-rmse:0.314703\u001b[0m\n",
      "\u001b[34m[04:52:44] src/tree/updater_prune.cc:74: tree pruning end, 1 roots, 26 extra nodes, 20 pruned nodes, max_depth=12\u001b[0m\n",
      "\u001b[34m[132]#011train-rmse:0.20392#011validation-rmse:0.314578\u001b[0m\n",
      "\u001b[34m[04:52:47] src/tree/updater_prune.cc:74: tree pruning end, 1 roots, 28 extra nodes, 20 pruned nodes, max_depth=12\u001b[0m\n",
      "\u001b[34m[133]#011train-rmse:0.203546#011validation-rmse:0.31451\u001b[0m\n",
      "\u001b[34m[04:52:50] src/tree/updater_prune.cc:74: tree pruning end, 1 roots, 32 extra nodes, 16 pruned nodes, max_depth=12\u001b[0m\n",
      "\u001b[34m[134]#011train-rmse:0.203135#011validation-rmse:0.314548\u001b[0m\n",
      "\u001b[34m[04:52:53] src/tree/updater_prune.cc:74: tree pruning end, 1 roots, 50 extra nodes, 18 pruned nodes, max_depth=12\u001b[0m\n",
      "\u001b[34m[135]#011train-rmse:0.202345#011validation-rmse:0.314412\u001b[0m\n",
      "\u001b[34m[04:52:56] src/tree/updater_prune.cc:74: tree pruning end, 1 roots, 30 extra nodes, 10 pruned nodes, max_depth=12\u001b[0m\n",
      "\u001b[34m[136]#011train-rmse:0.201978#011validation-rmse:0.314397\u001b[0m\n",
      "\u001b[34m[04:53:00] src/tree/updater_prune.cc:74: tree pruning end, 1 roots, 30 extra nodes, 8 pruned nodes, max_depth=12\u001b[0m\n",
      "\u001b[34m[137]#011train-rmse:0.201591#011validation-rmse:0.314199\u001b[0m\n",
      "\u001b[34m[04:53:03] src/tree/updater_prune.cc:74: tree pruning end, 1 roots, 38 extra nodes, 6 pruned nodes, max_depth=12\u001b[0m\n",
      "\u001b[34m[138]#011train-rmse:0.201105#011validation-rmse:0.314054\u001b[0m\n",
      "\u001b[34m[04:53:06] src/tree/updater_prune.cc:74: tree pruning end, 1 roots, 48 extra nodes, 24 pruned nodes, max_depth=12\u001b[0m\n",
      "\u001b[34m[139]#011train-rmse:0.200339#011validation-rmse:0.313931\u001b[0m\n",
      "\u001b[34m[04:53:09] src/tree/updater_prune.cc:74: tree pruning end, 1 roots, 38 extra nodes, 32 pruned nodes, max_depth=12\u001b[0m\n",
      "\u001b[34m[140]#011train-rmse:0.199976#011validation-rmse:0.313838\u001b[0m\n",
      "\u001b[34m[04:53:12] src/tree/updater_prune.cc:74: tree pruning end, 1 roots, 32 extra nodes, 8 pruned nodes, max_depth=12\u001b[0m\n",
      "\u001b[34m[141]#011train-rmse:0.19965#011validation-rmse:0.313761\u001b[0m\n",
      "\u001b[34m[04:53:15] src/tree/updater_prune.cc:74: tree pruning end, 1 roots, 38 extra nodes, 10 pruned nodes, max_depth=12\u001b[0m\n",
      "\u001b[34m[142]#011train-rmse:0.199306#011validation-rmse:0.3137\u001b[0m\n",
      "\u001b[34m[04:53:18] src/tree/updater_prune.cc:74: tree pruning end, 1 roots, 32 extra nodes, 6 pruned nodes, max_depth=12\u001b[0m\n",
      "\u001b[34m[143]#011train-rmse:0.198973#011validation-rmse:0.313633\u001b[0m\n",
      "\u001b[34m[04:53:21] src/tree/updater_prune.cc:74: tree pruning end, 1 roots, 34 extra nodes, 12 pruned nodes, max_depth=12\u001b[0m\n",
      "\u001b[34m[144]#011train-rmse:0.19856#011validation-rmse:0.313492\u001b[0m\n",
      "\u001b[34m[04:53:24] src/tree/updater_prune.cc:74: tree pruning end, 1 roots, 28 extra nodes, 12 pruned nodes, max_depth=12\u001b[0m\n",
      "\u001b[34m[145]#011train-rmse:0.198276#011validation-rmse:0.313422\u001b[0m\n",
      "\u001b[34m[04:53:27] src/tree/updater_prune.cc:74: tree pruning end, 1 roots, 28 extra nodes, 8 pruned nodes, max_depth=12\u001b[0m\n",
      "\u001b[34m[146]#011train-rmse:0.197934#011validation-rmse:0.313338\u001b[0m\n",
      "\u001b[34m[04:53:31] src/tree/updater_prune.cc:74: tree pruning end, 1 roots, 40 extra nodes, 24 pruned nodes, max_depth=12\u001b[0m\n",
      "\u001b[34m[147]#011train-rmse:0.197417#011validation-rmse:0.313363\u001b[0m\n",
      "\u001b[34m[04:53:34] src/tree/updater_prune.cc:74: tree pruning end, 1 roots, 40 extra nodes, 10 pruned nodes, max_depth=12\u001b[0m\n",
      "\u001b[34m[148]#011train-rmse:0.196954#011validation-rmse:0.313167\u001b[0m\n",
      "\u001b[34m[04:53:37] src/tree/updater_prune.cc:74: tree pruning end, 1 roots, 32 extra nodes, 6 pruned nodes, max_depth=12\u001b[0m\n",
      "\u001b[34m[149]#011train-rmse:0.196591#011validation-rmse:0.313094\u001b[0m\n",
      "\u001b[34m[04:53:40] src/tree/updater_prune.cc:74: tree pruning end, 1 roots, 30 extra nodes, 8 pruned nodes, max_depth=12\u001b[0m\n",
      "\u001b[34m[150]#011train-rmse:0.196273#011validation-rmse:0.312988\u001b[0m\n",
      "\u001b[34m[04:53:43] src/tree/updater_prune.cc:74: tree pruning end, 1 roots, 64 extra nodes, 30 pruned nodes, max_depth=12\u001b[0m\n",
      "\u001b[34m[151]#011train-rmse:0.195402#011validation-rmse:0.313009\u001b[0m\n",
      "\u001b[34m[04:53:46] src/tree/updater_prune.cc:74: tree pruning end, 1 roots, 34 extra nodes, 8 pruned nodes, max_depth=12\u001b[0m\n",
      "\u001b[34m[152]#011train-rmse:0.194998#011validation-rmse:0.312915\u001b[0m\n",
      "\u001b[34m[04:53:49] src/tree/updater_prune.cc:74: tree pruning end, 1 roots, 42 extra nodes, 18 pruned nodes, max_depth=12\u001b[0m\n",
      "\u001b[34m[153]#011train-rmse:0.194462#011validation-rmse:0.312875\u001b[0m\n",
      "\u001b[34m[04:53:52] src/tree/updater_prune.cc:74: tree pruning end, 1 roots, 44 extra nodes, 22 pruned nodes, max_depth=12\u001b[0m\n",
      "\u001b[34m[154]#011train-rmse:0.193773#011validation-rmse:0.312765\u001b[0m\n",
      "\u001b[34m[04:53:55] src/tree/updater_prune.cc:74: tree pruning end, 1 roots, 28 extra nodes, 10 pruned nodes, max_depth=12\u001b[0m\n",
      "\u001b[34m[155]#011train-rmse:0.193458#011validation-rmse:0.312662\u001b[0m\n",
      "\u001b[34m[04:53:59] src/tree/updater_prune.cc:74: tree pruning end, 1 roots, 28 extra nodes, 22 pruned nodes, max_depth=12\u001b[0m\n",
      "\u001b[34m[156]#011train-rmse:0.193237#011validation-rmse:0.312561\u001b[0m\n",
      "\u001b[34m[04:54:02] src/tree/updater_prune.cc:74: tree pruning end, 1 roots, 32 extra nodes, 14 pruned nodes, max_depth=12\u001b[0m\n",
      "\u001b[34m[157]#011train-rmse:0.192836#011validation-rmse:0.312442\u001b[0m\n",
      "\u001b[34m[04:54:05] src/tree/updater_prune.cc:74: tree pruning end, 1 roots, 24 extra nodes, 12 pruned nodes, max_depth=12\u001b[0m\n",
      "\u001b[34m[158]#011train-rmse:0.192598#011validation-rmse:0.312376\u001b[0m\n",
      "\u001b[34m[04:54:08] src/tree/updater_prune.cc:74: tree pruning end, 1 roots, 32 extra nodes, 18 pruned nodes, max_depth=12\u001b[0m\n",
      "\u001b[34m[159]#011train-rmse:0.192144#011validation-rmse:0.312325\u001b[0m\n",
      "\u001b[34m[04:54:11] src/tree/updater_prune.cc:74: tree pruning end, 1 roots, 36 extra nodes, 18 pruned nodes, max_depth=12\u001b[0m\n",
      "\u001b[34m[160]#011train-rmse:0.191705#011validation-rmse:0.312417\u001b[0m\n",
      "\u001b[34m[04:54:14] src/tree/updater_prune.cc:74: tree pruning end, 1 roots, 28 extra nodes, 6 pruned nodes, max_depth=12\u001b[0m\n",
      "\u001b[34m[161]#011train-rmse:0.191464#011validation-rmse:0.312324\u001b[0m\n",
      "\u001b[34m[04:54:17] src/tree/updater_prune.cc:74: tree pruning end, 1 roots, 30 extra nodes, 8 pruned nodes, max_depth=12\u001b[0m\n",
      "\u001b[34m[162]#011train-rmse:0.191184#011validation-rmse:0.312298\u001b[0m\n",
      "\u001b[34m[04:54:20] src/tree/updater_prune.cc:74: tree pruning end, 1 roots, 32 extra nodes, 16 pruned nodes, max_depth=12\u001b[0m\n",
      "\u001b[34m[163]#011train-rmse:0.190763#011validation-rmse:0.312293\u001b[0m\n",
      "\u001b[34m[04:54:24] src/tree/updater_prune.cc:74: tree pruning end, 1 roots, 28 extra nodes, 6 pruned nodes, max_depth=12\u001b[0m\n",
      "\u001b[34m[164]#011train-rmse:0.190506#011validation-rmse:0.31201\u001b[0m\n",
      "\u001b[34m[04:54:27] src/tree/updater_prune.cc:74: tree pruning end, 1 roots, 34 extra nodes, 14 pruned nodes, max_depth=12\u001b[0m\n",
      "\u001b[34m[165]#011train-rmse:0.190145#011validation-rmse:0.31209\u001b[0m\n",
      "\u001b[34m[04:54:30] src/tree/updater_prune.cc:74: tree pruning end, 1 roots, 30 extra nodes, 22 pruned nodes, max_depth=12\u001b[0m\n",
      "\u001b[34m[166]#011train-rmse:0.18991#011validation-rmse:0.312116\u001b[0m\n",
      "\u001b[34m[04:54:33] src/tree/updater_prune.cc:74: tree pruning end, 1 roots, 24 extra nodes, 14 pruned nodes, max_depth=12\u001b[0m\n",
      "\u001b[34m[167]#011train-rmse:0.18971#011validation-rmse:0.311989\u001b[0m\n",
      "\u001b[34m[04:54:36] src/tree/updater_prune.cc:74: tree pruning end, 1 roots, 52 extra nodes, 28 pruned nodes, max_depth=12\u001b[0m\n",
      "\u001b[34m[168]#011train-rmse:0.188978#011validation-rmse:0.311994\u001b[0m\n",
      "\u001b[34m[04:54:39] src/tree/updater_prune.cc:74: tree pruning end, 1 roots, 26 extra nodes, 24 pruned nodes, max_depth=12\u001b[0m\n",
      "\u001b[34m[169]#011train-rmse:0.188717#011validation-rmse:0.311888\u001b[0m\n",
      "\u001b[34m[04:54:42] src/tree/updater_prune.cc:74: tree pruning end, 1 roots, 36 extra nodes, 20 pruned nodes, max_depth=12\u001b[0m\n",
      "\u001b[34m[170]#011train-rmse:0.18833#011validation-rmse:0.311925\u001b[0m\n",
      "\u001b[34m[04:54:45] src/tree/updater_prune.cc:74: tree pruning end, 1 roots, 34 extra nodes, 16 pruned nodes, max_depth=12\u001b[0m\n",
      "\u001b[34m[171]#011train-rmse:0.187884#011validation-rmse:0.31206\u001b[0m\n",
      "\u001b[34m[04:54:48] src/tree/updater_prune.cc:74: tree pruning end, 1 roots, 24 extra nodes, 10 pruned nodes, max_depth=12\u001b[0m\n",
      "\u001b[34m[172]#011train-rmse:0.187643#011validation-rmse:0.31201\u001b[0m\n",
      "\u001b[34m[04:54:52] src/tree/updater_prune.cc:74: tree pruning end, 1 roots, 38 extra nodes, 14 pruned nodes, max_depth=12\u001b[0m\n",
      "\u001b[34m[173]#011train-rmse:0.187264#011validation-rmse:0.311919\u001b[0m\n",
      "\u001b[34m[04:54:55] src/tree/updater_prune.cc:74: tree pruning end, 1 roots, 38 extra nodes, 16 pruned nodes, max_depth=12\u001b[0m\n",
      "\u001b[34m[174]#011train-rmse:0.186826#011validation-rmse:0.311855\u001b[0m\n",
      "\u001b[34m[04:54:58] src/tree/updater_prune.cc:74: tree pruning end, 1 roots, 28 extra nodes, 26 pruned nodes, max_depth=12\u001b[0m\n",
      "\u001b[34m[175]#011train-rmse:0.186517#011validation-rmse:0.311809\u001b[0m\n",
      "\u001b[34m[04:55:01] src/tree/updater_prune.cc:74: tree pruning end, 1 roots, 58 extra nodes, 18 pruned nodes, max_depth=12\u001b[0m\n",
      "\u001b[34m[176]#011train-rmse:0.185648#011validation-rmse:0.312054\u001b[0m\n",
      "\u001b[34m[04:55:04] src/tree/updater_prune.cc:74: tree pruning end, 1 roots, 24 extra nodes, 10 pruned nodes, max_depth=12\u001b[0m\n",
      "\u001b[34m[177]#011train-rmse:0.185453#011validation-rmse:0.312026\u001b[0m\n",
      "\u001b[34m[04:55:07] src/tree/updater_prune.cc:74: tree pruning end, 1 roots, 42 extra nodes, 16 pruned nodes, max_depth=12\u001b[0m\n",
      "\u001b[34m[178]#011train-rmse:0.184954#011validation-rmse:0.312154\u001b[0m\n",
      "\u001b[34m[04:55:10] src/tree/updater_prune.cc:74: tree pruning end, 1 roots, 32 extra nodes, 20 pruned nodes, max_depth=12\u001b[0m\n",
      "\u001b[34m[179]#011train-rmse:0.184757#011validation-rmse:0.312179\u001b[0m\n",
      "\u001b[34m[04:55:13] src/tree/updater_prune.cc:74: tree pruning end, 1 roots, 30 extra nodes, 22 pruned nodes, max_depth=12\u001b[0m\n",
      "\u001b[34m[180]#011train-rmse:0.184502#011validation-rmse:0.312034\u001b[0m\n",
      "\u001b[34m[04:55:17] src/tree/updater_prune.cc:74: tree pruning end, 1 roots, 42 extra nodes, 24 pruned nodes, max_depth=12\u001b[0m\n",
      "\u001b[34m[181]#011train-rmse:0.184115#011validation-rmse:0.311965\u001b[0m\n",
      "\u001b[34m[04:55:20] src/tree/updater_prune.cc:74: tree pruning end, 1 roots, 32 extra nodes, 16 pruned nodes, max_depth=12\u001b[0m\n",
      "\u001b[34m[182]#011train-rmse:0.183738#011validation-rmse:0.311936\u001b[0m\n",
      "\u001b[34m[04:55:23] src/tree/updater_prune.cc:74: tree pruning end, 1 roots, 32 extra nodes, 26 pruned nodes, max_depth=12\u001b[0m\n",
      "\u001b[34m[183]#011train-rmse:0.183369#011validation-rmse:0.31192\u001b[0m\n",
      "\u001b[34m[04:55:26] src/tree/updater_prune.cc:74: tree pruning end, 1 roots, 42 extra nodes, 14 pruned nodes, max_depth=12\u001b[0m\n",
      "\u001b[34m[184]#011train-rmse:0.182862#011validation-rmse:0.311833\u001b[0m\n",
      "\u001b[34m[04:55:29] src/tree/updater_prune.cc:74: tree pruning end, 1 roots, 30 extra nodes, 14 pruned nodes, max_depth=12\u001b[0m\n",
      "\u001b[34m[185]#011train-rmse:0.182557#011validation-rmse:0.311839\u001b[0m\n",
      "\u001b[34mStopping. Best iteration:\u001b[0m\n",
      "\u001b[34m[175]#011train-rmse:0.186517#011validation-rmse:0.311809\n",
      "\u001b[0m\n",
      "Training seconds: 667\n",
      "Billable seconds: 667\n"
     ]
    }
   ],
   "source": [
    "# TODO: Create a new estimator object attached to the best training job found during hyperparameter tuning\n",
    "\n",
    "#Get the best training job \n",
    "xgb_attached = sagemaker.estimator.Estimator.attach(xgb_hyperparameter_tuner.best_training_job())\n"
   ]
  },
  {
   "cell_type": "markdown",
   "metadata": {},
   "source": [
    "Now that we have an estimator object attached to the correct training job, we can proceed as we normally would and create a transformer object."
   ]
  },
  {
   "cell_type": "code",
   "execution_count": 52,
   "metadata": {},
   "outputs": [
    {
     "name": "stderr",
     "output_type": "stream",
     "text": [
      "Parameter image will be renamed to image_uri in SageMaker Python SDK v2.\n"
     ]
    }
   ],
   "source": [
    "# TODO: Create a transformer object from the attached estimator. Using an instance count of 1 and an instance type of ml.m4.xlarge\n",
    "#       should be more than enough.\n",
    "\n",
    "xgb_transformer = xgb_attached.transformer(instance_count=1, instance_type='ml.m4.xlarge')\n"
   ]
  },
  {
   "cell_type": "markdown",
   "metadata": {},
   "source": [
    "Next we actually perform the transform job. When doing so we need to make sure to specify the type of data we are sending so that it is serialized correctly in the background. In our case we are providing our model with csv data so we specify `text/csv`. Also, if the test data that we have provided is too large to process all at once then we need to specify how the data file should be split up. Since each line is a single entry in our data set we tell SageMaker that it can split the input on each line."
   ]
  },
  {
   "cell_type": "code",
   "execution_count": 74,
   "metadata": {},
   "outputs": [],
   "source": [
    "# TODO: Start the transform job. Make sure to specify the content type and the split type of the test data.\n",
    "\n",
    "xgb_transformer.transform(test_location, content_type='text/csv', split_type='Line')"
   ]
  },
  {
   "cell_type": "markdown",
   "metadata": {},
   "source": [
    "Currently the transform job is running but it is doing so in the background. Since we wish to wait until the transform job is done and we would like a bit of feedback we can run the `wait()` method."
   ]
  },
  {
   "cell_type": "code",
   "execution_count": 75,
   "metadata": {},
   "outputs": [
    {
     "name": "stdout",
     "output_type": "stream",
     "text": [
      "...........................\u001b[32m2020-09-28T05:23:33.181:[sagemaker logs]: MaxConcurrentTransforms=4, MaxPayloadInMB=6, BatchStrategy=MULTI_RECORD\u001b[0m\n",
      "\u001b[34mArguments: serve\u001b[0m\n",
      "\u001b[34m[2020-09-28 05:23:33 +0000] [1] [INFO] Starting gunicorn 19.7.1\u001b[0m\n",
      "\u001b[34m[2020-09-28 05:23:33 +0000] [1] [INFO] Listening at: http://0.0.0.0:8080 (1)\u001b[0m\n",
      "\u001b[34m[2020-09-28 05:23:33 +0000] [1] [INFO] Using worker: gevent\u001b[0m\n",
      "\u001b[35mArguments: serve\u001b[0m\n",
      "\u001b[35m[2020-09-28 05:23:33 +0000] [1] [INFO] Starting gunicorn 19.7.1\u001b[0m\n",
      "\u001b[35m[2020-09-28 05:23:33 +0000] [1] [INFO] Listening at: http://0.0.0.0:8080 (1)\u001b[0m\n",
      "\u001b[35m[2020-09-28 05:23:33 +0000] [1] [INFO] Using worker: gevent\u001b[0m\n",
      "\u001b[34m[2020-09-28 05:23:33 +0000] [37] [INFO] Booting worker with pid: 37\u001b[0m\n",
      "\u001b[34m[2020-09-28 05:23:33 +0000] [38] [INFO] Booting worker with pid: 38\u001b[0m\n",
      "\u001b[34m[2020-09-28 05:23:33 +0000] [39] [INFO] Booting worker with pid: 39\u001b[0m\n",
      "\u001b[34m[2020-09-28:05:23:33:INFO] Model loaded successfully for worker : 37\u001b[0m\n",
      "\u001b[34m[2020-09-28 05:23:33 +0000] [40] [INFO] Booting worker with pid: 40\u001b[0m\n",
      "\u001b[34m[2020-09-28:05:23:33:INFO] Model loaded successfully for worker : 38\u001b[0m\n",
      "\u001b[34m[2020-09-28:05:23:33:INFO] Model loaded successfully for worker : 39\u001b[0m\n",
      "\u001b[34m[2020-09-28:05:23:33:INFO] Model loaded successfully for worker : 40\u001b[0m\n",
      "\u001b[34m[2020-09-28:05:23:33:INFO] Sniff delimiter as ','\u001b[0m\n",
      "\u001b[34m[2020-09-28:05:23:33:INFO] Determined delimiter of CSV input is ','\u001b[0m\n",
      "\u001b[34m[2020-09-28:05:23:33:INFO] Sniff delimiter as ','\u001b[0m\n",
      "\u001b[34m[2020-09-28:05:23:33:INFO] Determined delimiter of CSV input is ','\u001b[0m\n",
      "\u001b[34m[2020-09-28:05:23:33:INFO] Sniff delimiter as ','\u001b[0m\n",
      "\u001b[34m[2020-09-28:05:23:33:INFO] Determined delimiter of CSV input is ','\u001b[0m\n",
      "\u001b[35m[2020-09-28 05:23:33 +0000] [37] [INFO] Booting worker with pid: 37\u001b[0m\n",
      "\u001b[35m[2020-09-28 05:23:33 +0000] [38] [INFO] Booting worker with pid: 38\u001b[0m\n",
      "\u001b[35m[2020-09-28 05:23:33 +0000] [39] [INFO] Booting worker with pid: 39\u001b[0m\n",
      "\u001b[35m[2020-09-28:05:23:33:INFO] Model loaded successfully for worker : 37\u001b[0m\n",
      "\u001b[35m[2020-09-28 05:23:33 +0000] [40] [INFO] Booting worker with pid: 40\u001b[0m\n",
      "\u001b[35m[2020-09-28:05:23:33:INFO] Model loaded successfully for worker : 38\u001b[0m\n",
      "\u001b[35m[2020-09-28:05:23:33:INFO] Model loaded successfully for worker : 39\u001b[0m\n",
      "\u001b[35m[2020-09-28:05:23:33:INFO] Model loaded successfully for worker : 40\u001b[0m\n",
      "\u001b[35m[2020-09-28:05:23:33:INFO] Sniff delimiter as ','\u001b[0m\n",
      "\u001b[35m[2020-09-28:05:23:33:INFO] Determined delimiter of CSV input is ','\u001b[0m\n",
      "\u001b[35m[2020-09-28:05:23:33:INFO] Sniff delimiter as ','\u001b[0m\n",
      "\u001b[35m[2020-09-28:05:23:33:INFO] Determined delimiter of CSV input is ','\u001b[0m\n",
      "\u001b[35m[2020-09-28:05:23:33:INFO] Sniff delimiter as ','\u001b[0m\n",
      "\u001b[35m[2020-09-28:05:23:33:INFO] Determined delimiter of CSV input is ','\u001b[0m\n",
      "\u001b[34m[2020-09-28:05:23:35:INFO] Sniff delimiter as ','\u001b[0m\n",
      "\u001b[34m[2020-09-28:05:23:35:INFO] Determined delimiter of CSV input is ','\u001b[0m\n",
      "\u001b[34m[2020-09-28:05:23:35:INFO] Sniff delimiter as ','\u001b[0m\n",
      "\u001b[34m[2020-09-28:05:23:35:INFO] Determined delimiter of CSV input is ','\u001b[0m\n",
      "\u001b[35m[2020-09-28:05:23:35:INFO] Sniff delimiter as ','\u001b[0m\n",
      "\u001b[35m[2020-09-28:05:23:35:INFO] Determined delimiter of CSV input is ','\u001b[0m\n",
      "\u001b[35m[2020-09-28:05:23:35:INFO] Sniff delimiter as ','\u001b[0m\n",
      "\u001b[35m[2020-09-28:05:23:35:INFO] Determined delimiter of CSV input is ','\u001b[0m\n",
      "\u001b[34m[2020-09-28:05:23:35:INFO] Sniff delimiter as ','\u001b[0m\n",
      "\u001b[34m[2020-09-28:05:23:35:INFO] Determined delimiter of CSV input is ','\u001b[0m\n",
      "\u001b[35m[2020-09-28:05:23:35:INFO] Sniff delimiter as ','\u001b[0m\n",
      "\u001b[35m[2020-09-28:05:23:35:INFO] Determined delimiter of CSV input is ','\u001b[0m\n",
      "\u001b[34m[2020-09-28:05:23:36:INFO] Sniff delimiter as ','\u001b[0m\n",
      "\u001b[34m[2020-09-28:05:23:36:INFO] Determined delimiter of CSV input is ','\u001b[0m\n",
      "\u001b[34m[2020-09-28:05:23:37:INFO] Sniff delimiter as ','\u001b[0m\n",
      "\u001b[34m[2020-09-28:05:23:37:INFO] Determined delimiter of CSV input is ','\u001b[0m\n",
      "\u001b[35m[2020-09-28:05:23:36:INFO] Sniff delimiter as ','\u001b[0m\n",
      "\u001b[35m[2020-09-28:05:23:36:INFO] Determined delimiter of CSV input is ','\u001b[0m\n",
      "\u001b[35m[2020-09-28:05:23:37:INFO] Sniff delimiter as ','\u001b[0m\n",
      "\u001b[35m[2020-09-28:05:23:37:INFO] Determined delimiter of CSV input is ','\u001b[0m\n",
      "\u001b[34m[2020-09-28:05:23:37:INFO] Sniff delimiter as ','\u001b[0m\n",
      "\u001b[34m[2020-09-28:05:23:37:INFO] Determined delimiter of CSV input is ','\u001b[0m\n",
      "\u001b[34m[2020-09-28:05:23:38:INFO] Sniff delimiter as ','\u001b[0m\n",
      "\u001b[34m[2020-09-28:05:23:38:INFO] Determined delimiter of CSV input is ','\u001b[0m\n",
      "\u001b[35m[2020-09-28:05:23:37:INFO] Sniff delimiter as ','\u001b[0m\n",
      "\u001b[35m[2020-09-28:05:23:37:INFO] Determined delimiter of CSV input is ','\u001b[0m\n",
      "\u001b[35m[2020-09-28:05:23:38:INFO] Sniff delimiter as ','\u001b[0m\n",
      "\u001b[35m[2020-09-28:05:23:38:INFO] Determined delimiter of CSV input is ','\u001b[0m\n",
      "\u001b[34m[2020-09-28:05:23:40:INFO] Sniff delimiter as ','\u001b[0m\n",
      "\u001b[34m[2020-09-28:05:23:40:INFO] Determined delimiter of CSV input is ','\u001b[0m\n",
      "\u001b[34m[2020-09-28:05:23:40:INFO] Sniff delimiter as ','\u001b[0m\n",
      "\u001b[34m[2020-09-28:05:23:40:INFO] Determined delimiter of CSV input is ','\u001b[0m\n",
      "\u001b[35m[2020-09-28:05:23:40:INFO] Sniff delimiter as ','\u001b[0m\n",
      "\u001b[35m[2020-09-28:05:23:40:INFO] Determined delimiter of CSV input is ','\u001b[0m\n",
      "\u001b[35m[2020-09-28:05:23:40:INFO] Sniff delimiter as ','\u001b[0m\n",
      "\u001b[35m[2020-09-28:05:23:40:INFO] Determined delimiter of CSV input is ','\u001b[0m\n",
      "\u001b[34m[2020-09-28:05:23:41:INFO] Sniff delimiter as ','\u001b[0m\n",
      "\u001b[34m[2020-09-28:05:23:41:INFO] Determined delimiter of CSV input is ','\u001b[0m\n",
      "\u001b[35m[2020-09-28:05:23:41:INFO] Sniff delimiter as ','\u001b[0m\n",
      "\u001b[35m[2020-09-28:05:23:41:INFO] Determined delimiter of CSV input is ','\u001b[0m\n",
      "\u001b[34m[2020-09-28:05:23:42:INFO] Sniff delimiter as ','\u001b[0m\n",
      "\u001b[34m[2020-09-28:05:23:42:INFO] Determined delimiter of CSV input is ','\u001b[0m\n",
      "\u001b[35m[2020-09-28:05:23:42:INFO] Sniff delimiter as ','\u001b[0m\n",
      "\u001b[35m[2020-09-28:05:23:42:INFO] Determined delimiter of CSV input is ','\u001b[0m\n",
      "\u001b[34m[2020-09-28:05:23:42:INFO] Sniff delimiter as ','\u001b[0m\n",
      "\u001b[34m[2020-09-28:05:23:42:INFO] Determined delimiter of CSV input is ','\u001b[0m\n",
      "\u001b[34m[2020-09-28:05:23:43:INFO] Sniff delimiter as ','\u001b[0m\n",
      "\u001b[34m[2020-09-28:05:23:43:INFO] Determined delimiter of CSV input is ','\u001b[0m\n",
      "\u001b[35m[2020-09-28:05:23:42:INFO] Sniff delimiter as ','\u001b[0m\n",
      "\u001b[35m[2020-09-28:05:23:42:INFO] Determined delimiter of CSV input is ','\u001b[0m\n",
      "\u001b[35m[2020-09-28:05:23:43:INFO] Sniff delimiter as ','\u001b[0m\n",
      "\u001b[35m[2020-09-28:05:23:43:INFO] Determined delimiter of CSV input is ','\u001b[0m\n",
      "\u001b[34m[2020-09-28:05:23:44:INFO] Sniff delimiter as ','\u001b[0m\n",
      "\u001b[34m[2020-09-28:05:23:44:INFO] Determined delimiter of CSV input is ','\u001b[0m\n",
      "\u001b[34m[2020-09-28:05:23:44:INFO] Sniff delimiter as ','\u001b[0m\n",
      "\u001b[34m[2020-09-28:05:23:44:INFO] Determined delimiter of CSV input is ','\u001b[0m\n",
      "\u001b[35m[2020-09-28:05:23:44:INFO] Sniff delimiter as ','\u001b[0m\n",
      "\u001b[35m[2020-09-28:05:23:44:INFO] Determined delimiter of CSV input is ','\u001b[0m\n",
      "\u001b[35m[2020-09-28:05:23:44:INFO] Sniff delimiter as ','\u001b[0m\n",
      "\u001b[35m[2020-09-28:05:23:44:INFO] Determined delimiter of CSV input is ','\u001b[0m\n",
      "\u001b[34m[2020-09-28:05:23:45:INFO] Sniff delimiter as ','\u001b[0m\n",
      "\u001b[34m[2020-09-28:05:23:45:INFO] Determined delimiter of CSV input is ','\u001b[0m\n",
      "\u001b[34m[2020-09-28:05:23:45:INFO] Sniff delimiter as ','\u001b[0m\n",
      "\u001b[34m[2020-09-28:05:23:45:INFO] Determined delimiter of CSV input is ','\u001b[0m\n",
      "\u001b[35m[2020-09-28:05:23:45:INFO] Sniff delimiter as ','\u001b[0m\n",
      "\u001b[35m[2020-09-28:05:23:45:INFO] Determined delimiter of CSV input is ','\u001b[0m\n",
      "\u001b[35m[2020-09-28:05:23:45:INFO] Sniff delimiter as ','\u001b[0m\n",
      "\u001b[35m[2020-09-28:05:23:45:INFO] Determined delimiter of CSV input is ','\u001b[0m\n",
      "\u001b[34m[2020-09-28:05:23:46:INFO] Sniff delimiter as ','\u001b[0m\n",
      "\u001b[34m[2020-09-28:05:23:46:INFO] Determined delimiter of CSV input is ','\u001b[0m\n",
      "\u001b[34m[2020-09-28:05:23:47:INFO] Sniff delimiter as ','\u001b[0m\n",
      "\u001b[34m[2020-09-28:05:23:47:INFO] Determined delimiter of CSV input is ','\u001b[0m\n",
      "\u001b[35m[2020-09-28:05:23:46:INFO] Sniff delimiter as ','\u001b[0m\n",
      "\u001b[35m[2020-09-28:05:23:46:INFO] Determined delimiter of CSV input is ','\u001b[0m\n",
      "\u001b[35m[2020-09-28:05:23:47:INFO] Sniff delimiter as ','\u001b[0m\n",
      "\u001b[35m[2020-09-28:05:23:47:INFO] Determined delimiter of CSV input is ','\u001b[0m\n",
      "\u001b[34m[2020-09-28:05:23:47:INFO] Sniff delimiter as ','\u001b[0m\n",
      "\u001b[34m[2020-09-28:05:23:47:INFO] Determined delimiter of CSV input is ','\u001b[0m\n",
      "\u001b[34m[2020-09-28:05:23:48:INFO] Sniff delimiter as ','\u001b[0m\n",
      "\u001b[34m[2020-09-28:05:23:48:INFO] Determined delimiter of CSV input is ','\u001b[0m\n",
      "\u001b[35m[2020-09-28:05:23:47:INFO] Sniff delimiter as ','\u001b[0m\n",
      "\u001b[35m[2020-09-28:05:23:47:INFO] Determined delimiter of CSV input is ','\u001b[0m\n",
      "\u001b[35m[2020-09-28:05:23:48:INFO] Sniff delimiter as ','\u001b[0m\n",
      "\u001b[35m[2020-09-28:05:23:48:INFO] Determined delimiter of CSV input is ','\u001b[0m\n",
      "\u001b[34m[2020-09-28:05:23:50:INFO] Sniff delimiter as ','\u001b[0m\n",
      "\u001b[34m[2020-09-28:05:23:50:INFO] Determined delimiter of CSV input is ','\u001b[0m\n",
      "\u001b[34m[2020-09-28:05:23:50:INFO] Sniff delimiter as ','\u001b[0m\n",
      "\u001b[34m[2020-09-28:05:23:50:INFO] Determined delimiter of CSV input is ','\u001b[0m\n",
      "\u001b[35m[2020-09-28:05:23:50:INFO] Sniff delimiter as ','\u001b[0m\n",
      "\u001b[35m[2020-09-28:05:23:50:INFO] Determined delimiter of CSV input is ','\u001b[0m\n",
      "\u001b[35m[2020-09-28:05:23:50:INFO] Sniff delimiter as ','\u001b[0m\n",
      "\u001b[35m[2020-09-28:05:23:50:INFO] Determined delimiter of CSV input is ','\u001b[0m\n",
      "\u001b[34m[2020-09-28:05:23:51:INFO] Sniff delimiter as ','\u001b[0m\n",
      "\u001b[34m[2020-09-28:05:23:51:INFO] Determined delimiter of CSV input is ','\u001b[0m\n",
      "\u001b[34m[2020-09-28:05:23:52:INFO] Sniff delimiter as ','\u001b[0m\n",
      "\u001b[34m[2020-09-28:05:23:52:INFO] Determined delimiter of CSV input is ','\u001b[0m\n",
      "\u001b[35m[2020-09-28:05:23:51:INFO] Sniff delimiter as ','\u001b[0m\n",
      "\u001b[35m[2020-09-28:05:23:51:INFO] Determined delimiter of CSV input is ','\u001b[0m\n",
      "\u001b[35m[2020-09-28:05:23:52:INFO] Sniff delimiter as ','\u001b[0m\n",
      "\u001b[35m[2020-09-28:05:23:52:INFO] Determined delimiter of CSV input is ','\u001b[0m\n",
      "\u001b[34m[2020-09-28:05:23:52:INFO] Sniff delimiter as ','\u001b[0m\n",
      "\u001b[34m[2020-09-28:05:23:52:INFO] Determined delimiter of CSV input is ','\u001b[0m\n",
      "\u001b[34m[2020-09-28:05:23:52:INFO] Sniff delimiter as ','\u001b[0m\n",
      "\u001b[34m[2020-09-28:05:23:52:INFO] Determined delimiter of CSV input is ','\u001b[0m\n",
      "\u001b[35m[2020-09-28:05:23:52:INFO] Sniff delimiter as ','\u001b[0m\n",
      "\u001b[35m[2020-09-28:05:23:52:INFO] Determined delimiter of CSV input is ','\u001b[0m\n",
      "\u001b[35m[2020-09-28:05:23:52:INFO] Sniff delimiter as ','\u001b[0m\n",
      "\u001b[35m[2020-09-28:05:23:52:INFO] Determined delimiter of CSV input is ','\u001b[0m\n",
      "\u001b[34m[2020-09-28:05:23:54:INFO] Sniff delimiter as ','\u001b[0m\n",
      "\u001b[34m[2020-09-28:05:23:54:INFO] Determined delimiter of CSV input is ','\u001b[0m\n",
      "\u001b[34m[2020-09-28:05:23:54:INFO] Sniff delimiter as ','\u001b[0m\n",
      "\u001b[34m[2020-09-28:05:23:54:INFO] Determined delimiter of CSV input is ','\u001b[0m\n",
      "\u001b[35m[2020-09-28:05:23:54:INFO] Sniff delimiter as ','\u001b[0m\n",
      "\u001b[35m[2020-09-28:05:23:54:INFO] Determined delimiter of CSV input is ','\u001b[0m\n",
      "\u001b[35m[2020-09-28:05:23:54:INFO] Sniff delimiter as ','\u001b[0m\n",
      "\u001b[35m[2020-09-28:05:23:54:INFO] Determined delimiter of CSV input is ','\u001b[0m\n",
      "\u001b[34m[2020-09-28:05:23:55:INFO] Sniff delimiter as ','\u001b[0m\n",
      "\u001b[34m[2020-09-28:05:23:55:INFO] Determined delimiter of CSV input is ','\u001b[0m\n",
      "\u001b[34m[2020-09-28:05:23:55:INFO] Sniff delimiter as ','\u001b[0m\n",
      "\u001b[34m[2020-09-28:05:23:55:INFO] Determined delimiter of CSV input is ','\u001b[0m\n",
      "\u001b[35m[2020-09-28:05:23:55:INFO] Sniff delimiter as ','\u001b[0m\n",
      "\u001b[35m[2020-09-28:05:23:55:INFO] Determined delimiter of CSV input is ','\u001b[0m\n",
      "\u001b[35m[2020-09-28:05:23:55:INFO] Sniff delimiter as ','\u001b[0m\n",
      "\u001b[35m[2020-09-28:05:23:55:INFO] Determined delimiter of CSV input is ','\u001b[0m\n",
      "\u001b[34m[2020-09-28:05:23:56:INFO] Sniff delimiter as ','\u001b[0m\n",
      "\u001b[34m[2020-09-28:05:23:56:INFO] Determined delimiter of CSV input is ','\u001b[0m\n",
      "\u001b[34m[2020-09-28:05:23:57:INFO] Sniff delimiter as ','\u001b[0m\n",
      "\u001b[34m[2020-09-28:05:23:57:INFO] Determined delimiter of CSV input is ','\u001b[0m\n",
      "\u001b[35m[2020-09-28:05:23:56:INFO] Sniff delimiter as ','\u001b[0m\n",
      "\u001b[35m[2020-09-28:05:23:56:INFO] Determined delimiter of CSV input is ','\u001b[0m\n",
      "\u001b[35m[2020-09-28:05:23:57:INFO] Sniff delimiter as ','\u001b[0m\n",
      "\u001b[35m[2020-09-28:05:23:57:INFO] Determined delimiter of CSV input is ','\u001b[0m\n",
      "\n"
     ]
    }
   ],
   "source": [
    "xgb_transformer.wait()"
   ]
  },
  {
   "cell_type": "markdown",
   "metadata": {},
   "source": [
    "Now the transform job has executed and the result, the estimated sentiment of each review, has been saved on S3. Since we would rather work on this file locally we can perform a bit of notebook magic to copy the file to the `data_dir`."
   ]
  },
  {
   "cell_type": "code",
   "execution_count": 76,
   "metadata": {},
   "outputs": [
    {
     "name": "stdout",
     "output_type": "stream",
     "text": [
      "download: s3://sagemaker-us-west-2-881038864233/xgboost-200928-0442-003-021a4bd3-2020-09-28-05-18-49-575/test.csv.out to ../data/xgboost/test.csv.out\r\n"
     ]
    }
   ],
   "source": [
    "!aws s3 cp --recursive $xgb_transformer.output_path $data_dir"
   ]
  },
  {
   "cell_type": "markdown",
   "metadata": {},
   "source": [
    "The last step is now to read in the output from our model, convert the output to something a little more usable, in this case we want the sentiment to be either `1` (positive) or `0` (negative), and then compare to the ground truth labels."
   ]
  },
  {
   "cell_type": "code",
   "execution_count": 77,
   "metadata": {},
   "outputs": [],
   "source": [
    "predictions = pd.read_csv(os.path.join(data_dir, 'test.csv.out'), header=None)\n",
    "predictions = [round(num) for num in predictions.squeeze().values]"
   ]
  },
  {
   "cell_type": "code",
   "execution_count": 78,
   "metadata": {},
   "outputs": [
    {
     "data": {
      "text/plain": [
       "0.86836"
      ]
     },
     "execution_count": 78,
     "metadata": {},
     "output_type": "execute_result"
    }
   ],
   "source": [
    "from sklearn.metrics import accuracy_score\n",
    "accuracy_score(test_y, predictions)"
   ]
  },
  {
   "cell_type": "markdown",
   "metadata": {},
   "source": [
    "## Optional: Clean up\n",
    "\n",
    "The default notebook instance on SageMaker doesn't have a lot of excess disk space available. As you continue to complete and execute notebooks you will eventually fill up this disk space, leading to errors which can be difficult to diagnose. Once you are completely finished using a notebook it is a good idea to remove the files that you created along the way. Of course, you can do this from the terminal or from the notebook hub if you would like. The cell below contains some commands to clean up the created files from within the notebook."
   ]
  },
  {
   "cell_type": "code",
   "execution_count": null,
   "metadata": {},
   "outputs": [],
   "source": [
    "# First we will remove all of the files contained in the data_dir directory\n",
    "!rm $data_dir/*\n",
    "\n",
    "# And then we delete the directory itself\n",
    "!rmdir $data_dir\n",
    "\n",
    "# Similarly we will remove the files in the cache_dir directory and the directory itself\n",
    "!rm $cache_dir/*\n",
    "!rmdir $cache_dir"
   ]
  },
  {
   "cell_type": "code",
   "execution_count": null,
   "metadata": {},
   "outputs": [],
   "source": []
  }
 ],
 "metadata": {
  "kernelspec": {
   "display_name": "conda_python3",
   "language": "python",
   "name": "conda_python3"
  },
  "language_info": {
   "codemirror_mode": {
    "name": "ipython",
    "version": 3
   },
   "file_extension": ".py",
   "mimetype": "text/x-python",
   "name": "python",
   "nbconvert_exporter": "python",
   "pygments_lexer": "ipython3",
   "version": "3.6.10"
  }
 },
 "nbformat": 4,
 "nbformat_minor": 2
}
