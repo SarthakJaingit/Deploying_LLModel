{
 "cells": [
  {
   "cell_type": "markdown",
   "metadata": {},
   "source": [
    "# Sentiment Analysis Web App\n",
    "\n",
    "_Deep Learning Nanodegree Program | Deployment_\n",
    "\n",
    "---\n",
    "\n",
    "In this notebook we will use Amazon's SageMaker service to construct a random tree model to predict the sentiment of a movie review. In addition, we will deploy this model to an endpoint and construct a very simple web app which will interact with our model's deployed endpoint.\n",
    "\n",
    "## General Outline\n",
    "\n",
    "Typically, when using a notebook instance with SageMaker, you will proceed through the following steps. Of course, not every step will need to be done with each project. Also, there is quite a lot of room for variation in many of the steps, as you will see throughout these lessons.\n",
    "\n",
    "1. Download or otherwise retrieve the data.\n",
    "2. Process / Prepare the data.\n",
    "3. Upload the processed data to S3.\n",
    "4. Train a chosen model.\n",
    "5. Test the trained model (typically using a batch transform job).\n",
    "6. Deploy the trained model.\n",
    "7. Use the deployed model.\n",
    "\n",
    "In this notebook we will progress through each of the steps above. We will also see that the final step, using the deployed model, can be quite challenging."
   ]
  },
  {
   "cell_type": "markdown",
   "metadata": {},
   "source": [
    "## Step 1: Downloading the data\n",
    "\n",
    "The dataset we are going to use is very popular among researchers in Natural Language Processing, usually referred to as the [IMDb dataset](http://ai.stanford.edu/~amaas/data/sentiment/). It consists of movie reviews from the website [imdb.com](http://www.imdb.com/), each labeled as either '**pos**itive', if the reviewer enjoyed the film, or '**neg**ative' otherwise.\n",
    "\n",
    "> Maas, Andrew L., et al. [Learning Word Vectors for Sentiment Analysis](http://ai.stanford.edu/~amaas/data/sentiment/). In _Proceedings of the 49th Annual Meeting of the Association for Computational Linguistics: Human Language Technologies_. Association for Computational Linguistics, 2011.\n",
    "\n",
    "We begin by using some Jupyter Notebook magic to download and extract the dataset."
   ]
  },
  {
   "cell_type": "code",
   "execution_count": 1,
   "metadata": {},
   "outputs": [
    {
     "name": "stdout",
     "output_type": "stream",
     "text": [
      "mkdir: cannot create directory ‘../data’: File exists\n",
      "--2020-09-26 02:40:22--  http://ai.stanford.edu/~amaas/data/sentiment/aclImdb_v1.tar.gz\n",
      "Resolving ai.stanford.edu (ai.stanford.edu)... 171.64.68.10\n",
      "Connecting to ai.stanford.edu (ai.stanford.edu)|171.64.68.10|:80... connected.\n",
      "HTTP request sent, awaiting response... 200 OK\n",
      "Length: 84125825 (80M) [application/x-gzip]\n",
      "Saving to: ‘../data/aclImdb_v1.tar.gz’\n",
      "\n",
      "../data/aclImdb_v1. 100%[===================>]  80.23M  53.5MB/s    in 1.5s    \n",
      "\n",
      "2020-09-26 02:40:23 (53.5 MB/s) - ‘../data/aclImdb_v1.tar.gz’ saved [84125825/84125825]\n",
      "\n"
     ]
    }
   ],
   "source": [
    "%mkdir ../data\n",
    "!wget -O ../data/aclImdb_v1.tar.gz http://ai.stanford.edu/~amaas/data/sentiment/aclImdb_v1.tar.gz\n",
    "!tar -zxf ../data/aclImdb_v1.tar.gz -C ../data"
   ]
  },
  {
   "cell_type": "markdown",
   "metadata": {},
   "source": [
    "## Step 2: Preparing and Processing the data\n",
    "\n",
    "The data we have downloaded is split into various files, each of which contains a single review. It will be much easier going forward if we combine these individual files into two large files, one for training and one for testing."
   ]
  },
  {
   "cell_type": "code",
   "execution_count": 2,
   "metadata": {},
   "outputs": [
    {
     "name": "stdout",
     "output_type": "stream",
     "text": [
      "Requirement already satisfied: joblib in /home/ec2-user/anaconda3/envs/python3/lib/python3.6/site-packages (0.14.1)\n",
      "\u001b[33mWARNING: You are using pip version 20.0.2; however, version 20.2.3 is available.\n",
      "You should consider upgrading via the '/home/ec2-user/anaconda3/envs/python3/bin/python -m pip install --upgrade pip' command.\u001b[0m\n"
     ]
    }
   ],
   "source": [
    "!pip install joblib"
   ]
  },
  {
   "cell_type": "code",
   "execution_count": 3,
   "metadata": {},
   "outputs": [],
   "source": [
    "import os\n",
    "import glob\n",
    "\n",
    "def read_imdb_data(data_dir='../data/aclImdb'):\n",
    "    data = {}\n",
    "    labels = {}\n",
    "    \n",
    "    for data_type in ['train', 'test']:\n",
    "        data[data_type] = {}\n",
    "        labels[data_type] = {}\n",
    "        \n",
    "        for sentiment in ['pos', 'neg']:\n",
    "            data[data_type][sentiment] = []\n",
    "            labels[data_type][sentiment] = []\n",
    "            \n",
    "            path = os.path.join(data_dir, data_type, sentiment, '*.txt')\n",
    "            files = glob.glob(path)\n",
    "            \n",
    "            for f in files:\n",
    "                with open(f) as review:\n",
    "                    data[data_type][sentiment].append(review.read())\n",
    "                    # Here we represent a positive review by '1' and a negative review by '0'\n",
    "                    labels[data_type][sentiment].append(1 if sentiment == 'pos' else 0)\n",
    "                    \n",
    "            assert len(data[data_type][sentiment]) == len(labels[data_type][sentiment]), \\\n",
    "                    \"{}/{} data size does not match labels size\".format(data_type, sentiment)\n",
    "                \n",
    "    return data, labels"
   ]
  },
  {
   "cell_type": "code",
   "execution_count": 4,
   "metadata": {},
   "outputs": [
    {
     "name": "stdout",
     "output_type": "stream",
     "text": [
      "IMDB reviews: train = 12500 pos / 12500 neg, test = 12500 pos / 12500 neg\n"
     ]
    }
   ],
   "source": [
    "data, labels = read_imdb_data()\n",
    "print(\"IMDB reviews: train = {} pos / {} neg, test = {} pos / {} neg\".format(\n",
    "            len(data['train']['pos']), len(data['train']['neg']),\n",
    "            len(data['test']['pos']), len(data['test']['neg'])))"
   ]
  },
  {
   "cell_type": "code",
   "execution_count": 5,
   "metadata": {},
   "outputs": [],
   "source": [
    "from sklearn.utils import shuffle\n",
    "\n",
    "def prepare_imdb_data(data, labels):\n",
    "    \"\"\"Prepare training and test sets from IMDb movie reviews.\"\"\"\n",
    "    \n",
    "    #Combine positive and negative reviews and labels\n",
    "    data_train = data['train']['pos'] + data['train']['neg']\n",
    "    data_test = data['test']['pos'] + data['test']['neg']\n",
    "    labels_train = labels['train']['pos'] + labels['train']['neg']\n",
    "    labels_test = labels['test']['pos'] + labels['test']['neg']\n",
    "    \n",
    "    #Shuffle reviews and corresponding labels within training and test sets\n",
    "    data_train, labels_train = shuffle(data_train, labels_train)\n",
    "    data_test, labels_test = shuffle(data_test, labels_test)\n",
    "    \n",
    "    # Return a unified training data, test data, training labels, test labets\n",
    "    return data_train, data_test, labels_train, labels_test"
   ]
  },
  {
   "cell_type": "code",
   "execution_count": 6,
   "metadata": {},
   "outputs": [
    {
     "name": "stdout",
     "output_type": "stream",
     "text": [
      "IMDb reviews (combined): train = 25000, test = 25000\n"
     ]
    }
   ],
   "source": [
    "train_X, test_X, train_y, test_y = prepare_imdb_data(data, labels)\n",
    "print(\"IMDb reviews (combined): train = {}, test = {}\".format(len(train_X), len(test_X)))"
   ]
  },
  {
   "cell_type": "code",
   "execution_count": 12,
   "metadata": {},
   "outputs": [
    {
     "data": {
      "text/plain": [
       "\"I thought the children in the show did a very good job. I especially enjoyed the performance of the Emma character. Well done! The stunts were pretty good for a low budget show. I was able to follow the movie and enjoy it without having to look at my watch every 5 minutes.I enjoyed the scenes with the tooth fairy and the burning of her. The ghostly apparitions of the children's souls being released was also good. Another good point of the movie is that it kept moving along. There wasn't a lot of slow scenes. The adult leads were also believable and therefore helped to keep the show entertaining. All in all an enjoyable night of movie watching.\""
      ]
     },
     "execution_count": 12,
     "metadata": {},
     "output_type": "execute_result"
    }
   ],
   "source": [
    "train_X[100]"
   ]
  },
  {
   "cell_type": "markdown",
   "metadata": {},
   "source": [
    "## Processing the data\n",
    "\n",
    "Now that we have our training and testing datasets merged and ready to use, we need to start processing the raw data into something that will be useable by our machine learning algorithm. To begin with, we remove any html formatting and any non-alpha numeric characters that may appear in the reviews. We will do this in a very simplistic way using Python's regular expression module. We will discuss the reason for this rather simplistic pre-processing later on."
   ]
  },
  {
   "cell_type": "code",
   "execution_count": 13,
   "metadata": {},
   "outputs": [],
   "source": [
    "import re\n",
    "\n",
    "REPLACE_NO_SPACE = re.compile(\"(\\.)|(\\;)|(\\:)|(\\!)|(\\')|(\\?)|(\\,)|(\\\")|(\\()|(\\))|(\\[)|(\\])\")\n",
    "REPLACE_WITH_SPACE = re.compile(\"(<br\\s*/><br\\s*/>)|(\\-)|(\\/)\")\n",
    "\n",
    "def review_to_words(review):\n",
    "    words = REPLACE_NO_SPACE.sub(\"\", review.lower())\n",
    "    words = REPLACE_WITH_SPACE.sub(\" \", words)\n",
    "    return words"
   ]
  },
  {
   "cell_type": "code",
   "execution_count": 14,
   "metadata": {},
   "outputs": [
    {
     "data": {
      "text/plain": [
       "'i thought the children in the show did a very good job i especially enjoyed the performance of the emma character well done the stunts were pretty good for a low budget show i was able to follow the movie and enjoy it without having to look at my watch every 5 minutesi enjoyed the scenes with the tooth fairy and the burning of her the ghostly apparitions of the childrens souls being released was also good another good point of the movie is that it kept moving along there wasnt a lot of slow scenes the adult leads were also believable and therefore helped to keep the show entertaining all in all an enjoyable night of movie watching'"
      ]
     },
     "execution_count": 14,
     "metadata": {},
     "output_type": "execute_result"
    }
   ],
   "source": [
    "review_to_words(train_X[100])"
   ]
  },
  {
   "cell_type": "code",
   "execution_count": 20,
   "metadata": {},
   "outputs": [],
   "source": [
    "import pickle\n",
    "\n",
    "cache_dir = os.path.join(\"../cache\", \"sentiment_web_app\")  # where to store cache files\n",
    "os.makedirs(cache_dir, exist_ok=True)  # ensure cache directory exists\n",
    "\n",
    "def preprocess_data(data_train, data_test, labels_train, labels_test,\n",
    "                    cache_dir=cache_dir, cache_file=\"preprocessed_data.pkl\"):\n",
    "    \"\"\"Convert each review to words; read from cache if available.\"\"\"\n",
    "\n",
    "    # If cache_file is not None, try to read from it first\n",
    "    cache_data = None\n",
    "    if cache_file is not None:\n",
    "        try:\n",
    "            with open(os.path.join(cache_dir, cache_file), \"rb\") as f:\n",
    "                cache_data = pickle.load(f)\n",
    "            print(\"Read preprocessed data from cache file:\", cache_file)\n",
    "        except:\n",
    "            pass  # unable to read from cache, but that's okay\n",
    "    \n",
    "    # If cache is missing, then do the heavy lifting\n",
    "    if cache_data is None:\n",
    "        # Preprocess training and test data to obtain words for each review\n",
    "        #words_train = list(map(review_to_words, data_train))\n",
    "        #words_test = list(map(review_to_words, data_test))\n",
    "        words_train = [review_to_words(review) for review in data_train]\n",
    "        words_test = [review_to_words(review) for review in data_test]\n",
    "        \n",
    "        # Write to cache file for future runs\n",
    "        if cache_file is not None:\n",
    "            cache_data = dict(words_train=words_train, words_test=words_test,\n",
    "                              labels_train=labels_train, labels_test=labels_test)\n",
    "            with open(os.path.join(cache_dir, cache_file), \"wb\") as f:\n",
    "                pickle.dump(cache_data, f)\n",
    "            print(\"Wrote preprocessed data to cache file:\", cache_file)\n",
    "    else:\n",
    "        # Unpack data loaded from cache file\n",
    "        words_train, words_test, labels_train, labels_test = (cache_data['words_train'],\n",
    "                cache_data['words_test'], cache_data['labels_train'], cache_data['labels_test'])\n",
    "    \n",
    "    return words_train, words_test, labels_train, labels_test"
   ]
  },
  {
   "cell_type": "code",
   "execution_count": 21,
   "metadata": {},
   "outputs": [
    {
     "name": "stdout",
     "output_type": "stream",
     "text": [
      "Wrote preprocessed data to cache file: preprocessed_data.pkl\n"
     ]
    }
   ],
   "source": [
    "# Preprocess data\n",
    "train_X, test_X, train_y, test_y = preprocess_data(train_X, test_X, train_y, test_y)"
   ]
  },
  {
   "cell_type": "markdown",
   "metadata": {},
   "source": [
    "### Extract Bag-of-Words features\n",
    "\n",
    "For the model we will be implementing, rather than using the reviews directly, we are going to transform each review into a Bag-of-Words feature representation. Keep in mind that 'in the wild' we will only have access to the training set so our transformer can only use the training set to construct a representation."
   ]
  },
  {
   "cell_type": "code",
   "execution_count": 22,
   "metadata": {},
   "outputs": [],
   "source": [
    "import numpy as np\n",
    "from sklearn.feature_extraction.text import CountVectorizer\n",
    "import joblib\n",
    "# joblib is an enhanced version of pickle that is more efficient for storing NumPy arrays\n",
    "\n",
    "def extract_BoW_features(words_train, words_test, vocabulary_size=5000,\n",
    "                         cache_dir=cache_dir, cache_file=\"bow_features.pkl\"):\n",
    "    \"\"\"Extract Bag-of-Words for a given set of documents, already preprocessed into words.\"\"\"\n",
    "    \n",
    "    # If cache_file is not None, try to read from it first\n",
    "    cache_data = None\n",
    "    if cache_file is not None:\n",
    "        try:\n",
    "            with open(os.path.join(cache_dir, cache_file), \"rb\") as f:\n",
    "                cache_data = joblib.load(f)\n",
    "            print(\"Read features from cache file:\", cache_file)\n",
    "        except:\n",
    "            pass  # unable to read from cache, but that's okay\n",
    "    \n",
    "    # If cache is missing, then do the heavy lifting\n",
    "    if cache_data is None:\n",
    "        # Fit a vectorizer to training documents and use it to transform them\n",
    "        # NOTE: Training documents have already been preprocessed and tokenized into words;\n",
    "        #       pass in dummy functions to skip those steps, e.g. preprocessor=lambda x: x\n",
    "        vectorizer = CountVectorizer(max_features=vocabulary_size)\n",
    "        features_train = vectorizer.fit_transform(words_train).toarray()\n",
    "\n",
    "        # Apply the same vectorizer to transform the test documents (ignore unknown words)\n",
    "        features_test = vectorizer.transform(words_test).toarray()\n",
    "        \n",
    "        # NOTE: Remember to convert the features using .toarray() for a compact representation\n",
    "        \n",
    "        # Write to cache file for future runs (store vocabulary as well)\n",
    "        if cache_file is not None:\n",
    "            vocabulary = vectorizer.vocabulary_\n",
    "            cache_data = dict(features_train=features_train, features_test=features_test,\n",
    "                             vocabulary=vocabulary)\n",
    "            with open(os.path.join(cache_dir, cache_file), \"wb\") as f:\n",
    "                joblib.dump(cache_data, f)\n",
    "            print(\"Wrote features to cache file:\", cache_file)\n",
    "    else:\n",
    "        # Unpack data loaded from cache file\n",
    "        features_train, features_test, vocabulary = (cache_data['features_train'],\n",
    "                cache_data['features_test'], cache_data['vocabulary'])\n",
    "    \n",
    "    # Return both the extracted features as well as the vocabulary\n",
    "    return features_train, features_test, vocabulary"
   ]
  },
  {
   "cell_type": "code",
   "execution_count": 23,
   "metadata": {},
   "outputs": [
    {
     "name": "stdout",
     "output_type": "stream",
     "text": [
      "Wrote features to cache file: bow_features.pkl\n"
     ]
    }
   ],
   "source": [
    "# Extract Bag of Words features for both training and test datasets\n",
    "train_X, test_X, vocabulary = extract_BoW_features(train_X, test_X)"
   ]
  },
  {
   "cell_type": "code",
   "execution_count": 43,
   "metadata": {},
   "outputs": [
    {
     "data": {
      "text/plain": [
       "5000"
      ]
     },
     "execution_count": 43,
     "metadata": {},
     "output_type": "execute_result"
    }
   ],
   "source": [
    "len(train_X[100])"
   ]
  },
  {
   "cell_type": "markdown",
   "metadata": {},
   "source": [
    "## Step 3: Upload data to S3\n",
    "\n",
    "Now that we have created the feature representation of our training (and testing) data, it is time to start setting up and using the XGBoost classifier provided by SageMaker.\n",
    "\n",
    "### Writing the datasets\n",
    "\n",
    "The XGBoost classifier that we will be using requires the dataset to be written to a file and stored using Amazon S3. To do this, we will start by splitting the training dataset into two parts, the data we will train the model with and a validation set. Then, we will write those datasets to a file locally and then upload the files to S3. In addition, we will write the test set to a file and upload that file to S3. This is so that we can use SageMakers Batch Transform functionality to test our model once we've fit it."
   ]
  },
  {
   "cell_type": "code",
   "execution_count": 44,
   "metadata": {},
   "outputs": [],
   "source": [
    "import pandas as pd\n",
    "\n",
    "# Earlier we shuffled the training dataset so to make things simple we can just assign\n",
    "# the first 10 000 reviews to the validation set and use the remaining reviews for training.\n",
    "val_X = pd.DataFrame(train_X[:10000])\n",
    "train_X = pd.DataFrame(train_X[10000:])\n",
    "\n",
    "val_y = pd.DataFrame(train_y[:10000])\n",
    "train_y = pd.DataFrame(train_y[10000:])"
   ]
  },
  {
   "cell_type": "markdown",
   "metadata": {},
   "source": [
    "The documentation for the XGBoost algorithm in SageMaker requires that the training and validation datasets should contain no headers or index and that the label should occur first for each sample.\n",
    "\n",
    "For more information about this and other algorithms, the SageMaker developer documentation can be found on __[Amazon's website.](https://docs.aws.amazon.com/sagemaker/latest/dg/)__"
   ]
  },
  {
   "cell_type": "code",
   "execution_count": 45,
   "metadata": {},
   "outputs": [],
   "source": [
    "# First we make sure that the local directory in which we'd like to store the training and validation csv files exists.\n",
    "data_dir = '../data/sentiment_web_app'\n",
    "if not os.path.exists(data_dir):\n",
    "    os.makedirs(data_dir)"
   ]
  },
  {
   "cell_type": "code",
   "execution_count": 46,
   "metadata": {},
   "outputs": [],
   "source": [
    "pd.DataFrame(test_X).to_csv(os.path.join(data_dir, 'test.csv'), header=False, index=False)\n",
    "\n",
    "pd.concat([val_y, val_X], axis=1).to_csv(os.path.join(data_dir, 'validation.csv'), header=False, index=False)\n",
    "pd.concat([train_y, train_X], axis=1).to_csv(os.path.join(data_dir, 'train.csv'), header=False, index=False)"
   ]
  },
  {
   "cell_type": "code",
   "execution_count": 47,
   "metadata": {},
   "outputs": [],
   "source": [
    "# To save a bit of memory we can set text_X, train_X, val_X, train_y and val_y to None.\n",
    "\n",
    "test_X = train_X = val_X = train_y = val_y = None"
   ]
  },
  {
   "cell_type": "markdown",
   "metadata": {},
   "source": [
    "### Uploading Training / Validation files to S3\n",
    "\n",
    "Amazon's S3 service allows us to store files that can be accessed by both the built-in training models such as the XGBoost model we will be using as well as custom models such as the one we will see a little later.\n",
    "\n",
    "For this and most other tasks we will be doing using SageMaker, there are two methods we could use. The first is to use the low level functionality of SageMaker which requires knowing each of the objects involved in the SageMaker environment. The second is to use the high level functionality in which certain choices have been made on the user's behalf. The low level approach benefits from allowing the user a great deal of flexibility while the high level approach makes development much quicker. For our purposes we will opt to use the high level approach although using the low-level approach is certainly an option.\n",
    "\n",
    "Recall the method `upload_data()` which is a member of the object representing our current SageMaker session. What this method does is upload the data to the default bucket (which is created if it does not exist) into the path described by the key_prefix variable. To see this for yourself, once you have uploaded the data files, go to the S3 console and look to see where the files have been uploaded.\n",
    "\n",
    "For additional resources, see the __[SageMaker API documentation](http://sagemaker.readthedocs.io/en/latest/)__ and in addition the __[SageMaker Developer Guide.](https://docs.aws.amazon.com/sagemaker/latest/dg/)__"
   ]
  },
  {
   "cell_type": "code",
   "execution_count": 48,
   "metadata": {},
   "outputs": [],
   "source": [
    "import sagemaker\n",
    "\n",
    "session = sagemaker.Session() # Store the current SageMaker session\n",
    "\n",
    "# S3 prefix (which folder will we use)\n",
    "prefix = 'sentiment-web-app'\n",
    "\n",
    "test_location = session.upload_data(os.path.join(data_dir, 'test.csv'), key_prefix=prefix)\n",
    "val_location = session.upload_data(os.path.join(data_dir, 'validation.csv'), key_prefix=prefix)\n",
    "train_location = session.upload_data(os.path.join(data_dir, 'train.csv'), key_prefix=prefix)"
   ]
  },
  {
   "cell_type": "markdown",
   "metadata": {},
   "source": [
    "## Step 4: Creating the XGBoost model\n",
    "\n",
    "Now that the data has been uploaded it is time to create the XGBoost model. To begin with, we need to do some setup. At this point it is worth discussing what a model is in SageMaker. It is easiest to think of a model of comprising three different objects in the SageMaker ecosystem, which interact with one another.\n",
    "\n",
    "- Model Artifacts\n",
    "- Training Code (Container)\n",
    "- Inference Code (Container)\n",
    "\n",
    "The Model Artifacts are what you might think of as the actual model itself. For example, if you were building a neural network, the model artifacts would be the weights of the various layers. In our case, for an XGBoost model, the artifacts are the actual trees that are created during training.\n",
    "\n",
    "The other two objects, the training code and the inference code are then used to manipulate the training artifacts. More precisely, the training code uses the training data that is provided and creates the model artifacts, while the inference code uses the model artifacts to make predictions on new data.\n",
    "\n",
    "The way that SageMaker runs the training and inference code is by making use of Docker containers. For now, think of a container as being a way of packaging code up so that dependencies aren't an issue."
   ]
  },
  {
   "cell_type": "code",
   "execution_count": 49,
   "metadata": {},
   "outputs": [],
   "source": [
    "from sagemaker import get_execution_role\n",
    "\n",
    "# Our current execution role is required when creating the model as the training\n",
    "# and inference code will need to access the model artifacts.\n",
    "role = get_execution_role()"
   ]
  },
  {
   "cell_type": "code",
   "execution_count": 50,
   "metadata": {},
   "outputs": [
    {
     "name": "stderr",
     "output_type": "stream",
     "text": [
      "'get_image_uri' method will be deprecated in favor of 'ImageURIProvider' class in SageMaker Python SDK v2.\n",
      "There is a more up to date SageMaker XGBoost image. To use the newer image, please set 'repo_version'='1.0-1'. For example:\n",
      "\tget_image_uri(region, 'xgboost', '1.0-1').\n"
     ]
    }
   ],
   "source": [
    "# We need to retrieve the location of the container which is provided by Amazon for using XGBoost.\n",
    "# As a matter of convenience, the training and inference code both use the same container.\n",
    "from sagemaker.amazon.amazon_estimator import get_image_uri\n",
    "\n",
    "container = get_image_uri(session.boto_region_name, 'xgboost')"
   ]
  },
  {
   "cell_type": "code",
   "execution_count": 51,
   "metadata": {},
   "outputs": [
    {
     "name": "stderr",
     "output_type": "stream",
     "text": [
      "Parameter image_name will be renamed to image_uri in SageMaker Python SDK v2.\n"
     ]
    }
   ],
   "source": [
    "# First we create a SageMaker estimator object for our model.\n",
    "xgb = sagemaker.estimator.Estimator(container, # The location of the container we wish to use\n",
    "                                    role,                                    # What is our current IAM Role\n",
    "                                    train_instance_count=1,                  # How many compute instances\n",
    "                                    train_instance_type='ml.m4.xlarge',      # What kind of compute instances\n",
    "                                    output_path='s3://{}/{}/output'.format(session.default_bucket(), prefix),\n",
    "                                    sagemaker_session=session)\n",
    "\n",
    "# And then set the algorithm specific parameters.\n",
    "xgb.set_hyperparameters(max_depth=5,\n",
    "                        eta=0.2,\n",
    "                        gamma=4,\n",
    "                        min_child_weight=6,\n",
    "                        subsample=0.8,\n",
    "                        silent=0,\n",
    "                        objective='binary:logistic',\n",
    "                        early_stopping_rounds=10,\n",
    "                        num_round=500)"
   ]
  },
  {
   "cell_type": "markdown",
   "metadata": {},
   "source": [
    "### Fit the XGBoost model\n",
    "\n",
    "Now that our model has been set up we simply need to attach the training and validation datasets and then ask SageMaker to set up the computation."
   ]
  },
  {
   "cell_type": "code",
   "execution_count": 52,
   "metadata": {},
   "outputs": [
    {
     "name": "stderr",
     "output_type": "stream",
     "text": [
      "'s3_input' class will be renamed to 'TrainingInput' in SageMaker Python SDK v2.\n",
      "'s3_input' class will be renamed to 'TrainingInput' in SageMaker Python SDK v2.\n"
     ]
    }
   ],
   "source": [
    "s3_input_train = sagemaker.s3_input(s3_data=train_location, content_type='csv')\n",
    "s3_input_validation = sagemaker.s3_input(s3_data=val_location, content_type='csv')"
   ]
  },
  {
   "cell_type": "code",
   "execution_count": 53,
   "metadata": {},
   "outputs": [
    {
     "name": "stdout",
     "output_type": "stream",
     "text": [
      "2020-09-26 03:04:01 Starting - Starting the training job...\n",
      "2020-09-26 03:04:03 Starting - Launching requested ML instances......\n",
      "2020-09-26 03:05:06 Starting - Preparing the instances for training......\n",
      "2020-09-26 03:06:19 Downloading - Downloading input data...\n",
      "2020-09-26 03:06:52 Training - Downloading the training image..\u001b[34mArguments: train\u001b[0m\n",
      "\u001b[34m[2020-09-26:03:07:12:INFO] Running standalone xgboost training.\u001b[0m\n",
      "\u001b[34m[2020-09-26:03:07:12:INFO] File size need to be processed in the node: 238.5mb. Available memory size in the node: 8491.11mb\u001b[0m\n",
      "\u001b[34m[2020-09-26:03:07:12:INFO] Determined delimiter of CSV input is ','\u001b[0m\n",
      "\u001b[34m[03:07:12] S3DistributionType set as FullyReplicated\u001b[0m\n",
      "\u001b[34m[03:07:14] 15000x5000 matrix with 75000000 entries loaded from /opt/ml/input/data/train?format=csv&label_column=0&delimiter=,\u001b[0m\n",
      "\u001b[34m[2020-09-26:03:07:14:INFO] Determined delimiter of CSV input is ','\u001b[0m\n",
      "\u001b[34m[03:07:14] S3DistributionType set as FullyReplicated\u001b[0m\n",
      "\u001b[34m[03:07:15] 10000x5000 matrix with 50000000 entries loaded from /opt/ml/input/data/validation?format=csv&label_column=0&delimiter=,\u001b[0m\n",
      "\n",
      "2020-09-26 03:07:11 Training - Training image download completed. Training in progress.\u001b[34m[03:07:19] src/tree/updater_prune.cc:74: tree pruning end, 1 roots, 38 extra nodes, 6 pruned nodes, max_depth=5\u001b[0m\n",
      "\u001b[34m[0]#011train-error:0.309#011validation-error:0.3149\u001b[0m\n",
      "\u001b[34mMultiple eval metrics have been passed: 'validation-error' will be used for early stopping.\n",
      "\u001b[0m\n",
      "\u001b[34mWill train until validation-error hasn't improved in 10 rounds.\u001b[0m\n",
      "\u001b[34m[03:07:20] src/tree/updater_prune.cc:74: tree pruning end, 1 roots, 42 extra nodes, 8 pruned nodes, max_depth=5\u001b[0m\n",
      "\u001b[34m[1]#011train-error:0.290933#011validation-error:0.2944\u001b[0m\n",
      "\u001b[34m[03:07:22] src/tree/updater_prune.cc:74: tree pruning end, 1 roots, 38 extra nodes, 12 pruned nodes, max_depth=5\u001b[0m\n",
      "\u001b[34m[2]#011train-error:0.284733#011validation-error:0.2886\u001b[0m\n",
      "\u001b[34m[03:07:23] src/tree/updater_prune.cc:74: tree pruning end, 1 roots, 28 extra nodes, 10 pruned nodes, max_depth=5\u001b[0m\n",
      "\u001b[34m[3]#011train-error:0.274467#011validation-error:0.2797\u001b[0m\n",
      "\u001b[34m[03:07:24] src/tree/updater_prune.cc:74: tree pruning end, 1 roots, 46 extra nodes, 2 pruned nodes, max_depth=5\u001b[0m\n",
      "\u001b[34m[4]#011train-error:0.263733#011validation-error:0.2692\u001b[0m\n",
      "\u001b[34m[03:07:25] src/tree/updater_prune.cc:74: tree pruning end, 1 roots, 28 extra nodes, 4 pruned nodes, max_depth=5\u001b[0m\n",
      "\u001b[34m[5]#011train-error:0.255667#011validation-error:0.2646\u001b[0m\n",
      "\u001b[34m[03:07:27] src/tree/updater_prune.cc:74: tree pruning end, 1 roots, 36 extra nodes, 2 pruned nodes, max_depth=5\u001b[0m\n",
      "\u001b[34m[6]#011train-error:0.250867#011validation-error:0.2598\u001b[0m\n",
      "\u001b[34m[03:07:28] src/tree/updater_prune.cc:74: tree pruning end, 1 roots, 30 extra nodes, 6 pruned nodes, max_depth=5\u001b[0m\n",
      "\u001b[34m[7]#011train-error:0.241467#011validation-error:0.2525\u001b[0m\n",
      "\u001b[34m[03:07:29] src/tree/updater_prune.cc:74: tree pruning end, 1 roots, 24 extra nodes, 12 pruned nodes, max_depth=5\u001b[0m\n",
      "\u001b[34m[8]#011train-error:0.235467#011validation-error:0.2473\u001b[0m\n",
      "\u001b[34m[03:07:31] src/tree/updater_prune.cc:74: tree pruning end, 1 roots, 42 extra nodes, 6 pruned nodes, max_depth=5\u001b[0m\n",
      "\u001b[34m[9]#011train-error:0.227267#011validation-error:0.2422\u001b[0m\n",
      "\u001b[34m[03:07:32] src/tree/updater_prune.cc:74: tree pruning end, 1 roots, 28 extra nodes, 8 pruned nodes, max_depth=5\u001b[0m\n",
      "\u001b[34m[10]#011train-error:0.221333#011validation-error:0.2357\u001b[0m\n",
      "\u001b[34m[03:07:33] src/tree/updater_prune.cc:74: tree pruning end, 1 roots, 32 extra nodes, 2 pruned nodes, max_depth=5\u001b[0m\n",
      "\u001b[34m[11]#011train-error:0.217733#011validation-error:0.2314\u001b[0m\n",
      "\u001b[34m[03:07:34] src/tree/updater_prune.cc:74: tree pruning end, 1 roots, 24 extra nodes, 6 pruned nodes, max_depth=5\u001b[0m\n",
      "\u001b[34m[12]#011train-error:0.215267#011validation-error:0.2275\u001b[0m\n",
      "\u001b[34m[03:07:36] src/tree/updater_prune.cc:74: tree pruning end, 1 roots, 26 extra nodes, 8 pruned nodes, max_depth=5\u001b[0m\n",
      "\u001b[34m[13]#011train-error:0.2114#011validation-error:0.224\u001b[0m\n",
      "\u001b[34m[03:07:37] src/tree/updater_prune.cc:74: tree pruning end, 1 roots, 38 extra nodes, 4 pruned nodes, max_depth=5\u001b[0m\n",
      "\u001b[34m[14]#011train-error:0.206133#011validation-error:0.2204\u001b[0m\n",
      "\u001b[34m[03:07:38] src/tree/updater_prune.cc:74: tree pruning end, 1 roots, 36 extra nodes, 6 pruned nodes, max_depth=5\u001b[0m\n",
      "\u001b[34m[15]#011train-error:0.200933#011validation-error:0.2213\u001b[0m\n",
      "\u001b[34m[03:07:39] src/tree/updater_prune.cc:74: tree pruning end, 1 roots, 42 extra nodes, 6 pruned nodes, max_depth=5\u001b[0m\n",
      "\u001b[34m[16]#011train-error:0.1962#011validation-error:0.2175\u001b[0m\n",
      "\u001b[34m[03:07:41] src/tree/updater_prune.cc:74: tree pruning end, 1 roots, 22 extra nodes, 10 pruned nodes, max_depth=5\u001b[0m\n",
      "\u001b[34m[17]#011train-error:0.192933#011validation-error:0.2172\u001b[0m\n",
      "\u001b[34m[03:07:42] src/tree/updater_prune.cc:74: tree pruning end, 1 roots, 18 extra nodes, 18 pruned nodes, max_depth=5\u001b[0m\n",
      "\u001b[34m[18]#011train-error:0.190867#011validation-error:0.214\u001b[0m\n",
      "\u001b[34m[03:07:43] src/tree/updater_prune.cc:74: tree pruning end, 1 roots, 28 extra nodes, 8 pruned nodes, max_depth=5\u001b[0m\n",
      "\u001b[34m[19]#011train-error:0.188933#011validation-error:0.2131\u001b[0m\n",
      "\u001b[34m[03:07:45] src/tree/updater_prune.cc:74: tree pruning end, 1 roots, 16 extra nodes, 10 pruned nodes, max_depth=5\u001b[0m\n",
      "\u001b[34m[20]#011train-error:0.186867#011validation-error:0.2134\u001b[0m\n",
      "\u001b[34m[03:07:46] src/tree/updater_prune.cc:74: tree pruning end, 1 roots, 24 extra nodes, 12 pruned nodes, max_depth=5\u001b[0m\n",
      "\u001b[34m[21]#011train-error:0.186533#011validation-error:0.2121\u001b[0m\n",
      "\u001b[34m[03:07:47] src/tree/updater_prune.cc:74: tree pruning end, 1 roots, 34 extra nodes, 6 pruned nodes, max_depth=5\u001b[0m\n",
      "\u001b[34m[22]#011train-error:0.181333#011validation-error:0.2083\u001b[0m\n",
      "\u001b[34m[03:07:48] src/tree/updater_prune.cc:74: tree pruning end, 1 roots, 22 extra nodes, 6 pruned nodes, max_depth=5\u001b[0m\n",
      "\u001b[34m[23]#011train-error:0.178667#011validation-error:0.2059\u001b[0m\n",
      "\u001b[34m[03:07:50] src/tree/updater_prune.cc:74: tree pruning end, 1 roots, 22 extra nodes, 8 pruned nodes, max_depth=5\u001b[0m\n",
      "\u001b[34m[24]#011train-error:0.178467#011validation-error:0.2031\u001b[0m\n",
      "\u001b[34m[03:07:51] src/tree/updater_prune.cc:74: tree pruning end, 1 roots, 42 extra nodes, 6 pruned nodes, max_depth=5\u001b[0m\n",
      "\u001b[34m[25]#011train-error:0.174333#011validation-error:0.2025\u001b[0m\n",
      "\u001b[34m[03:07:52] src/tree/updater_prune.cc:74: tree pruning end, 1 roots, 14 extra nodes, 12 pruned nodes, max_depth=5\u001b[0m\n",
      "\u001b[34m[26]#011train-error:0.172733#011validation-error:0.1994\u001b[0m\n",
      "\u001b[34m[03:07:54] src/tree/updater_prune.cc:74: tree pruning end, 1 roots, 18 extra nodes, 12 pruned nodes, max_depth=5\u001b[0m\n",
      "\u001b[34m[27]#011train-error:0.1712#011validation-error:0.1992\u001b[0m\n",
      "\u001b[34m[03:07:55] src/tree/updater_prune.cc:74: tree pruning end, 1 roots, 18 extra nodes, 4 pruned nodes, max_depth=5\u001b[0m\n",
      "\u001b[34m[28]#011train-error:0.1698#011validation-error:0.199\u001b[0m\n",
      "\u001b[34m[03:07:56] src/tree/updater_prune.cc:74: tree pruning end, 1 roots, 32 extra nodes, 2 pruned nodes, max_depth=5\u001b[0m\n",
      "\u001b[34m[29]#011train-error:0.168067#011validation-error:0.198\u001b[0m\n",
      "\u001b[34m[03:07:57] src/tree/updater_prune.cc:74: tree pruning end, 1 roots, 20 extra nodes, 16 pruned nodes, max_depth=5\u001b[0m\n",
      "\u001b[34m[30]#011train-error:0.1662#011validation-error:0.1978\u001b[0m\n",
      "\u001b[34m[03:07:59] src/tree/updater_prune.cc:74: tree pruning end, 1 roots, 32 extra nodes, 4 pruned nodes, max_depth=5\u001b[0m\n",
      "\u001b[34m[31]#011train-error:0.162933#011validation-error:0.1943\u001b[0m\n",
      "\u001b[34m[03:08:00] src/tree/updater_prune.cc:74: tree pruning end, 1 roots, 28 extra nodes, 10 pruned nodes, max_depth=5\u001b[0m\n",
      "\u001b[34m[32]#011train-error:0.1626#011validation-error:0.1936\u001b[0m\n",
      "\u001b[34m[03:08:01] src/tree/updater_prune.cc:74: tree pruning end, 1 roots, 24 extra nodes, 12 pruned nodes, max_depth=5\u001b[0m\n",
      "\u001b[34m[33]#011train-error:0.162133#011validation-error:0.1912\u001b[0m\n",
      "\u001b[34m[03:08:02] src/tree/updater_prune.cc:74: tree pruning end, 1 roots, 34 extra nodes, 2 pruned nodes, max_depth=5\u001b[0m\n",
      "\u001b[34m[34]#011train-error:0.1612#011validation-error:0.1906\u001b[0m\n",
      "\u001b[34m[03:08:04] src/tree/updater_prune.cc:74: tree pruning end, 1 roots, 22 extra nodes, 12 pruned nodes, max_depth=5\u001b[0m\n",
      "\u001b[34m[35]#011train-error:0.159333#011validation-error:0.1891\u001b[0m\n",
      "\u001b[34m[03:08:05] src/tree/updater_prune.cc:74: tree pruning end, 1 roots, 26 extra nodes, 8 pruned nodes, max_depth=5\u001b[0m\n",
      "\u001b[34m[36]#011train-error:0.159667#011validation-error:0.1893\u001b[0m\n",
      "\u001b[34m[03:08:06] src/tree/updater_prune.cc:74: tree pruning end, 1 roots, 20 extra nodes, 8 pruned nodes, max_depth=5\u001b[0m\n",
      "\u001b[34m[37]#011train-error:0.157267#011validation-error:0.1881\u001b[0m\n",
      "\u001b[34m[03:08:08] src/tree/updater_prune.cc:74: tree pruning end, 1 roots, 22 extra nodes, 6 pruned nodes, max_depth=5\u001b[0m\n",
      "\u001b[34m[38]#011train-error:0.156733#011validation-error:0.1876\u001b[0m\n",
      "\u001b[34m[03:08:09] src/tree/updater_prune.cc:74: tree pruning end, 1 roots, 14 extra nodes, 12 pruned nodes, max_depth=5\u001b[0m\n",
      "\u001b[34m[39]#011train-error:0.154933#011validation-error:0.1865\u001b[0m\n",
      "\u001b[34m[03:08:10] src/tree/updater_prune.cc:74: tree pruning end, 1 roots, 22 extra nodes, 8 pruned nodes, max_depth=5\u001b[0m\n",
      "\u001b[34m[40]#011train-error:0.153667#011validation-error:0.1869\u001b[0m\n",
      "\u001b[34m[03:08:11] src/tree/updater_prune.cc:74: tree pruning end, 1 roots, 30 extra nodes, 6 pruned nodes, max_depth=5\u001b[0m\n",
      "\u001b[34m[41]#011train-error:0.1516#011validation-error:0.1858\u001b[0m\n",
      "\u001b[34m[03:08:13] src/tree/updater_prune.cc:74: tree pruning end, 1 roots, 16 extra nodes, 8 pruned nodes, max_depth=5\u001b[0m\n",
      "\u001b[34m[42]#011train-error:0.150733#011validation-error:0.1845\u001b[0m\n",
      "\u001b[34m[03:08:14] src/tree/updater_prune.cc:74: tree pruning end, 1 roots, 26 extra nodes, 8 pruned nodes, max_depth=5\u001b[0m\n",
      "\u001b[34m[43]#011train-error:0.1496#011validation-error:0.1842\u001b[0m\n",
      "\u001b[34m[03:08:15] src/tree/updater_prune.cc:74: tree pruning end, 1 roots, 22 extra nodes, 12 pruned nodes, max_depth=5\u001b[0m\n",
      "\u001b[34m[44]#011train-error:0.148333#011validation-error:0.184\u001b[0m\n",
      "\u001b[34m[03:08:17] src/tree/updater_prune.cc:74: tree pruning end, 1 roots, 26 extra nodes, 8 pruned nodes, max_depth=5\u001b[0m\n",
      "\u001b[34m[45]#011train-error:0.146933#011validation-error:0.1832\u001b[0m\n",
      "\u001b[34m[03:08:18] src/tree/updater_prune.cc:74: tree pruning end, 1 roots, 22 extra nodes, 6 pruned nodes, max_depth=5\u001b[0m\n",
      "\u001b[34m[46]#011train-error:0.145533#011validation-error:0.1807\u001b[0m\n",
      "\u001b[34m[03:08:19] src/tree/updater_prune.cc:74: tree pruning end, 1 roots, 16 extra nodes, 10 pruned nodes, max_depth=5\u001b[0m\n",
      "\u001b[34m[47]#011train-error:0.144067#011validation-error:0.1789\u001b[0m\n",
      "\u001b[34m[03:08:20] src/tree/updater_prune.cc:74: tree pruning end, 1 roots, 26 extra nodes, 14 pruned nodes, max_depth=5\u001b[0m\n",
      "\u001b[34m[48]#011train-error:0.143267#011validation-error:0.1776\u001b[0m\n",
      "\u001b[34m[03:08:22] src/tree/updater_prune.cc:74: tree pruning end, 1 roots, 28 extra nodes, 4 pruned nodes, max_depth=5\u001b[0m\n",
      "\u001b[34m[49]#011train-error:0.141333#011validation-error:0.1772\u001b[0m\n",
      "\u001b[34m[03:08:23] src/tree/updater_prune.cc:74: tree pruning end, 1 roots, 22 extra nodes, 8 pruned nodes, max_depth=5\u001b[0m\n",
      "\u001b[34m[50]#011train-error:0.140267#011validation-error:0.1772\u001b[0m\n",
      "\u001b[34m[03:08:24] src/tree/updater_prune.cc:74: tree pruning end, 1 roots, 14 extra nodes, 10 pruned nodes, max_depth=5\u001b[0m\n",
      "\u001b[34m[51]#011train-error:0.139133#011validation-error:0.1756\u001b[0m\n",
      "\u001b[34m[03:08:25] src/tree/updater_prune.cc:74: tree pruning end, 1 roots, 26 extra nodes, 10 pruned nodes, max_depth=5\u001b[0m\n",
      "\u001b[34m[52]#011train-error:0.139667#011validation-error:0.1739\u001b[0m\n",
      "\u001b[34m[03:08:27] src/tree/updater_prune.cc:74: tree pruning end, 1 roots, 26 extra nodes, 6 pruned nodes, max_depth=5\u001b[0m\n",
      "\u001b[34m[53]#011train-error:0.138667#011validation-error:0.1749\u001b[0m\n",
      "\u001b[34m[03:08:28] src/tree/updater_prune.cc:74: tree pruning end, 1 roots, 20 extra nodes, 10 pruned nodes, max_depth=5\u001b[0m\n",
      "\u001b[34m[54]#011train-error:0.137467#011validation-error:0.173\u001b[0m\n",
      "\u001b[34m[03:08:29] src/tree/updater_prune.cc:74: tree pruning end, 1 roots, 24 extra nodes, 16 pruned nodes, max_depth=5\u001b[0m\n",
      "\u001b[34m[55]#011train-error:0.136133#011validation-error:0.1727\u001b[0m\n",
      "\u001b[34m[03:08:31] src/tree/updater_prune.cc:74: tree pruning end, 1 roots, 16 extra nodes, 12 pruned nodes, max_depth=5\u001b[0m\n",
      "\u001b[34m[56]#011train-error:0.135867#011validation-error:0.1712\u001b[0m\n",
      "\u001b[34m[03:08:32] src/tree/updater_prune.cc:74: tree pruning end, 1 roots, 22 extra nodes, 8 pruned nodes, max_depth=5\u001b[0m\n",
      "\u001b[34m[57]#011train-error:0.1346#011validation-error:0.1707\u001b[0m\n",
      "\u001b[34m[03:08:33] src/tree/updater_prune.cc:74: tree pruning end, 1 roots, 22 extra nodes, 4 pruned nodes, max_depth=5\u001b[0m\n",
      "\u001b[34m[58]#011train-error:0.133067#011validation-error:0.1695\u001b[0m\n",
      "\u001b[34m[03:08:34] src/tree/updater_prune.cc:74: tree pruning end, 1 roots, 20 extra nodes, 12 pruned nodes, max_depth=5\u001b[0m\n",
      "\u001b[34m[59]#011train-error:0.1314#011validation-error:0.1694\u001b[0m\n",
      "\u001b[34m[03:08:36] src/tree/updater_prune.cc:74: tree pruning end, 1 roots, 24 extra nodes, 6 pruned nodes, max_depth=5\u001b[0m\n",
      "\u001b[34m[60]#011train-error:0.131#011validation-error:0.1683\u001b[0m\n",
      "\u001b[34m[03:08:37] src/tree/updater_prune.cc:74: tree pruning end, 1 roots, 14 extra nodes, 12 pruned nodes, max_depth=5\u001b[0m\n",
      "\u001b[34m[61]#011train-error:0.1306#011validation-error:0.167\u001b[0m\n",
      "\u001b[34m[03:08:38] src/tree/updater_prune.cc:74: tree pruning end, 1 roots, 40 extra nodes, 4 pruned nodes, max_depth=5\u001b[0m\n",
      "\u001b[34m[62]#011train-error:0.129067#011validation-error:0.1683\u001b[0m\n",
      "\u001b[34m[03:08:39] src/tree/updater_prune.cc:74: tree pruning end, 1 roots, 20 extra nodes, 8 pruned nodes, max_depth=5\u001b[0m\n",
      "\u001b[34m[63]#011train-error:0.1272#011validation-error:0.1672\u001b[0m\n",
      "\u001b[34m[03:08:41] src/tree/updater_prune.cc:74: tree pruning end, 1 roots, 16 extra nodes, 6 pruned nodes, max_depth=5\u001b[0m\n",
      "\u001b[34m[64]#011train-error:0.1258#011validation-error:0.1672\u001b[0m\n",
      "\u001b[34m[03:08:42] src/tree/updater_prune.cc:74: tree pruning end, 1 roots, 20 extra nodes, 12 pruned nodes, max_depth=5\u001b[0m\n",
      "\u001b[34m[65]#011train-error:0.1244#011validation-error:0.1651\u001b[0m\n",
      "\u001b[34m[03:08:43] src/tree/updater_prune.cc:74: tree pruning end, 1 roots, 12 extra nodes, 14 pruned nodes, max_depth=5\u001b[0m\n",
      "\u001b[34m[66]#011train-error:0.124667#011validation-error:0.1661\u001b[0m\n",
      "\u001b[34m[03:08:45] src/tree/updater_prune.cc:74: tree pruning end, 1 roots, 12 extra nodes, 6 pruned nodes, max_depth=5\u001b[0m\n",
      "\u001b[34m[67]#011train-error:0.123667#011validation-error:0.1661\u001b[0m\n",
      "\u001b[34m[03:08:46] src/tree/updater_prune.cc:74: tree pruning end, 1 roots, 16 extra nodes, 10 pruned nodes, max_depth=5\u001b[0m\n",
      "\u001b[34m[68]#011train-error:0.1234#011validation-error:0.1652\u001b[0m\n",
      "\u001b[34m[03:08:47] src/tree/updater_prune.cc:74: tree pruning end, 1 roots, 26 extra nodes, 4 pruned nodes, max_depth=5\u001b[0m\n",
      "\u001b[34m[69]#011train-error:0.122267#011validation-error:0.1654\u001b[0m\n",
      "\u001b[34m[03:08:48] src/tree/updater_prune.cc:74: tree pruning end, 1 roots, 26 extra nodes, 14 pruned nodes, max_depth=5\u001b[0m\n",
      "\u001b[34m[70]#011train-error:0.1208#011validation-error:0.1639\u001b[0m\n",
      "\u001b[34m[03:08:50] src/tree/updater_prune.cc:74: tree pruning end, 1 roots, 14 extra nodes, 2 pruned nodes, max_depth=5\u001b[0m\n",
      "\u001b[34m[71]#011train-error:0.120333#011validation-error:0.1636\u001b[0m\n",
      "\u001b[34m[03:08:51] src/tree/updater_prune.cc:74: tree pruning end, 1 roots, 10 extra nodes, 8 pruned nodes, max_depth=5\u001b[0m\n",
      "\u001b[34m[72]#011train-error:0.119933#011validation-error:0.1636\u001b[0m\n",
      "\u001b[34m[03:08:52] src/tree/updater_prune.cc:74: tree pruning end, 1 roots, 26 extra nodes, 14 pruned nodes, max_depth=5\u001b[0m\n",
      "\u001b[34m[73]#011train-error:0.118333#011validation-error:0.1649\u001b[0m\n",
      "\u001b[34m[03:08:54] src/tree/updater_prune.cc:74: tree pruning end, 1 roots, 16 extra nodes, 4 pruned nodes, max_depth=5\u001b[0m\n",
      "\u001b[34m[74]#011train-error:0.1186#011validation-error:0.1646\u001b[0m\n",
      "\u001b[34m[03:08:55] src/tree/updater_prune.cc:74: tree pruning end, 1 roots, 18 extra nodes, 12 pruned nodes, max_depth=5\u001b[0m\n",
      "\u001b[34m[75]#011train-error:0.118333#011validation-error:0.1632\u001b[0m\n",
      "\u001b[34m[03:08:56] src/tree/updater_prune.cc:74: tree pruning end, 1 roots, 16 extra nodes, 4 pruned nodes, max_depth=5\u001b[0m\n",
      "\u001b[34m[76]#011train-error:0.117933#011validation-error:0.1629\u001b[0m\n",
      "\u001b[34m[03:08:57] src/tree/updater_prune.cc:74: tree pruning end, 1 roots, 20 extra nodes, 2 pruned nodes, max_depth=5\u001b[0m\n",
      "\u001b[34m[77]#011train-error:0.1178#011validation-error:0.1646\u001b[0m\n",
      "\u001b[34m[03:08:59] src/tree/updater_prune.cc:74: tree pruning end, 1 roots, 16 extra nodes, 10 pruned nodes, max_depth=5\u001b[0m\n",
      "\u001b[34m[78]#011train-error:0.1176#011validation-error:0.1634\u001b[0m\n",
      "\u001b[34m[03:09:00] src/tree/updater_prune.cc:74: tree pruning end, 1 roots, 32 extra nodes, 6 pruned nodes, max_depth=5\u001b[0m\n",
      "\u001b[34m[79]#011train-error:0.1166#011validation-error:0.1623\u001b[0m\n",
      "\u001b[34m[03:09:01] src/tree/updater_prune.cc:74: tree pruning end, 1 roots, 10 extra nodes, 6 pruned nodes, max_depth=5\u001b[0m\n",
      "\u001b[34m[80]#011train-error:0.1158#011validation-error:0.1621\u001b[0m\n",
      "\u001b[34m[03:09:02] src/tree/updater_prune.cc:74: tree pruning end, 1 roots, 20 extra nodes, 10 pruned nodes, max_depth=5\u001b[0m\n",
      "\u001b[34m[81]#011train-error:0.1154#011validation-error:0.1629\u001b[0m\n",
      "\u001b[34m[03:09:04] src/tree/updater_prune.cc:74: tree pruning end, 1 roots, 18 extra nodes, 4 pruned nodes, max_depth=5\u001b[0m\n",
      "\u001b[34m[82]#011train-error:0.115267#011validation-error:0.1618\u001b[0m\n",
      "\u001b[34m[03:09:05] src/tree/updater_prune.cc:74: tree pruning end, 1 roots, 24 extra nodes, 2 pruned nodes, max_depth=5\u001b[0m\n",
      "\u001b[34m[83]#011train-error:0.115#011validation-error:0.1615\u001b[0m\n",
      "\u001b[34m[03:09:06] src/tree/updater_prune.cc:74: tree pruning end, 1 roots, 26 extra nodes, 14 pruned nodes, max_depth=5\u001b[0m\n",
      "\u001b[34m[84]#011train-error:0.113333#011validation-error:0.161\u001b[0m\n",
      "\u001b[34m[03:09:08] src/tree/updater_prune.cc:74: tree pruning end, 1 roots, 20 extra nodes, 6 pruned nodes, max_depth=5\u001b[0m\n",
      "\u001b[34m[85]#011train-error:0.113267#011validation-error:0.1625\u001b[0m\n",
      "\u001b[34m[03:09:09] src/tree/updater_prune.cc:74: tree pruning end, 1 roots, 14 extra nodes, 10 pruned nodes, max_depth=5\u001b[0m\n",
      "\u001b[34m[86]#011train-error:0.112733#011validation-error:0.1624\u001b[0m\n",
      "\u001b[34m[03:09:10] src/tree/updater_prune.cc:74: tree pruning end, 1 roots, 20 extra nodes, 4 pruned nodes, max_depth=5\u001b[0m\n",
      "\u001b[34m[87]#011train-error:0.112067#011validation-error:0.1611\u001b[0m\n",
      "\u001b[34m[03:09:11] src/tree/updater_prune.cc:74: tree pruning end, 1 roots, 26 extra nodes, 8 pruned nodes, max_depth=5\u001b[0m\n",
      "\u001b[34m[88]#011train-error:0.1108#011validation-error:0.1616\u001b[0m\n",
      "\u001b[34m[03:09:13] src/tree/updater_prune.cc:74: tree pruning end, 1 roots, 12 extra nodes, 10 pruned nodes, max_depth=5\u001b[0m\n",
      "\u001b[34m[89]#011train-error:0.111#011validation-error:0.1605\u001b[0m\n",
      "\u001b[34m[03:09:14] src/tree/updater_prune.cc:74: tree pruning end, 1 roots, 14 extra nodes, 10 pruned nodes, max_depth=5\u001b[0m\n",
      "\u001b[34m[90]#011train-error:0.111133#011validation-error:0.1597\u001b[0m\n",
      "\u001b[34m[03:09:15] src/tree/updater_prune.cc:74: tree pruning end, 1 roots, 24 extra nodes, 6 pruned nodes, max_depth=5\u001b[0m\n",
      "\u001b[34m[91]#011train-error:0.1098#011validation-error:0.1594\u001b[0m\n",
      "\u001b[34m[03:09:17] src/tree/updater_prune.cc:74: tree pruning end, 1 roots, 22 extra nodes, 6 pruned nodes, max_depth=5\u001b[0m\n",
      "\u001b[34m[92]#011train-error:0.1084#011validation-error:0.1595\u001b[0m\n",
      "\u001b[34m[03:09:18] src/tree/updater_prune.cc:74: tree pruning end, 1 roots, 16 extra nodes, 8 pruned nodes, max_depth=5\u001b[0m\n",
      "\u001b[34m[93]#011train-error:0.1078#011validation-error:0.159\u001b[0m\n",
      "\u001b[34m[03:09:19] src/tree/updater_prune.cc:74: tree pruning end, 1 roots, 24 extra nodes, 6 pruned nodes, max_depth=5\u001b[0m\n",
      "\u001b[34m[94]#011train-error:0.106933#011validation-error:0.1592\u001b[0m\n",
      "\u001b[34m[03:09:20] src/tree/updater_prune.cc:74: tree pruning end, 1 roots, 18 extra nodes, 10 pruned nodes, max_depth=5\u001b[0m\n",
      "\u001b[34m[95]#011train-error:0.106733#011validation-error:0.158\u001b[0m\n",
      "\u001b[34m[03:09:22] src/tree/updater_prune.cc:74: tree pruning end, 1 roots, 18 extra nodes, 8 pruned nodes, max_depth=5\u001b[0m\n",
      "\u001b[34m[96]#011train-error:0.107133#011validation-error:0.1584\u001b[0m\n",
      "\u001b[34m[03:09:23] src/tree/updater_prune.cc:74: tree pruning end, 1 roots, 32 extra nodes, 4 pruned nodes, max_depth=5\u001b[0m\n",
      "\u001b[34m[97]#011train-error:0.105533#011validation-error:0.1574\u001b[0m\n",
      "\u001b[34m[03:09:24] src/tree/updater_prune.cc:74: tree pruning end, 1 roots, 20 extra nodes, 2 pruned nodes, max_depth=5\u001b[0m\n",
      "\u001b[34m[98]#011train-error:0.105067#011validation-error:0.1574\u001b[0m\n",
      "\u001b[34m[03:09:26] src/tree/updater_prune.cc:74: tree pruning end, 1 roots, 20 extra nodes, 6 pruned nodes, max_depth=5\u001b[0m\n",
      "\u001b[34m[99]#011train-error:0.1034#011validation-error:0.1572\u001b[0m\n",
      "\u001b[34m[03:09:27] src/tree/updater_prune.cc:74: tree pruning end, 1 roots, 14 extra nodes, 6 pruned nodes, max_depth=5\u001b[0m\n",
      "\u001b[34m[100]#011train-error:0.102933#011validation-error:0.1572\u001b[0m\n",
      "\u001b[34m[03:09:28] src/tree/updater_prune.cc:74: tree pruning end, 1 roots, 20 extra nodes, 8 pruned nodes, max_depth=5\u001b[0m\n",
      "\u001b[34m[101]#011train-error:0.103133#011validation-error:0.1569\u001b[0m\n",
      "\u001b[34m[03:09:30] src/tree/updater_prune.cc:74: tree pruning end, 1 roots, 12 extra nodes, 6 pruned nodes, max_depth=5\u001b[0m\n",
      "\u001b[34m[102]#011train-error:0.1028#011validation-error:0.1566\u001b[0m\n",
      "\u001b[34m[03:09:31] src/tree/updater_prune.cc:74: tree pruning end, 1 roots, 28 extra nodes, 14 pruned nodes, max_depth=5\u001b[0m\n",
      "\u001b[34m[103]#011train-error:0.1024#011validation-error:0.1566\u001b[0m\n",
      "\u001b[34m[03:09:32] src/tree/updater_prune.cc:74: tree pruning end, 1 roots, 22 extra nodes, 22 pruned nodes, max_depth=5\u001b[0m\n",
      "\u001b[34m[104]#011train-error:0.1006#011validation-error:0.1563\u001b[0m\n",
      "\u001b[34m[03:09:33] src/tree/updater_prune.cc:74: tree pruning end, 1 roots, 10 extra nodes, 14 pruned nodes, max_depth=5\u001b[0m\n",
      "\u001b[34m[105]#011train-error:0.099667#011validation-error:0.1561\u001b[0m\n",
      "\u001b[34m[03:09:35] src/tree/updater_prune.cc:74: tree pruning end, 1 roots, 18 extra nodes, 8 pruned nodes, max_depth=5\u001b[0m\n",
      "\u001b[34m[106]#011train-error:0.099533#011validation-error:0.1545\u001b[0m\n",
      "\u001b[34m[03:09:36] src/tree/updater_prune.cc:74: tree pruning end, 1 roots, 30 extra nodes, 14 pruned nodes, max_depth=5\u001b[0m\n",
      "\u001b[34m[107]#011train-error:0.098933#011validation-error:0.1551\u001b[0m\n",
      "\u001b[34m[03:09:37] src/tree/updater_prune.cc:74: tree pruning end, 1 roots, 12 extra nodes, 8 pruned nodes, max_depth=5\u001b[0m\n",
      "\u001b[34m[108]#011train-error:0.098333#011validation-error:0.1547\u001b[0m\n",
      "\u001b[34m[03:09:39] src/tree/updater_prune.cc:74: tree pruning end, 1 roots, 20 extra nodes, 6 pruned nodes, max_depth=5\u001b[0m\n",
      "\u001b[34m[109]#011train-error:0.098133#011validation-error:0.1541\u001b[0m\n",
      "\u001b[34m[03:09:40] src/tree/updater_prune.cc:74: tree pruning end, 1 roots, 10 extra nodes, 8 pruned nodes, max_depth=5\u001b[0m\n",
      "\u001b[34m[110]#011train-error:0.098#011validation-error:0.1536\u001b[0m\n",
      "\u001b[34m[03:09:41] src/tree/updater_prune.cc:74: tree pruning end, 1 roots, 36 extra nodes, 4 pruned nodes, max_depth=5\u001b[0m\n",
      "\u001b[34m[111]#011train-error:0.0978#011validation-error:0.1539\u001b[0m\n",
      "\u001b[34m[03:09:42] src/tree/updater_prune.cc:74: tree pruning end, 1 roots, 16 extra nodes, 4 pruned nodes, max_depth=5\u001b[0m\n",
      "\u001b[34m[112]#011train-error:0.097467#011validation-error:0.1549\u001b[0m\n",
      "\u001b[34m[03:09:44] src/tree/updater_prune.cc:74: tree pruning end, 1 roots, 14 extra nodes, 6 pruned nodes, max_depth=5\u001b[0m\n",
      "\u001b[34m[113]#011train-error:0.097267#011validation-error:0.1545\u001b[0m\n",
      "\u001b[34m[03:09:45] src/tree/updater_prune.cc:74: tree pruning end, 1 roots, 20 extra nodes, 10 pruned nodes, max_depth=5\u001b[0m\n",
      "\u001b[34m[114]#011train-error:0.096733#011validation-error:0.1547\u001b[0m\n",
      "\u001b[34m[03:09:46] src/tree/updater_prune.cc:74: tree pruning end, 1 roots, 12 extra nodes, 4 pruned nodes, max_depth=5\u001b[0m\n",
      "\u001b[34m[115]#011train-error:0.097#011validation-error:0.1539\u001b[0m\n",
      "\u001b[34m[03:09:48] src/tree/updater_prune.cc:74: tree pruning end, 1 roots, 20 extra nodes, 10 pruned nodes, max_depth=5\u001b[0m\n",
      "\u001b[34m[116]#011train-error:0.096467#011validation-error:0.1531\u001b[0m\n",
      "\u001b[34m[03:09:49] src/tree/updater_prune.cc:74: tree pruning end, 1 roots, 14 extra nodes, 8 pruned nodes, max_depth=5\u001b[0m\n",
      "\u001b[34m[117]#011train-error:0.0962#011validation-error:0.1528\u001b[0m\n",
      "\u001b[34m[03:09:50] src/tree/updater_prune.cc:74: tree pruning end, 1 roots, 26 extra nodes, 10 pruned nodes, max_depth=5\u001b[0m\n",
      "\u001b[34m[118]#011train-error:0.095667#011validation-error:0.1535\u001b[0m\n",
      "\u001b[34m[03:09:51] src/tree/updater_prune.cc:74: tree pruning end, 1 roots, 16 extra nodes, 8 pruned nodes, max_depth=5\u001b[0m\n",
      "\u001b[34m[119]#011train-error:0.094933#011validation-error:0.1533\u001b[0m\n",
      "\u001b[34m[03:09:53] src/tree/updater_prune.cc:74: tree pruning end, 1 roots, 14 extra nodes, 6 pruned nodes, max_depth=5\u001b[0m\n",
      "\u001b[34m[120]#011train-error:0.094667#011validation-error:0.1527\u001b[0m\n",
      "\u001b[34m[03:09:54] src/tree/updater_prune.cc:74: tree pruning end, 1 roots, 12 extra nodes, 8 pruned nodes, max_depth=5\u001b[0m\n",
      "\u001b[34m[121]#011train-error:0.094333#011validation-error:0.1526\u001b[0m\n",
      "\u001b[34m[03:09:55] src/tree/updater_prune.cc:74: tree pruning end, 1 roots, 24 extra nodes, 20 pruned nodes, max_depth=5\u001b[0m\n",
      "\u001b[34m[122]#011train-error:0.093667#011validation-error:0.1522\u001b[0m\n",
      "\u001b[34m[03:09:56] src/tree/updater_prune.cc:74: tree pruning end, 1 roots, 10 extra nodes, 10 pruned nodes, max_depth=5\u001b[0m\n",
      "\u001b[34m[123]#011train-error:0.093467#011validation-error:0.1519\u001b[0m\n",
      "\u001b[34m[03:09:58] src/tree/updater_prune.cc:74: tree pruning end, 1 roots, 12 extra nodes, 18 pruned nodes, max_depth=5\u001b[0m\n",
      "\u001b[34m[124]#011train-error:0.0938#011validation-error:0.1515\u001b[0m\n",
      "\u001b[34m[03:09:59] src/tree/updater_prune.cc:74: tree pruning end, 1 roots, 24 extra nodes, 16 pruned nodes, max_depth=5\u001b[0m\n",
      "\u001b[34m[125]#011train-error:0.093#011validation-error:0.1509\u001b[0m\n",
      "\u001b[34m[03:10:00] src/tree/updater_prune.cc:74: tree pruning end, 1 roots, 12 extra nodes, 6 pruned nodes, max_depth=5\u001b[0m\n",
      "\u001b[34m[126]#011train-error:0.092067#011validation-error:0.1506\u001b[0m\n",
      "\u001b[34m[03:10:02] src/tree/updater_prune.cc:74: tree pruning end, 1 roots, 22 extra nodes, 10 pruned nodes, max_depth=5\u001b[0m\n",
      "\u001b[34m[127]#011train-error:0.092#011validation-error:0.1488\u001b[0m\n",
      "\u001b[34m[03:10:03] src/tree/updater_prune.cc:74: tree pruning end, 1 roots, 12 extra nodes, 8 pruned nodes, max_depth=5\u001b[0m\n",
      "\u001b[34m[128]#011train-error:0.091933#011validation-error:0.1489\u001b[0m\n",
      "\u001b[34m[03:10:04] src/tree/updater_prune.cc:74: tree pruning end, 1 roots, 10 extra nodes, 10 pruned nodes, max_depth=5\u001b[0m\n",
      "\u001b[34m[129]#011train-error:0.0918#011validation-error:0.1484\u001b[0m\n",
      "\u001b[34m[03:10:05] src/tree/updater_prune.cc:74: tree pruning end, 1 roots, 18 extra nodes, 8 pruned nodes, max_depth=5\u001b[0m\n",
      "\u001b[34m[130]#011train-error:0.091267#011validation-error:0.1486\u001b[0m\n",
      "\u001b[34m[03:10:07] src/tree/updater_prune.cc:74: tree pruning end, 1 roots, 10 extra nodes, 6 pruned nodes, max_depth=5\u001b[0m\n",
      "\u001b[34m[131]#011train-error:0.090933#011validation-error:0.1484\u001b[0m\n",
      "\u001b[34m[03:10:08] src/tree/updater_prune.cc:74: tree pruning end, 1 roots, 18 extra nodes, 4 pruned nodes, max_depth=5\u001b[0m\n",
      "\u001b[34m[132]#011train-error:0.0904#011validation-error:0.1482\u001b[0m\n",
      "\u001b[34m[03:10:09] src/tree/updater_prune.cc:74: tree pruning end, 1 roots, 16 extra nodes, 12 pruned nodes, max_depth=5\u001b[0m\n",
      "\u001b[34m[133]#011train-error:0.0894#011validation-error:0.1484\u001b[0m\n",
      "\u001b[34m[03:10:11] src/tree/updater_prune.cc:74: tree pruning end, 1 roots, 14 extra nodes, 8 pruned nodes, max_depth=5\u001b[0m\n",
      "\u001b[34m[134]#011train-error:0.0894#011validation-error:0.1483\u001b[0m\n",
      "\u001b[34m[03:10:12] src/tree/updater_prune.cc:74: tree pruning end, 1 roots, 14 extra nodes, 6 pruned nodes, max_depth=5\u001b[0m\n",
      "\u001b[34m[135]#011train-error:0.088933#011validation-error:0.1481\u001b[0m\n",
      "\u001b[34m[03:10:13] src/tree/updater_prune.cc:74: tree pruning end, 1 roots, 18 extra nodes, 14 pruned nodes, max_depth=5\u001b[0m\n",
      "\u001b[34m[136]#011train-error:0.088933#011validation-error:0.1478\u001b[0m\n",
      "\u001b[34m[03:10:14] src/tree/updater_prune.cc:74: tree pruning end, 1 roots, 24 extra nodes, 4 pruned nodes, max_depth=5\u001b[0m\n",
      "\u001b[34m[137]#011train-error:0.087667#011validation-error:0.1475\u001b[0m\n",
      "\u001b[34m[03:10:16] src/tree/updater_prune.cc:74: tree pruning end, 1 roots, 22 extra nodes, 2 pruned nodes, max_depth=5\u001b[0m\n",
      "\u001b[34m[138]#011train-error:0.086867#011validation-error:0.1475\u001b[0m\n",
      "\u001b[34m[03:10:17] src/tree/updater_prune.cc:74: tree pruning end, 1 roots, 14 extra nodes, 4 pruned nodes, max_depth=5\u001b[0m\n",
      "\u001b[34m[139]#011train-error:0.0868#011validation-error:0.1481\u001b[0m\n",
      "\u001b[34m[03:10:18] src/tree/updater_prune.cc:74: tree pruning end, 1 roots, 10 extra nodes, 4 pruned nodes, max_depth=5\u001b[0m\n",
      "\u001b[34m[140]#011train-error:0.086533#011validation-error:0.148\u001b[0m\n",
      "\u001b[34m[03:10:20] src/tree/updater_prune.cc:74: tree pruning end, 1 roots, 14 extra nodes, 6 pruned nodes, max_depth=5\u001b[0m\n",
      "\u001b[34m[141]#011train-error:0.085933#011validation-error:0.1481\u001b[0m\n",
      "\u001b[34m[03:10:21] src/tree/updater_prune.cc:74: tree pruning end, 1 roots, 22 extra nodes, 12 pruned nodes, max_depth=5\u001b[0m\n",
      "\u001b[34m[142]#011train-error:0.085467#011validation-error:0.148\u001b[0m\n",
      "\u001b[34m[03:10:22] src/tree/updater_prune.cc:74: tree pruning end, 1 roots, 14 extra nodes, 8 pruned nodes, max_depth=5\u001b[0m\n",
      "\u001b[34m[143]#011train-error:0.085267#011validation-error:0.1477\u001b[0m\n",
      "\u001b[34m[03:10:23] src/tree/updater_prune.cc:74: tree pruning end, 1 roots, 28 extra nodes, 2 pruned nodes, max_depth=5\u001b[0m\n",
      "\u001b[34m[144]#011train-error:0.0848#011validation-error:0.1476\u001b[0m\n",
      "\u001b[34m[03:10:25] src/tree/updater_prune.cc:74: tree pruning end, 1 roots, 22 extra nodes, 10 pruned nodes, max_depth=5\u001b[0m\n",
      "\u001b[34m[145]#011train-error:0.0846#011validation-error:0.1462\u001b[0m\n",
      "\u001b[34m[03:10:26] src/tree/updater_prune.cc:74: tree pruning end, 1 roots, 28 extra nodes, 10 pruned nodes, max_depth=5\u001b[0m\n",
      "\u001b[34m[146]#011train-error:0.083467#011validation-error:0.1454\u001b[0m\n",
      "\u001b[34m[03:10:27] src/tree/updater_prune.cc:74: tree pruning end, 1 roots, 14 extra nodes, 10 pruned nodes, max_depth=5\u001b[0m\n",
      "\u001b[34m[147]#011train-error:0.083067#011validation-error:0.1457\u001b[0m\n",
      "\u001b[34m[03:10:28] src/tree/updater_prune.cc:74: tree pruning end, 1 roots, 10 extra nodes, 6 pruned nodes, max_depth=5\u001b[0m\n",
      "\u001b[34m[148]#011train-error:0.083133#011validation-error:0.1464\u001b[0m\n",
      "\u001b[34m[03:10:30] src/tree/updater_prune.cc:74: tree pruning end, 1 roots, 10 extra nodes, 4 pruned nodes, max_depth=5\u001b[0m\n",
      "\u001b[34m[149]#011train-error:0.083267#011validation-error:0.1461\u001b[0m\n",
      "\u001b[34m[03:10:31] src/tree/updater_prune.cc:74: tree pruning end, 1 roots, 16 extra nodes, 4 pruned nodes, max_depth=5\u001b[0m\n",
      "\u001b[34m[150]#011train-error:0.083#011validation-error:0.1461\u001b[0m\n",
      "\u001b[34m[03:10:32] src/tree/updater_prune.cc:74: tree pruning end, 1 roots, 16 extra nodes, 10 pruned nodes, max_depth=5\u001b[0m\n",
      "\u001b[34m[151]#011train-error:0.0828#011validation-error:0.1451\u001b[0m\n",
      "\u001b[34m[03:10:34] src/tree/updater_prune.cc:74: tree pruning end, 1 roots, 26 extra nodes, 2 pruned nodes, max_depth=5\u001b[0m\n",
      "\u001b[34m[152]#011train-error:0.081467#011validation-error:0.1458\u001b[0m\n",
      "\u001b[34m[03:10:35] src/tree/updater_prune.cc:74: tree pruning end, 1 roots, 16 extra nodes, 6 pruned nodes, max_depth=5\u001b[0m\n",
      "\u001b[34m[153]#011train-error:0.0814#011validation-error:0.1463\u001b[0m\n",
      "\u001b[34m[03:10:36] src/tree/updater_prune.cc:74: tree pruning end, 1 roots, 12 extra nodes, 6 pruned nodes, max_depth=5\u001b[0m\n",
      "\u001b[34m[154]#011train-error:0.0816#011validation-error:0.1456\u001b[0m\n",
      "\u001b[34m[03:10:37] src/tree/updater_prune.cc:74: tree pruning end, 1 roots, 10 extra nodes, 8 pruned nodes, max_depth=5\u001b[0m\n",
      "\u001b[34m[155]#011train-error:0.0814#011validation-error:0.1453\u001b[0m\n",
      "\u001b[34m[03:10:39] src/tree/updater_prune.cc:74: tree pruning end, 1 roots, 18 extra nodes, 6 pruned nodes, max_depth=5\u001b[0m\n",
      "\u001b[34m[156]#011train-error:0.081533#011validation-error:0.1456\u001b[0m\n",
      "\u001b[34m[03:10:40] src/tree/updater_prune.cc:74: tree pruning end, 1 roots, 12 extra nodes, 2 pruned nodes, max_depth=5\u001b[0m\n",
      "\u001b[34m[157]#011train-error:0.0812#011validation-error:0.146\u001b[0m\n",
      "\u001b[34m[03:10:41] src/tree/updater_prune.cc:74: tree pruning end, 1 roots, 14 extra nodes, 10 pruned nodes, max_depth=5\u001b[0m\n",
      "\u001b[34m[158]#011train-error:0.0808#011validation-error:0.1457\u001b[0m\n",
      "\u001b[34m[03:10:43] src/tree/updater_prune.cc:74: tree pruning end, 1 roots, 10 extra nodes, 8 pruned nodes, max_depth=5\u001b[0m\n",
      "\u001b[34m[159]#011train-error:0.080733#011validation-error:0.1452\u001b[0m\n",
      "\u001b[34m[03:10:44] src/tree/updater_prune.cc:74: tree pruning end, 1 roots, 14 extra nodes, 6 pruned nodes, max_depth=5\u001b[0m\n",
      "\u001b[34m[160]#011train-error:0.080133#011validation-error:0.1448\u001b[0m\n",
      "\u001b[34m[03:10:45] src/tree/updater_prune.cc:74: tree pruning end, 1 roots, 26 extra nodes, 6 pruned nodes, max_depth=5\u001b[0m\n",
      "\u001b[34m[161]#011train-error:0.079333#011validation-error:0.1443\u001b[0m\n",
      "\u001b[34m[03:10:47] src/tree/updater_prune.cc:74: tree pruning end, 1 roots, 10 extra nodes, 6 pruned nodes, max_depth=5\u001b[0m\n",
      "\u001b[34m[162]#011train-error:0.079467#011validation-error:0.1447\u001b[0m\n",
      "\u001b[34m[03:10:48] src/tree/updater_prune.cc:74: tree pruning end, 1 roots, 22 extra nodes, 2 pruned nodes, max_depth=5\u001b[0m\n",
      "\u001b[34m[163]#011train-error:0.079067#011validation-error:0.1449\u001b[0m\n",
      "\u001b[34m[03:10:49] src/tree/updater_prune.cc:74: tree pruning end, 1 roots, 10 extra nodes, 4 pruned nodes, max_depth=5\u001b[0m\n",
      "\u001b[34m[164]#011train-error:0.079133#011validation-error:0.1452\u001b[0m\n",
      "\u001b[34m[03:10:50] src/tree/updater_prune.cc:74: tree pruning end, 1 roots, 10 extra nodes, 8 pruned nodes, max_depth=5\u001b[0m\n",
      "\u001b[34m[165]#011train-error:0.0794#011validation-error:0.1451\u001b[0m\n",
      "\u001b[34m[03:10:52] src/tree/updater_prune.cc:74: tree pruning end, 1 roots, 24 extra nodes, 12 pruned nodes, max_depth=5\u001b[0m\n",
      "\u001b[34m[166]#011train-error:0.0786#011validation-error:0.1444\u001b[0m\n",
      "\u001b[34m[03:10:53] src/tree/updater_prune.cc:74: tree pruning end, 1 roots, 12 extra nodes, 8 pruned nodes, max_depth=5\u001b[0m\n",
      "\u001b[34m[167]#011train-error:0.078267#011validation-error:0.1433\u001b[0m\n",
      "\u001b[34m[03:10:54] src/tree/updater_prune.cc:74: tree pruning end, 1 roots, 18 extra nodes, 12 pruned nodes, max_depth=5\u001b[0m\n",
      "\u001b[34m[168]#011train-error:0.077533#011validation-error:0.1435\u001b[0m\n",
      "\u001b[34m[03:10:55] src/tree/updater_prune.cc:74: tree pruning end, 1 roots, 22 extra nodes, 16 pruned nodes, max_depth=5\u001b[0m\n",
      "\u001b[34m[169]#011train-error:0.077133#011validation-error:0.1423\u001b[0m\n",
      "\u001b[34m[03:10:57] src/tree/updater_prune.cc:74: tree pruning end, 1 roots, 10 extra nodes, 4 pruned nodes, max_depth=5\u001b[0m\n",
      "\u001b[34m[170]#011train-error:0.077333#011validation-error:0.1421\u001b[0m\n",
      "\u001b[34m[03:10:58] src/tree/updater_prune.cc:74: tree pruning end, 1 roots, 14 extra nodes, 4 pruned nodes, max_depth=5\u001b[0m\n",
      "\u001b[34m[171]#011train-error:0.076933#011validation-error:0.1427\u001b[0m\n",
      "\u001b[34m[03:10:59] src/tree/updater_prune.cc:74: tree pruning end, 1 roots, 10 extra nodes, 2 pruned nodes, max_depth=5\u001b[0m\n",
      "\u001b[34m[172]#011train-error:0.076733#011validation-error:0.1422\u001b[0m\n",
      "\u001b[34m[03:11:01] src/tree/updater_prune.cc:74: tree pruning end, 1 roots, 18 extra nodes, 10 pruned nodes, max_depth=5\u001b[0m\n",
      "\u001b[34m[173]#011train-error:0.075867#011validation-error:0.1415\u001b[0m\n",
      "\u001b[34m[03:11:02] src/tree/updater_prune.cc:74: tree pruning end, 1 roots, 12 extra nodes, 4 pruned nodes, max_depth=5\u001b[0m\n",
      "\u001b[34m[174]#011train-error:0.0762#011validation-error:0.1414\u001b[0m\n",
      "\u001b[34m[03:11:03] src/tree/updater_prune.cc:74: tree pruning end, 1 roots, 14 extra nodes, 4 pruned nodes, max_depth=5\u001b[0m\n",
      "\u001b[34m[175]#011train-error:0.075667#011validation-error:0.1411\u001b[0m\n",
      "\u001b[34m[03:11:04] src/tree/updater_prune.cc:74: tree pruning end, 1 roots, 16 extra nodes, 2 pruned nodes, max_depth=5\u001b[0m\n",
      "\u001b[34m[176]#011train-error:0.075067#011validation-error:0.1412\u001b[0m\n",
      "\u001b[34m[03:11:06] src/tree/updater_prune.cc:74: tree pruning end, 1 roots, 12 extra nodes, 10 pruned nodes, max_depth=5\u001b[0m\n",
      "\u001b[34m[177]#011train-error:0.074533#011validation-error:0.1415\u001b[0m\n",
      "\u001b[34m[03:11:07] src/tree/updater_prune.cc:74: tree pruning end, 1 roots, 10 extra nodes, 4 pruned nodes, max_depth=5\u001b[0m\n",
      "\u001b[34m[178]#011train-error:0.074467#011validation-error:0.1415\u001b[0m\n",
      "\u001b[34m[03:11:08] src/tree/updater_prune.cc:74: tree pruning end, 1 roots, 20 extra nodes, 10 pruned nodes, max_depth=5\u001b[0m\n",
      "\u001b[34m[179]#011train-error:0.074133#011validation-error:0.1408\u001b[0m\n",
      "\u001b[34m[03:11:09] src/tree/updater_prune.cc:74: tree pruning end, 1 roots, 28 extra nodes, 8 pruned nodes, max_depth=5\u001b[0m\n",
      "\u001b[34m[180]#011train-error:0.073333#011validation-error:0.14\u001b[0m\n",
      "\u001b[34m[03:11:11] src/tree/updater_prune.cc:74: tree pruning end, 1 roots, 24 extra nodes, 10 pruned nodes, max_depth=5\u001b[0m\n",
      "\u001b[34m[181]#011train-error:0.072867#011validation-error:0.1403\u001b[0m\n",
      "\u001b[34m[03:11:12] src/tree/updater_prune.cc:74: tree pruning end, 1 roots, 20 extra nodes, 8 pruned nodes, max_depth=5\u001b[0m\n",
      "\u001b[34m[182]#011train-error:0.073267#011validation-error:0.1409\u001b[0m\n",
      "\u001b[34m[03:11:13] src/tree/updater_prune.cc:74: tree pruning end, 1 roots, 14 extra nodes, 6 pruned nodes, max_depth=5\u001b[0m\n",
      "\u001b[34m[183]#011train-error:0.073333#011validation-error:0.1411\u001b[0m\n",
      "\u001b[34m[03:11:15] src/tree/updater_prune.cc:74: tree pruning end, 1 roots, 10 extra nodes, 4 pruned nodes, max_depth=5\u001b[0m\n",
      "\u001b[34m[184]#011train-error:0.073133#011validation-error:0.1408\u001b[0m\n",
      "\u001b[34m[03:11:16] src/tree/updater_prune.cc:74: tree pruning end, 1 roots, 22 extra nodes, 18 pruned nodes, max_depth=5\u001b[0m\n",
      "\u001b[34m[185]#011train-error:0.072333#011validation-error:0.1401\u001b[0m\n",
      "\u001b[34m[03:11:17] src/tree/updater_prune.cc:74: tree pruning end, 1 roots, 18 extra nodes, 14 pruned nodes, max_depth=5\u001b[0m\n",
      "\u001b[34m[186]#011train-error:0.0728#011validation-error:0.1397\u001b[0m\n",
      "\u001b[34m[03:11:19] src/tree/updater_prune.cc:74: tree pruning end, 1 roots, 12 extra nodes, 6 pruned nodes, max_depth=5\u001b[0m\n",
      "\u001b[34m[187]#011train-error:0.072667#011validation-error:0.1392\u001b[0m\n",
      "\u001b[34m[03:11:20] src/tree/updater_prune.cc:74: tree pruning end, 1 roots, 18 extra nodes, 8 pruned nodes, max_depth=5\u001b[0m\n",
      "\u001b[34m[188]#011train-error:0.072467#011validation-error:0.1396\u001b[0m\n",
      "\u001b[34m[03:11:21] src/tree/updater_prune.cc:74: tree pruning end, 1 roots, 14 extra nodes, 8 pruned nodes, max_depth=5\u001b[0m\n",
      "\u001b[34m[189]#011train-error:0.072733#011validation-error:0.1396\u001b[0m\n",
      "\u001b[34m[03:11:22] src/tree/updater_prune.cc:74: tree pruning end, 1 roots, 18 extra nodes, 12 pruned nodes, max_depth=5\u001b[0m\n",
      "\u001b[34m[190]#011train-error:0.071667#011validation-error:0.1403\u001b[0m\n",
      "\u001b[34m[03:11:24] src/tree/updater_prune.cc:74: tree pruning end, 1 roots, 20 extra nodes, 8 pruned nodes, max_depth=5\u001b[0m\n",
      "\u001b[34m[191]#011train-error:0.0718#011validation-error:0.1395\u001b[0m\n",
      "\u001b[34m[03:11:25] src/tree/updater_prune.cc:74: tree pruning end, 1 roots, 10 extra nodes, 10 pruned nodes, max_depth=5\u001b[0m\n",
      "\u001b[34m[192]#011train-error:0.071733#011validation-error:0.1396\u001b[0m\n",
      "\u001b[34m[03:11:26] src/tree/updater_prune.cc:74: tree pruning end, 1 roots, 10 extra nodes, 10 pruned nodes, max_depth=5\u001b[0m\n",
      "\u001b[34m[193]#011train-error:0.0716#011validation-error:0.1399\u001b[0m\n",
      "\u001b[34m[03:11:27] src/tree/updater_prune.cc:74: tree pruning end, 1 roots, 10 extra nodes, 6 pruned nodes, max_depth=5\u001b[0m\n",
      "\u001b[34m[194]#011train-error:0.071333#011validation-error:0.1403\u001b[0m\n",
      "\u001b[34m[03:11:29] src/tree/updater_prune.cc:74: tree pruning end, 1 roots, 10 extra nodes, 6 pruned nodes, max_depth=5\u001b[0m\n",
      "\u001b[34m[195]#011train-error:0.071133#011validation-error:0.1401\u001b[0m\n",
      "\u001b[34m[03:11:30] src/tree/updater_prune.cc:74: tree pruning end, 1 roots, 12 extra nodes, 10 pruned nodes, max_depth=5\u001b[0m\n",
      "\u001b[34m[196]#011train-error:0.071133#011validation-error:0.1395\u001b[0m\n",
      "\u001b[34m[03:11:31] src/tree/updater_prune.cc:74: tree pruning end, 1 roots, 18 extra nodes, 12 pruned nodes, max_depth=5\u001b[0m\n",
      "\u001b[34m[197]#011train-error:0.071133#011validation-error:0.1398\u001b[0m\n",
      "\u001b[34mStopping. Best iteration:\u001b[0m\n",
      "\u001b[34m[187]#011train-error:0.072667#011validation-error:0.1392\n",
      "\u001b[0m\n",
      "\n",
      "2020-09-26 03:12:22 Uploading - Uploading generated training model\n",
      "2020-09-26 03:12:22 Completed - Training job completed\n",
      "Training seconds: 363\n",
      "Billable seconds: 363\n"
     ]
    }
   ],
   "source": [
    "xgb.fit({'train': s3_input_train, 'validation': s3_input_validation})"
   ]
  },
  {
   "cell_type": "markdown",
   "metadata": {},
   "source": [
    "## Step 5: Testing the model\n",
    "\n",
    "Now that we've fit our XGBoost model, it's time to see how well it performs. To do this we will use SageMakers Batch Transform functionality. Batch Transform is a convenient way to perform inference on a large dataset in a way that is not realtime. That is, we don't necessarily need to use our model's results immediately and instead we can perform inference on a large number of samples. An example of this in industry might be performing an end of month report. This method of inference can also be useful to us as it means that we can perform inference on our entire test set. \n",
    "\n",
    "To perform a Batch Transformation we need to first create a transformer objects from our trained estimator object."
   ]
  },
  {
   "cell_type": "code",
   "execution_count": 54,
   "metadata": {},
   "outputs": [
    {
     "name": "stderr",
     "output_type": "stream",
     "text": [
      "Parameter image will be renamed to image_uri in SageMaker Python SDK v2.\n"
     ]
    }
   ],
   "source": [
    "xgb_transformer = xgb.transformer(instance_count = 1, instance_type = 'ml.m4.xlarge')"
   ]
  },
  {
   "cell_type": "markdown",
   "metadata": {},
   "source": [
    "Next we actually perform the transform job. When doing so we need to make sure to specify the type of data we are sending so that it is serialized correctly in the background. In our case we are providing our model with csv data so we specify `text/csv`. Also, if the test data that we have provided is too large to process all at once then we need to specify how the data file should be split up. Since each line is a single entry in our data set we tell SageMaker that it can split the input on each line."
   ]
  },
  {
   "cell_type": "code",
   "execution_count": 55,
   "metadata": {},
   "outputs": [],
   "source": [
    "xgb_transformer.transform(test_location, content_type='text/csv', split_type='Line')"
   ]
  },
  {
   "cell_type": "markdown",
   "metadata": {},
   "source": [
    "Currently the transform job is running but it is doing so in the background. Since we wish to wait until the transform job is done and we would like a bit of feedback we can run the `wait()` method."
   ]
  },
  {
   "cell_type": "code",
   "execution_count": 56,
   "metadata": {},
   "outputs": [
    {
     "name": "stdout",
     "output_type": "stream",
     "text": [
      "...............................\u001b[32m2020-09-26T03:17:46.286:[sagemaker logs]: MaxConcurrentTransforms=4, MaxPayloadInMB=6, BatchStrategy=MULTI_RECORD\u001b[0m\n",
      "\u001b[34mArguments: serve\u001b[0m\n",
      "\u001b[34m[2020-09-26 03:17:46 +0000] [1] [INFO] Starting gunicorn 19.7.1\u001b[0m\n",
      "\u001b[34m[2020-09-26 03:17:46 +0000] [1] [INFO] Listening at: http://0.0.0.0:8080 (1)\u001b[0m\n",
      "\u001b[35mArguments: serve\u001b[0m\n",
      "\u001b[35m[2020-09-26 03:17:46 +0000] [1] [INFO] Starting gunicorn 19.7.1\u001b[0m\n",
      "\u001b[35m[2020-09-26 03:17:46 +0000] [1] [INFO] Listening at: http://0.0.0.0:8080 (1)\u001b[0m\n",
      "\u001b[34m[2020-09-26 03:17:46 +0000] [1] [INFO] Using worker: gevent\u001b[0m\n",
      "\u001b[34m[2020-09-26 03:17:46 +0000] [37] [INFO] Booting worker with pid: 37\u001b[0m\n",
      "\u001b[34m[2020-09-26 03:17:46 +0000] [38] [INFO] Booting worker with pid: 38\u001b[0m\n",
      "\u001b[34m[2020-09-26 03:17:46 +0000] [39] [INFO] Booting worker with pid: 39\u001b[0m\n",
      "\u001b[34m[2020-09-26:03:17:46:INFO] Model loaded successfully for worker : 37\u001b[0m\n",
      "\u001b[34m[2020-09-26:03:17:46:INFO] Model loaded successfully for worker : 38\u001b[0m\n",
      "\u001b[34m[2020-09-26 03:17:46 +0000] [40] [INFO] Booting worker with pid: 40\u001b[0m\n",
      "\u001b[34m[2020-09-26:03:17:46:INFO] Model loaded successfully for worker : 39\u001b[0m\n",
      "\u001b[34m[2020-09-26:03:17:46:INFO] Model loaded successfully for worker : 40\u001b[0m\n",
      "\u001b[34m[2020-09-26:03:17:46:INFO] Sniff delimiter as ','\u001b[0m\n",
      "\u001b[34m[2020-09-26:03:17:46:INFO] Determined delimiter of CSV input is ','\u001b[0m\n",
      "\u001b[34m[2020-09-26:03:17:46:INFO] Sniff delimiter as ','\u001b[0m\n",
      "\u001b[34m[2020-09-26:03:17:46:INFO] Determined delimiter of CSV input is ','\u001b[0m\n",
      "\u001b[34m[2020-09-26:03:17:46:INFO] Sniff delimiter as ','\u001b[0m\n",
      "\u001b[34m[2020-09-26:03:17:46:INFO] Determined delimiter of CSV input is ','\u001b[0m\n",
      "\u001b[34m[2020-09-26:03:17:48:INFO] Sniff delimiter as ','\u001b[0m\n",
      "\u001b[34m[2020-09-26:03:17:48:INFO] Determined delimiter of CSV input is ','\u001b[0m\n",
      "\u001b[34m[2020-09-26:03:17:48:INFO] Sniff delimiter as ','\u001b[0m\n",
      "\u001b[34m[2020-09-26:03:17:48:INFO] Determined delimiter of CSV input is ','\u001b[0m\n",
      "\u001b[34m[2020-09-26:03:17:48:INFO] Sniff delimiter as ','\u001b[0m\n",
      "\u001b[34m[2020-09-26:03:17:48:INFO] Determined delimiter of CSV input is ','\u001b[0m\n",
      "\u001b[35m[2020-09-26 03:17:46 +0000] [1] [INFO] Using worker: gevent\u001b[0m\n",
      "\u001b[35m[2020-09-26 03:17:46 +0000] [37] [INFO] Booting worker with pid: 37\u001b[0m\n",
      "\u001b[35m[2020-09-26 03:17:46 +0000] [38] [INFO] Booting worker with pid: 38\u001b[0m\n",
      "\u001b[35m[2020-09-26 03:17:46 +0000] [39] [INFO] Booting worker with pid: 39\u001b[0m\n",
      "\u001b[35m[2020-09-26:03:17:46:INFO] Model loaded successfully for worker : 37\u001b[0m\n",
      "\u001b[35m[2020-09-26:03:17:46:INFO] Model loaded successfully for worker : 38\u001b[0m\n",
      "\u001b[35m[2020-09-26 03:17:46 +0000] [40] [INFO] Booting worker with pid: 40\u001b[0m\n",
      "\u001b[35m[2020-09-26:03:17:46:INFO] Model loaded successfully for worker : 39\u001b[0m\n",
      "\u001b[35m[2020-09-26:03:17:46:INFO] Model loaded successfully for worker : 40\u001b[0m\n",
      "\u001b[35m[2020-09-26:03:17:46:INFO] Sniff delimiter as ','\u001b[0m\n",
      "\u001b[35m[2020-09-26:03:17:46:INFO] Determined delimiter of CSV input is ','\u001b[0m\n",
      "\u001b[35m[2020-09-26:03:17:46:INFO] Sniff delimiter as ','\u001b[0m\n",
      "\u001b[35m[2020-09-26:03:17:46:INFO] Determined delimiter of CSV input is ','\u001b[0m\n",
      "\u001b[35m[2020-09-26:03:17:46:INFO] Sniff delimiter as ','\u001b[0m\n",
      "\u001b[35m[2020-09-26:03:17:46:INFO] Determined delimiter of CSV input is ','\u001b[0m\n",
      "\u001b[35m[2020-09-26:03:17:48:INFO] Sniff delimiter as ','\u001b[0m\n",
      "\u001b[35m[2020-09-26:03:17:48:INFO] Determined delimiter of CSV input is ','\u001b[0m\n",
      "\u001b[35m[2020-09-26:03:17:48:INFO] Sniff delimiter as ','\u001b[0m\n",
      "\u001b[35m[2020-09-26:03:17:48:INFO] Determined delimiter of CSV input is ','\u001b[0m\n",
      "\u001b[35m[2020-09-26:03:17:48:INFO] Sniff delimiter as ','\u001b[0m\n",
      "\u001b[35m[2020-09-26:03:17:48:INFO] Determined delimiter of CSV input is ','\u001b[0m\n",
      "\u001b[34m[2020-09-26:03:17:50:INFO] Sniff delimiter as ','\u001b[0m\n",
      "\u001b[34m[2020-09-26:03:17:50:INFO] Determined delimiter of CSV input is ','\u001b[0m\n",
      "\u001b[34m[2020-09-26:03:17:50:INFO] Sniff delimiter as ','\u001b[0m\n",
      "\u001b[34m[2020-09-26:03:17:50:INFO] Determined delimiter of CSV input is ','\u001b[0m\n",
      "\u001b[35m[2020-09-26:03:17:50:INFO] Sniff delimiter as ','\u001b[0m\n",
      "\u001b[35m[2020-09-26:03:17:50:INFO] Determined delimiter of CSV input is ','\u001b[0m\n",
      "\u001b[35m[2020-09-26:03:17:50:INFO] Sniff delimiter as ','\u001b[0m\n",
      "\u001b[35m[2020-09-26:03:17:50:INFO] Determined delimiter of CSV input is ','\u001b[0m\n",
      "\u001b[34m[2020-09-26:03:17:50:INFO] Sniff delimiter as ','\u001b[0m\n",
      "\u001b[34m[2020-09-26:03:17:50:INFO] Determined delimiter of CSV input is ','\u001b[0m\n",
      "\u001b[34m[2020-09-26:03:17:50:INFO] Sniff delimiter as ','\u001b[0m\n",
      "\u001b[34m[2020-09-26:03:17:50:INFO] Determined delimiter of CSV input is ','\u001b[0m\n",
      "\u001b[35m[2020-09-26:03:17:50:INFO] Sniff delimiter as ','\u001b[0m\n",
      "\u001b[35m[2020-09-26:03:17:50:INFO] Determined delimiter of CSV input is ','\u001b[0m\n",
      "\u001b[35m[2020-09-26:03:17:50:INFO] Sniff delimiter as ','\u001b[0m\n",
      "\u001b[35m[2020-09-26:03:17:50:INFO] Determined delimiter of CSV input is ','\u001b[0m\n",
      "\u001b[34m[2020-09-26:03:17:52:INFO] Sniff delimiter as ','\u001b[0m\n",
      "\u001b[35m[2020-09-26:03:17:52:INFO] Sniff delimiter as ','\u001b[0m\n",
      "\u001b[34m[2020-09-26:03:17:52:INFO] Determined delimiter of CSV input is ','\u001b[0m\n",
      "\u001b[35m[2020-09-26:03:17:52:INFO] Determined delimiter of CSV input is ','\u001b[0m\n",
      "\u001b[34m[2020-09-26:03:17:52:INFO] Sniff delimiter as ','\u001b[0m\n",
      "\u001b[34m[2020-09-26:03:17:52:INFO] Determined delimiter of CSV input is ','\u001b[0m\n",
      "\u001b[34m[2020-09-26:03:17:53:INFO] Sniff delimiter as ','\u001b[0m\n",
      "\u001b[34m[2020-09-26:03:17:53:INFO] Determined delimiter of CSV input is ','\u001b[0m\n",
      "\u001b[34m[2020-09-26:03:17:53:INFO] Sniff delimiter as ','\u001b[0m\n",
      "\u001b[34m[2020-09-26:03:17:53:INFO] Determined delimiter of CSV input is ','\u001b[0m\n",
      "\u001b[35m[2020-09-26:03:17:52:INFO] Sniff delimiter as ','\u001b[0m\n",
      "\u001b[35m[2020-09-26:03:17:52:INFO] Determined delimiter of CSV input is ','\u001b[0m\n",
      "\u001b[35m[2020-09-26:03:17:53:INFO] Sniff delimiter as ','\u001b[0m\n",
      "\u001b[35m[2020-09-26:03:17:53:INFO] Determined delimiter of CSV input is ','\u001b[0m\n",
      "\u001b[35m[2020-09-26:03:17:53:INFO] Sniff delimiter as ','\u001b[0m\n",
      "\u001b[35m[2020-09-26:03:17:53:INFO] Determined delimiter of CSV input is ','\u001b[0m\n",
      "\u001b[34m[2020-09-26:03:17:55:INFO] Sniff delimiter as ','\u001b[0m\n",
      "\u001b[34m[2020-09-26:03:17:55:INFO] Determined delimiter of CSV input is ','\u001b[0m\n",
      "\u001b[34m[2020-09-26:03:17:55:INFO] Sniff delimiter as ','\u001b[0m\n",
      "\u001b[34m[2020-09-26:03:17:55:INFO] Determined delimiter of CSV input is ','\u001b[0m\n",
      "\u001b[35m[2020-09-26:03:17:55:INFO] Sniff delimiter as ','\u001b[0m\n",
      "\u001b[35m[2020-09-26:03:17:55:INFO] Determined delimiter of CSV input is ','\u001b[0m\n",
      "\u001b[35m[2020-09-26:03:17:55:INFO] Sniff delimiter as ','\u001b[0m\n",
      "\u001b[35m[2020-09-26:03:17:55:INFO] Determined delimiter of CSV input is ','\u001b[0m\n",
      "\u001b[34m[2020-09-26:03:17:55:INFO] Sniff delimiter as ','\u001b[0m\n",
      "\u001b[34m[2020-09-26:03:17:55:INFO] Determined delimiter of CSV input is ','\u001b[0m\n",
      "\u001b[35m[2020-09-26:03:17:55:INFO] Sniff delimiter as ','\u001b[0m\n",
      "\u001b[35m[2020-09-26:03:17:55:INFO] Determined delimiter of CSV input is ','\u001b[0m\n",
      "\u001b[34m[2020-09-26:03:17:55:INFO] Sniff delimiter as ','\u001b[0m\n",
      "\u001b[34m[2020-09-26:03:17:55:INFO] Determined delimiter of CSV input is ','\u001b[0m\n",
      "\u001b[35m[2020-09-26:03:17:55:INFO] Sniff delimiter as ','\u001b[0m\n",
      "\u001b[35m[2020-09-26:03:17:55:INFO] Determined delimiter of CSV input is ','\u001b[0m\n",
      "\u001b[34m[2020-09-26:03:17:57:INFO] Sniff delimiter as ','\u001b[0m\n",
      "\u001b[35m[2020-09-26:03:17:57:INFO] Sniff delimiter as ','\u001b[0m\n",
      "\u001b[34m[2020-09-26:03:17:57:INFO] Determined delimiter of CSV input is ','\u001b[0m\n",
      "\u001b[34m[2020-09-26:03:17:58:INFO] Sniff delimiter as ','\u001b[0m\n",
      "\u001b[34m[2020-09-26:03:17:58:INFO] Determined delimiter of CSV input is ','\u001b[0m\n",
      "\u001b[34m[2020-09-26:03:17:58:INFO] Sniff delimiter as ','\u001b[0m\n",
      "\u001b[34m[2020-09-26:03:17:58:INFO] Determined delimiter of CSV input is ','\u001b[0m\n",
      "\u001b[35m[2020-09-26:03:17:57:INFO] Determined delimiter of CSV input is ','\u001b[0m\n",
      "\u001b[35m[2020-09-26:03:17:58:INFO] Sniff delimiter as ','\u001b[0m\n",
      "\u001b[35m[2020-09-26:03:17:58:INFO] Determined delimiter of CSV input is ','\u001b[0m\n",
      "\u001b[35m[2020-09-26:03:17:58:INFO] Sniff delimiter as ','\u001b[0m\n",
      "\u001b[35m[2020-09-26:03:17:58:INFO] Determined delimiter of CSV input is ','\u001b[0m\n",
      "\u001b[34m[2020-09-26:03:18:00:INFO] Sniff delimiter as ','\u001b[0m\n",
      "\u001b[34m[2020-09-26:03:18:00:INFO] Determined delimiter of CSV input is ','\u001b[0m\n",
      "\u001b[35m[2020-09-26:03:18:00:INFO] Sniff delimiter as ','\u001b[0m\n",
      "\u001b[35m[2020-09-26:03:18:00:INFO] Determined delimiter of CSV input is ','\u001b[0m\n",
      "\u001b[34m[2020-09-26:03:18:00:INFO] Sniff delimiter as ','\u001b[0m\n",
      "\u001b[34m[2020-09-26:03:18:00:INFO] Determined delimiter of CSV input is ','\u001b[0m\n",
      "\u001b[34m[2020-09-26:03:18:00:INFO] Sniff delimiter as ','\u001b[0m\n",
      "\u001b[34m[2020-09-26:03:18:00:INFO] Determined delimiter of CSV input is ','\u001b[0m\n",
      "\u001b[35m[2020-09-26:03:18:00:INFO] Sniff delimiter as ','\u001b[0m\n",
      "\u001b[35m[2020-09-26:03:18:00:INFO] Determined delimiter of CSV input is ','\u001b[0m\n",
      "\u001b[35m[2020-09-26:03:18:00:INFO] Sniff delimiter as ','\u001b[0m\n",
      "\u001b[35m[2020-09-26:03:18:00:INFO] Determined delimiter of CSV input is ','\u001b[0m\n",
      "\u001b[34m[2020-09-26:03:18:00:INFO] Sniff delimiter as ','\u001b[0m\n",
      "\u001b[34m[2020-09-26:03:18:00:INFO] Determined delimiter of CSV input is ','\u001b[0m\n",
      "\u001b[35m[2020-09-26:03:18:00:INFO] Sniff delimiter as ','\u001b[0m\n",
      "\u001b[35m[2020-09-26:03:18:00:INFO] Determined delimiter of CSV input is ','\u001b[0m\n",
      "\u001b[34m[2020-09-26:03:18:02:INFO] Sniff delimiter as ','\u001b[0m\n",
      "\u001b[34m[2020-09-26:03:18:02:INFO] Determined delimiter of CSV input is ','\u001b[0m\n",
      "\u001b[35m[2020-09-26:03:18:02:INFO] Sniff delimiter as ','\u001b[0m\n",
      "\u001b[35m[2020-09-26:03:18:02:INFO] Determined delimiter of CSV input is ','\u001b[0m\n",
      "\u001b[34m[2020-09-26:03:18:02:INFO] Sniff delimiter as ','\u001b[0m\n",
      "\u001b[34m[2020-09-26:03:18:02:INFO] Determined delimiter of CSV input is ','\u001b[0m\n",
      "\u001b[34m[2020-09-26:03:18:03:INFO] Sniff delimiter as ','\u001b[0m\n",
      "\u001b[34m[2020-09-26:03:18:03:INFO] Determined delimiter of CSV input is ','\u001b[0m\n",
      "\u001b[34m[2020-09-26:03:18:03:INFO] Sniff delimiter as ','\u001b[0m\n",
      "\u001b[34m[2020-09-26:03:18:03:INFO] Determined delimiter of CSV input is ','\u001b[0m\n",
      "\u001b[35m[2020-09-26:03:18:02:INFO] Sniff delimiter as ','\u001b[0m\n",
      "\u001b[35m[2020-09-26:03:18:02:INFO] Determined delimiter of CSV input is ','\u001b[0m\n",
      "\u001b[35m[2020-09-26:03:18:03:INFO] Sniff delimiter as ','\u001b[0m\n",
      "\u001b[35m[2020-09-26:03:18:03:INFO] Determined delimiter of CSV input is ','\u001b[0m\n",
      "\u001b[35m[2020-09-26:03:18:03:INFO] Sniff delimiter as ','\u001b[0m\n",
      "\u001b[35m[2020-09-26:03:18:03:INFO] Determined delimiter of CSV input is ','\u001b[0m\n",
      "\u001b[34m[2020-09-26:03:18:05:INFO] Sniff delimiter as ','\u001b[0m\n",
      "\u001b[34m[2020-09-26:03:18:05:INFO] Determined delimiter of CSV input is ','\u001b[0m\n",
      "\u001b[34m[2020-09-26:03:18:05:INFO] Sniff delimiter as ','\u001b[0m\n",
      "\u001b[34m[2020-09-26:03:18:05:INFO] Determined delimiter of CSV input is ','\u001b[0m\n",
      "\u001b[34m[2020-09-26:03:18:05:INFO] Sniff delimiter as ','\u001b[0m\n",
      "\u001b[34m[2020-09-26:03:18:05:INFO] Determined delimiter of CSV input is ','\u001b[0m\n",
      "\u001b[35m[2020-09-26:03:18:05:INFO] Sniff delimiter as ','\u001b[0m\n",
      "\u001b[35m[2020-09-26:03:18:05:INFO] Determined delimiter of CSV input is ','\u001b[0m\n",
      "\u001b[35m[2020-09-26:03:18:05:INFO] Sniff delimiter as ','\u001b[0m\n",
      "\u001b[35m[2020-09-26:03:18:05:INFO] Determined delimiter of CSV input is ','\u001b[0m\n",
      "\u001b[35m[2020-09-26:03:18:05:INFO] Sniff delimiter as ','\u001b[0m\n",
      "\u001b[35m[2020-09-26:03:18:05:INFO] Determined delimiter of CSV input is ','\u001b[0m\n",
      "\u001b[34m[2020-09-26:03:18:05:INFO] Sniff delimiter as ','\u001b[0m\n",
      "\u001b[35m[2020-09-26:03:18:05:INFO] Sniff delimiter as ','\u001b[0m\n",
      "\u001b[34m[2020-09-26:03:18:05:INFO] Determined delimiter of CSV input is ','\u001b[0m\n",
      "\u001b[35m[2020-09-26:03:18:05:INFO] Determined delimiter of CSV input is ','\u001b[0m\n",
      "\u001b[34m[2020-09-26:03:18:07:INFO] Sniff delimiter as ','\u001b[0m\n",
      "\u001b[34m[2020-09-26:03:18:07:INFO] Determined delimiter of CSV input is ','\u001b[0m\n",
      "\u001b[35m[2020-09-26:03:18:07:INFO] Sniff delimiter as ','\u001b[0m\n",
      "\u001b[35m[2020-09-26:03:18:07:INFO] Determined delimiter of CSV input is ','\u001b[0m\n",
      "\n",
      "\u001b[34m[2020-09-26:03:18:07:INFO] Sniff delimiter as ','\u001b[0m\n",
      "\u001b[34m[2020-09-26:03:18:07:INFO] Determined delimiter of CSV input is ','\u001b[0m\n",
      "\u001b[34m[2020-09-26:03:18:08:INFO] Sniff delimiter as ','\u001b[0m\n",
      "\u001b[34m[2020-09-26:03:18:08:INFO] Determined delimiter of CSV input is ','\u001b[0m\n",
      "\u001b[35m[2020-09-26:03:18:07:INFO] Sniff delimiter as ','\u001b[0m\n",
      "\u001b[35m[2020-09-26:03:18:07:INFO] Determined delimiter of CSV input is ','\u001b[0m\n",
      "\u001b[35m[2020-09-26:03:18:08:INFO] Sniff delimiter as ','\u001b[0m\n",
      "\u001b[35m[2020-09-26:03:18:08:INFO] Determined delimiter of CSV input is ','\u001b[0m\n",
      "\u001b[34m[2020-09-26:03:18:10:INFO] Sniff delimiter as ','\u001b[0m\n",
      "\u001b[34m[2020-09-26:03:18:10:INFO] Determined delimiter of CSV input is ','\u001b[0m\n",
      "\u001b[35m[2020-09-26:03:18:10:INFO] Sniff delimiter as ','\u001b[0m\n",
      "\u001b[35m[2020-09-26:03:18:10:INFO] Determined delimiter of CSV input is ','\u001b[0m\n",
      "\u001b[34m[2020-09-26:03:18:10:INFO] Sniff delimiter as ','\u001b[0m\n",
      "\u001b[34m[2020-09-26:03:18:10:INFO] Determined delimiter of CSV input is ','\u001b[0m\n",
      "\u001b[35m[2020-09-26:03:18:10:INFO] Sniff delimiter as ','\u001b[0m\n",
      "\u001b[35m[2020-09-26:03:18:10:INFO] Determined delimiter of CSV input is ','\u001b[0m\n"
     ]
    }
   ],
   "source": [
    "xgb_transformer.wait()"
   ]
  },
  {
   "cell_type": "markdown",
   "metadata": {},
   "source": [
    "Now the transform job has executed and the result, the estimated sentiment of each review, has been saved on S3. Since we would rather work on this file locally we can perform a bit of notebook magic to copy the file to the `data_dir`."
   ]
  },
  {
   "cell_type": "code",
   "execution_count": 57,
   "metadata": {},
   "outputs": [
    {
     "name": "stdout",
     "output_type": "stream",
     "text": [
      "download: s3://sagemaker-us-west-2-881038864233/xgboost-2020-09-26-03-12-47-195/test.csv.out to ../data/sentiment_web_app/test.csv.out\r\n"
     ]
    }
   ],
   "source": [
    "!aws s3 cp --recursive $xgb_transformer.output_path $data_dir"
   ]
  },
  {
   "cell_type": "markdown",
   "metadata": {},
   "source": [
    "The last step is now to read in the output from our model, convert the output to something a little more usable, in this case we want the sentiment to be either `1` (positive) or `0` (negative), and then compare to the ground truth labels."
   ]
  },
  {
   "cell_type": "code",
   "execution_count": 58,
   "metadata": {},
   "outputs": [],
   "source": [
    "predictions = pd.read_csv(os.path.join(data_dir, 'test.csv.out'), header=None)\n",
    "predictions = [round(num) for num in predictions.squeeze().values]"
   ]
  },
  {
   "cell_type": "code",
   "execution_count": 59,
   "metadata": {},
   "outputs": [
    {
     "data": {
      "text/plain": [
       "0.86164"
      ]
     },
     "execution_count": 59,
     "metadata": {},
     "output_type": "execute_result"
    }
   ],
   "source": [
    "from sklearn.metrics import accuracy_score\n",
    "accuracy_score(test_y, predictions)"
   ]
  },
  {
   "cell_type": "markdown",
   "metadata": {},
   "source": [
    "## Step 6: Deploying the model\n",
    "\n",
    "Once we construct and fit our model, SageMaker stores the resulting model artifacts and we can use those to deploy an endpoint (inference code). To see this, look in the SageMaker console and you should see that a model has been created along with a link to the S3 location where the model artifacts have been stored.\n",
    "\n",
    "Deploying an endpoint is a lot like training the model with a few important differences. The first is that a deployed model doesn't change the model artifacts, so as you send it various testing instances the model won't change. Another difference is that since we aren't performing a fixed computation, as we were in the training step or while performing a batch transform, the compute instance that gets started stays running until we tell it to stop. This is important to note as if we forget and leave it running we will be charged the entire time.\n",
    "\n",
    "In other words **If you are no longer using a deployed endpoint, shut it down!**"
   ]
  },
  {
   "cell_type": "code",
   "execution_count": 32,
   "metadata": {},
   "outputs": [
    {
     "name": "stderr",
     "output_type": "stream",
     "text": [
      "Parameter image will be renamed to image_uri in SageMaker Python SDK v2.\n",
      "Using already existing model: xgboost-2020-09-24-22-20-56-071\n"
     ]
    },
    {
     "name": "stdout",
     "output_type": "stream",
     "text": [
      "-------------!"
     ]
    }
   ],
   "source": [
    "xgb_predictor = xgb.deploy(initial_instance_count = 1, instance_type = 'ml.m4.xlarge')"
   ]
  },
  {
   "cell_type": "markdown",
   "metadata": {},
   "source": [
    "### Testing the model (again)\n",
    "\n",
    "Now that we have deployed our endpoint, we can send the testing data to it and get back the inference results. We already did this earlier using the batch transform functionality of SageMaker, however, we will test our model again using the newly deployed endpoint so that we can make sure that it works properly and to get a bit of a feel for how the endpoint works.\n",
    "\n",
    "When using the created endpoint it is important to know that we are limited in the amount of information we can send in each call so we need to break the testing data up into chunks and then send each chunk. Also, we need to serialize our data before we send it to the endpoint to ensure that our data is transmitted properly. Fortunately, SageMaker can do the serialization part for us provided we tell it the format of our data."
   ]
  },
  {
   "cell_type": "code",
   "execution_count": 33,
   "metadata": {},
   "outputs": [],
   "source": [
    "from sagemaker.predictor import csv_serializer\n",
    "\n",
    "# We need to tell the endpoint what format the data we are sending is in so that SageMaker can perform the serialization.\n",
    "xgb_predictor.content_type = 'text/csv'\n",
    "xgb_predictor.serializer = csv_serializer"
   ]
  },
  {
   "cell_type": "code",
   "execution_count": 34,
   "metadata": {},
   "outputs": [],
   "source": [
    "# We split the data into chunks and send each chunk seperately, accumulating the results.\n",
    "\n",
    "def predict(data, rows=512):\n",
    "    split_array = np.array_split(data, int(data.shape[0] / float(rows) + 1))\n",
    "    predictions = ''\n",
    "    for array in split_array:\n",
    "        predictions = ','.join([predictions, xgb_predictor.predict(array).decode('utf-8')])\n",
    "    \n",
    "    return np.fromstring(predictions[1:], sep=',')"
   ]
  },
  {
   "cell_type": "code",
   "execution_count": 35,
   "metadata": {},
   "outputs": [],
   "source": [
    "test_X = pd.read_csv(os.path.join(data_dir, 'test.csv'), header=None).values\n",
    "\n",
    "predictions = predict(test_X)\n",
    "predictions = [round(num) for num in predictions]"
   ]
  },
  {
   "cell_type": "markdown",
   "metadata": {},
   "source": [
    "Lastly, we check to see what the accuracy of our model is."
   ]
  },
  {
   "cell_type": "code",
   "execution_count": 36,
   "metadata": {},
   "outputs": [
    {
     "data": {
      "text/plain": [
       "0.86072"
      ]
     },
     "execution_count": 36,
     "metadata": {},
     "output_type": "execute_result"
    }
   ],
   "source": [
    "from sklearn.metrics import accuracy_score\n",
    "accuracy_score(test_y, predictions)"
   ]
  },
  {
   "cell_type": "markdown",
   "metadata": {},
   "source": [
    "And the results here should agree with the model testing that we did earlier using the batch transform job.\n",
    "\n",
    "### Cleaning up\n",
    "\n",
    "Now that we've determined that deploying our model works as expected, we are going to shut it down. Remember that the longer the endpoint is left running, the greater the cost and since we have a bit more work to do before we are able to use our endpoint with our simple web app, we should shut everything down."
   ]
  },
  {
   "cell_type": "code",
   "execution_count": 40,
   "metadata": {},
   "outputs": [],
   "source": [
    "xgb_predictor.delete_endpoint()"
   ]
  },
  {
   "cell_type": "markdown",
   "metadata": {},
   "source": [
    "## Step 7: Putting our model to work\n",
    "\n",
    "As we've mentioned a few times now, our goal is to have our model deployed and then access it using a very simple web app. The intent is for this web app to take some user submitted data (a review), send it off to our endpoint (the model) and then display the result.\n",
    "\n",
    "However, there is a small catch. Currently the only way we can access the endpoint to send it data is using the SageMaker API. We can, if we wish, expose the actual URL that our model's endpoint is receiving data from, however, if we just send it data ourselves we will not get anything in return. This is because the endpoint created by SageMaker requires the entity accessing it have the correct permissions. So, we would need to somehow authenticate our web app with AWS.\n",
    "\n",
    "Having a website that authenticates to AWS seems a bit beyond the scope of this lesson so we will opt for an alternative approach. Namely, we will create a new endpoint which does not require authentication and which acts as a proxy for the SageMaker endpoint.\n",
    "\n",
    "As an additional constraint, we will try to avoid doing any data processing in the web app itself. Remember that when we constructed and tested our model we started with a movie review, then we simplified it by removing any html formatting and punctuation, then we constructed a bag of words embedding and the resulting vector is what we sent to our model. All of this needs to be done to our user input as well.\n",
    "\n",
    "Fortunately we can do all of this data processing in the backend, using Amazon's Lambda service.\n",
    "\n",
    "<img src=\"Web App Diagram.svg\">\n",
    "\n",
    "The diagram above gives an overview of how the various services will work together. On the far right is the model which we trained above and which will be deployed using SageMaker. On the far left is our web app that collects a user's movie review, sends it off and expects a positive or negative sentiment in return.\n",
    "\n",
    "In the middle is where some of the magic happens. We will construct a Lambda function, which you can think of as a straightforward Python function that can be executed whenever a specified event occurs. This Python function will do the data processing we need to perform on a user submitted review. In addition, we will give this function permission to send and recieve data from a SageMaker endpoint.\n",
    "\n",
    "Lastly, the method we will use to execute the Lambda function is a new endpoint that we will create using API Gateway. This endpoint will be a url that listens for data to be sent to it. Once it gets some data it will pass that data on to the Lambda function and then return whatever the Lambda function returns. Essentially it will act as an interface that lets our web app communicate with the Lambda function.\n",
    "\n",
    "### Processing a single review\n",
    "\n",
    "For now, suppose we are given a movie review by our user in the form of a string, like so:"
   ]
  },
  {
   "cell_type": "code",
   "execution_count": 71,
   "metadata": {},
   "outputs": [],
   "source": [
    "test_review = \"This review is amazing great absolutely powerful. It is the best movie I have ever saw. Words to describe it: Fantastic, Awesome, Lovely, Good, Great.\""
   ]
  },
  {
   "cell_type": "markdown",
   "metadata": {},
   "source": [
    "How do we go from this string to the bag of words feature vector that is expected by our model?\n",
    "\n",
    "If we recall at the beginning of this notebook, the first step is to remove any unnecessary characters using the `review_to_words` method. Remember that we intentionally did this in a very simplistic way. This is because we are going to have to copy this method to our (eventual) Lambda function (we will go into more detail later) and this means it needs to be rather simplistic."
   ]
  },
  {
   "cell_type": "code",
   "execution_count": 72,
   "metadata": {},
   "outputs": [
    {
     "name": "stdout",
     "output_type": "stream",
     "text": [
      "this review is amazing great absolutely powerful it is the best movie i have ever saw words to describe it fantastic awesome lovely good great\n"
     ]
    }
   ],
   "source": [
    "test_words = review_to_words(test_review)\n",
    "print(test_words)"
   ]
  },
  {
   "cell_type": "markdown",
   "metadata": {},
   "source": [
    "Next, we need to construct a bag of words embedding of the `test_words` string. To do this, remember that a bag of words embedding uses a `vocabulary` consisting of the most frequently appearing words in a set of documents. Then, for each word in the vocabulary we record the number of times that word appears in `test_words`. We constructed the `vocabulary` earlier using the training set for our problem so encoding `test_words` is relatively straightforward."
   ]
  },
  {
   "cell_type": "code",
   "execution_count": 73,
   "metadata": {},
   "outputs": [],
   "source": [
    "def bow_encoding(words, vocabulary):\n",
    "    bow = [0] * len(vocabulary) # Start by setting the count for each word in the vocabulary to zero.\n",
    "    for word in words.split():  # For each word in the string\n",
    "        if word in vocabulary:  # If the word is one that occurs in the vocabulary, increase its count.\n",
    "            bow[vocabulary[word]] += 1\n",
    "    return bow"
   ]
  },
  {
   "cell_type": "code",
   "execution_count": 74,
   "metadata": {},
   "outputs": [
    {
     "name": "stdout",
     "output_type": "stream",
     "text": [
      "[0, 0, 0, 0, 0, 0, 0, 0, 0, 0, 0, 0, 0, 0, 0, 0, 0, 0, 0, 0, 0, 0, 0, 0, 0, 0, 0, 0, 0, 0, 0, 0, 0, 0, 0, 0, 0, 0, 0, 0, 0, 0, 0, 0, 0, 0, 0, 0, 0, 0, 0, 0, 0, 0, 0, 0, 0, 0, 0, 0, 0, 0, 0, 0, 0, 0, 0, 0, 0, 0, 0, 0, 1, 0, 0, 0, 0, 0, 0, 0, 0, 0, 0, 0, 0, 0, 0, 0, 0, 0, 0, 0, 0, 0, 0, 0, 0, 0, 0, 0, 0, 0, 0, 0, 0, 0, 0, 0, 0, 0, 0, 0, 0, 0, 0, 0, 0, 0, 0, 0, 0, 0, 0, 0, 0, 0, 0, 0, 0, 0, 0, 0, 0, 0, 0, 0, 0, 0, 0, 0, 0, 0, 0, 0, 0, 0, 0, 0, 0, 0, 0, 0, 0, 0, 0, 0, 0, 0, 0, 0, 0, 0, 0, 0, 0, 0, 0, 0, 0, 0, 0, 0, 0, 0, 0, 0, 0, 0, 0, 0, 0, 0, 0, 0, 0, 0, 0, 0, 0, 0, 0, 0, 0, 0, 0, 0, 0, 0, 0, 0, 0, 0, 0, 0, 0, 0, 0, 0, 0, 1, 0, 0, 0, 0, 0, 0, 0, 0, 0, 0, 0, 0, 0, 0, 0, 0, 0, 0, 0, 0, 0, 0, 0, 0, 0, 0, 0, 0, 0, 0, 0, 0, 0, 0, 0, 0, 0, 0, 0, 0, 0, 0, 0, 0, 0, 0, 0, 0, 0, 0, 0, 0, 0, 0, 0, 0, 0, 0, 0, 0, 0, 0, 0, 0, 0, 0, 0, 0, 0, 0, 0, 0, 0, 0, 0, 0, 0, 0, 0, 0, 0, 0, 0, 0, 0, 0, 0, 0, 0, 0, 0, 0, 0, 0, 0, 0, 0, 0, 0, 0, 0, 0, 0, 0, 0, 0, 0, 0, 0, 0, 0, 0, 0, 0, 0, 0, 0, 0, 0, 0, 0, 0, 0, 0, 0, 0, 0, 0, 0, 0, 0, 0, 0, 0, 0, 0, 0, 0, 0, 0, 0, 0, 0, 0, 0, 0, 0, 0, 0, 0, 0, 0, 0, 0, 0, 0, 0, 0, 0, 0, 1, 0, 0, 0, 0, 0, 0, 0, 0, 0, 0, 0, 0, 0, 0, 0, 0, 0, 0, 0, 0, 0, 0, 0, 0, 0, 0, 0, 0, 0, 0, 0, 0, 0, 0, 0, 0, 0, 0, 0, 0, 0, 0, 0, 0, 0, 0, 0, 0, 0, 0, 0, 0, 0, 0, 0, 0, 0, 0, 0, 0, 0, 0, 0, 0, 0, 0, 0, 0, 0, 0, 0, 0, 0, 0, 0, 0, 0, 0, 0, 0, 0, 0, 0, 0, 0, 0, 0, 0, 0, 0, 0, 0, 0, 0, 0, 0, 0, 1, 0, 0, 0, 0, 0, 0, 0, 0, 0, 0, 0, 0, 0, 0, 0, 0, 0, 0, 0, 0, 0, 0, 0, 0, 0, 0, 0, 0, 0, 0, 0, 0, 0, 0, 0, 0, 0, 0, 0, 0, 0, 0, 0, 0, 0, 0, 0, 0, 0, 0, 0, 0, 0, 0, 0, 0, 0, 0, 0, 0, 0, 0, 0, 0, 0, 0, 0, 0, 0, 0, 0, 0, 0, 0, 0, 0, 0, 0, 0, 0, 0, 0, 0, 0, 0, 0, 0, 0, 0, 0, 0, 0, 0, 0, 0, 0, 0, 0, 0, 0, 0, 0, 0, 0, 0, 0, 0, 0, 0, 0, 0, 0, 0, 0, 0, 0, 0, 0, 0, 0, 0, 0, 0, 0, 0, 0, 0, 0, 0, 0, 0, 0, 0, 0, 0, 0, 0, 0, 0, 0, 0, 0, 0, 0, 0, 0, 0, 0, 0, 0, 0, 0, 0, 0, 0, 0, 0, 0, 0, 0, 0, 0, 0, 0, 0, 0, 0, 0, 0, 0, 0, 0, 0, 0, 0, 0, 0, 0, 0, 0, 0, 0, 0, 0, 0, 0, 0, 0, 0, 0, 0, 0, 0, 0, 0, 0, 0, 0, 0, 0, 0, 0, 0, 0, 0, 0, 0, 0, 0, 0, 0, 0, 0, 0, 0, 0, 0, 0, 0, 0, 0, 0, 0, 0, 0, 0, 0, 0, 0, 0, 0, 0, 0, 0, 0, 0, 0, 0, 0, 0, 0, 0, 0, 0, 0, 0, 0, 0, 0, 0, 0, 0, 0, 0, 0, 0, 0, 0, 0, 0, 0, 0, 0, 0, 0, 0, 0, 0, 0, 0, 0, 0, 0, 0, 0, 0, 0, 0, 0, 0, 0, 0, 0, 0, 0, 0, 0, 0, 0, 0, 0, 0, 0, 0, 0, 0, 0, 0, 0, 0, 0, 0, 0, 0, 0, 0, 0, 0, 0, 0, 0, 0, 0, 0, 0, 0, 0, 0, 0, 0, 0, 0, 0, 0, 0, 0, 0, 0, 0, 0, 0, 0, 0, 0, 0, 0, 0, 0, 0, 0, 0, 0, 0, 0, 0, 0, 0, 0, 0, 0, 0, 0, 0, 0, 0, 0, 0, 0, 0, 0, 0, 0, 0, 0, 0, 0, 0, 0, 0, 0, 0, 0, 0, 0, 0, 0, 0, 0, 0, 0, 0, 0, 0, 0, 0, 0, 0, 0, 0, 0, 0, 0, 0, 0, 0, 0, 0, 0, 0, 0, 0, 0, 0, 0, 0, 0, 0, 0, 0, 0, 0, 0, 0, 0, 0, 0, 0, 0, 0, 0, 0, 0, 0, 0, 0, 0, 0, 0, 0, 0, 0, 0, 0, 0, 0, 0, 0, 0, 0, 0, 0, 0, 0, 0, 0, 0, 0, 0, 0, 0, 0, 0, 0, 0, 0, 0, 0, 0, 0, 0, 0, 0, 0, 0, 0, 0, 0, 0, 0, 0, 0, 0, 0, 0, 0, 0, 0, 0, 0, 0, 0, 0, 0, 0, 0, 0, 0, 0, 0, 0, 0, 0, 0, 0, 0, 0, 0, 0, 0, 0, 0, 0, 0, 0, 0, 0, 0, 0, 0, 0, 0, 0, 0, 0, 0, 0, 0, 0, 0, 0, 0, 0, 0, 0, 0, 0, 0, 0, 0, 0, 0, 0, 0, 0, 0, 0, 0, 0, 0, 0, 0, 0, 0, 0, 0, 0, 0, 0, 0, 0, 0, 0, 0, 0, 0, 0, 0, 0, 0, 0, 0, 0, 0, 0, 0, 0, 0, 0, 0, 0, 0, 0, 0, 0, 0, 0, 0, 0, 0, 0, 0, 0, 0, 0, 0, 0, 0, 0, 0, 0, 0, 0, 0, 0, 0, 0, 0, 0, 0, 0, 0, 0, 0, 0, 0, 0, 0, 0, 0, 0, 0, 0, 0, 0, 0, 0, 0, 0, 0, 0, 0, 0, 0, 0, 0, 0, 0, 0, 0, 0, 0, 0, 0, 0, 0, 0, 0, 0, 0, 0, 0, 0, 0, 0, 0, 0, 0, 0, 0, 0, 0, 0, 0, 0, 0, 0, 0, 0, 0, 0, 0, 0, 0, 0, 0, 0, 0, 0, 0, 0, 0, 0, 0, 0, 0, 0, 0, 0, 0, 0, 0, 0, 0, 0, 0, 0, 0, 0, 0, 0, 0, 0, 0, 0, 0, 0, 0, 0, 0, 0, 0, 0, 0, 0, 0, 0, 0, 0, 0, 0, 0, 0, 0, 0, 0, 0, 0, 0, 0, 0, 0, 0, 0, 1, 0, 0, 0, 0, 0, 0, 0, 0, 0, 0, 0, 0, 0, 0, 0, 0, 0, 0, 0, 0, 0, 0, 0, 0, 0, 0, 0, 0, 0, 0, 0, 0, 0, 0, 0, 0, 0, 0, 0, 0, 0, 0, 0, 0, 0, 0, 0, 0, 0, 0, 0, 0, 0, 0, 0, 0, 0, 0, 0, 0, 0, 0, 0, 0, 0, 0, 0, 0, 0, 0, 0, 0, 0, 0, 0, 0, 0, 0, 0, 0, 0, 0, 0, 0, 0, 0, 0, 0, 0, 0, 0, 0, 0, 0, 0, 0, 0, 0, 0, 0, 0, 0, 0, 0, 0, 0, 0, 0, 0, 0, 0, 0, 0, 0, 0, 0, 0, 0, 0, 0, 0, 0, 0, 0, 0, 0, 0, 0, 0, 0, 0, 0, 0, 0, 0, 0, 0, 0, 0, 0, 0, 0, 0, 0, 0, 0, 0, 0, 0, 0, 0, 0, 0, 0, 0, 0, 0, 0, 0, 0, 0, 0, 0, 0, 0, 0, 0, 0, 0, 0, 0, 0, 0, 0, 0, 0, 0, 0, 0, 0, 0, 0, 0, 0, 0, 0, 0, 0, 0, 0, 0, 0, 0, 0, 0, 0, 0, 0, 0, 0, 0, 0, 0, 0, 0, 0, 0, 0, 0, 0, 0, 0, 0, 0, 0, 0, 0, 0, 0, 0, 0, 0, 0, 0, 0, 0, 0, 0, 0, 0, 0, 0, 0, 0, 0, 0, 0, 0, 0, 0, 0, 0, 0, 0, 0, 0, 0, 0, 0, 0, 0, 0, 0, 0, 0, 0, 0, 0, 0, 0, 0, 0, 0, 0, 0, 0, 0, 0, 0, 0, 0, 0, 0, 0, 0, 0, 0, 0, 0, 0, 0, 0, 0, 0, 0, 0, 0, 0, 0, 0, 0, 0, 0, 0, 0, 0, 0, 0, 0, 0, 0, 0, 0, 0, 0, 0, 0, 0, 0, 0, 0, 0, 0, 0, 0, 0, 0, 0, 0, 0, 0, 0, 0, 0, 0, 0, 0, 0, 0, 0, 0, 0, 0, 0, 0, 0, 0, 0, 0, 0, 0, 0, 0, 1, 0, 0, 0, 0, 0, 0, 0, 0, 0, 0, 0, 0, 0, 0, 0, 0, 0, 0, 0, 0, 0, 0, 0, 0, 0, 0, 0, 0, 0, 0, 0, 0, 0, 0, 0, 0, 0, 0, 0, 0, 0, 0, 0, 0, 0, 0, 0, 0, 0, 0, 0, 0, 0, 0, 0, 0, 0, 0, 0, 0, 0, 0, 0, 0, 0, 0, 0, 0, 0, 0, 0, 0, 0, 0, 0, 0, 0, 0, 0, 0, 0, 0, 0, 0, 0, 0, 0, 0, 0, 0, 0, 0, 0, 0, 0, 0, 0, 0, 0, 0, 0, 0, 0, 0, 0, 0, 0, 0, 0, 0, 0, 0, 1, 0, 0, 0, 0, 0, 0, 0, 0, 0, 0, 0, 0, 0, 0, 0, 0, 0, 0, 0, 0, 0, 0, 0, 0, 0, 0, 0, 0, 0, 0, 0, 0, 0, 0, 0, 0, 0, 0, 0, 0, 0, 0, 0, 0, 0, 0, 0, 0, 0, 0, 0, 0, 0, 0, 0, 0, 0, 0, 0, 0, 0, 0, 0, 0, 0, 0, 0, 0, 0, 0, 0, 0, 0, 0, 0, 0, 0, 0, 0, 0, 0, 0, 0, 0, 0, 0, 0, 0, 0, 0, 0, 0, 0, 0, 0, 0, 0, 0, 0, 0, 0, 0, 0, 0, 0, 0, 0, 0, 0, 0, 0, 0, 0, 0, 0, 0, 0, 0, 0, 0, 0, 0, 0, 0, 0, 0, 0, 0, 0, 0, 0, 0, 0, 0, 0, 0, 0, 0, 0, 0, 0, 0, 0, 0, 0, 0, 0, 0, 0, 0, 0, 0, 0, 0, 0, 0, 0, 0, 0, 0, 0, 0, 0, 0, 0, 0, 0, 0, 0, 0, 0, 0, 0, 0, 0, 0, 0, 0, 0, 0, 0, 0, 0, 0, 0, 0, 0, 0, 0, 0, 0, 0, 0, 0, 0, 0, 0, 0, 0, 0, 0, 0, 0, 0, 0, 0, 0, 0, 0, 0, 0, 0, 0, 0, 0, 0, 0, 0, 0, 0, 0, 0, 0, 0, 0, 0, 0, 0, 0, 0, 0, 0, 0, 0, 0, 0, 0, 0, 0, 0, 0, 0, 0, 0, 0, 0, 0, 0, 0, 0, 0, 0, 0, 0, 0, 0, 0, 0, 0, 0, 0, 0, 0, 0, 0, 0, 0, 0, 0, 0, 0, 0, 0, 0, 0, 0, 0, 0, 0, 0, 0, 0, 0, 0, 1, 0, 0, 0, 0, 0, 0, 0, 0, 0, 0, 0, 0, 0, 0, 0, 0, 0, 0, 0, 0, 0, 0, 0, 0, 0, 0, 2, 0, 0, 0, 0, 0, 0, 0, 0, 0, 0, 0, 0, 0, 0, 0, 0, 0, 0, 0, 0, 0, 0, 0, 0, 0, 0, 0, 0, 0, 0, 0, 0, 0, 0, 0, 0, 0, 0, 0, 0, 0, 0, 0, 0, 0, 0, 0, 0, 0, 0, 0, 0, 0, 0, 0, 0, 0, 0, 0, 0, 0, 0, 0, 0, 0, 0, 0, 0, 0, 0, 0, 0, 0, 0, 0, 0, 0, 0, 0, 0, 0, 0, 0, 0, 0, 0, 0, 1, 0, 0, 0, 0, 0, 0, 0, 0, 0, 0, 0, 0, 0, 0, 0, 0, 0, 0, 0, 0, 0, 0, 0, 0, 0, 0, 0, 0, 0, 0, 0, 0, 0, 0, 0, 0, 0, 0, 0, 0, 0, 0, 0, 0, 0, 0, 0, 0, 0, 0, 0, 0, 0, 0, 0, 0, 0, 0, 0, 0, 0, 0, 0, 0, 0, 0, 0, 0, 0, 0, 0, 0, 0, 0, 0, 0, 0, 0, 0, 0, 0, 0, 0, 0, 0, 0, 0, 0, 0, 0, 0, 0, 0, 0, 0, 0, 0, 0, 0, 0, 0, 0, 0, 0, 0, 0, 0, 0, 0, 0, 0, 0, 0, 0, 0, 0, 0, 0, 0, 0, 0, 0, 0, 0, 0, 0, 0, 0, 0, 0, 0, 0, 0, 0, 0, 0, 0, 0, 0, 0, 0, 0, 0, 0, 0, 0, 0, 0, 0, 0, 0, 0, 0, 0, 0, 0, 0, 0, 0, 0, 0, 0, 0, 0, 0, 0, 0, 0, 0, 0, 0, 0, 0, 0, 0, 0, 0, 0, 0, 0, 0, 0, 0, 0, 0, 0, 0, 0, 0, 0, 0, 0, 0, 0, 0, 0, 0, 0, 0, 0, 0, 0, 0, 0, 0, 0, 0, 0, 0, 0, 0, 0, 0, 0, 0, 0, 0, 0, 0, 0, 0, 0, 0, 0, 0, 0, 0, 0, 0, 0, 0, 0, 0, 0, 0, 0, 0, 0, 0, 0, 0, 0, 0, 0, 0, 0, 0, 0, 0, 0, 0, 0, 0, 0, 0, 0, 0, 0, 0, 0, 0, 0, 0, 0, 0, 0, 0, 0, 0, 0, 0, 0, 0, 0, 0, 0, 0, 0, 0, 0, 0, 0, 0, 0, 0, 0, 0, 0, 0, 0, 0, 0, 0, 0, 0, 0, 0, 0, 0, 0, 0, 0, 0, 0, 0, 0, 0, 2, 0, 0, 0, 0, 0, 0, 2, 0, 0, 0, 0, 0, 0, 0, 0, 0, 0, 0, 0, 0, 0, 0, 0, 0, 0, 0, 0, 0, 0, 0, 0, 0, 0, 0, 0, 0, 0, 0, 0, 0, 0, 0, 0, 0, 0, 0, 0, 0, 0, 0, 0, 0, 0, 0, 0, 0, 0, 0, 0, 0, 0, 0, 0, 0, 0, 0, 0, 0, 0, 0, 0, 0, 0, 0, 0, 0, 0, 0, 0, 0, 0, 0, 0, 0, 0, 0, 0, 0, 0, 0, 0, 0, 0, 0, 0, 0, 0, 0, 0, 0, 0, 0, 0, 0, 0, 0, 0, 0, 0, 0, 0, 0, 0, 0, 0, 0, 0, 0, 0, 0, 0, 0, 0, 0, 0, 0, 0, 0, 0, 0, 0, 0, 0, 0, 0, 0, 0, 0, 0, 0, 0, 0, 0, 0, 0, 0, 0, 0, 0, 0, 0, 0, 0, 0, 0, 0, 0, 0, 0, 0, 0, 0, 0, 0, 0, 0, 0, 0, 0, 0, 0, 0, 0, 0, 0, 0, 0, 0, 0, 0, 0, 0, 0, 0, 0, 0, 0, 0, 0, 0, 0, 0, 0, 0, 0, 0, 0, 0, 0, 0, 0, 0, 0, 0, 0, 0, 0, 0, 0, 0, 0, 0, 0, 0, 0, 0, 0, 0, 0, 0, 0, 0, 0, 0, 0, 0, 0, 0, 0, 0, 0, 0, 0, 0, 0, 0, 0, 0, 0, 0, 0, 0, 0, 0, 0, 0, 0, 0, 0, 0, 0, 0, 0, 0, 0, 0, 0, 0, 0, 0, 0, 0, 0, 0, 0, 0, 0, 0, 0, 0, 0, 0, 0, 0, 0, 0, 0, 0, 0, 0, 0, 0, 0, 0, 0, 0, 0, 0, 0, 0, 0, 0, 0, 0, 0, 0, 0, 0, 0, 0, 0, 0, 0, 0, 0, 0, 0, 0, 0, 0, 0, 1, 0, 0, 0, 0, 0, 0, 0, 0, 0, 0, 0, 0, 0, 0, 0, 0, 0, 0, 0, 0, 0, 0, 0, 0, 0, 0, 0, 0, 0, 0, 0, 0, 0, 0, 0, 0, 0, 0, 0, 0, 0, 0, 0, 0, 0, 0, 0, 0, 0, 0, 0, 0, 0, 0, 0, 0, 0, 0, 0, 0, 0, 0, 0, 0, 0, 0, 0, 0, 0, 0, 0, 0, 0, 0, 0, 0, 0, 0, 0, 0, 0, 0, 0, 0, 0, 0, 0, 0, 0, 0, 0, 0, 0, 0, 0, 0, 0, 0, 0, 0, 0, 0, 0, 0, 0, 0, 0, 0, 0, 0, 0, 0, 0, 0, 0, 0, 0, 0, 0, 0, 0, 0, 0, 0, 0, 0, 0, 0, 0, 0, 0, 0, 0, 0, 0, 0, 0, 0, 0, 0, 0, 0, 0, 0, 0, 0, 0, 0, 0, 0, 0, 0, 0, 0, 0, 0, 0, 0, 0, 0, 0, 0, 0, 0, 0, 0, 0, 0, 0, 0, 0, 0, 0, 0, 0, 0, 0, 0, 0, 0, 0, 0, 0, 0, 0, 0, 0, 0, 0, 0, 0, 0, 0, 0, 0, 0, 0, 0, 0, 0, 0, 0, 0, 0, 0, 0, 0, 0, 0, 0, 0, 0, 0, 0, 0, 0, 0, 0, 0, 0, 0, 0, 0, 0, 0, 0, 0, 0, 0, 0, 0, 0, 0, 0, 0, 0, 0, 0, 0, 0, 0, 0, 0, 0, 0, 0, 0, 0, 0, 0, 0, 0, 0, 0, 0, 1, 0, 0, 0, 0, 0, 0, 0, 0, 0, 0, 0, 0, 0, 0, 0, 0, 0, 0, 0, 0, 0, 0, 0, 0, 0, 0, 0, 0, 0, 0, 0, 0, 0, 0, 0, 0, 0, 0, 0, 0, 0, 0, 0, 0, 0, 0, 0, 0, 0, 0, 0, 0, 0, 0, 0, 0, 0, 0, 0, 0, 0, 0, 0, 0, 0, 0, 0, 0, 0, 0, 0, 0, 0, 0, 0, 0, 0, 0, 0, 0, 0, 0, 0, 0, 0, 0, 0, 0, 0, 0, 0, 0, 0, 0, 0, 0, 0, 0, 0, 0, 0, 0, 0, 0, 0, 0, 0, 0, 0, 0, 0, 0, 0, 0, 0, 0, 0, 0, 0, 0, 0, 0, 0, 0, 0, 0, 0, 0, 0, 0, 0, 0, 0, 0, 0, 0, 0, 0, 0, 0, 0, 0, 0, 0, 0, 0, 0, 0, 0, 0, 0, 0, 0, 0, 0, 0, 0, 0, 0, 0, 0, 0, 0, 0, 0, 0, 0, 0, 0, 0, 0, 0, 0, 0, 0, 0, 0, 0, 0, 0, 0, 0, 0, 0, 0, 0, 0, 0, 0, 0, 0, 0, 0, 0, 0, 0, 0, 0, 0, 0, 0, 0, 0, 0, 0, 0, 0, 0, 0, 0, 0, 0, 0, 0, 0, 0, 0, 0, 0, 0, 0, 0, 0, 0, 0, 0, 0, 0, 0, 0, 0, 0, 0, 0, 0, 0, 0, 0, 0, 0, 0, 0, 0, 0, 0, 0, 0, 0, 0, 0, 0, 0, 0, 0, 0, 0, 0, 0, 0, 0, 0, 0, 0, 0, 0, 0, 0, 0, 0, 0, 0, 0, 0, 0, 0, 0, 0, 0, 0, 0, 0, 0, 0, 0, 0, 0, 0, 0, 0, 0, 0, 0, 0, 0, 0, 0, 0, 0, 0, 0, 0, 0, 0, 0, 0, 0, 0, 0, 0, 0, 0, 0, 0, 0, 0, 0, 0, 0, 0, 0, 0, 0, 0, 0, 0, 0, 0, 0, 0, 0, 0, 0, 0, 0, 0, 0, 0, 0, 0, 0, 0, 0, 0, 0, 0, 0, 0, 0, 0, 0, 0, 0, 0, 0, 0, 0, 0, 0, 0, 0, 0, 0, 0, 0, 0, 0, 0, 0, 0, 0, 0, 0, 0, 0, 0, 0, 0, 0, 0, 0, 0, 0, 0, 0, 0, 0, 0, 0, 0, 0, 0, 0, 0, 0, 0, 0, 0, 0, 0, 0, 0, 0, 0, 0, 0, 0, 0, 0, 0, 0, 0, 0, 0, 0, 0, 0, 0, 0, 0, 0, 0, 0, 0, 0, 0, 0, 0, 0, 0, 0, 0, 0, 0, 0, 0, 0, 1, 0, 0, 0, 0, 0, 0, 0, 0, 0, 0, 0, 0, 0, 0, 0, 0, 0, 0, 0, 0, 0, 0, 0, 0, 0, 0, 0, 0, 0, 0, 0, 0, 0, 0, 0, 0, 0, 0, 0, 0, 0, 0, 0, 0, 0, 0, 0, 0, 0, 0, 0, 0, 0, 0, 0, 0, 0, 0, 0, 0, 0, 0, 0, 0, 0, 0, 0, 0, 0, 0, 0, 0, 0, 0, 0, 0, 0, 0, 0, 0, 0, 0, 0, 0, 0, 0, 0, 0, 0, 0, 0, 0, 0, 0, 0, 0, 0, 0, 0, 0, 0, 0, 0, 0, 0, 0, 0, 0, 0, 0, 0, 0, 0, 0, 0, 0, 0, 0, 0, 0, 0, 0, 0, 0, 0, 0, 0, 0, 0, 0, 0, 0, 0, 0, 0, 0, 0, 0, 0, 0, 0, 0, 0, 0, 0, 0, 0, 0, 0, 0, 0, 0, 0, 0, 0, 0, 0, 0, 0, 0, 0, 0, 0, 0, 0, 0, 0, 0, 0, 0, 0, 0, 0, 0, 0, 0, 0, 0, 0, 0, 0, 0, 0, 0, 0, 0, 0, 0, 0, 0, 0, 0, 0, 0, 0, 0, 0, 0, 0, 0, 0, 0, 0, 0, 0, 0, 0, 0, 0, 0, 0, 0, 0, 0, 0, 0, 0, 0, 0, 0, 0, 0, 0, 0, 0, 0, 0, 0, 0, 0, 0, 0, 0, 0, 0, 0, 0, 0, 0, 0, 0, 0, 0, 0, 0, 0, 0, 0, 0, 0, 0, 0, 0, 0, 0, 0, 0, 0, 0, 0, 0, 0, 0, 0, 0, 0, 0, 0, 0, 0, 0, 0, 0, 0, 0, 0, 0, 0, 0, 0, 0, 0, 0, 0, 0, 0, 0, 0, 0, 0, 0, 0, 0, 0, 0, 0, 0, 0, 0, 0, 0, 0, 0, 0, 0, 0, 0, 0, 0, 0, 0, 0, 0, 0, 1, 0, 0, 0, 0, 0, 0, 0, 0, 0, 0, 0, 0, 0, 0, 0, 0, 0, 0, 0, 0, 0, 0, 0, 0, 0, 0, 0, 0, 0, 0, 0, 0, 0, 0, 0, 0, 0, 0, 0, 0, 0, 0, 0, 0, 0, 0, 0, 0, 0, 0, 0, 0, 0, 0, 0, 0, 0, 0, 0, 0, 0, 0, 0, 0, 0, 0, 0, 0, 0, 0, 0, 0, 0, 0, 0, 0, 0, 0, 0, 0, 0, 0, 0, 0, 0, 0, 0, 0, 0, 0, 0, 0, 0, 0, 0, 0, 0, 0, 0, 0, 0, 0, 0, 0, 0, 0, 0, 0, 0, 0, 0, 0, 0, 0, 0, 0, 0, 0, 0, 0, 0, 1, 0, 0, 0, 0, 0, 0, 0, 0, 0, 0, 0, 0, 0, 0, 0, 0, 0, 0, 0, 0, 0, 0, 0, 0, 0, 0, 0, 0, 0, 0, 0, 0, 0, 0, 0, 0, 0, 0, 0, 0, 0, 0, 0, 0, 0, 0, 0, 0, 0, 0, 0, 0, 0, 0, 0, 0, 0, 0, 0, 0, 0, 0, 0, 0, 0, 0, 0, 0, 0, 0, 0, 0, 0, 0, 0, 0, 0, 0, 0, 0, 0, 0, 0, 0, 0, 0, 0, 0, 0, 0, 0, 0, 0, 0, 0, 0, 0, 0, 0, 0, 0, 0, 0, 0, 0, 0, 0, 0, 0, 0, 0, 0, 0, 0, 0, 0, 0, 0, 0, 0, 0, 0, 0, 0, 0, 0, 0, 0, 0, 0, 0, 0, 0, 0, 0, 0, 0, 0, 0, 0, 0, 0, 0, 0, 0, 0, 0, 0, 0, 0, 0, 0, 0, 0, 0, 0, 0, 0, 0, 0, 0, 0, 0, 0, 0, 0, 0, 0, 0, 0, 0, 0, 0, 0, 0, 0, 0, 0, 0, 0, 0, 0, 0, 0, 0, 0, 0, 0, 0, 0, 0, 0, 0, 0, 0, 0, 0, 0, 0, 0, 0, 0, 0, 0, 0, 0, 0, 0, 0, 0, 0, 0, 0, 0, 0, 0, 0, 0, 0, 0, 0, 0, 0, 0, 0, 0, 0, 0, 0, 0, 0, 0, 0, 0, 0, 0, 0, 0, 0, 0, 0, 0, 0, 0, 0, 0, 0, 0, 0, 0, 0, 0, 0, 0, 0, 0, 0, 0, 0, 0, 0, 0, 0, 0, 0, 0, 0, 0, 0, 0, 0, 0, 0, 0, 0, 0, 0, 0, 0, 0, 0, 0, 0, 0, 0, 0, 0, 0, 0, 0, 0, 0, 0, 0, 0, 0, 0, 0, 0, 0, 0, 0, 0, 0, 0, 0, 0, 0, 0, 0, 0, 0, 0, 0, 0, 0, 0, 0, 0, 0, 0, 0, 0, 0, 0, 0, 0, 0, 0, 0, 0, 0, 0, 0, 0, 0, 0, 0, 0, 0, 0, 0, 0, 0, 0, 0, 0, 0, 0, 0, 0, 0, 0, 0, 0, 0, 0, 0, 0, 0, 0, 0, 0, 0, 0, 0, 0, 0, 0, 0, 0, 0, 0, 0, 0, 0, 0, 0, 0, 0, 0, 0, 0, 0, 0, 0, 0, 0, 0, 0, 0, 0, 0, 0, 0, 0, 0, 0, 0, 0, 0, 0, 0, 0, 0, 0, 0, 0, 0, 0, 0, 0, 0, 0, 0, 0, 0, 0, 0, 0, 0, 0, 0, 0, 0, 0, 0, 0, 0, 0, 0, 0, 0, 0, 0, 0, 0, 0, 0, 0, 0, 0, 0, 0, 0, 0, 0, 0, 0, 0, 0, 0, 0, 0, 0, 0, 0, 0, 0, 0, 0, 0, 0, 0, 0, 0, 0, 0, 0, 0, 0, 0, 0, 0, 0, 0, 0, 0, 0, 0, 0, 0, 0, 0, 0, 0, 0, 0, 0, 0, 0, 0, 0, 0, 0, 0, 0, 0, 0, 0, 0, 0, 0, 0, 0, 0, 0, 0, 0, 0, 0, 0, 0, 0, 0, 0, 0, 0, 0, 0, 0, 0, 0, 0, 0, 0, 0, 0, 0, 0, 0, 0, 0, 0, 0, 0, 0, 0, 0, 0, 0, 0, 0, 0, 0, 0, 0, 0, 0, 0, 0, 0, 0, 0, 0, 0, 0, 0, 0, 0, 0, 0, 0, 0, 0, 0, 0, 0, 0, 0, 0, 0, 0, 0, 0, 0, 0, 0, 0, 0, 0, 0, 0, 0, 0, 0, 0, 0, 0, 0, 0, 0, 0, 0, 0, 0, 0, 0, 0, 0, 0, 0, 0, 0, 0, 0, 0, 0, 0, 0, 0, 0, 0, 0, 0, 0, 0, 0, 0, 0, 0, 0, 0, 0, 0, 0, 0, 1, 0, 0, 0, 0, 0, 0, 0, 0, 0, 0, 0, 0, 0, 0, 0, 0, 0, 0, 0, 0, 0, 0, 0, 0, 0, 0, 0, 0, 0, 0, 1, 0, 0, 0, 0, 0, 0, 0, 0, 0, 0, 0, 0, 0, 0, 0, 0, 0, 0, 0, 0, 0, 0, 0, 0, 0, 0, 0, 0, 0, 0, 0, 0, 0, 0, 0, 0, 0, 0, 0, 0, 0, 0, 0, 0, 0, 0, 0, 0, 0, 1, 0, 0, 0, 0, 0, 0, 0, 0, 0, 0, 0, 0, 0, 0, 0, 0, 0, 0, 0, 0, 0, 0, 0, 0, 0, 0, 0, 0, 0, 0, 0, 0, 0, 0, 0, 0, 0, 0, 0, 0, 0, 0, 0, 0, 0, 0, 0, 0, 0, 0, 0, 0, 0, 0, 0, 0, 0, 0, 0, 0, 0, 0, 0, 0, 0, 0, 0, 0, 0, 0, 0, 0, 0, 0, 0, 0, 0, 0, 0, 0, 0, 0, 0, 0, 0, 0, 0, 0, 0, 0, 0, 0, 0, 0, 0, 0, 0, 0, 0, 0, 0, 0, 0, 0, 0, 0, 0, 0, 0, 0, 0, 0, 0, 0, 0, 0, 0, 0, 0, 0, 0, 0, 0, 0, 0, 0, 0, 0, 0, 0, 0, 0, 0, 0, 0, 0, 0, 0, 0, 0, 0, 0, 0, 0, 0, 0, 0, 0, 0, 0, 0, 0, 0, 0, 0, 0, 0, 0, 0, 0, 0, 0, 0, 0, 0, 0, 0, 0, 0, 0, 0, 0, 0, 0, 0, 0, 0, 0, 0, 0, 0, 0, 0, 0, 0, 0, 0, 0, 0, 0, 0, 0, 0, 0, 0, 0, 0, 0, 0, 0, 0, 0, 0, 0, 0, 0, 0, 0, 0, 0, 0, 0, 0, 0, 0, 0, 0, 0, 0, 0, 0, 0, 0, 0, 0, 0, 0, 0, 0, 0, 0, 0, 0, 0, 0, 0, 0, 0, 0, 0, 0, 0, 0, 0, 0, 0, 0, 0, 0, 0, 0, 0, 0, 0, 0, 0, 0, 0, 0, 0, 0, 0, 0, 0, 0, 0, 0, 0, 0, 0, 0, 0, 0, 0, 0, 0, 0, 0, 0, 0, 0, 0, 0, 0, 0, 0, 0, 0, 0, 0, 0, 0, 0, 0, 0, 0, 0, 0, 0, 0, 0, 0, 0, 0, 0, 0, 0, 0, 0, 0, 0, 0, 0, 0, 0, 0, 0, 0, 0, 0, 0, 0, 0, 0, 0, 0, 0, 0, 0, 0, 0, 0, 0, 0, 0, 0, 0, 0, 0, 0, 0, 0, 0, 0, 0, 0, 0, 0, 0, 0, 0, 0, 0, 0, 0, 0, 0, 0, 0, 0, 0, 0, 0, 0, 0, 0, 0, 0, 0, 0, 0, 0, 0, 0, 0, 0, 0, 0, 0, 0, 0, 0, 0, 0, 0, 0, 0, 0, 0, 0, 0, 0, 0, 0, 0, 0, 0, 0, 0, 0, 0, 0, 0, 0, 0, 0, 0, 0, 0, 0, 0, 0, 0, 0, 0, 0, 0, 0, 0, 0, 0, 0, 0, 0, 0, 0, 0, 0, 0, 1, 0, 0, 0, 0, 0, 0, 0, 0, 0, 0, 0, 0, 0, 0, 0, 0, 0, 0, 0, 0, 0, 0, 0, 0, 0, 0, 0, 0, 0, 0, 0, 0, 0, 0, 0, 0, 0, 0, 0, 0, 0, 0, 0, 0, 0, 0, 0, 0, 0, 0, 0, 0, 0, 0, 0, 0, 0, 0, 0, 0, 0]\n"
     ]
    }
   ],
   "source": [
    "test_bow = bow_encoding(test_words, vocabulary)\n",
    "print(test_bow)"
   ]
  },
  {
   "cell_type": "code",
   "execution_count": 75,
   "metadata": {},
   "outputs": [
    {
     "data": {
      "text/plain": [
       "5000"
      ]
     },
     "execution_count": 75,
     "metadata": {},
     "output_type": "execute_result"
    }
   ],
   "source": [
    "len(test_bow)"
   ]
  },
  {
   "cell_type": "markdown",
   "metadata": {},
   "source": [
    "So now we know how to construct a bag of words encoding of a user provided review, how to we send it to our endpoint? First, we need to start the endpoint back up."
   ]
  },
  {
   "cell_type": "code",
   "execution_count": 65,
   "metadata": {},
   "outputs": [
    {
     "name": "stderr",
     "output_type": "stream",
     "text": [
      "Parameter image will be renamed to image_uri in SageMaker Python SDK v2.\n",
      "Using already existing model: xgboost-2020-09-26-03-04-01-091\n"
     ]
    },
    {
     "name": "stdout",
     "output_type": "stream",
     "text": [
      "-------------!"
     ]
    }
   ],
   "source": [
    "xgb_predictor = xgb.deploy(initial_instance_count = 1, instance_type = 'ml.m4.xlarge')"
   ]
  },
  {
   "cell_type": "markdown",
   "metadata": {},
   "source": [
    "At this point we could just do the same thing that we did earlier when we tested our deployed model and send `test_bow` to our endpoint using the `xgb_predictor` object. However, when we eventually construct our Lambda function we won't have access to this object, so how do we call a SageMaker endpoint?\n",
    "\n",
    "It turns out that Python functions that are used in Lambda have access to another Amazon library called `boto3`. This library provides an API for working with Amazon services, including SageMaker. To start with, we need to get a handle to the SageMaker runtime."
   ]
  },
  {
   "cell_type": "code",
   "execution_count": 66,
   "metadata": {},
   "outputs": [],
   "source": [
    "import boto3\n",
    "\n",
    "runtime = boto3.Session().client('sagemaker-runtime')"
   ]
  },
  {
   "cell_type": "markdown",
   "metadata": {},
   "source": [
    "And now that we have access to the SageMaker runtime, we can ask it to make use of (invoke) an endpoint that has already been created. However, we need to provide SageMaker with the name of the deployed endpoint. To find this out we can print it out using the `xgb_predictor` object."
   ]
  },
  {
   "cell_type": "code",
   "execution_count": 67,
   "metadata": {},
   "outputs": [
    {
     "data": {
      "text/plain": [
       "'xgboost-2020-09-26-03-04-01-091'"
      ]
     },
     "execution_count": 67,
     "metadata": {},
     "output_type": "execute_result"
    }
   ],
   "source": [
    "xgb_predictor.endpoint"
   ]
  },
  {
   "cell_type": "markdown",
   "metadata": {},
   "source": [
    "Using the SageMaker runtime and the name of our endpoint, we can invoke the endpoint and send it the `test_bow` data."
   ]
  },
  {
   "cell_type": "code",
   "execution_count": 49,
   "metadata": {},
   "outputs": [
    {
     "ename": "ParamValidationError",
     "evalue": "Parameter validation failed:\nInvalid type for parameter Body, value: [0, 0, 0, 0, 0, 0, 0, 0, 0, 0, 0, 0, 0, 0, 0, 0, 0, 0, 0, 0, 0, 0, 0, 0, 0, 0, 0, 0, 0, 0, 0, 0, 0, 0, 0, 0, 0, 0, 0, 0, 0, 0, 0, 0, 0, 0, 0, 0, 0, 0, 0, 0, 0, 0, 0, 0, 0, 0, 0, 0, 0, 0, 0, 0, 0, 0, 0, 0, 0, 0, 0, 0, 0, 0, 0, 0, 0, 0, 0, 0, 0, 0, 0, 0, 0, 0, 0, 0, 0, 0, 0, 0, 0, 0, 0, 0, 0, 0, 0, 0, 0, 0, 0, 0, 0, 0, 0, 0, 0, 0, 0, 0, 0, 0, 0, 0, 0, 0, 0, 0, 0, 0, 0, 0, 0, 0, 0, 0, 0, 0, 0, 0, 0, 0, 0, 0, 0, 0, 0, 0, 0, 0, 0, 0, 0, 0, 0, 0, 0, 0, 0, 0, 0, 0, 0, 0, 0, 0, 0, 0, 0, 0, 0, 0, 0, 0, 0, 0, 0, 0, 0, 0, 0, 0, 0, 0, 0, 0, 0, 0, 0, 0, 0, 0, 0, 0, 0, 0, 0, 0, 0, 0, 0, 0, 0, 0, 0, 0, 0, 0, 0, 0, 0, 0, 0, 0, 0, 0, 0, 0, 0, 0, 0, 0, 0, 0, 0, 0, 0, 0, 0, 0, 0, 0, 0, 1, 0, 0, 0, 0, 0, 0, 0, 0, 0, 0, 0, 0, 0, 0, 0, 0, 0, 0, 0, 0, 0, 0, 0, 0, 0, 0, 0, 0, 1, 0, 0, 0, 0, 0, 0, 0, 0, 0, 0, 0, 0, 0, 0, 0, 0, 0, 0, 0, 0, 0, 0, 0, 0, 0, 0, 0, 0, 0, 0, 0, 0, 0, 0, 0, 0, 0, 0, 0, 0, 0, 0, 0, 0, 0, 0, 0, 0, 0, 0, 0, 0, 0, 0, 0, 0, 0, 0, 0, 0, 0, 0, 0, 0, 0, 0, 0, 0, 0, 0, 0, 0, 0, 0, 0, 0, 0, 0, 0, 0, 0, 0, 0, 0, 0, 0, 0, 0, 0, 0, 0, 0, 0, 0, 0, 0, 0, 0, 0, 0, 0, 0, 0, 0, 0, 0, 0, 0, 0, 0, 0, 0, 0, 0, 0, 0, 0, 0, 0, 0, 0, 0, 0, 0, 0, 0, 0, 0, 0, 0, 0, 0, 0, 0, 0, 0, 0, 0, 0, 0, 0, 0, 0, 0, 0, 0, 0, 0, 0, 0, 0, 0, 0, 0, 0, 0, 0, 0, 0, 0, 0, 0, 0, 0, 0, 0, 0, 0, 0, 0, 0, 0, 0, 0, 0, 0, 0, 0, 0, 0, 0, 0, 0, 0, 0, 0, 0, 0, 0, 0, 0, 0, 0, 0, 0, 0, 0, 0, 0, 0, 0, 0, 0, 0, 0, 0, 0, 0, 0, 0, 0, 0, 0, 0, 0, 0, 0, 0, 0, 0, 0, 0, 0, 0, 0, 0, 0, 0, 0, 0, 0, 0, 0, 0, 0, 0, 0, 0, 0, 0, 0, 0, 0, 0, 0, 0, 0, 0, 0, 0, 0, 0, 0, 0, 0, 0, 0, 0, 0, 0, 0, 0, 0, 0, 0, 0, 0, 0, 0, 0, 0, 0, 0, 0, 0, 0, 0, 0, 0, 0, 0, 0, 0, 0, 0, 0, 0, 0, 0, 0, 0, 0, 0, 0, 0, 0, 0, 0, 0, 0, 0, 0, 0, 0, 0, 0, 0, 0, 0, 0, 0, 0, 0, 0, 0, 0, 0, 0, 0, 0, 0, 0, 0, 0, 0, 0, 0, 0, 0, 0, 0, 0, 0, 0, 0, 0, 0, 0, 0, 0, 0, 0, 0, 0, 0, 0, 0, 0, 0, 0, 0, 0, 0, 0, 0, 0, 0, 0, 0, 0, 0, 0, 0, 0, 0, 0, 0, 0, 0, 0, 0, 0, 0, 0, 0, 0, 0, 0, 0, 0, 1, 0, 0, 0, 0, 0, 0, 0, 0, 0, 0, 0, 0, 0, 0, 0, 0, 0, 0, 0, 0, 0, 0, 0, 0, 0, 0, 0, 0, 0, 0, 0, 0, 0, 0, 0, 0, 0, 0, 0, 0, 0, 0, 0, 0, 0, 0, 0, 0, 0, 0, 0, 0, 0, 0, 0, 0, 0, 0, 0, 0, 0, 0, 0, 0, 0, 0, 0, 0, 0, 0, 0, 0, 0, 0, 0, 0, 0, 0, 0, 0, 0, 0, 0, 0, 0, 0, 0, 0, 0, 0, 0, 0, 0, 0, 0, 0, 0, 0, 0, 0, 0, 0, 0, 0, 0, 0, 0, 0, 0, 0, 0, 0, 0, 0, 0, 0, 0, 0, 0, 0, 0, 0, 0, 0, 0, 0, 0, 0, 0, 0, 0, 0, 0, 0, 0, 0, 0, 0, 0, 0, 0, 0, 0, 0, 0, 0, 0, 0, 0, 0, 0, 0, 0, 0, 0, 0, 0, 0, 0, 0, 0, 0, 0, 0, 0, 0, 0, 0, 0, 0, 0, 0, 0, 0, 0, 0, 0, 0, 0, 0, 0, 0, 0, 0, 0, 0, 0, 0, 0, 0, 0, 0, 0, 0, 0, 0, 0, 0, 0, 0, 0, 0, 0, 0, 0, 0, 0, 0, 0, 0, 0, 0, 0, 0, 0, 0, 0, 0, 0, 0, 0, 0, 0, 0, 0, 0, 0, 0, 0, 0, 0, 0, 0, 0, 0, 0, 0, 0, 0, 0, 0, 0, 0, 0, 0, 0, 0, 0, 0, 0, 0, 0, 0, 1, 0, 0, 0, 0, 0, 0, 0, 0, 0, 0, 0, 0, 0, 0, 0, 0, 0, 0, 0, 0, 0, 0, 0, 0, 0, 0, 0, 0, 0, 0, 0, 0, 0, 0, 0, 0, 0, 0, 0, 0, 0, 0, 0, 0, 0, 0, 0, 0, 0, 0, 0, 0, 0, 0, 0, 0, 0, 0, 0, 0, 0, 0, 0, 0, 0, 0, 0, 0, 0, 0, 0, 0, 0, 0, 0, 0, 0, 0, 0, 0, 0, 0, 0, 0, 0, 0, 1, 0, 0, 0, 0, 0, 0, 0, 0, 0, 0, 0, 0, 0, 0, 0, 0, 0, 0, 0, 0, 0, 0, 0, 0, 0, 0, 0, 0, 0, 0, 0, 0, 0, 0, 0, 0, 0, 0, 0, 0, 0, 0, 0, 0, 0, 0, 0, 0, 0, 0, 0, 0, 0, 0, 0, 0, 0, 0, 0, 0, 0, 0, 0, 0, 0, 0, 0, 0, 0, 0, 0, 0, 0, 0, 0, 0, 0, 0, 0, 0, 0, 0, 0, 0, 0, 0, 0, 0, 0, 0, 0, 0, 0, 0, 0, 0, 0, 0, 0, 0, 0, 0, 0, 0, 0, 0, 0, 0, 0, 0, 0, 0, 0, 0, 0, 0, 0, 0, 0, 0, 0, 0, 0, 0, 0, 0, 0, 0, 0, 0, 0, 0, 0, 0, 0, 0, 0, 0, 0, 0, 0, 0, 0, 0, 0, 0, 0, 0, 0, 0, 0, 0, 0, 0, 0, 0, 0, 0, 0, 0, 0, 0, 0, 0, 0, 0, 0, 0, 0, 0, 0, 0, 0, 0, 0, 0, 0, 0, 0, 0, 0, 0, 0, 0, 0, 0, 0, 0, 0, 0, 0, 0, 0, 0, 0, 0, 0, 0, 0, 0, 0, 0, 0, 0, 0, 0, 0, 0, 0, 0, 0, 0, 0, 0, 0, 0, 0, 0, 0, 0, 0, 0, 0, 0, 0, 0, 0, 0, 0, 0, 0, 0, 0, 0, 0, 0, 0, 0, 0, 0, 0, 0, 0, 0, 0, 0, 0, 0, 0, 0, 0, 0, 1, 0, 0, 0, 0, 0, 0, 0, 0, 0, 0, 0, 0, 0, 0, 0, 0, 0, 0, 0, 0, 0, 0, 0, 0, 0, 0, 0, 0, 0, 0, 0, 0, 0, 0, 0, 0, 0, 0, 0, 0, 0, 0, 0, 0, 0, 0, 0, 0, 0, 0, 0, 0, 0, 0, 0, 1, 0, 0, 0, 0, 0, 0, 0, 0, 0, 0, 0, 0, 0, 0, 0, 0, 0, 0, 0, 0, 0, 0, 0, 0, 0, 0, 0, 0, 0, 0, 0, 0, 0, 0, 0, 0, 0, 0, 0, 0, 0, 0, 0, 0, 0, 0, 0, 0, 0, 0, 0, 0, 0, 0, 0, 0, 0, 0, 0, 0, 0, 0, 0, 0, 0, 0, 0, 0, 0, 0, 0, 0, 0, 0, 0, 0, 0, 0, 0, 0, 0, 0, 0, 0, 0, 0, 0, 0, 0, 0, 0, 0, 0, 0, 0, 0, 0, 0, 0, 0, 0, 0, 0, 0, 0, 0, 0, 0, 0, 0, 0, 0, 0, 0, 0, 0, 0, 0, 0, 0, 0, 0, 0, 0, 0, 0, 0, 0, 0, 0, 0, 0, 0, 0, 0, 0, 0, 0, 0, 0, 0, 0, 0, 0, 0, 0, 0, 0, 0, 0, 0, 0, 0, 0, 0, 0, 0, 0, 0, 0, 0, 0, 0, 0, 0, 0, 0, 0, 0, 0, 0, 0, 0, 0, 0, 0, 0, 0, 0, 0, 0, 0, 0, 0, 0, 0, 0, 0, 0, 0, 0, 0, 0, 0, 0, 0, 0, 0, 0, 0, 0, 0, 0, 0, 0, 0, 0, 0, 0, 0, 0, 0, 0, 0, 0, 0, 0, 0, 0, 0, 0, 0, 0, 0, 0, 0, 0, 0, 0, 0, 0, 0, 0, 0, 0, 0, 0, 0, 0, 0, 0, 0, 0, 0, 0, 0, 0, 0, 0, 0, 0, 0, 0, 0, 0, 0, 0, 0, 0, 0, 0, 0, 0, 0, 0, 0, 0, 0, 0, 0, 0, 0, 0, 0, 0, 0, 0, 0, 0, 0, 0, 0, 0, 0, 0, 0, 0, 0, 0, 0, 0, 0, 0, 0, 0, 0, 0, 0, 0, 0, 0, 0, 0, 0, 0, 0, 0, 0, 0, 0, 0, 0, 0, 0, 0, 0, 0, 0, 0, 0, 0, 0, 0, 0, 0, 0, 0, 0, 0, 0, 0, 0, 0, 0, 0, 0, 0, 0, 0, 0, 0, 0, 0, 0, 0, 0, 0, 0, 0, 0, 0, 0, 0, 0, 0, 0, 0, 0, 0, 0, 0, 0, 0, 0, 0, 0, 0, 0, 0, 0, 0, 0, 0, 0, 0, 0, 0, 0, 0, 0, 0, 0, 0, 0, 0, 0, 0, 0, 0, 0, 0, 0, 0, 0, 0, 0, 0, 0, 0, 0, 0, 0, 0, 0, 0, 0, 0, 0, 0, 0, 0, 0, 0, 0, 0, 0, 0, 0, 0, 0, 0, 0, 0, 0, 0, 0, 0, 0, 0, 0, 0, 0, 0, 0, 0, 0, 0, 0, 0, 0, 0, 0, 0, 0, 0, 0, 0, 0, 0, 0, 0, 0, 0, 0, 0, 0, 0, 0, 0, 0, 0, 0, 0, 0, 0, 0, 0, 0, 0, 0, 0, 0, 0, 0, 0, 0, 0, 0, 0, 0, 0, 0, 0, 0, 0, 0, 0, 0, 0, 0, 0, 0, 0, 0, 0, 0, 0, 0, 0, 0, 0, 0, 0, 0, 0, 0, 0, 0, 0, 0, 0, 0, 0, 0, 0, 0, 0, 0, 0, 0, 0, 0, 0, 0, 0, 0, 0, 0, 0, 0, 0, 0, 0, 0, 0, 0, 0, 0, 0, 0, 0, 0, 0, 0, 0, 0, 0, 0, 0, 0, 0, 0, 0, 0, 0, 0, 0, 0, 0, 0, 0, 0, 0, 0, 0, 0, 0, 0, 0, 0, 0, 0, 0, 0, 0, 0, 0, 0, 0, 0, 0, 0, 0, 0, 0, 0, 0, 0, 0, 0, 0, 0, 0, 0, 0, 0, 0, 0, 0, 0, 0, 0, 0, 0, 0, 0, 0, 0, 0, 0, 0, 0, 0, 0, 0, 0, 0, 0, 0, 0, 0, 0, 0, 0, 0, 0, 0, 0, 0, 0, 0, 0, 0, 0, 0, 0, 0, 0, 0, 0, 0, 0, 0, 0, 0, 0, 0, 0, 0, 0, 0, 0, 0, 0, 0, 0, 0, 0, 0, 0, 0, 0, 0, 0, 0, 0, 0, 0, 0, 0, 0, 0, 0, 0, 0, 0, 0, 0, 0, 0, 1, 0, 0, 0, 0, 0, 0, 0, 0, 0, 0, 0, 0, 0, 0, 0, 0, 0, 0, 0, 0, 0, 0, 0, 0, 0, 0, 0, 0, 0, 0, 0, 0, 0, 0, 0, 0, 0, 0, 0, 0, 0, 0, 0, 0, 0, 0, 0, 0, 0, 0, 0, 0, 0, 0, 0, 0, 0, 0, 0, 0, 0, 0, 0, 0, 0, 0, 0, 0, 0, 0, 0, 0, 0, 0, 1, 0, 0, 0, 0, 0, 0, 0, 0, 0, 0, 0, 0, 0, 0, 0, 0, 0, 0, 0, 0, 1, 0, 0, 1, 0, 0, 0, 0, 0, 0, 0, 0, 0, 0, 0, 0, 0, 0, 0, 0, 0, 0, 0, 0, 0, 0, 0, 0, 0, 0, 0, 0, 0, 0, 0, 0, 0, 0, 0, 0, 0, 0, 0, 0, 0, 0, 0, 0, 0, 0, 0, 0, 0, 0, 0, 0, 0, 0, 0, 0, 0, 0, 0, 0, 0, 0, 0, 0, 0, 0, 0, 0, 0, 0, 0, 0, 0, 0, 0, 0, 0, 0, 0, 0, 0, 0, 0, 0, 0, 0, 0, 0, 0, 0, 0, 0, 0, 0, 0, 0, 0, 0, 0, 0, 0, 0, 0, 0, 0, 0, 0, 0, 0, 0, 0, 0, 0, 0, 0, 0, 0, 0, 0, 0, 0, 0, 0, 0, 0, 0, 0, 0, 0, 0, 0, 0, 0, 0, 0, 0, 0, 0, 0, 0, 0, 0, 0, 0, 0, 0, 0, 0, 0, 0, 0, 0, 0, 0, 0, 0, 0, 0, 0, 0, 0, 0, 0, 0, 0, 0, 0, 0, 0, 0, 0, 0, 0, 0, 0, 0, 0, 0, 0, 0, 0, 0, 0, 0, 0, 0, 0, 0, 0, 0, 0, 0, 0, 0, 0, 0, 0, 0, 0, 0, 0, 0, 0, 0, 0, 0, 0, 0, 0, 0, 0, 0, 0, 0, 0, 0, 0, 0, 0, 0, 0, 0, 0, 0, 0, 0, 0, 0, 0, 0, 0, 0, 0, 0, 0, 0, 0, 0, 0, 0, 0, 0, 0, 0, 0, 0, 0, 0, 0, 0, 0, 0, 0, 0, 0, 0, 0, 0, 0, 0, 0, 0, 0, 0, 0, 0, 0, 0, 0, 0, 0, 0, 0, 0, 0, 0, 0, 0, 0, 0, 0, 0, 0, 0, 0, 0, 0, 0, 0, 0, 0, 0, 0, 0, 0, 0, 0, 0, 0, 0, 0, 0, 0, 0, 0, 0, 0, 0, 0, 0, 0, 0, 0, 0, 0, 0, 0, 0, 0, 0, 0, 0, 0, 0, 0, 0, 0, 0, 0, 0, 0, 0, 0, 0, 0, 0, 0, 0, 0, 0, 0, 0, 0, 0, 0, 0, 0, 0, 0, 0, 0, 0, 0, 0, 0, 0, 0, 0, 0, 0, 0, 0, 0, 0, 0, 0, 0, 0, 0, 0, 0, 0, 0, 0, 0, 0, 0, 0, 0, 0, 0, 0, 0, 0, 0, 0, 0, 0, 0, 0, 0, 0, 0, 0, 0, 0, 0, 0, 0, 0, 0, 0, 0, 0, 0, 0, 0, 0, 0, 0, 0, 0, 0, 0, 0, 0, 0, 0, 0, 0, 0, 0, 0, 0, 0, 0, 0, 0, 0, 0, 0, 0, 0, 0, 0, 0, 0, 0, 0, 0, 0, 0, 0, 0, 0, 0, 0, 0, 0, 0, 0, 0, 0, 0, 0, 0, 0, 0, 0, 0, 0, 0, 0, 0, 0, 0, 1, 0, 0, 0, 0, 0, 0, 0, 0, 0, 0, 0, 0, 0, 0, 0, 0, 0, 0, 0, 0, 0, 0, 0, 0, 0, 0, 0, 0, 0, 0, 0, 0, 0, 0, 0, 0, 0, 0, 0, 0, 0, 0, 0, 0, 0, 0, 0, 0, 0, 0, 0, 0, 0, 0, 0, 0, 0, 0, 0, 0, 0, 0, 0, 0, 0, 0, 0, 0, 0, 0, 0, 0, 0, 0, 0, 0, 0, 0, 0, 0, 0, 0, 0, 0, 0, 0, 0, 0, 0, 0, 0, 0, 0, 0, 0, 0, 0, 0, 0, 0, 0, 0, 0, 0, 0, 0, 0, 0, 0, 0, 0, 0, 0, 0, 0, 0, 0, 0, 0, 0, 0, 0, 0, 0, 0, 0, 0, 0, 0, 0, 0, 0, 0, 0, 0, 0, 0, 0, 0, 0, 0, 0, 0, 0, 0, 0, 0, 0, 0, 0, 0, 0, 0, 0, 0, 0, 0, 0, 0, 0, 0, 0, 0, 0, 0, 0, 0, 0, 0, 0, 0, 0, 0, 0, 0, 0, 0, 0, 0, 0, 0, 0, 0, 0, 0, 0, 0, 0, 0, 0, 0, 0, 0, 0, 0, 0, 0, 0, 0, 0, 0, 0, 0, 0, 0, 0, 0, 0, 0, 0, 0, 0, 0, 0, 0, 0, 0, 0, 0, 0, 0, 0, 0, 0, 0, 0, 0, 0, 0, 0, 0, 0, 0, 0, 0, 0, 0, 0, 0, 0, 0, 0, 0, 0, 0, 0, 0, 0, 0, 0, 0, 0, 0, 0, 0, 0, 0, 0, 0, 0, 0, 0, 0, 0, 0, 0, 0, 0, 0, 0, 0, 0, 0, 0, 0, 0, 0, 0, 0, 0, 0, 0, 0, 0, 0, 0, 0, 0, 0, 0, 0, 0, 0, 0, 0, 0, 0, 0, 0, 0, 0, 0, 0, 0, 0, 0, 0, 0, 0, 0, 0, 0, 0, 0, 0, 0, 0, 0, 0, 0, 0, 0, 0, 0, 0, 0, 0, 0, 0, 0, 0, 0, 0, 0, 0, 0, 0, 0, 0, 0, 0, 0, 0, 0, 0, 0, 0, 0, 0, 0, 0, 0, 0, 0, 0, 0, 0, 0, 0, 0, 0, 0, 0, 0, 0, 0, 0, 0, 0, 0, 0, 0, 0, 0, 0, 0, 0, 0, 0, 0, 0, 0, 0, 0, 0, 0, 0, 0, 0, 0, 0, 0, 0, 0, 0, 0, 0, 0, 0, 0, 0, 0, 0, 0, 0, 0, 0, 0, 0, 0, 0, 0, 0, 0, 0, 0, 0, 0, 0, 0, 0, 0, 0, 0, 0, 0, 0, 0, 0, 0, 0, 0, 0, 0, 0, 0, 0, 0, 0, 0, 0, 0, 0, 0, 0, 0, 0, 0, 0, 0, 0, 0, 0, 0, 0, 0, 0, 0, 0, 0, 0, 0, 0, 0, 0, 0, 0, 0, 0, 0, 0, 0, 0, 0, 0, 0, 0, 0, 0, 0, 0, 0, 0, 0, 0, 0, 0, 0, 0, 0, 0, 0, 0, 0, 0, 0, 0, 0, 0, 0, 0, 0, 0, 0, 0, 0, 0, 0, 0, 0, 0, 0, 0, 0, 1, 0, 0, 0, 0, 0, 0, 0, 0, 0, 0, 0, 0, 0, 0, 0, 0, 0, 0, 0, 0, 0, 0, 0, 0, 0, 0, 0, 0, 0, 0, 0, 0, 0, 0, 0, 2, 0, 0, 0, 0, 0, 0, 0, 0, 0, 0, 0, 0, 0, 0, 0, 0, 0, 0, 0, 0, 0, 0, 0, 0, 0, 0, 0, 0, 0, 0, 0, 0, 0, 0, 0, 0, 0, 0, 0, 0, 1, 0, 0, 0, 0, 0, 0, 0, 0, 0, 0, 0, 0, 0, 0, 0, 0, 0, 0, 0, 0, 0, 0, 0, 0, 0, 0, 0, 0, 0, 0, 0, 0, 0, 0, 0, 0, 0, 0, 0, 0, 0, 0, 0, 0, 0, 0, 0, 0, 0, 0, 0, 0, 0, 0, 0, 0, 0, 0, 0, 0, 0, 0, 0, 0, 0, 0, 0, 0, 0, 0, 0, 0, 0, 0, 0, 0, 0, 0, 0, 0, 0, 0, 0, 0, 0, 0, 0, 0, 0, 0, 0, 0, 0, 0, 0, 0, 0, 0, 0, 0, 0, 0, 0, 0, 0, 0, 0, 0, 0, 0, 0, 0, 0, 0, 0, 0, 0, 0, 0, 0, 0, 0, 0, 0, 0, 0, 0, 0, 0, 0, 0, 0, 0, 0, 0, 0, 0, 0, 0, 0, 0, 0, 0, 0, 0, 0, 0, 0, 0, 0, 0, 0, 0, 0, 0, 0, 0, 0, 0, 0, 0, 0, 0, 0, 0, 0, 0, 0, 0, 0, 0, 0, 0, 0, 0, 0, 0, 0, 0, 0, 0, 0, 0, 0, 0, 0, 0, 0, 0, 0, 0, 0, 0, 0, 0, 0, 0, 0, 0, 0, 0, 0, 0, 0, 0, 0, 0, 0, 0, 0, 0, 0, 0, 0, 0, 0, 0, 0, 0, 0, 0, 0, 0, 0, 0, 0, 0, 0, 0, 0, 0, 0, 0, 0, 0, 0, 0, 0, 0, 0, 0, 0, 0, 0, 0, 0, 0, 0, 0, 0, 0, 0, 0, 0, 0, 0, 0, 0, 0, 0, 0, 0, 0, 0, 0, 0, 0, 0, 0, 0, 0, 0, 0, 0, 0, 0, 0, 0, 0, 0, 0, 0, 0, 0, 0, 0, 0, 0, 0, 0, 0, 0, 0, 0, 0, 0, 0, 0, 0, 0, 0, 0, 0, 0, 0, 0, 0, 0, 0, 0, 0, 0, 0, 0, 0, 0, 0, 0, 0, 0, 0, 0, 0, 0, 0, 0, 0, 0, 0, 0, 0, 0, 0, 0, 0, 0, 0, 0, 0, 0, 0, 0, 0, 0, 0, 0, 0, 0, 0, 0, 0, 0, 0, 0, 0, 0, 0, 0, 0, 0, 0, 0, 0, 0, 0, 0, 0, 0, 0, 0, 0, 0, 0, 0, 0, 0, 0, 0, 0, 0, 0, 0, 0, 0, 0, 0, 0, 0, 0, 0, 0, 0, 0, 0, 0, 0, 0, 0, 0, 0, 0, 0, 0, 0, 0, 0, 0, 0, 0, 0, 0, 0, 0, 0, 0, 0, 0, 0, 0, 0, 0, 0, 0, 0, 0, 0, 0, 0, 0, 0, 0, 0, 0, 0, 0, 0, 0, 0, 0, 0, 0, 0, 0, 0, 0, 0, 0, 0, 0, 0, 0, 0, 0, 0, 0, 0, 0, 0, 0, 0, 0, 0, 0, 0, 0, 0, 0, 0, 0, 0, 0, 0, 0, 0, 0, 0, 0, 0, 0, 0, 0, 0, 0, 0, 0, 0, 0, 0, 0, 0, 0, 0, 0, 0, 0, 0, 1, 0, 0, 0, 0, 0, 0, 0, 0, 0, 0, 0, 0, 0, 0, 0, 0, 0, 0, 0, 0, 0, 0, 0, 0, 0, 0, 0, 0, 0, 0, 0, 0, 0, 0, 0, 0, 0, 0, 0, 0, 0, 0, 0, 0, 0, 0, 0, 0, 0, 0, 0, 0, 0, 0, 0, 0, 0, 0, 0, 0, 0, 0, 0, 0, 0, 0, 0, 0, 0, 0, 0, 0, 0, 0, 0, 0, 0, 0, 0, 0, 0, 0, 0, 0, 0, 0, 0, 0, 0, 0, 0, 0, 0, 0, 0, 0, 0, 0, 0, 0, 0, 0, 0, 0, 0, 0, 0, 0, 0, 2, 0, 0, 0, 0, 0, 0, 0, 0, 0, 0, 0, 0, 0, 0, 0, 0, 0, 0, 0, 0, 0, 0, 0, 0, 0, 0, 0, 0, 0, 0, 0, 0, 0, 0, 0, 0, 0, 0, 0, 0, 0, 0, 0, 0, 0, 0, 0, 0, 0, 0, 0, 0, 0, 0, 0, 0, 0, 0, 0, 0, 0, 0, 0, 0, 0, 0, 0, 0, 0, 0, 0, 0, 0, 0, 0, 0, 0, 0, 0, 0, 0, 0, 0, 0, 0, 0, 0, 0, 0, 0, 0, 0, 0, 0, 0, 0, 0, 0, 0, 0, 0, 0, 0, 0, 0, 0, 0, 0, 0, 0, 0, 0, 0, 0, 0, 0, 0, 0, 0, 0, 0, 0, 0, 0, 0, 0, 0, 0, 0, 0, 0, 0, 0, 0, 0, 0, 0, 0, 0, 0, 0, 0, 0, 0, 0, 0, 0, 0, 0, 0, 0, 0, 0, 0, 0, 0, 0, 0, 0, 0, 0, 0, 0, 0, 0, 0, 0, 0, 0, 0, 0, 0, 0, 0, 0, 0, 0, 0, 0, 0, 0, 0, 0, 0, 0, 0, 0, 0, 0, 0, 0, 0, 0, 0, 0, 0, 0, 0, 0, 0, 0, 0, 0, 0, 0, 0, 0, 0, 0, 0, 0, 0, 0, 0, 0, 0, 0, 0, 0, 0, 0, 0, 0, 0, 0, 0, 0, 0, 0, 0, 0, 0, 0, 0, 0, 0, 0, 0, 0, 0, 0, 0, 0, 0, 0, 0, 0, 0, 0, 0, 0, 0, 0, 0, 0, 0, 0, 0, 0, 0, 0, 0, 0, 0, 0, 0, 0, 0, 0, 0, 0, 0, 0, 0, 0, 0, 0, 0, 0, 0, 0, 0, 0, 0, 0, 0, 0, 0, 0, 0, 0, 0, 0, 0, 0, 0, 0, 0, 0, 0, 0, 0, 0, 0, 0, 0, 0, 0, 0, 0, 0, 0, 0, 0, 0, 0, 0, 0, 0, 0, 0, 0, 0, 0, 0, 0, 0, 0, 0, 0, 0, 0, 0, 0, 0, 0, 0, 0, 0, 0, 0, 0, 0, 0, 0, 0, 0, 0, 0, 0, 0, 0, 0, 0, 0, 0, 0, 0, 0, 0, 0, 0, 0, 0, 0, 0, 0, 0, 0, 0, 0, 0, 0, 0, 0, 0, 0, 0, 0, 0, 0, 0, 0, 0, 0, 0, 0, 0, 0, 0, 0, 0, 0, 0, 0, 0, 0, 0, 0, 0, 0, 0, 0, 0, 0, 0, 0, 0, 0, 0, 0, 0, 0, 0, 0, 0, 0, 0, 0, 0, 0, 0, 0, 0, 0, 0, 0, 0, 0, 0, 0, 0, 0, 0, 0, 0, 0, 0, 0, 0, 0, 0, 0, 0, 0, 0, 0, 0, 0, 0, 0, 0, 0, 0, 0, 0, 0, 0, 0, 0, 0, 0, 0, 0, 0, 0, 0, 0, 0, 0, 0, 0, 0, 0, 0, 0, 0, 0, 0, 0, 0, 0, 0, 0, 0, 0, 0, 0, 0, 0, 0, 0, 0, 0, 0, 0, 0, 0, 0, 0, 0, 0, 0, 0, 0, 0, 0, 0, 0, 0, 0, 0, 0, 0, 0, 0, 0, 0, 0, 0, 0, 0, 0, 0, 0, 0, 0, 0, 0, 0, 0, 0, 0, 0, 0, 0, 0, 0, 0, 0, 0, 0, 0, 0, 0, 0, 0, 0, 0, 0, 0, 0, 0, 0, 0, 0, 0, 0, 0, 0, 0, 0, 0, 0, 0, 0, 0, 0, 0, 0, 0, 0, 0, 0, 0, 0, 0, 0, 0, 0, 0, 0, 0, 0, 0, 0, 0, 0, 0, 0, 0, 0, 0, 0, 0, 0, 0, 0, 0, 0, 0, 0, 0, 0, 0, 0, 0, 0, 0, 0, 0, 0, 0, 0, 0, 0, 0, 0, 0, 0, 0, 0, 0, 0, 0, 0, 0, 0, 0, 0, 0, 0, 0, 0, 0, 0, 0, 0, 0, 0, 0, 0, 0, 0, 0, 0, 0, 0, 0, 0, 0, 0, 0, 0, 0, 0, 0, 0, 0, 0, 0, 0, 0, 0, 0, 0, 0, 0, 0, 0, 0, 0, 0, 0, 0, 0, 0, 0, 0, 0, 0, 0, 0, 0, 0, 0, 0, 0, 0, 0, 1, 0, 0, 0, 0, 0, 0, 0, 0, 0, 0, 0, 0, 0, 0, 0, 0, 0, 0, 0, 0, 0, 0, 0, 0, 0, 0, 0, 0, 0, 0, 0, 0, 0, 0, 0, 0, 0, 0, 0, 0, 0, 0, 0, 0, 0, 0, 0, 0, 0, 0, 0, 0, 0, 0, 0, 0, 0, 0, 0, 0, 0, 0, 0, 0, 0, 0, 0, 0, 0, 0, 0, 0, 0, 0, 0, 0, 0, 0, 0, 0, 0, 0, 0, 0, 0, 0, 0, 0, 0, 0, 0, 0, 0, 0, 0, 0, 0, 0, 0, 0, 0, 0, 0, 0, 0, 0, 0, 1, 0, 0, 0, 0, 0, 0, 0, 0, 0, 0, 0, 0, 0, 0, 0, 0, 0, 0, 0, 0, 0, 0, 0, 0, 0, 0, 0, 0, 0, 0, 0, 0, 0, 0, 0, 0, 0, 0, 0, 0, 0, 0, 0, 0, 0, 0, 0, 0, 0, 0, 0, 0, 0, 0, 0, 0, 0, 0, 0, 0, 0, 0, 0, 0, 0, 0, 0, 0, 0, 0, 0, 0, 0, 0, 0, 0, 0, 0, 0, 0, 0, 0, 0, 0, 0, 0, 0, 0, 0, 0, 0, 0, 0, 0, 0, 0, 0, 0, 0, 0, 0, 0, 0, 0, 0, 0, 0, 0, 0, 0, 0, 0, 0, 0, 0, 0, 0, 0, 0, 0, 0, 0, 0, 0, 0, 0, 0, 0, 0, 0, 0, 0, 0, 0, 0, 0, 0, 0, 0, 0, 0, 0, 0, 0, 0, 0, 0, 0, 0, 0, 0, 0, 0, 0, 0, 0, 0, 0, 0, 0, 0, 0, 0, 0, 0, 0, 0, 0, 0, 0, 0, 0, 0, 0, 0, 0, 0, 0, 0, 0, 0, 0, 0, 0, 0, 0, 0, 0, 0, 0, 0, 0, 0, 0, 0, 0, 0, 0, 0, 0, 0, 0, 0, 0, 0, 0, 0, 0, 0, 0, 0, 0, 0, 0, 0, 0, 0, 0, 0, 0, 0, 0, 0, 0, 0, 0, 0, 0, 0, 0, 0, 0, 0, 0, 0, 0, 0, 0, 0, 0, 0, 0, 0, 0, 0, 0, 0, 0, 0, 0, 0, 0, 0, 0, 0, 0, 0, 0, 0, 0, 0, 0, 0, 0, 0, 0, 0, 0, 0, 0, 0, 0, 0, 0, 0, 0, 0, 0, 0, 0, 0, 0, 0, 0, 0, 0, 0, 0, 0, 0, 0, 0, 0, 0, 0, 0, 0, 0, 0, 0, 0, 0, 0, 0, 0, 0, 0, 0, 0, 0, 0, 0, 0, 0, 0, 0, 0, 0, 0, 0, 0, 0, 0, 0, 0, 0, 0, 0, 0, 0, 0, 0, 0, 0, 0, 0, 0, 0, 0, 0, 0, 0, 0, 0, 0, 0, 0, 0, 0, 0, 0, 0, 0, 0, 0, 0, 0, 0, 0, 0, 0, 0, 0, 0, 0, 0, 0, 0, 0, 0, 0, 0, 0, 0, 0, 0, 0, 0, 0, 0, 0, 0, 0, 0, 0, 0, 0, 0, 0, 0, 0, 0, 0, 0, 0, 0, 0, 0, 0, 0, 0, 0, 0, 0, 0, 0, 0, 0, 0, 0, 0, 0, 0, 0, 0, 0, 0, 0, 0, 0, 0, 0, 0, 0, 0, 0, 0, 0, 0, 0, 0, 0, 0, 0, 0, 0, 0, 0, 0, 0, 0, 0, 0, 0, 0, 0, 0, 0, 0, 0, 0, 0, 0, 0, 0, 0, 0, 0, 0, 0, 0, 0, 0, 0, 0, 2, 0, 1, 0], type: <class 'list'>, valid types: <class 'bytes'>, <class 'bytearray'>, file-like object",
     "output_type": "error",
     "traceback": [
      "\u001b[0;31m---------------------------------------------------------------------------\u001b[0m",
      "\u001b[0;31mParamValidationError\u001b[0m                      Traceback (most recent call last)",
      "\u001b[0;32m<ipython-input-49-c9ab54ae3a48>\u001b[0m in \u001b[0;36m<module>\u001b[0;34m\u001b[0m\n\u001b[1;32m      1\u001b[0m response = runtime.invoke_endpoint(EndpointName = xgb_predictor.endpoint, # The name of the endpoint we created\n\u001b[1;32m      2\u001b[0m                                        \u001b[0mContentType\u001b[0m \u001b[0;34m=\u001b[0m \u001b[0;34m'text/csv'\u001b[0m\u001b[0;34m,\u001b[0m                     \u001b[0;31m# The data format that is expected\u001b[0m\u001b[0;34m\u001b[0m\u001b[0;34m\u001b[0m\u001b[0m\n\u001b[0;32m----> 3\u001b[0;31m                                        Body = test_bow)\n\u001b[0m",
      "\u001b[0;32m~/anaconda3/envs/python3/lib/python3.6/site-packages/botocore/client.py\u001b[0m in \u001b[0;36m_api_call\u001b[0;34m(self, *args, **kwargs)\u001b[0m\n\u001b[1;32m    335\u001b[0m                     \"%s() only accepts keyword arguments.\" % py_operation_name)\n\u001b[1;32m    336\u001b[0m             \u001b[0;31m# The \"self\" in this scope is referring to the BaseClient.\u001b[0m\u001b[0;34m\u001b[0m\u001b[0;34m\u001b[0m\u001b[0;34m\u001b[0m\u001b[0m\n\u001b[0;32m--> 337\u001b[0;31m             \u001b[0;32mreturn\u001b[0m \u001b[0mself\u001b[0m\u001b[0;34m.\u001b[0m\u001b[0m_make_api_call\u001b[0m\u001b[0;34m(\u001b[0m\u001b[0moperation_name\u001b[0m\u001b[0;34m,\u001b[0m \u001b[0mkwargs\u001b[0m\u001b[0;34m)\u001b[0m\u001b[0;34m\u001b[0m\u001b[0;34m\u001b[0m\u001b[0m\n\u001b[0m\u001b[1;32m    338\u001b[0m \u001b[0;34m\u001b[0m\u001b[0m\n\u001b[1;32m    339\u001b[0m         \u001b[0m_api_call\u001b[0m\u001b[0;34m.\u001b[0m\u001b[0m__name__\u001b[0m \u001b[0;34m=\u001b[0m \u001b[0mstr\u001b[0m\u001b[0;34m(\u001b[0m\u001b[0mpy_operation_name\u001b[0m\u001b[0;34m)\u001b[0m\u001b[0;34m\u001b[0m\u001b[0;34m\u001b[0m\u001b[0m\n",
      "\u001b[0;32m~/anaconda3/envs/python3/lib/python3.6/site-packages/botocore/client.py\u001b[0m in \u001b[0;36m_make_api_call\u001b[0;34m(self, operation_name, api_params)\u001b[0m\n\u001b[1;32m    627\u001b[0m         }\n\u001b[1;32m    628\u001b[0m         request_dict = self._convert_to_request_dict(\n\u001b[0;32m--> 629\u001b[0;31m             api_params, operation_model, context=request_context)\n\u001b[0m\u001b[1;32m    630\u001b[0m \u001b[0;34m\u001b[0m\u001b[0m\n\u001b[1;32m    631\u001b[0m         \u001b[0mservice_id\u001b[0m \u001b[0;34m=\u001b[0m \u001b[0mself\u001b[0m\u001b[0;34m.\u001b[0m\u001b[0m_service_model\u001b[0m\u001b[0;34m.\u001b[0m\u001b[0mservice_id\u001b[0m\u001b[0;34m.\u001b[0m\u001b[0mhyphenize\u001b[0m\u001b[0;34m(\u001b[0m\u001b[0;34m)\u001b[0m\u001b[0;34m\u001b[0m\u001b[0;34m\u001b[0m\u001b[0m\n",
      "\u001b[0;32m~/anaconda3/envs/python3/lib/python3.6/site-packages/botocore/client.py\u001b[0m in \u001b[0;36m_convert_to_request_dict\u001b[0;34m(self, api_params, operation_model, context)\u001b[0m\n\u001b[1;32m    675\u001b[0m             api_params, operation_model, context)\n\u001b[1;32m    676\u001b[0m         request_dict = self._serializer.serialize_to_request(\n\u001b[0;32m--> 677\u001b[0;31m             api_params, operation_model)\n\u001b[0m\u001b[1;32m    678\u001b[0m         \u001b[0;32mif\u001b[0m \u001b[0;32mnot\u001b[0m \u001b[0mself\u001b[0m\u001b[0;34m.\u001b[0m\u001b[0m_client_config\u001b[0m\u001b[0;34m.\u001b[0m\u001b[0minject_host_prefix\u001b[0m\u001b[0;34m:\u001b[0m\u001b[0;34m\u001b[0m\u001b[0;34m\u001b[0m\u001b[0m\n\u001b[1;32m    679\u001b[0m             \u001b[0mrequest_dict\u001b[0m\u001b[0;34m.\u001b[0m\u001b[0mpop\u001b[0m\u001b[0;34m(\u001b[0m\u001b[0;34m'host_prefix'\u001b[0m\u001b[0;34m,\u001b[0m \u001b[0;32mNone\u001b[0m\u001b[0;34m)\u001b[0m\u001b[0;34m\u001b[0m\u001b[0;34m\u001b[0m\u001b[0m\n",
      "\u001b[0;32m~/anaconda3/envs/python3/lib/python3.6/site-packages/botocore/validate.py\u001b[0m in \u001b[0;36mserialize_to_request\u001b[0;34m(self, parameters, operation_model)\u001b[0m\n\u001b[1;32m    295\u001b[0m                                                     operation_model.input_shape)\n\u001b[1;32m    296\u001b[0m             \u001b[0;32mif\u001b[0m \u001b[0mreport\u001b[0m\u001b[0;34m.\u001b[0m\u001b[0mhas_errors\u001b[0m\u001b[0;34m(\u001b[0m\u001b[0;34m)\u001b[0m\u001b[0;34m:\u001b[0m\u001b[0;34m\u001b[0m\u001b[0;34m\u001b[0m\u001b[0m\n\u001b[0;32m--> 297\u001b[0;31m                 \u001b[0;32mraise\u001b[0m \u001b[0mParamValidationError\u001b[0m\u001b[0;34m(\u001b[0m\u001b[0mreport\u001b[0m\u001b[0;34m=\u001b[0m\u001b[0mreport\u001b[0m\u001b[0;34m.\u001b[0m\u001b[0mgenerate_report\u001b[0m\u001b[0;34m(\u001b[0m\u001b[0;34m)\u001b[0m\u001b[0;34m)\u001b[0m\u001b[0;34m\u001b[0m\u001b[0;34m\u001b[0m\u001b[0m\n\u001b[0m\u001b[1;32m    298\u001b[0m         return self._serializer.serialize_to_request(parameters,\n\u001b[1;32m    299\u001b[0m                                                      operation_model)\n",
      "\u001b[0;31mParamValidationError\u001b[0m: Parameter validation failed:\nInvalid type for parameter Body, value: [0, 0, 0, 0, 0, 0, 0, 0, 0, 0, 0, 0, 0, 0, 0, 0, 0, 0, 0, 0, 0, 0, 0, 0, 0, 0, 0, 0, 0, 0, 0, 0, 0, 0, 0, 0, 0, 0, 0, 0, 0, 0, 0, 0, 0, 0, 0, 0, 0, 0, 0, 0, 0, 0, 0, 0, 0, 0, 0, 0, 0, 0, 0, 0, 0, 0, 0, 0, 0, 0, 0, 0, 0, 0, 0, 0, 0, 0, 0, 0, 0, 0, 0, 0, 0, 0, 0, 0, 0, 0, 0, 0, 0, 0, 0, 0, 0, 0, 0, 0, 0, 0, 0, 0, 0, 0, 0, 0, 0, 0, 0, 0, 0, 0, 0, 0, 0, 0, 0, 0, 0, 0, 0, 0, 0, 0, 0, 0, 0, 0, 0, 0, 0, 0, 0, 0, 0, 0, 0, 0, 0, 0, 0, 0, 0, 0, 0, 0, 0, 0, 0, 0, 0, 0, 0, 0, 0, 0, 0, 0, 0, 0, 0, 0, 0, 0, 0, 0, 0, 0, 0, 0, 0, 0, 0, 0, 0, 0, 0, 0, 0, 0, 0, 0, 0, 0, 0, 0, 0, 0, 0, 0, 0, 0, 0, 0, 0, 0, 0, 0, 0, 0, 0, 0, 0, 0, 0, 0, 0, 0, 0, 0, 0, 0, 0, 0, 0, 0, 0, 0, 0, 0, 0, 0, 0, 1, 0, 0, 0, 0, 0, 0, 0, 0, 0, 0, 0, 0, 0, 0, 0, 0, 0, 0, 0, 0, 0, 0, 0, 0, 0, 0, 0, 0, 1, 0, 0, 0, 0, 0, 0, 0, 0, 0, 0, 0, 0, 0, 0, 0, 0, 0, 0, 0, 0, 0, 0, 0, 0, 0, 0, 0, 0, 0, 0, 0, 0, 0, 0, 0, 0, 0, 0, 0, 0, 0, 0, 0, 0, 0, 0, 0, 0, 0, 0, 0, 0, 0, 0, 0, 0, 0, 0, 0, 0, 0, 0, 0, 0, 0, 0, 0, 0, 0, 0, 0, 0, 0, 0, 0, 0, 0, 0, 0, 0, 0, 0, 0, 0, 0, 0, 0, 0, 0, 0, 0, 0, 0, 0, 0, 0, 0, 0, 0, 0, 0, 0, 0, 0, 0, 0, 0, 0, 0, 0, 0, 0, 0, 0, 0, 0, 0, 0, 0, 0, 0, 0, 0, 0, 0, 0, 0, 0, 0, 0, 0, 0, 0, 0, 0, 0, 0, 0, 0, 0, 0, 0, 0, 0, 0, 0, 0, 0, 0, 0, 0, 0, 0, 0, 0, 0, 0, 0, 0, 0, 0, 0, 0, 0, 0, 0, 0, 0, 0, 0, 0, 0, 0, 0, 0, 0, 0, 0, 0, 0, 0, 0, 0, 0, 0, 0, 0, 0, 0, 0, 0, 0, 0, 0, 0, 0, 0, 0, 0, 0, 0, 0, 0, 0, 0, 0, 0, 0, 0, 0, 0, 0, 0, 0, 0, 0, 0, 0, 0, 0, 0, 0, 0, 0, 0, 0, 0, 0, 0, 0, 0, 0, 0, 0, 0, 0, 0, 0, 0, 0, 0, 0, 0, 0, 0, 0, 0, 0, 0, 0, 0, 0, 0, 0, 0, 0, 0, 0, 0, 0, 0, 0, 0, 0, 0, 0, 0, 0, 0, 0, 0, 0, 0, 0, 0, 0, 0, 0, 0, 0, 0, 0, 0, 0, 0, 0, 0, 0, 0, 0, 0, 0, 0, 0, 0, 0, 0, 0, 0, 0, 0, 0, 0, 0, 0, 0, 0, 0, 0, 0, 0, 0, 0, 0, 0, 0, 0, 0, 0, 0, 0, 0, 0, 0, 0, 0, 0, 0, 0, 0, 0, 0, 0, 0, 0, 0, 0, 0, 0, 0, 0, 0, 0, 0, 0, 0, 0, 0, 0, 0, 0, 0, 0, 0, 0, 0, 0, 0, 0, 0, 0, 0, 0, 0, 0, 0, 0, 0, 0, 0, 0, 0, 0, 0, 0, 0, 0, 0, 0, 0, 1, 0, 0, 0, 0, 0, 0, 0, 0, 0, 0, 0, 0, 0, 0, 0, 0, 0, 0, 0, 0, 0, 0, 0, 0, 0, 0, 0, 0, 0, 0, 0, 0, 0, 0, 0, 0, 0, 0, 0, 0, 0, 0, 0, 0, 0, 0, 0, 0, 0, 0, 0, 0, 0, 0, 0, 0, 0, 0, 0, 0, 0, 0, 0, 0, 0, 0, 0, 0, 0, 0, 0, 0, 0, 0, 0, 0, 0, 0, 0, 0, 0, 0, 0, 0, 0, 0, 0, 0, 0, 0, 0, 0, 0, 0, 0, 0, 0, 0, 0, 0, 0, 0, 0, 0, 0, 0, 0, 0, 0, 0, 0, 0, 0, 0, 0, 0, 0, 0, 0, 0, 0, 0, 0, 0, 0, 0, 0, 0, 0, 0, 0, 0, 0, 0, 0, 0, 0, 0, 0, 0, 0, 0, 0, 0, 0, 0, 0, 0, 0, 0, 0, 0, 0, 0, 0, 0, 0, 0, 0, 0, 0, 0, 0, 0, 0, 0, 0, 0, 0, 0, 0, 0, 0, 0, 0, 0, 0, 0, 0, 0, 0, 0, 0, 0, 0, 0, 0, 0, 0, 0, 0, 0, 0, 0, 0, 0, 0, 0, 0, 0, 0, 0, 0, 0, 0, 0, 0, 0, 0, 0, 0, 0, 0, 0, 0, 0, 0, 0, 0, 0, 0, 0, 0, 0, 0, 0, 0, 0, 0, 0, 0, 0, 0, 0, 0, 0, 0, 0, 0, 0, 0, 0, 0, 0, 0, 0, 0, 0, 0, 0, 0, 0, 0, 1, 0, 0, 0, 0, 0, 0, 0, 0, 0, 0, 0, 0, 0, 0, 0, 0, 0, 0, 0, 0, 0, 0, 0, 0, 0, 0, 0, 0, 0, 0, 0, 0, 0, 0, 0, 0, 0, 0, 0, 0, 0, 0, 0, 0, 0, 0, 0, 0, 0, 0, 0, 0, 0, 0, 0, 0, 0, 0, 0, 0, 0, 0, 0, 0, 0, 0, 0, 0, 0, 0, 0, 0, 0, 0, 0, 0, 0, 0, 0, 0, 0, 0, 0, 0, 0, 0, 1, 0, 0, 0, 0, 0, 0, 0, 0, 0, 0, 0, 0, 0, 0, 0, 0, 0, 0, 0, 0, 0, 0, 0, 0, 0, 0, 0, 0, 0, 0, 0, 0, 0, 0, 0, 0, 0, 0, 0, 0, 0, 0, 0, 0, 0, 0, 0, 0, 0, 0, 0, 0, 0, 0, 0, 0, 0, 0, 0, 0, 0, 0, 0, 0, 0, 0, 0, 0, 0, 0, 0, 0, 0, 0, 0, 0, 0, 0, 0, 0, 0, 0, 0, 0, 0, 0, 0, 0, 0, 0, 0, 0, 0, 0, 0, 0, 0, 0, 0, 0, 0, 0, 0, 0, 0, 0, 0, 0, 0, 0, 0, 0, 0, 0, 0, 0, 0, 0, 0, 0, 0, 0, 0, 0, 0, 0, 0, 0, 0, 0, 0, 0, 0, 0, 0, 0, 0, 0, 0, 0, 0, 0, 0, 0, 0, 0, 0, 0, 0, 0, 0, 0, 0, 0, 0, 0, 0, 0, 0, 0, 0, 0, 0, 0, 0, 0, 0, 0, 0, 0, 0, 0, 0, 0, 0, 0, 0, 0, 0, 0, 0, 0, 0, 0, 0, 0, 0, 0, 0, 0, 0, 0, 0, 0, 0, 0, 0, 0, 0, 0, 0, 0, 0, 0, 0, 0, 0, 0, 0, 0, 0, 0, 0, 0, 0, 0, 0, 0, 0, 0, 0, 0, 0, 0, 0, 0, 0, 0, 0, 0, 0, 0, 0, 0, 0, 0, 0, 0, 0, 0, 0, 0, 0, 0, 0, 0, 0, 0, 0, 0, 0, 0, 1, 0, 0, 0, 0, 0, 0, 0, 0, 0, 0, 0, 0, 0, 0, 0, 0, 0, 0, 0, 0, 0, 0, 0, 0, 0, 0, 0, 0, 0, 0, 0, 0, 0, 0, 0, 0, 0, 0, 0, 0, 0, 0, 0, 0, 0, 0, 0, 0, 0, 0, 0, 0, 0, 0, 0, 1, 0, 0, 0, 0, 0, 0, 0, 0, 0, 0, 0, 0, 0, 0, 0, 0, 0, 0, 0, 0, 0, 0, 0, 0, 0, 0, 0, 0, 0, 0, 0, 0, 0, 0, 0, 0, 0, 0, 0, 0, 0, 0, 0, 0, 0, 0, 0, 0, 0, 0, 0, 0, 0, 0, 0, 0, 0, 0, 0, 0, 0, 0, 0, 0, 0, 0, 0, 0, 0, 0, 0, 0, 0, 0, 0, 0, 0, 0, 0, 0, 0, 0, 0, 0, 0, 0, 0, 0, 0, 0, 0, 0, 0, 0, 0, 0, 0, 0, 0, 0, 0, 0, 0, 0, 0, 0, 0, 0, 0, 0, 0, 0, 0, 0, 0, 0, 0, 0, 0, 0, 0, 0, 0, 0, 0, 0, 0, 0, 0, 0, 0, 0, 0, 0, 0, 0, 0, 0, 0, 0, 0, 0, 0, 0, 0, 0, 0, 0, 0, 0, 0, 0, 0, 0, 0, 0, 0, 0, 0, 0, 0, 0, 0, 0, 0, 0, 0, 0, 0, 0, 0, 0, 0, 0, 0, 0, 0, 0, 0, 0, 0, 0, 0, 0, 0, 0, 0, 0, 0, 0, 0, 0, 0, 0, 0, 0, 0, 0, 0, 0, 0, 0, 0, 0, 0, 0, 0, 0, 0, 0, 0, 0, 0, 0, 0, 0, 0, 0, 0, 0, 0, 0, 0, 0, 0, 0, 0, 0, 0, 0, 0, 0, 0, 0, 0, 0, 0, 0, 0, 0, 0, 0, 0, 0, 0, 0, 0, 0, 0, 0, 0, 0, 0, 0, 0, 0, 0, 0, 0, 0, 0, 0, 0, 0, 0, 0, 0, 0, 0, 0, 0, 0, 0, 0, 0, 0, 0, 0, 0, 0, 0, 0, 0, 0, 0, 0, 0, 0, 0, 0, 0, 0, 0, 0, 0, 0, 0, 0, 0, 0, 0, 0, 0, 0, 0, 0, 0, 0, 0, 0, 0, 0, 0, 0, 0, 0, 0, 0, 0, 0, 0, 0, 0, 0, 0, 0, 0, 0, 0, 0, 0, 0, 0, 0, 0, 0, 0, 0, 0, 0, 0, 0, 0, 0, 0, 0, 0, 0, 0, 0, 0, 0, 0, 0, 0, 0, 0, 0, 0, 0, 0, 0, 0, 0, 0, 0, 0, 0, 0, 0, 0, 0, 0, 0, 0, 0, 0, 0, 0, 0, 0, 0, 0, 0, 0, 0, 0, 0, 0, 0, 0, 0, 0, 0, 0, 0, 0, 0, 0, 0, 0, 0, 0, 0, 0, 0, 0, 0, 0, 0, 0, 0, 0, 0, 0, 0, 0, 0, 0, 0, 0, 0, 0, 0, 0, 0, 0, 0, 0, 0, 0, 0, 0, 0, 0, 0, 0, 0, 0, 0, 0, 0, 0, 0, 0, 0, 0, 0, 0, 0, 0, 0, 0, 0, 0, 0, 0, 0, 0, 0, 0, 0, 0, 0, 0, 0, 0, 0, 0, 0, 0, 0, 0, 0, 0, 0, 0, 0, 0, 0, 0, 0, 0, 0, 0, 0, 0, 0, 0, 0, 0, 0, 0, 0, 0, 0, 0, 0, 0, 0, 0, 0, 0, 0, 0, 0, 0, 0, 0, 0, 0, 0, 0, 0, 0, 0, 0, 0, 0, 0, 0, 0, 0, 0, 0, 0, 0, 0, 0, 0, 0, 0, 0, 0, 0, 0, 0, 0, 0, 0, 0, 0, 0, 0, 0, 0, 0, 0, 0, 0, 0, 0, 0, 0, 0, 0, 0, 0, 0, 0, 0, 0, 0, 0, 0, 0, 0, 0, 0, 0, 0, 0, 0, 0, 0, 0, 0, 0, 0, 0, 0, 0, 0, 0, 0, 0, 0, 0, 0, 0, 0, 0, 0, 0, 0, 0, 0, 0, 0, 0, 0, 0, 0, 0, 0, 0, 0, 0, 0, 0, 0, 0, 0, 0, 0, 0, 0, 0, 0, 0, 0, 0, 0, 0, 0, 0, 0, 0, 0, 0, 0, 0, 0, 0, 0, 0, 0, 0, 0, 0, 0, 0, 0, 0, 0, 0, 0, 0, 0, 0, 0, 0, 0, 0, 0, 0, 0, 0, 0, 0, 0, 0, 0, 0, 0, 0, 0, 0, 0, 0, 0, 0, 0, 0, 0, 0, 0, 0, 0, 0, 1, 0, 0, 0, 0, 0, 0, 0, 0, 0, 0, 0, 0, 0, 0, 0, 0, 0, 0, 0, 0, 0, 0, 0, 0, 0, 0, 0, 0, 0, 0, 0, 0, 0, 0, 0, 0, 0, 0, 0, 0, 0, 0, 0, 0, 0, 0, 0, 0, 0, 0, 0, 0, 0, 0, 0, 0, 0, 0, 0, 0, 0, 0, 0, 0, 0, 0, 0, 0, 0, 0, 0, 0, 0, 0, 1, 0, 0, 0, 0, 0, 0, 0, 0, 0, 0, 0, 0, 0, 0, 0, 0, 0, 0, 0, 0, 1, 0, 0, 1, 0, 0, 0, 0, 0, 0, 0, 0, 0, 0, 0, 0, 0, 0, 0, 0, 0, 0, 0, 0, 0, 0, 0, 0, 0, 0, 0, 0, 0, 0, 0, 0, 0, 0, 0, 0, 0, 0, 0, 0, 0, 0, 0, 0, 0, 0, 0, 0, 0, 0, 0, 0, 0, 0, 0, 0, 0, 0, 0, 0, 0, 0, 0, 0, 0, 0, 0, 0, 0, 0, 0, 0, 0, 0, 0, 0, 0, 0, 0, 0, 0, 0, 0, 0, 0, 0, 0, 0, 0, 0, 0, 0, 0, 0, 0, 0, 0, 0, 0, 0, 0, 0, 0, 0, 0, 0, 0, 0, 0, 0, 0, 0, 0, 0, 0, 0, 0, 0, 0, 0, 0, 0, 0, 0, 0, 0, 0, 0, 0, 0, 0, 0, 0, 0, 0, 0, 0, 0, 0, 0, 0, 0, 0, 0, 0, 0, 0, 0, 0, 0, 0, 0, 0, 0, 0, 0, 0, 0, 0, 0, 0, 0, 0, 0, 0, 0, 0, 0, 0, 0, 0, 0, 0, 0, 0, 0, 0, 0, 0, 0, 0, 0, 0, 0, 0, 0, 0, 0, 0, 0, 0, 0, 0, 0, 0, 0, 0, 0, 0, 0, 0, 0, 0, 0, 0, 0, 0, 0, 0, 0, 0, 0, 0, 0, 0, 0, 0, 0, 0, 0, 0, 0, 0, 0, 0, 0, 0, 0, 0, 0, 0, 0, 0, 0, 0, 0, 0, 0, 0, 0, 0, 0, 0, 0, 0, 0, 0, 0, 0, 0, 0, 0, 0, 0, 0, 0, 0, 0, 0, 0, 0, 0, 0, 0, 0, 0, 0, 0, 0, 0, 0, 0, 0, 0, 0, 0, 0, 0, 0, 0, 0, 0, 0, 0, 0, 0, 0, 0, 0, 0, 0, 0, 0, 0, 0, 0, 0, 0, 0, 0, 0, 0, 0, 0, 0, 0, 0, 0, 0, 0, 0, 0, 0, 0, 0, 0, 0, 0, 0, 0, 0, 0, 0, 0, 0, 0, 0, 0, 0, 0, 0, 0, 0, 0, 0, 0, 0, 0, 0, 0, 0, 0, 0, 0, 0, 0, 0, 0, 0, 0, 0, 0, 0, 0, 0, 0, 0, 0, 0, 0, 0, 0, 0, 0, 0, 0, 0, 0, 0, 0, 0, 0, 0, 0, 0, 0, 0, 0, 0, 0, 0, 0, 0, 0, 0, 0, 0, 0, 0, 0, 0, 0, 0, 0, 0, 0, 0, 0, 0, 0, 0, 0, 0, 0, 0, 0, 0, 0, 0, 0, 0, 0, 0, 0, 0, 0, 0, 0, 0, 0, 0, 0, 0, 0, 0, 0, 0, 0, 0, 0, 0, 0, 0, 0, 0, 0, 0, 0, 0, 0, 0, 0, 0, 0, 0, 0, 0, 0, 0, 0, 0, 0, 0, 0, 0, 0, 0, 0, 0, 0, 0, 0, 0, 0, 0, 0, 1, 0, 0, 0, 0, 0, 0, 0, 0, 0, 0, 0, 0, 0, 0, 0, 0, 0, 0, 0, 0, 0, 0, 0, 0, 0, 0, 0, 0, 0, 0, 0, 0, 0, 0, 0, 0, 0, 0, 0, 0, 0, 0, 0, 0, 0, 0, 0, 0, 0, 0, 0, 0, 0, 0, 0, 0, 0, 0, 0, 0, 0, 0, 0, 0, 0, 0, 0, 0, 0, 0, 0, 0, 0, 0, 0, 0, 0, 0, 0, 0, 0, 0, 0, 0, 0, 0, 0, 0, 0, 0, 0, 0, 0, 0, 0, 0, 0, 0, 0, 0, 0, 0, 0, 0, 0, 0, 0, 0, 0, 0, 0, 0, 0, 0, 0, 0, 0, 0, 0, 0, 0, 0, 0, 0, 0, 0, 0, 0, 0, 0, 0, 0, 0, 0, 0, 0, 0, 0, 0, 0, 0, 0, 0, 0, 0, 0, 0, 0, 0, 0, 0, 0, 0, 0, 0, 0, 0, 0, 0, 0, 0, 0, 0, 0, 0, 0, 0, 0, 0, 0, 0, 0, 0, 0, 0, 0, 0, 0, 0, 0, 0, 0, 0, 0, 0, 0, 0, 0, 0, 0, 0, 0, 0, 0, 0, 0, 0, 0, 0, 0, 0, 0, 0, 0, 0, 0, 0, 0, 0, 0, 0, 0, 0, 0, 0, 0, 0, 0, 0, 0, 0, 0, 0, 0, 0, 0, 0, 0, 0, 0, 0, 0, 0, 0, 0, 0, 0, 0, 0, 0, 0, 0, 0, 0, 0, 0, 0, 0, 0, 0, 0, 0, 0, 0, 0, 0, 0, 0, 0, 0, 0, 0, 0, 0, 0, 0, 0, 0, 0, 0, 0, 0, 0, 0, 0, 0, 0, 0, 0, 0, 0, 0, 0, 0, 0, 0, 0, 0, 0, 0, 0, 0, 0, 0, 0, 0, 0, 0, 0, 0, 0, 0, 0, 0, 0, 0, 0, 0, 0, 0, 0, 0, 0, 0, 0, 0, 0, 0, 0, 0, 0, 0, 0, 0, 0, 0, 0, 0, 0, 0, 0, 0, 0, 0, 0, 0, 0, 0, 0, 0, 0, 0, 0, 0, 0, 0, 0, 0, 0, 0, 0, 0, 0, 0, 0, 0, 0, 0, 0, 0, 0, 0, 0, 0, 0, 0, 0, 0, 0, 0, 0, 0, 0, 0, 0, 0, 0, 0, 0, 0, 0, 0, 0, 0, 0, 0, 0, 0, 0, 0, 0, 0, 0, 0, 0, 0, 0, 0, 0, 0, 0, 0, 0, 0, 0, 0, 0, 0, 0, 0, 0, 0, 0, 0, 0, 0, 0, 0, 0, 0, 0, 0, 0, 0, 0, 0, 0, 0, 0, 0, 0, 0, 0, 0, 0, 0, 0, 0, 0, 0, 0, 0, 0, 0, 0, 0, 0, 0, 0, 0, 0, 0, 0, 0, 0, 0, 0, 0, 0, 0, 0, 0, 0, 0, 0, 0, 0, 0, 0, 0, 0, 0, 0, 0, 0, 0, 0, 0, 0, 0, 0, 0, 0, 0, 0, 0, 0, 0, 0, 0, 0, 0, 0, 0, 0, 0, 0, 0, 0, 0, 0, 0, 0, 0, 0, 0, 0, 0, 0, 0, 0, 0, 0, 0, 1, 0, 0, 0, 0, 0, 0, 0, 0, 0, 0, 0, 0, 0, 0, 0, 0, 0, 0, 0, 0, 0, 0, 0, 0, 0, 0, 0, 0, 0, 0, 0, 0, 0, 0, 0, 2, 0, 0, 0, 0, 0, 0, 0, 0, 0, 0, 0, 0, 0, 0, 0, 0, 0, 0, 0, 0, 0, 0, 0, 0, 0, 0, 0, 0, 0, 0, 0, 0, 0, 0, 0, 0, 0, 0, 0, 0, 1, 0, 0, 0, 0, 0, 0, 0, 0, 0, 0, 0, 0, 0, 0, 0, 0, 0, 0, 0, 0, 0, 0, 0, 0, 0, 0, 0, 0, 0, 0, 0, 0, 0, 0, 0, 0, 0, 0, 0, 0, 0, 0, 0, 0, 0, 0, 0, 0, 0, 0, 0, 0, 0, 0, 0, 0, 0, 0, 0, 0, 0, 0, 0, 0, 0, 0, 0, 0, 0, 0, 0, 0, 0, 0, 0, 0, 0, 0, 0, 0, 0, 0, 0, 0, 0, 0, 0, 0, 0, 0, 0, 0, 0, 0, 0, 0, 0, 0, 0, 0, 0, 0, 0, 0, 0, 0, 0, 0, 0, 0, 0, 0, 0, 0, 0, 0, 0, 0, 0, 0, 0, 0, 0, 0, 0, 0, 0, 0, 0, 0, 0, 0, 0, 0, 0, 0, 0, 0, 0, 0, 0, 0, 0, 0, 0, 0, 0, 0, 0, 0, 0, 0, 0, 0, 0, 0, 0, 0, 0, 0, 0, 0, 0, 0, 0, 0, 0, 0, 0, 0, 0, 0, 0, 0, 0, 0, 0, 0, 0, 0, 0, 0, 0, 0, 0, 0, 0, 0, 0, 0, 0, 0, 0, 0, 0, 0, 0, 0, 0, 0, 0, 0, 0, 0, 0, 0, 0, 0, 0, 0, 0, 0, 0, 0, 0, 0, 0, 0, 0, 0, 0, 0, 0, 0, 0, 0, 0, 0, 0, 0, 0, 0, 0, 0, 0, 0, 0, 0, 0, 0, 0, 0, 0, 0, 0, 0, 0, 0, 0, 0, 0, 0, 0, 0, 0, 0, 0, 0, 0, 0, 0, 0, 0, 0, 0, 0, 0, 0, 0, 0, 0, 0, 0, 0, 0, 0, 0, 0, 0, 0, 0, 0, 0, 0, 0, 0, 0, 0, 0, 0, 0, 0, 0, 0, 0, 0, 0, 0, 0, 0, 0, 0, 0, 0, 0, 0, 0, 0, 0, 0, 0, 0, 0, 0, 0, 0, 0, 0, 0, 0, 0, 0, 0, 0, 0, 0, 0, 0, 0, 0, 0, 0, 0, 0, 0, 0, 0, 0, 0, 0, 0, 0, 0, 0, 0, 0, 0, 0, 0, 0, 0, 0, 0, 0, 0, 0, 0, 0, 0, 0, 0, 0, 0, 0, 0, 0, 0, 0, 0, 0, 0, 0, 0, 0, 0, 0, 0, 0, 0, 0, 0, 0, 0, 0, 0, 0, 0, 0, 0, 0, 0, 0, 0, 0, 0, 0, 0, 0, 0, 0, 0, 0, 0, 0, 0, 0, 0, 0, 0, 0, 0, 0, 0, 0, 0, 0, 0, 0, 0, 0, 0, 0, 0, 0, 0, 0, 0, 0, 0, 0, 0, 0, 0, 0, 0, 0, 0, 0, 0, 0, 0, 0, 0, 0, 0, 0, 0, 0, 0, 0, 0, 0, 0, 0, 0, 0, 0, 0, 0, 0, 0, 0, 0, 0, 0, 0, 0, 0, 0, 0, 0, 0, 0, 0, 0, 0, 0, 0, 0, 0, 0, 0, 0, 0, 0, 0, 0, 0, 0, 0, 0, 0, 0, 0, 0, 0, 1, 0, 0, 0, 0, 0, 0, 0, 0, 0, 0, 0, 0, 0, 0, 0, 0, 0, 0, 0, 0, 0, 0, 0, 0, 0, 0, 0, 0, 0, 0, 0, 0, 0, 0, 0, 0, 0, 0, 0, 0, 0, 0, 0, 0, 0, 0, 0, 0, 0, 0, 0, 0, 0, 0, 0, 0, 0, 0, 0, 0, 0, 0, 0, 0, 0, 0, 0, 0, 0, 0, 0, 0, 0, 0, 0, 0, 0, 0, 0, 0, 0, 0, 0, 0, 0, 0, 0, 0, 0, 0, 0, 0, 0, 0, 0, 0, 0, 0, 0, 0, 0, 0, 0, 0, 0, 0, 0, 0, 0, 2, 0, 0, 0, 0, 0, 0, 0, 0, 0, 0, 0, 0, 0, 0, 0, 0, 0, 0, 0, 0, 0, 0, 0, 0, 0, 0, 0, 0, 0, 0, 0, 0, 0, 0, 0, 0, 0, 0, 0, 0, 0, 0, 0, 0, 0, 0, 0, 0, 0, 0, 0, 0, 0, 0, 0, 0, 0, 0, 0, 0, 0, 0, 0, 0, 0, 0, 0, 0, 0, 0, 0, 0, 0, 0, 0, 0, 0, 0, 0, 0, 0, 0, 0, 0, 0, 0, 0, 0, 0, 0, 0, 0, 0, 0, 0, 0, 0, 0, 0, 0, 0, 0, 0, 0, 0, 0, 0, 0, 0, 0, 0, 0, 0, 0, 0, 0, 0, 0, 0, 0, 0, 0, 0, 0, 0, 0, 0, 0, 0, 0, 0, 0, 0, 0, 0, 0, 0, 0, 0, 0, 0, 0, 0, 0, 0, 0, 0, 0, 0, 0, 0, 0, 0, 0, 0, 0, 0, 0, 0, 0, 0, 0, 0, 0, 0, 0, 0, 0, 0, 0, 0, 0, 0, 0, 0, 0, 0, 0, 0, 0, 0, 0, 0, 0, 0, 0, 0, 0, 0, 0, 0, 0, 0, 0, 0, 0, 0, 0, 0, 0, 0, 0, 0, 0, 0, 0, 0, 0, 0, 0, 0, 0, 0, 0, 0, 0, 0, 0, 0, 0, 0, 0, 0, 0, 0, 0, 0, 0, 0, 0, 0, 0, 0, 0, 0, 0, 0, 0, 0, 0, 0, 0, 0, 0, 0, 0, 0, 0, 0, 0, 0, 0, 0, 0, 0, 0, 0, 0, 0, 0, 0, 0, 0, 0, 0, 0, 0, 0, 0, 0, 0, 0, 0, 0, 0, 0, 0, 0, 0, 0, 0, 0, 0, 0, 0, 0, 0, 0, 0, 0, 0, 0, 0, 0, 0, 0, 0, 0, 0, 0, 0, 0, 0, 0, 0, 0, 0, 0, 0, 0, 0, 0, 0, 0, 0, 0, 0, 0, 0, 0, 0, 0, 0, 0, 0, 0, 0, 0, 0, 0, 0, 0, 0, 0, 0, 0, 0, 0, 0, 0, 0, 0, 0, 0, 0, 0, 0, 0, 0, 0, 0, 0, 0, 0, 0, 0, 0, 0, 0, 0, 0, 0, 0, 0, 0, 0, 0, 0, 0, 0, 0, 0, 0, 0, 0, 0, 0, 0, 0, 0, 0, 0, 0, 0, 0, 0, 0, 0, 0, 0, 0, 0, 0, 0, 0, 0, 0, 0, 0, 0, 0, 0, 0, 0, 0, 0, 0, 0, 0, 0, 0, 0, 0, 0, 0, 0, 0, 0, 0, 0, 0, 0, 0, 0, 0, 0, 0, 0, 0, 0, 0, 0, 0, 0, 0, 0, 0, 0, 0, 0, 0, 0, 0, 0, 0, 0, 0, 0, 0, 0, 0, 0, 0, 0, 0, 0, 0, 0, 0, 0, 0, 0, 0, 0, 0, 0, 0, 0, 0, 0, 0, 0, 0, 0, 0, 0, 0, 0, 0, 0, 0, 0, 0, 0, 0, 0, 0, 0, 0, 0, 0, 0, 0, 0, 0, 0, 0, 0, 0, 0, 0, 0, 0, 0, 0, 0, 0, 0, 0, 0, 0, 0, 0, 0, 0, 0, 0, 0, 0, 0, 0, 0, 0, 0, 0, 0, 0, 0, 0, 0, 0, 0, 0, 0, 0, 0, 0, 0, 0, 0, 0, 0, 0, 0, 0, 0, 0, 0, 0, 0, 0, 0, 0, 0, 0, 0, 0, 0, 0, 0, 0, 0, 0, 0, 0, 0, 0, 0, 0, 0, 0, 0, 0, 0, 0, 0, 0, 0, 0, 0, 0, 0, 0, 0, 0, 0, 0, 0, 0, 0, 0, 0, 0, 0, 0, 0, 0, 0, 0, 0, 0, 0, 0, 0, 0, 0, 0, 0, 0, 0, 0, 0, 0, 0, 0, 0, 0, 0, 0, 0, 0, 0, 0, 0, 0, 0, 0, 0, 0, 0, 0, 0, 0, 0, 0, 0, 0, 0, 0, 0, 0, 0, 0, 0, 0, 0, 0, 0, 0, 0, 0, 0, 0, 0, 0, 0, 0, 0, 0, 0, 0, 0, 0, 0, 0, 0, 0, 0, 0, 0, 0, 0, 0, 0, 0, 0, 0, 0, 0, 0, 0, 0, 0, 0, 0, 0, 0, 0, 0, 0, 1, 0, 0, 0, 0, 0, 0, 0, 0, 0, 0, 0, 0, 0, 0, 0, 0, 0, 0, 0, 0, 0, 0, 0, 0, 0, 0, 0, 0, 0, 0, 0, 0, 0, 0, 0, 0, 0, 0, 0, 0, 0, 0, 0, 0, 0, 0, 0, 0, 0, 0, 0, 0, 0, 0, 0, 0, 0, 0, 0, 0, 0, 0, 0, 0, 0, 0, 0, 0, 0, 0, 0, 0, 0, 0, 0, 0, 0, 0, 0, 0, 0, 0, 0, 0, 0, 0, 0, 0, 0, 0, 0, 0, 0, 0, 0, 0, 0, 0, 0, 0, 0, 0, 0, 0, 0, 0, 0, 1, 0, 0, 0, 0, 0, 0, 0, 0, 0, 0, 0, 0, 0, 0, 0, 0, 0, 0, 0, 0, 0, 0, 0, 0, 0, 0, 0, 0, 0, 0, 0, 0, 0, 0, 0, 0, 0, 0, 0, 0, 0, 0, 0, 0, 0, 0, 0, 0, 0, 0, 0, 0, 0, 0, 0, 0, 0, 0, 0, 0, 0, 0, 0, 0, 0, 0, 0, 0, 0, 0, 0, 0, 0, 0, 0, 0, 0, 0, 0, 0, 0, 0, 0, 0, 0, 0, 0, 0, 0, 0, 0, 0, 0, 0, 0, 0, 0, 0, 0, 0, 0, 0, 0, 0, 0, 0, 0, 0, 0, 0, 0, 0, 0, 0, 0, 0, 0, 0, 0, 0, 0, 0, 0, 0, 0, 0, 0, 0, 0, 0, 0, 0, 0, 0, 0, 0, 0, 0, 0, 0, 0, 0, 0, 0, 0, 0, 0, 0, 0, 0, 0, 0, 0, 0, 0, 0, 0, 0, 0, 0, 0, 0, 0, 0, 0, 0, 0, 0, 0, 0, 0, 0, 0, 0, 0, 0, 0, 0, 0, 0, 0, 0, 0, 0, 0, 0, 0, 0, 0, 0, 0, 0, 0, 0, 0, 0, 0, 0, 0, 0, 0, 0, 0, 0, 0, 0, 0, 0, 0, 0, 0, 0, 0, 0, 0, 0, 0, 0, 0, 0, 0, 0, 0, 0, 0, 0, 0, 0, 0, 0, 0, 0, 0, 0, 0, 0, 0, 0, 0, 0, 0, 0, 0, 0, 0, 0, 0, 0, 0, 0, 0, 0, 0, 0, 0, 0, 0, 0, 0, 0, 0, 0, 0, 0, 0, 0, 0, 0, 0, 0, 0, 0, 0, 0, 0, 0, 0, 0, 0, 0, 0, 0, 0, 0, 0, 0, 0, 0, 0, 0, 0, 0, 0, 0, 0, 0, 0, 0, 0, 0, 0, 0, 0, 0, 0, 0, 0, 0, 0, 0, 0, 0, 0, 0, 0, 0, 0, 0, 0, 0, 0, 0, 0, 0, 0, 0, 0, 0, 0, 0, 0, 0, 0, 0, 0, 0, 0, 0, 0, 0, 0, 0, 0, 0, 0, 0, 0, 0, 0, 0, 0, 0, 0, 0, 0, 0, 0, 0, 0, 0, 0, 0, 0, 0, 0, 0, 0, 0, 0, 0, 0, 0, 0, 0, 0, 0, 0, 0, 0, 0, 0, 0, 0, 0, 0, 0, 0, 0, 0, 0, 0, 0, 0, 0, 0, 0, 0, 0, 0, 0, 0, 0, 0, 0, 0, 0, 0, 0, 0, 0, 0, 0, 0, 0, 0, 0, 0, 0, 0, 0, 0, 0, 0, 0, 0, 0, 0, 0, 0, 0, 0, 0, 0, 0, 0, 0, 0, 0, 0, 0, 0, 0, 0, 0, 0, 0, 0, 0, 0, 0, 0, 0, 0, 0, 0, 0, 0, 0, 0, 0, 0, 0, 0, 0, 0, 2, 0, 1, 0], type: <class 'list'>, valid types: <class 'bytes'>, <class 'bytearray'>, file-like object"
     ]
    }
   ],
   "source": [
    "response = runtime.invoke_endpoint(EndpointName = xgb_predictor.endpoint, # The name of the endpoint we created\n",
    "                                       ContentType = 'text/csv',                     # The data format that is expected\n",
    "                                       Body = test_bow)"
   ]
  },
  {
   "cell_type": "markdown",
   "metadata": {},
   "source": [
    "So why did we get an error?\n",
    "\n",
    "Because we tried to send the endpoint a list of integers but it expected us to send data of type `text/csv`. So, we need to convert it."
   ]
  },
  {
   "cell_type": "code",
   "execution_count": 76,
   "metadata": {},
   "outputs": [],
   "source": [
    "response = runtime.invoke_endpoint(EndpointName = xgb_predictor.endpoint, # The name of the endpoint we created\n",
    "                                       ContentType = 'text/csv',                     # The data format that is expected\n",
    "                                       Body = ','.join([str(val) for val in test_bow]).encode('utf-8'))"
   ]
  },
  {
   "cell_type": "code",
   "execution_count": 77,
   "metadata": {},
   "outputs": [
    {
     "name": "stdout",
     "output_type": "stream",
     "text": [
      "{'ResponseMetadata': {'RequestId': '67af25c6-dc53-469b-bc9e-759af8343e91', 'HTTPStatusCode': 200, 'HTTPHeaders': {'x-amzn-requestid': '67af25c6-dc53-469b-bc9e-759af8343e91', 'x-amzn-invoked-production-variant': 'AllTraffic', 'date': 'Sat, 26 Sep 2020 03:30:53 GMT', 'content-type': 'text/csv; charset=utf-8', 'content-length': '14'}, 'RetryAttempts': 0}, 'ContentType': 'text/csv; charset=utf-8', 'InvokedProductionVariant': 'AllTraffic', 'Body': <botocore.response.StreamingBody object at 0x7f7492192da0>}\n"
     ]
    }
   ],
   "source": [
    "print(response)"
   ]
  },
  {
   "cell_type": "markdown",
   "metadata": {},
   "source": [
    "As we can see, the response from our model is a somewhat complicated looking dict that contains a bunch of information. The bit that we are most interested in is `'Body'` object which is a streaming object that we need to `read` in order to make use of."
   ]
  },
  {
   "cell_type": "code",
   "execution_count": 78,
   "metadata": {},
   "outputs": [
    {
     "name": "stdout",
     "output_type": "stream",
     "text": [
      "0.987081110477\n"
     ]
    }
   ],
   "source": [
    "response = response['Body'].read().decode('utf-8')\n",
    "print(response)"
   ]
  },
  {
   "cell_type": "markdown",
   "metadata": {},
   "source": [
    "Now that we know how to process the incoming user data we can start setting up the infrastructure to make our simple web app work. To do this we will make use of two different services. Amazon's Lambda and API Gateway services.\n",
    "\n",
    "Lambda is a service which allows someone to write some relatively simple code and have it executed whenever a chosen trigger occurs. For example, you may want to update a database whenever new data is uploaded to a folder stored on S3.\n",
    "\n",
    "API Gateway is a service that allows you to create HTTP endpoints (url addresses) which are connected to other AWS services. One of the benefits to this is that you get to decide what credentials, if any, are required to access these endpoints.\n",
    "\n",
    "In our case we are going to set up an HTTP endpoint through API Gateway which is open to the public. Then, whenever anyone sends data to our public endpoint we will trigger a Lambda function which will send the input (in our case a review) to our model's endpoint and then return the result."
   ]
  },
  {
   "cell_type": "markdown",
   "metadata": {},
   "source": [
    "### Setting up a Lambda function\n",
    "\n",
    "The first thing we are going to do is set up a Lambda function. This Lambda function will be executed whenever our public API has data sent to it. When it is executed it will receive the data, perform any sort of processing that is required, send the data (the review) to the SageMaker endpoint we've created and then return the result.\n",
    "\n",
    "#### Part A: Create an IAM Role for the Lambda function\n",
    "\n",
    "Since we want the Lambda function to call a SageMaker endpoint, we need to make sure that it has permission to do so. To do this, we will construct a role that we can later give the Lambda function.\n",
    "\n",
    "Using the AWS Console, navigate to the **IAM** page and click on **Roles**. Then, click on **Create role**. Make sure that the **AWS service** is the type of trusted entity selected and choose **Lambda** as the service that will use this role, then click **Next: Permissions**.\n",
    "\n",
    "In the search box type `sagemaker` and select the check box next to the **AmazonSageMakerFullAccess** policy. Then, click on **Next: Review**.\n",
    "\n",
    "Lastly, give this role a name. Make sure you use a name that you will remember later on, for example `LambdaSageMakerRole`. Then, click on **Create role**."
   ]
  },
  {
   "cell_type": "markdown",
   "metadata": {},
   "source": [
    "#### Part B: Create a Lambda function\n",
    "\n",
    "Now it is time to actually create the Lambda function. Remember from earlier that in order to process the user provided input and send it to our endpoint we need to gather two pieces of information:\n",
    "\n",
    " - The name of the endpoint, and\n",
    " - the vocabulary object.\n",
    "\n",
    "We will copy these pieces of information to our Lambda function after we create it.\n",
    "\n",
    "To start, using the AWS Console, navigate to the AWS Lambda page and click on **Create a function**. When you get to the next page, make sure that **Author from scratch** is selected. Now, name your Lambda function, using a name that you will remember later on, for example `sentiment_analysis_xgboost_func`. Make sure that the **Python 3.6** runtime is selected and then choose the role that you created in the previous part. Then, click on **Create Function**.\n",
    "\n",
    "On the next page you will see some information about the Lambda function you've just created. If you scroll down you should see an editor in which you can write the code that will be executed when your Lambda function is triggered. Collecting the code we wrote above to process a single review and adding it to the provided example `lambda_handler` we arrive at the following.\n",
    "\n",
    "```python\n",
    "# We need to use the low-level library to interact with SageMaker since the SageMaker API\n",
    "# is not available natively through Lambda.\n",
    "import boto3\n",
    "\n",
    "# And we need the regular expression library to do some of the data processing\n",
    "import re\n",
    "\n",
    "REPLACE_NO_SPACE = re.compile(\"(\\.)|(\\;)|(\\:)|(\\!)|(\\')|(\\?)|(\\,)|(\\\")|(\\()|(\\))|(\\[)|(\\])\")\n",
    "REPLACE_WITH_SPACE = re.compile(\"(<br\\s*/><br\\s*/>)|(\\-)|(\\/)\")\n",
    "\n",
    "def review_to_words(review):\n",
    "    words = REPLACE_NO_SPACE.sub(\"\", review.lower())\n",
    "    words = REPLACE_WITH_SPACE.sub(\" \", words)\n",
    "    return words\n",
    "    \n",
    "def bow_encoding(words, vocabulary):\n",
    "    bow = [0] * len(vocabulary) # Start by setting the count for each word in the vocabulary to zero.\n",
    "    for word in words.split():  # For each word in the string\n",
    "        if word in vocabulary:  # If the word is one that occurs in the vocabulary, increase its count.\n",
    "            bow[vocabulary[word]] += 1\n",
    "    return bow\n",
    "\n",
    "\n",
    "def lambda_handler(event, context):\n",
    "    \n",
    "    vocab = \"*** ACTUAL VOCABULARY GOES HERE ***\"\n",
    "    \n",
    "    words = review_to_words(event['body'])\n",
    "    bow = bow_encoding(words, vocab)\n",
    "\n",
    "    # The SageMaker runtime is what allows us to invoke the endpoint that we've created.\n",
    "    runtime = boto3.Session().client('sagemaker-runtime')\n",
    "\n",
    "    # Now we use the SageMaker runtime to invoke our endpoint, sending the review we were given\n",
    "    response = runtime.invoke_endpoint(EndpointName = '***ENDPOINT NAME HERE***',# The name of the endpoint we created\n",
    "                                       ContentType = 'text/csv',                 # The data format that is expected\n",
    "                                       Body = ','.join([str(val) for val in bow]).encode('utf-8')) # The actual review\n",
    "\n",
    "    # The response is an HTTP response whose body contains the result of our inference\n",
    "    result = response['Body'].read().decode('utf-8')\n",
    "    \n",
    "    # Round the result so that our web app only gets '1' or '0' as a response.\n",
    "    result = round(float(result))\n",
    "\n",
    "    return {\n",
    "        'statusCode' : 200,\n",
    "        'headers' : { 'Content-Type' : 'text/plain', 'Access-Control-Allow-Origin' : '*' },\n",
    "        'body' : str(result)\n",
    "    }\n",
    "```"
   ]
  },
  {
   "cell_type": "code",
   "execution_count": 79,
   "metadata": {},
   "outputs": [
    {
     "data": {
      "text/plain": [
       "'xgboost-2020-09-26-03-04-01-091'"
      ]
     },
     "execution_count": 79,
     "metadata": {},
     "output_type": "execute_result"
    }
   ],
   "source": [
    "xgb_predictor.endpoint"
   ]
  },
  {
   "cell_type": "markdown",
   "metadata": {},
   "source": [
    "Once you have copy and pasted the code above into the Lambda code editor, replace the `**ENDPOINT NAME HERE**` portion with the name of the endpoint that we deployed earlier. You can determine the name of the endpoint using the code cell below."
   ]
  },
  {
   "cell_type": "code",
   "execution_count": 81,
   "metadata": {},
   "outputs": [
    {
     "data": {
      "text/plain": [
       "'xgboost-2020-09-26-03-04-01-091'"
      ]
     },
     "execution_count": 81,
     "metadata": {},
     "output_type": "execute_result"
    }
   ],
   "source": [
    "xgb_predictor.endpoint"
   ]
  },
  {
   "cell_type": "markdown",
   "metadata": {},
   "source": [
    "In addition, you will need to copy the vocabulary dict to the appropriate place in the code at the beginning of the `lambda_handler` method. The cell below prints out the vocabulary dict in a way that is easy to copy and paste."
   ]
  },
  {
   "cell_type": "code",
   "execution_count": 31,
   "metadata": {},
   "outputs": [
    {
     "name": "stdout",
     "output_type": "stream",
     "text": [
      "{'in': 2254, 'order': 3125, 'to': 4508, 'avoid': 362, 'confusion': 942, 'let': 2577, 'me': 2776, 'couple': 1015, 'of': 3082, 'points': 3321, 'am': 204, 'not': 3039, 'red': 3577, 'neck': 2984, 'even': 1531, 'nor': 3031, 'conservative': 947, 'quite': 3497, 'on': 3104, 'the': 4427, 'contrary': 973, 'im': 2229, 'either': 1436, 'was': 4804, 'born': 543, 'states': 4163, 'used': 4692, 'say': 3800, 'that': 4425, 'there': 4439, 'are': 284, 'some': 4061, 'kind': 2474, 'folk': 1767, 'who': 4870, 'do': 1300, 'feel': 1681, 'poetry': 3316, 'and': 226, 'these': 4442, 'sad': 3768, 'people': 3223, 'usually': 4699, 'their': 4432, 'living': 2627, 'teaching': 4378, 'this': 4458, 'movie': 2925, 'made': 2695, 'by': 640, 'for': 1781, 'show': 3954, 'dare': 1112, 'have': 2049, 'no': 3019, 'sense': 3878, 'or': 3123, 'matter': 2767, 'respect': 3653, 'other': 3136, 'peoples': 3224, 'life': 2590, 'death': 1140, 'especially': 1518, 'when': 4861, 'victims': 4729, 'thought': 4463, 'be': 417, 'mostly': 2909, 'bloody': 512, 'killed': 2467, 'find': 1723, 'original': 3128, 'marketing': 2739, 'idea': 2210, 'episodes': 1506, 'minutes': 2858, 'nine': 3016, 'seconds': 3849, 'one': 3106, 'frame': 1812, 'as': 310, 'particularly': 3197, 'hideous': 2095, 'just': 2435, 'plain': 3288, 'awful': 371, 'why': 4877, 'didnt': 1240, 'they': 4443, 'budget': 608, 'many': 2730, 'dollars': 1313, 'per': 3225, 'episode': 1505, 'individuals': 2275, 'were': 4847, 'brutally': 603, 'murdered': 2939, 'attack': 336, 'whole': 4872, 'somewhere': 4069, 'between': 474, 'mere': 2812, 'stupidity': 4249, 'anybody': 256, 'is': 2357, 'serious': 3892, 'about': 67, 'film': 1713, 'making': 2716, 'should': 3952, 'non': 3026, 'with': 4911, 'two': 4619, 'almost': 193, 'amusing': 221, 'from': 1837, 'india': 2270, 'which': 4866, 'story': 4207, 'man': 2719, 'relation': 3596, 'basis': 407, 'afterwards': 145, 'he': 2053, 'return': 3666, 'home': 2139, 'an': 223, 'american': 213, 'muslim': 2948, 'truth': 4598, 'told': 4514, 'facts': 1622, 'known': 2490, 'hero': 2085, 'all': 187, 'essentially': 1521, 'extremely': 1608, 'boring': 542, 'can': 663, 'listed': 2616, 'different': 1246, 'first': 1733, 'dont': 1322, 'care': 682, 'thousands': 4467, 'americans': 214, 'children': 790, 'adults': 126, 'old': 3099, 'pure': 3473, 'boredom': 541, 'lack': 2500, 'emotion': 1456, 'iran': 2347, 'france': 1813, 'afraid': 140, 'going': 1928, 'commit': 902, 'since': 3990, 'its': 2368, 'but': 634, 'maybe': 2774, 'his': 2115, 'might': 2834, 'considered': 950, 'built': 616, 'upon': 4683, 'could': 1006, 'mexico': 2826, 'israel': 2361, 'usa': 4690, 'second': 3847, 'deserve': 1197, 'it': 2364, 'frustration': 1840, 'hatred': 2046, 'suicide': 4283, 'uk': 4625, '11': 2, 'attacks': 338, 'punishment': 3469, 'support': 4303, 'headed': 2055, 'serial': 3890, 'killer': 2468, 'fact': 1619, 'someone': 4064, 'mr': 2928, 'related': 3595, 'al': 170, 'south': 4087, 'country': 1013, 'sole': 4055, 'existence': 1569, 'bin': 482, 'ignored': 2222, 'ought': 3139, 'too': 4523, 'government': 1945, 'against': 147, 'harder': 2032, 'than': 4421, 'any': 255, 'japan': 2379, 'out': 3142, 'wwii': 4975, 'has': 2040, 'at': 330, 'least': 2552, 'been': 437, 'coherent': 869, 'supposed': 4307, 'cause': 721, 'effect': 1426, 'entirely': 1501, 'nonsensical': 3030, 'plays': 3303, 'well': 4842, 'including': 2261, 'believes': 455, 'himself': 2108, 'snake': 4042, 'obscure': 3067, 'instead': 2304, 'ludicrous': 2683, 'theres': 4441, 'consists': 954, 'belief': 450, 'wasnt': 4806, 'because': 431, 'nothing': 3046, 'further': 1850, 'complete': 920, 'where': 4863, 'forms': 1798, 'hearts': 2063, 'number': 3059, 'anti': 253, 'rooms': 3737, 'into': 2329, 'theaters': 4429, 'very': 4722, 'public': 3462, 'usual': 4698, 'few': 1697, 'equally': 1508, 'like': 2597, 'sight': 3969, 'fast': 1659, 'food': 1775, 'restaurant': 3659, 'elderly': 1438, 'being': 447, 'ever': 1536, 'remember': 3617, 'loved': 2668, 'flying': 1761, 'now': 3053, 'college': 873, 'private': 3406, 'looking': 2646, 'become': 432, 'commercial': 900, 'never': 3000, 'so': 4046, 'obsessed': 3068, 'subject': 4254, 'until': 4679, 'came': 654, 'across': 96, 'my': 2950, 'spin': 4111, 'basement': 404, 'hit': 2119, 'parents': 3190, 'bought': 551, 'every': 1537, 'single': 3996, 'tape': 4366, 'had': 2000, 'only': 3109, 'would': 4957, 'watch': 4810, 'kid': 2462, 'theme': 4434, 'grew': 1969, 'up': 4682, 'still': 4188, 're': 3536, 'today': 4509, 'absolutely': 72, 'amazing': 209, 'plan': 3289, 'buying': 639, 'dvds': 1390, 'soon': 4074, 'really': 3557, 'great': 1961, 'timeless': 4497, 'cannot': 668, 'get': 1896, 'enough': 1489, 'good': 1934, 'example': 1551, 'spite': 4116, 'low': 2674, 'rating': 3530, 'more': 2903, 'worth': 4953, 'watching': 4814, 'engaging': 1479, 'doesnt': 1307, 'take': 4350, 'long': 2642, 'before': 439, 'chemistry': 780, 'ben': 462, 'chaplin': 754, 'your': 4991, 'attention': 344, 'acting': 99, 'class': 831, 'characters': 758, 'represented': 3639, 'sometimes': 4067, 'feels': 1684, 'director': 1262, 'couldnt': 1007, 'decide': 1147, 'drama': 1344, 'romantic': 3734, 'comedy': 888, 'portrayal': 3343, 'law': 2536, 'shy': 3963, 'porn': 3338, 'hidden': 2093, 'bedroom': 436, 'creates': 1037, 'plenty': 3309, 'moments': 2886, 'laughs': 2532, 'does': 1306, 'look': 2644, 'eyes': 1611, 'she': 3924, 'offering': 3088, 'john': 2407, 'taste': 4370, 'time': 4496, 'times': 4498, 'actors': 104, 'give': 1909, 'dramatic': 1346, 'noted': 3044, 'cinematic': 816, 'late': 2521, 'eighties': 1435, 'early': 1398, 'oscars': 3134, 'went': 4846, 'playing': 3302, 'physically': 3265, 'mentally': 2807, 'award': 365, 'lesser': 2574, 'god': 1923, 'next': 3006, 'ten': 4400, 'years': 4979, 'see': 3856, 'another': 249, 'best': 468, 'actress': 105, 'holly': 2133, 'hunter': 2196, 'piano': 3266, 'five': 1740, 'actor': 103, 'awards': 366, 'hoffman': 2125, 'rain': 3508, 'daniel': 1110, 'day': 1128, 'lewis': 2584, 'left': 2559, 'foot': 1778, 'pacino': 3165, 'woman': 4921, 'tom': 4515, 'hanks': 2022, 'rush': 3760, '1996': 26, 'shine': 3932, 'played': 3299, 'deaf': 1133, 'herself': 2089, 'others': 3137, 'able': 66, 'comment': 896, 'given': 1910, 'political': 3326, 'quality': 3486, 'foster': 1806, 'failed': 1624, 'win': 4892, 'saw': 3799, 'evidence': 1544, 'sort': 4077, 'view': 4735, 'however': 2180, 'majority': 2710, 'deserved': 1198, 'gone': 1932, 'clint': 848, 'eastwood': 1407, 'robert': 3714, 'rather': 3529, 'apart': 263, 'performance': 3230, 'madness': 2696, 'king': 2477, 'george': 1890, 'course': 1018, 'character': 756, 'ill': 2225, 'based': 403, 'irish': 2350, 'writer': 4968, 'brown': 600, 'working': 4944, 'family': 1643, 'movement': 2922, 'speech': 4101, 'eventually': 1535, 'discovered': 1278, 'control': 976, 'movements': 2923, 'part': 3195, 'body': 526, 'hence': 2080, 'title': 4505, 'learned': 2549, 'write': 4967, 'draw': 1347, 'holding': 2127, 'piece': 3274, 'hard': 2030, 'city': 823, 'jim': 2400, 'shows': 3961, 'us': 4689, 'here': 2083, 'ways': 4821, 'grim': 1971, 'grey': 1970, 'place': 3284, 'our': 3140, 'normal': 3032, 'later': 2523, 'name': 2959, 'father': 1664, 'must': 2949, 'set': 3899, 'spirit': 4112, 'much': 2933, 'success': 4266, 'due': 1380, 'received': 3565, 'allow': 189, 'him': 2107, 'always': 203, 'believed': 454, 'intelligence': 2310, 'beneath': 463, 'we': 4822, 'how': 2178, 'brothers': 598, 'round': 3743, 'helped': 2077, 'build': 612, 'room': 3736, 'own': 3159, 'back': 377, 'easily': 1404, 'ended': 1468, 'heart': 2061, 'warming': 4794, 'triumph': 4589, 'over': 3149, 'magnificent': 2703, 'career': 684, 'fine': 1726, 'performances': 3231, 'together': 4512, 'recent': 3567, 'will': 4885, 'blood': 511, 'less': 2573, '100': 1, 'convincing': 984, 'tortured': 4531, 'attempts': 342, 'person': 3240, 'though': 4462, 'aware': 367, 'stand': 4143, 'dr': 1338, 'cole': 871, 'hugh': 2183, 'young': 4989, 'brenda': 574, 'mother': 2910, 'won': 4925, 'her': 2082, 'supporting': 4305, 'reason': 3558, 'escapes': 1517, 'try': 4599, 'main': 2705, 'difficult': 1247, 'also': 199, 'live': 2623, 'gives': 1911, 'portrait': 3341, 'heavy': 2067, 'foul': 1807, 'language': 2514, 'rage': 3507, 'selfish': 3871, 'manipulative': 2725, 'those': 4461, 'around': 296, 'aspects': 321, 'positive': 3348, 'courage': 1017, 'wicked': 4878, 'humour': 2191, 'believe': 453, 'emotionally': 1458, 'brings': 586, 'oscar': 3133, 'teeth': 4394, 'strong': 4229, 'likes': 2600, 'robin': 3716, 'williams': 4887, 'kenneth': 2453, 'branagh': 563, '10': 0, 'theatre': 4430, 'then': 4437, 'bollywood': 529, 'both': 546, 'fan': 1646, 'following': 1771, 'elsewhere': 1447, 'production': 3421, 'adapted': 114, 'play': 3298, 'unique': 4661, 'plot': 3311, 'hold': 2126, 'hes': 2090, 'named': 2960, 'race': 3501, 'sum': 4289, 'emotions': 1459, 'alien': 183, 'development': 1223, 'films': 1718, 'role': 3727, 'son': 4070, 'bring': 584, 'track': 4545, 'stage': 4139, 'average': 361, 'fantastic': 1649, 'word': 4937, 'think': 4453, 'describe': 1192, 'ordinary': 3127, 'line': 2608, 'gary': 1870, 'attempting': 341, 'ridiculous': 3694, 'premise': 3372, 'driving': 1366, 'balls': 389, 'ocean': 3078, 'handle': 2015, 'pro': 3408, 'community': 906, 'cry': 1072, 'river': 3708, 'wish': 4904, 'problems': 3411, 'enjoy': 1482, 'baker': 384, 'clearly': 838, 'bad': 381, 'choice': 795, 'pay': 3218, 'check': 775, 'scene': 3810, 'little': 2622, 'price': 3391, 'gets': 1897, 'club': 861, 'member': 2798, 'front': 1838, 'during': 1385, 'top': 4526, 'embarrassed': 1451, 'dog': 1308, 'bite': 488, 'isnt': 2359, 'everyone': 1540, 'enjoyed': 1484, 'full': 1843, 'shooting': 3944, 'worry': 4950, 'leads': 2546, 'terrible': 4408, 'shot': 3950, 'described': 1193, 'violent': 4747, 'through': 4478, 'hong': 2146, 'kong': 2492, 'town': 4542, 'kill': 2466, 'despite': 1209, 'journey': 2419, 'immediately': 2239, 'huge': 2182, 'table': 4347, 'middle': 2832, 'obviously': 3071, 'expensive': 1577, 'if': 2219, 'sounds': 4084, 'implausible': 2242, 'you': 4986, 'probably': 3409, 'acted': 98, 'suspend': 4330, 'disbelief': 1275, 'lot': 2659, 'fun': 1845, 'chasing': 770, 'down': 1333, 'sam': 3778, 'lee': 2557, 'cop': 990, 'smoke': 4039, 'walks': 4779, 'legendary': 2563, 'drug': 1371, 'deal': 1134, 'letting': 2581, 'rap': 3521, 'corrupt': 1000, 'car': 678, 'lots': 2660, 'killings': 2471, 'strange': 4211, 'awkward': 373, 'love': 2667, 'offer': 3086, 'comic': 891, 'book': 534, 'style': 4250, 'suspect': 4328, 'nobody': 3021, 'uses': 4696, 'without': 4913, 'eye': 1609, 'absurd': 73, 'nature': 2974, 'lost': 2658, 'fellow': 1688, 'audience': 351, 'members': 2799, 'three': 4470, 'may': 2773, 'ruthless': 3765, 'editing': 1419, 'narrative': 2965, 'light': 2593, 'hearted': 2062, 'stuff': 4243, 'worked': 4941, 'fathers': 1665, 'high': 2097, 'pass': 3203, 'ending': 1469, 'ive': 2370, 'rarely': 3525, 'heard': 2059, 'laugh': 2527, 'what': 4857, 'poignant': 3317, 'moment': 2885, 'group': 1977, 'friends': 1834, 'depressed': 1185, 'mood': 2897, 'go': 1921, 'beauty': 429, 'joy': 2420, 'simple': 3983, 'everyday': 1539, 'setting': 3901, 'particular': 3196, 'feminist': 1692, 'perspective': 3247, 'know': 2487, 'german': 1893, 'case': 705, 'half': 2004, 'dialog': 1230, 'version': 4719, 'watched': 4812, 'germany': 1895, 'reaction': 3542, 'speaking': 4094, 'proved': 3448, 'humor': 2189, 'escaped': 1516, 'subtitles': 4260, 'interesting': 2322, 'knowledge': 2489, 'speed': 4102, 'quick': 3492, 'kung': 2496, 'fu': 1841, 'running': 3757, 'scenes': 3812, 'beautifully': 428, 'wealth': 4825, 'slow': 4031, 'intense': 2313, 'above': 68, 'develop': 1220, 'pace': 3162, 'expect': 1573, 'coming': 894, 'age': 148, 'closely': 853, 'villain': 4743, 'whose': 4876, 'liked': 2598, 'contrast': 974, 'nicely': 3008, 'depiction': 1183, 'human': 2185, 'dignity': 1250, 'shown': 3960, 'once': 3105, 'same': 3779, 'emily': 1454, 'most': 2908, 'loving': 2673, 'lead': 2543, 'seen': 3866, 'screen': 3830, 'queen': 3487, 'beyond': 475, 'doubt': 1330, 'chess': 781, 'games': 1862, 'families': 1642, 'struggles': 4235, 'power': 3361, 'stunning': 4245, 'masters': 2759, 'mind': 2848, 'major': 2709, 'minor': 2856, 'period': 3238, 'costumes': 1005, 'imagery': 2231, '20th': 38, 'century': 734, 'lake': 2507, 'captured': 675, 'square': 4136, 'space': 4090, 'wasted': 4808, 'brilliant': 582, 'them': 4433, 'recommend': 3572, 'twice': 4612, 'possibly': 3353, 'week': 4836, 'cant': 669, 'capture': 674, 'within': 4912, 'yet': 4984, 'multi': 2934, 'dimensional': 1251, 'did': 1239, 'read': 3544, 'reading': 3545, 'reminds': 3621, 'game': 1861, 'barry': 400, 'natural': 2972, 'totally': 4533, 'favor': 1668, 'better': 471, 'russian': 3763, 'italian': 2365, 'backdrop': 378, 'true': 4595, 'zero': 4996, 'winner': 4897, 'loser': 2653, 'unless': 4668, 'context': 967, 'souls': 4080, 'limited': 2604, 'extent': 1603, 'break': 568, 'fears': 1675, 'cut': 1088, 'off': 3083, 'called': 650, 'remake': 3613, 'tonight': 4520, 'hype': 2204, 'hour': 2173, 'knew': 2484, 'disaster': 1274, 'match': 2760, 'created': 1036, 'blockbuster': 508, 'script': 3835, 'excellent': 1553, 'okay': 3098, 'job': 2403, 'amitabh': 216, 'alright': 198, 'wanted': 4788, 'portray': 3342, 'evil': 1546, 'bit': 487, 'smooth': 4041, 'roles': 3728, 'disappointment': 1273, 'lets': 2578, 'started': 4157, 'new': 3002, 'guy': 1997, 'wouldnt': 4958, 'proud': 3446, 'start': 4156, 'something': 4066, 'thrown': 4482, 'smile': 4036, 'anyone': 258, 'voice': 4760, 'worst': 4952, 'actresses': 106, 'talented': 4356, 'gifted': 1904, 'directors': 1264, 'miserably': 2863, 'took': 4524, 'such': 4269, 'challenge': 741, 'responsibility': 3656, 'mess': 2816, 'said': 3775, 'response': 3655, 'entertainment': 1498, 'opera': 3115, 'singer': 3993, 'stick': 4185, 'stinks': 4192, '25': 40, 'nice': 3007, 'after': 143, 'soap': 4047, 'loses': 2655, 'doctor': 1302, 'pamela': 3181, 'taylor': 4373, 'comes': 889, 'rescue': 3644, 'falls': 1638, 'slowly': 4032, 'argue': 289, 'goes': 1927, 'winning': 4898, 'likable': 2596, 'things': 4452, 'surprised': 4314, 'star': 4150, 'scenery': 3811, 'shots': 3951, 'san': 3781, 'francisco': 1816, 'italy': 2366, 'got': 1941, 'bored': 540, 'mix': 2875, 'action': 100, 'compelling': 915, 'storyline': 4208, 'cool': 988, 'soundtrack': 4085, 'directing': 1258, 'rocks': 3723, 'mention': 2808, 'beautiful': 427, 'filled': 1712, 'perfectly': 3228, 'forward': 1805, 'seeing': 3858, 'finally': 1721, 'felt': 1689, 'ticket': 4488, 'picks': 3270, 'completely': 921, 'movies': 2926, 'exciting': 1561, 'choreographed': 799, 'apparently': 269, 'directed': 1257, 'responsible': 3657, 'value': 4708, 'monster': 2891, 'franchise': 1814, 'possible': 3352, 'agree': 155, 'past': 3209, 'reviewers': 3679, 'opportunity': 3120, 'continued': 969, 'installment': 2300, 'japanese': 2380, 'forest': 1788, 'while': 4867, 'unfolds': 4650, 'introduced': 2334, 'briefly': 579, 'quickly': 3493, 'real': 3548, 'guys': 1998, 'fight': 1704, 'spider': 4108, 'straight': 4210, 'monkey': 2889, 'memorable': 2800, 'climactic': 846, 'camera': 657, 'effects': 1429, 'brought': 599, 'end': 1466, 'unconvincing': 4637, 'looks': 2647, 'again': 146, 'pity': 3283, 'ruth': 3764, 'gordon': 1937, 'favorite': 1669, 'columbo': 879, 'series': 3891, 'peter': 3249, 'falk': 1634, 'television': 4395, 'hall': 2006, 'fame': 1640, 'regardless': 3591, 'rest': 3658, 'work': 4940, 'music': 2945, 'outstanding': 3148, 'ok': 3097, 'words': 4938, 'cheesy': 779, 'redeeming': 3578, 'feature': 1676, 'dean': 1138, 'promise': 3432, 'concept': 929, 'underground': 4639, 'lab': 2499, 'fire': 1731, 'dragon': 1342, 'basically': 406, 'giving': 1912, 'park': 3192, 'meets': 2793, 'possibilities': 3350, 'follow': 1769, 'special': 4096, 'decent': 1146, 'cgi': 738, 'horribly': 2161, 'lay': 2540, 'blame': 498, 'although': 201, 'producers': 3418, 'id': 2209, 'make': 2711, 'unfortunately': 4653, 'mad': 2694, 'magazine': 2699, 'crazy': 1034, 'common': 904, 'powers': 3363, 'waste': 4807, 'incredibly': 2267, 'thin': 4450, 'takes': 4352, 'clothes': 858, 'chest': 782, 'sorry': 4076, 'ralph': 3512, 'decision': 1150, 'thing': 4451, 'ron': 3735, 'put': 3482, 'anywhere': 262, 'actually': 109, 'copies': 991, 'beginning': 442, 'sequence': 3888, 'grab': 1946, 'thats': 4426, 'note': 3043, 'folks': 1768, 'way': 4819, 'spoil': 4121, 'makers': 2713, 'spoiled': 4122, 'themselves': 4436, 'mature': 2771, 'intelligent': 2311, 'highly': 2102, 'melodrama': 2795, 'filmed': 1714, 'china': 793, 'simply': 3986, 'dolph': 1315, 'vehicle': 4717, 'die': 1241, 'flick': 1751, 'delivers': 1171, 'want': 4787, 'ex': 1547, 'soldier': 4053, 'teacher': 4376, 'tough': 4538, 'inner': 2289, 'school': 3814, 'taken': 4351, 'terrorists': 4415, 'save': 3795, 'sure': 4309, 'fair': 1628, 'share': 3921, 'alive': 186, 'cast': 708, 'enjoyable': 1483, 'youve': 4995, 'million': 2846, 'gender': 1875, 'towards': 4541, '1930s': 11, 'meet': 2791, 'street': 4216, 'performer': 3233, 'talents': 4357, 'magical': 2702, 'awe': 369, 'witness': 4914, 'famous': 1645, 'sees': 3867, 'join': 2410, 'learn': 2548, 'tradition': 4549, 'allows': 192, 'secrets': 3853, 'learning': 2550, 'magic': 2701, 'forever': 1789, 'taking': 4353, 'advice': 133, 'year': 4978, 'teach': 4375, 'ancient': 225, 'art': 303, 'discovers': 1279, 'rare': 3524, 'dying': 1391, 'create': 1035, 'bond': 531, 'experience': 1578, 'range': 3517, 'international': 2323, 'help': 2076, 'move': 2920, 'starring': 4154, 'unknown': 4667, 'seem': 3862, 'likely': 2599, 'remain': 3610, 'cheap': 772, 'slasher': 4020, 'released': 3604, 'problem': 3410, 'horrors': 2166, 'flicks': 1752, 'done': 1320, 'wonder': 4926, 'genre': 1885, 'clichéd': 843, 'imagination': 2233, 'bunch': 621, 'cabin': 641, 'woods': 4935, 'zombie': 4997, 'ghost': 1899, 'sucks': 4272, 'atrocious': 334, 'laughable': 2528, 'lazy': 2541, 'outside': 3147, 'clear': 837, 'meant': 2782, 'night': 3012, 'hell': 2074, 'thinking': 4454, 'scared': 3806, 'dark': 1114, 'hilarious': 2103, 'walking': 4778, 'pitch': 3281, 'black': 492, 'guess': 1986, 'side': 3965, 'local': 2632, 'escape': 1515, 'noticed': 3048, 'teens': 4393, 'shes': 3931, '40': 48, '45': 50, 'anyway': 260, 'six': 4010, 'enjoying': 1485, 'recently': 3568, 'aired': 165, 'disney': 1287, 'presents': 3379, 'channel': 751, 'forgotten': 1794, 'kids': 2465, 'wait': 4769, 'computer': 926, 'virus': 4751, 'becoming': 434, 'fairy': 1630, 'tale': 4354, 'crap': 1030, 'adds': 119, 'exactly': 1549, 'code': 867, 'dozens': 1337, 'add': 115, 'complex': 922, 'universe': 4665, 'change': 747, 'explain': 1584, 'turns': 4608, 'compare': 909, 'confused': 940, 'motion': 2912, 'picture': 3271, 'inspired': 2298, 'stephen': 4176, 'mistake': 2870, 'firstly': 1734, 'presented': 3378, 'tony': 4522, 'jackie': 2372, 'chan': 744, 'fights': 1707, 'pictures': 3272, 'need': 2986, 'logic': 2636, 'seems': 3865, 'point': 3318, 'serving': 3898, 'blows': 516, 'matrix': 2765, 'sequels': 3887, 'attractive': 350, 'female': 1690, 'convincingly': 985, 'physical': 3264, 'demands': 1174, 'house': 2175, 'having': 2051, 'martial': 2745, 'arts': 309, 'background': 379, 'serves': 3896, 'skills': 4014, 'proves': 3449, 'found': 1808, 'central': 733, 'michael': 2828, 'daughter': 1120, 'australian': 356, 'surely': 4310, 'scores': 3824, 'throughout': 4479, 'wants': 4790, 'guilt': 1991, 'innocence': 2290, 'tragic': 4552, 'news': 3004, 'media': 2787, 'society': 4050, 'australia': 355, 'merely': 2813, 'account': 89, 'happened': 2024, 'individual': 2274, 'killing': 2470, 'dogs': 1309, 'wild': 4884, 'randomly': 3516, 'ruined': 3752, 'tv': 4609, 'level': 2582, 'sign': 3970, 'empathy': 1460, 'ones': 3107, 'unaware': 4631, 'influenced': 2284, 'right': 3697, 'appreciate': 278, 'focus': 1763, 'inside': 2294, 'masses': 2753, 'aside': 314, 'jet': 2398, 'baby': 375, 'keep': 2447, 'alone': 194, 'head': 2054, 'press': 3381, 'couldve': 1008, 'liking': 2602, 'streep': 4215, 'greatest': 1963, 'stands': 4147, 'frankly': 1820, 'neither': 2995, 'department': 1181, 'understand': 4642, 'naturally': 2973, 'showing': 3959, 'whether': 4865, 'lovable': 2666, 'situation': 4008, 'devil': 1226, 'wears': 4831, 'angels': 233, 'america': 212, 'yourself': 4993, 'feeling': 1682, 'toward': 4540, 'married': 2742, 'practice': 3365, 'religion': 3608, 'small': 4033, 'thus': 4487, 'initially': 2288, 'react': 3541, 'loss': 2657, 'gods': 1925, 'kick': 2458, 'starting': 4158, 'mill': 2844, 'notion': 3049, 'daughters': 1121, 'whatever': 4858, 'girl': 1906, 'whom': 4874, 'identify': 2213, 'pack': 3166, 'constantly': 957, 'each': 1393, 'advance': 127, 'fred': 1822, 'cuts': 1090, 'away': 368, 'court': 1019, 'dinner': 1252, 'party': 3202, 'office': 3090, 'tries': 4584, 'carried': 696, 'passionate': 3208, 'settings': 3902, 'atmosphere': 332, 'successful': 4267, 'produced': 3416, 'deep': 1153, 'fall': 1635, 'reference': 3583, 'maker': 2712, 'timing': 4499, 'poorly': 3331, 'edited': 1418, 'various': 4714, 'accident': 84, 'similar': 3978, 'touch': 4534, 'generally': 1878, 'russell': 3762, 'days': 1129, 'report': 3636, 'pseudo': 3456, 'religious': 3609, 'wooden': 4934, 'plague': 3287, 'lover': 2670, 'surreal': 4318, 'pleased': 3307, 'discover': 1277, 'definitely': 1161, 'reviews': 3680, 'tell': 4396, 'general': 1877, 'correct': 999, 'wont': 4932, 'bother': 547, 'bore': 539, 'alternate': 200, 'worlds': 4947, 'illness': 2227, 'manages': 2723, 'link': 2611, 'else': 1446, 'troubled': 4592, 'horror': 2165, 'frightening': 1836, 'fantasy': 1650, 'hint': 2109, 'pre': 3367, 'teen': 4389, 'hates': 2045, 'boys': 558, 'stretch': 4221, 'except': 1554, 'women': 4923, 'gave': 1872, 'pretty': 3386, 'allen': 188, 'bed': 435, 'involving': 2346, 'watchable': 4811, 'quiet': 3494, 'last': 2519, 'burt': 627, 'reynolds': 3685, 'chosen': 803, 'money': 2887, 'touching': 4537, 'surprising': 4316, 'becomes': 433, 'credible': 1047, 'harris': 2035, 'lighting': 2594, 'angles': 236, 'face': 1614, 'truly': 4596, 'turn': 4604, 'makes': 2714, 'reel': 3582, 'loud': 2662, 'festival': 1694, 'shocked': 3940, 'golden': 1931, 'considering': 951, 'mixed': 2876, 'reactions': 3543, 'heavily': 2066, 'area': 285, 'theory': 4438, 'cinematography': 818, 'par': 3186, 'shorts': 3949, 'storytelling': 4209, 'student': 4238, 'include': 2258, 'sex': 3908, 'struggle': 4234, 'nick': 3011, 'kate': 2444, 'cops': 992, 'includes': 2260, 'please': 3306, 'oh': 3095, 'opinion': 3117, 'fake': 1633, 'anime': 242, 'fans': 1648, 'earlier': 1397, 'release': 3603, 'slightly': 4029, 'sci': 3816, 'fi': 1698, 'science': 3817, 'several': 3906, 'lesson': 2575, 'explaining': 1586, 'behind': 446, 'events': 1534, 'big': 477, 'relative': 3600, 'near': 2978, 'wonderful': 4928, 'dealing': 1135, 'leaving': 2555, 'earth': 1401, 'month': 2895, 'mission': 2869, 'traveling': 4567, 'returning': 3668, 'passed': 3204, 'remains': 3612, '17': 9, '18': 10, 'entire': 1500, 'warned': 4797, 'wholly': 4873, 'fairly': 1629, 'easy': 1408, 'ignore': 2221, 'otherwise': 3138, 'viewers': 4738, 'stay': 4166, 'managed': 2721, 'run': 3756, 'use': 4691, 'white': 4869, 'produce': 3415, 'resolution': 3650, 'silly': 3976, 'finest': 1727, 'pieces': 3275, 'worse': 4951, 'jesus': 2397, 'hurt': 2199, 'fighting': 1706, 'kinda': 2475, 'perform': 3229, 'badly': 382, 'absent': 70, '12': 3, 'spent': 4107, 'cost': 1002, 'passing': 3206, 'utter': 4700, 'hills': 2106, 'dvd': 1389, 'older': 3100, 'far': 1651, 'superior': 4300, 'works': 4945, 'nowhere': 3055, 'morality': 2902, 'interest': 2320, 'consider': 948, 'multiple': 2935, 'jack': 2371, 'ryan': 3766, 'bourne': 553, 'impossible': 2246, 'productions': 3422, 'obvious': 3070, '1968': 16, 'valuable': 4707, 'plots': 3312, 'twists': 4618, 'entertained': 1496, 'somebody': 4062, 'getting': 1898, 'onto': 3110, 'cd': 726, 'industry': 2277, 'comments': 899, 'seriously': 3893, 'paying': 3219, 'earned': 1399, 'talking': 4361, 'disappointed': 1271, 'delightful': 1167, 'presentation': 3377, 'greek': 1967, 'animation': 241, 'innocent': 2291, 'quote': 3498, 'recall': 3563, 'havent': 2050, 'storm': 4206, 'scientist': 3819, 'answers': 251, 'water': 4815, 'fiction': 1699, 'splendid': 4118, 'blend': 503, 'information': 2285, 'classic': 833, 'fresh': 1830, 'billy': 481, 'alan': 171, 'funny': 1849, 'clichés': 844, 'phony': 3258, 'often': 3094, 'busy': 633, 'trying': 4600, 'tears': 4381, 'subplot': 4256, 'extra': 1604, 'happens': 2026, 'visit': 4754, 'health': 2057, 'crisis': 1059, 'etc': 1525, 'doctors': 1303, 'shut': 3962, 'moon': 2899, 'la': 2498, 'boy': 556, 'come': 884, 'writers': 4969, 'realized': 3554, 'painted': 3175, 'corner': 995, 'disappointing': 1272, 'missed': 2866, 'bears': 420, '70s': 56, 'warriors': 4802, 'rocky': 3724, 'among': 217, 'careers': 685, 'jumped': 2428, 'credits': 1049, 'bigger': 478, 'appearance': 273, 'werent': 4848, 'doing': 1310, 'wes': 4850, 'hed': 2069, 'already': 197, 'scream': 3827, 'lincoln': 2606, 'wacky': 4768, 'ago': 154, 'appeared': 275, 'adult': 125, 'associated': 326, 'spoof': 4127, 'funnier': 1847, 'combined': 883, 'placed': 3285, 'asleep': 319, 'somehow': 4063, 'puts': 3483, 'metal': 2821, 'supposedly': 4308, 'changes': 749, 'personality': 3244, 'reality': 3552, 'killers': 2469, 'experiment': 1581, 'desperate': 1206, 'lessons': 2576, 'amazingly': 210, 'trouble': 4591, 'scientific': 3818, 'lonely': 2641, 'summer': 4291, 'camp': 660, 'personal': 3242, 'leading': 2545, 'idiotic': 2216, 'loads': 2631, 'barely': 398, 'nude': 3057, 'girls': 1908, 'bar': 395, 'annoying': 248, 'spiritual': 4115, 'discovery': 1280, 'none': 3027, 'gore': 1938, 'henry': 2081, 'trade': 4548, 'stupid': 4248, 'secret': 3850, 'figure': 1708, 'garbage': 1867, 'weekend': 4837, 'nightmare': 3013, 'opening': 3113, 'putting': 3484, 'candy': 666, 'tend': 4401, 'child': 787, 'served': 3895, 'purpose': 3476, 'embarrassing': 1452, 'happy': 2029, 'medium': 2790, 'mary': 2749, 'uncle': 4635, 'albert': 174, 'inducing': 2276, 'laughing': 2531, 'hilariously': 2104, 'unfunny': 4654, 'qualities': 3485, 'credit': 1048, 'imdb': 2237, 'basic': 405, 'thriller': 4473, 'murder': 2938, 'keeps': 2449, 'guessing': 1988, 'kinds': 2476, 'certainly': 736, 'standard': 4144, 'fascinating': 1656, 'haunting': 2048, 'disturbing': 1298, 'james': 2376, 'turned': 4605, 'four': 1809, 'driven': 1363, 'behavior': 445, 'spending': 4105, 'mountains': 2917, 'theyre': 4446, 'faced': 1615, 'form': 1795, 'men': 2803, 'intended': 2312, 'travel': 4566, 'adventure': 130, 'excitement': 1560, 'trip': 4587, 'mountain': 2916, 'land': 2509, 'elements': 1441, 'everything': 1542, 'youll': 4988, 'cinema': 814, 'important': 2244, 'followed': 1770, 'contains': 963, 'featured': 1677, 'terrific': 4410, 'musical': 2946, 'score': 3823, 'unforgettable': 4651, 'homosexual': 2142, 'pig': 3276, 'rape': 3522, 'deliver': 1168, 'perfect': 3226, 'jon': 2414, 'voight': 4763, 'flawless': 1748, 'dialogue': 1232, 'web': 4832, 'motivations': 2914, 'double': 1329, 'burning': 625, 'romance': 3733, 'kevin': 2455, 'moving': 2927, 'anything': 259, 'committed': 903, 'celluloid': 729, 'ingredients': 2286, 'titanic': 4504, 'trite': 4588, 'youre': 4992, 'conversation': 979, 'treat': 4571, 'finished': 1730, 'listening': 2618, 'commentary': 897, 'review': 3677, 'attempt': 339, 'saying': 3801, 'howard': 2179, 'frank': 1818, 'professional': 3423, 'mental': 2806, 'analysis': 224, 'hey': 2092, 'andrew': 228, 'hbo': 2052, 'excuse': 1562, 'pathetic': 3212, 'shame': 3919, 'reduced': 3580, 'repetitive': 3634, 'survived': 4323, 'lies': 2589, 'beaten': 423, 'ad': 110, 'call': 649, 'timothy': 4500, 'paid': 3170, 'southern': 4088, 'sheriff': 3930, 'blond': 509, 'english': 1481, 'super': 4295, 'thugs': 4485, 'lately': 2522, 'perhaps': 3237, 'thanks': 4424, 'succeed': 4263, 'entertaining': 1497, 'justify': 2437, 'violence': 4746, 'irony': 2354, 'pulp': 3467, 'miss': 2865, 'nearly': 2980, 'idiot': 2215, 'neighbor': 2991, 'drunk': 1373, 'suddenly': 4274, 'wife': 4883, 'system': 4346, 'leave': 2553, 'punk': 3470, 'rock': 3721, 'roll': 3729, 'teenage': 4390, 'ends': 1472, 'kudos': 2495, 'civil': 824, 'rights': 3698, 'justice': 2436, 'damn': 1099, 'soft': 4051, 'widely': 4880, 'recognized': 3571, 'subtle': 4261, 'understated': 4645, 'clever': 839, 'length': 2567, 'beloved': 460, 'returns': 3669, 'batman': 412, 'christmas': 808, 'hate': 2043, 'looked': 2645, 'neighbors': 2993, 'yeah': 4977, '1973': 19, 'catch': 712, 'gonna': 1933, 'sit': 4003, 'begin': 441, 'inept': 2278, 'direction': 1259, 'exception': 1555, 'expected': 1575, 'mechanical': 2786, 'train': 4555, 'wreck': 4965, 'wow': 4962, 'plus': 3313, 'directly': 1261, 'wells': 4844, 'source': 4086, 'material': 2764, 'distracting': 1295, 'facial': 1617, 'hair': 2002, 'backgrounds': 380, 'green': 1968, 'screening': 3831, 'direct': 1256, 'imagine': 2235, 'plans': 3294, 'drink': 1359, 'drinking': 1360, 'comedies': 887, 'phone': 3257, 'psychic': 3458, 'pretend': 3383, 'gay': 1873, 'apartment': 264, 'dreams': 1353, 'horrible': 2160, 'brad': 559, 'crappy': 1031, 'smart': 4035, 'destroy': 1211, 'copy': 993, 'parker': 3193, 'manhattan': 2724, 'building': 613, 'burns': 626, 'cat': 711, 'stuck': 4237, 'task': 4369, 'finding': 1724, 'lady': 2505, 'searching': 3843, 'accept': 80, 'male': 2717, 'decides': 1149, 'poor': 3330, 'lovely': 2669, 'under': 4638, 'besides': 467, 'businessman': 632, 'boyfriend': 557, 'sweet': 4337, 'humorous': 2190, 'stars': 4155, 'string': 4227, 'asking': 317, 'receives': 3566, 'necessary': 2983, 'mate': 2763, 'knows': 2491, 'hopefully': 2154, 'offensive': 3085, 'viewer': 4737, 'issues': 2363, 'treated': 4572, 'subtlety': 4262, 'scale': 3803, 'sets': 3900, 'therefore': 4440, 'tales': 4358, 'raw': 3533, 'honest': 2143, 'below': 461, 'lives': 2626, 'brother': 597, 'countryside': 1014, 'psychotic': 3461, 'opens': 3114, 'creatures': 1045, 'whilst': 4868, 'staying': 4168, 'suspense': 4331, 'experiences': 1580, 'blue': 517, 'falling': 1637, 'cliff': 845, 'stop': 4201, 'dead': 1131, 'tracks': 4546, 'mrs': 2929, 'explanation': 1588, 'bizarre': 491, 'act': 97, 'lines': 2610, 'paper': 3185, 'bag': 383, 'suppose': 4306, 'scary': 3808, 'murders': 2942, 'creature': 1044, 'farm': 1654, 'hand': 2012, 'creepy': 1051, 'importantly': 2245, 'cars': 700, 'minimal': 2854, 'list': 2615, 'creative': 1040, 'involved': 2343, 'fat': 1661, 'directions': 1260, 'method': 2823, 'mans': 2728, 'andy': 230, 'weird': 4840, 'indeed': 2268, 'standards': 4145, 'cheese': 778, 'producer': 3417, 'harry': 2036, 'virtually': 4750, 'written': 4972, 'ride': 3693, 'seat': 3846, 'ladies': 2504, 'enter': 1492, 'world': 4946, 'mean': 2777, 'hope': 2152, 'touches': 4536, 'ready': 3547, 'alongside': 196, 'dressing': 1357, 'close': 851, 'nowadays': 3054, 'raped': 3523, 'em': 1450, 'womens': 4924, 'speaks': 4095, 'says': 3802, 'twenty': 4611, 'argument': 290, 'lie': 2588, 'occur': 3075, 'judge': 2422, 'husbands': 2202, 'holes': 2130, 'prove': 3447, 'reach': 3537, 'planet': 3291, 'mars': 2744, 'using': 4697, 'faith': 1631, 'horses': 2168, 'loves': 2672, 'forced': 1784, 'whats': 4859, 'corny': 996, 'claim': 826, 'realizing': 3556, 'free': 1824, 'jump': 2427, 'swimming': 4339, 'pool': 3329, 'inspiring': 2299, 'revenge': 3676, 'starts': 4159, 'kicking': 2460, 'claims': 828, 'kidding': 2463, 'lawyer': 2539, 'ah': 158, 'higher': 2098, 'values': 4709, 'glad': 1913, 'closer': 854, 'poverty': 3359, 'misery': 2864, 'chance': 745, 'open': 3111, 'lesbian': 2571, 'realize': 3553, 'exact': 1548, 'eight': 1434, 'initial': 2287, 'curiosity': 1081, 'strangers': 4214, 'co': 865, 'exist': 1567, 'island': 2358, 'youd': 4987, 'heroes': 2086, 'bush': 630, 'decade': 1143, 'record': 3574, 'questionable': 3490, 'bill': 480, 'eating': 1411, 'rat': 3526, 'crew': 1052, 'air': 164, 'appeal': 270, 'suggest': 4281, 'bus': 629, 'station': 4164, 'homeless': 2140, 'charge': 759, 'ability': 65, 'striking': 4226, 'frankenstein': 1819, 'breath': 572, 'survivor': 4325, 'leaves': 2554, 'sent': 3881, 'state': 4160, 'blown': 515, 'kicks': 2461, 'remarkable': 3614, 'literally': 2620, 'dolls': 1314, 'witch': 4909, 'business': 631, 'types': 4621, 'sharp': 3923, 'typical': 4622, 'fashion': 1657, 'colorful': 876, 'sub': 4253, 'itself': 2369, 'struggling': 4236, 'pregnant': 3371, 'husband': 2201, 'police': 3324, 'captain': 672, 'display': 1289, 'countless': 1011, 'kings': 2479, 'dancing': 1106, 'punch': 3468, 'effective': 1427, 'crime': 1054, 'beat': 422, 'reporter': 3637, 'keeping': 2448, 'focused': 1764, 'anthony': 252, 'loose': 2648, 'sexy': 3912, 'castle': 710, 'cash': 707, 'pile': 3277, 'proceeds': 3413, 'bull': 617, 'kills': 2472, 'blonde': 510, 'murderous': 2941, 'short': 3947, 'lived': 2624, 'increasingly': 2265, 'appear': 272, 'window': 4894, 'gruesome': 1983, 'spooky': 4128, 'gothic': 1942, 'sadistic': 3769, 'rich': 3686, 'psycho': 3459, 'drop': 1367, 'gorgeous': 1939, 'vicious': 4727, 'victim': 4728, 'eaten': 1410, 'normally': 3033, 'guarantee': 1984, 'grave': 1959, 'dull': 1382, 'convoluted': 986, 'suspects': 4329, 'along': 195, 'greedy': 1966, 'secondly': 3848, 'stylish': 4252, 'yes': 4982, 'bits': 489, 'giallo': 1901, 'choices': 796, 'weapon': 4827, 'aunt': 354, 'england': 1480, 'mentioning': 2810, 'extras': 1606, 'acid': 95, 'total': 4532, 'flesh': 1750, 'purchased': 3472, 'ray': 3534, 'promised': 3433, 'visuals': 4758, 'wide': 4879, 'cameras': 658, 'whereas': 4864, 'mediocre': 2789, 'history': 2118, 'landscape': 2511, 'rent': 3627, 'buy': 638, 'filmmakers': 1717, 'ashamed': 311, 'legend': 2562, 'showed': 3957, 'gripping': 1973, 'memory': 2802, 'grown': 1981, 'memories': 2801, 'hung': 2194, 'prime': 3397, 'childhood': 788, 'road': 3710, 'broken': 593, 'answer': 250, 'stories': 4205, 'styles': 4251, 'tells': 4398, 'sky': 4017, 'lone': 2640, 'warrior': 4801, 'master': 2755, 'dawn': 1126, 'hundred': 2192, 'returned': 3667, 'meanwhile': 2783, 'detail': 1215, 'interested': 2321, 'generated': 1879, 'unlike': 4669, 'graphics': 1956, 'appears': 277, 'rushed': 3761, 'involves': 2345, 'intriguing': 2332, 'extended': 1602, 'cameos': 656, 'question': 3489, 'louis': 2663, 'kelly': 2450, 'revelation': 3675, 'admit': 122, 'overall': 3151, 'changed': 748, 'decades': 1144, 'ultimately': 4627, 'thoroughly': 4460, 'sellers': 3873, 'filming': 1715, 'painful': 3172, 'viewing': 4739, 'lacks': 2503, 'potential': 3357, 'racist': 3505, 'hardly': 2033, 'actual': 108, 'jokes': 2413, 'gags': 1859, 'dreary': 1354, 'racial': 3503, 'attempted': 340, 'sinister': 3998, 'formula': 1799, 'youth': 4994, 'british': 588, 'smith': 4038, 'quirky': 3495, 'warmth': 4795, 'oddly': 3080, 'comical': 892, 'strength': 4219, 'genuinely': 1889, 'witty': 4917, 'slapstick': 4019, 'pink': 3279, 'helen': 2072, 'numbers': 3060, 'comedic': 886, 'genius': 1884, 'younger': 4990, 'decided': 1148, 'sequel': 3886, 'shouldnt': 3953, 'eric': 1512, 'allowed': 190, 'worried': 4949, 'sister': 4001, 'asks': 318, 'sea': 3839, 'artists': 308, 'adequate': 120, 'screaming': 3828, 'narrator': 2966, 'warning': 4799, 'offered': 3087, 'sadly': 3770, 'downhill': 1334, 'bride': 576, 'mansion': 2729, 'tragedy': 4551, 'begins': 443, 'hear': 2058, 'mysterious': 2954, 'figured': 1709, 'heroine': 2088, 'hundreds': 2193, 'numerous': 3061, 'missing': 2868, 'key': 2456, 'arms': 293, 'voiced': 4761, 'friend': 1832, 'philip': 3254, 'david': 1123, 'flies': 1753, 'waiting': 4771, 'hang': 2019, 'notice': 3047, 'depth': 1188, 'distance': 1292, 'broadcast': 590, 'advantage': 129, 'impressed': 2248, 'design': 1200, 'fly': 1760, 'unusual': 4680, 'gray': 1960, 'writing': 4971, 'theyll': 4445, 'meaning': 2778, 'hated': 2044, 'explained': 1585, 'exploration': 1591, 'rented': 3629, 'notably': 3041, 'edition': 1420, 'drew': 1358, 'wanna': 4785, 'aka': 168, 'random': 3515, 'sick': 3964, 'unnecessary': 4671, 'parts': 3201, 'mob': 2878, 'guns': 1995, 'boom': 536, 'rose': 3740, 'angel': 231, 'believable': 452, 'dire': 1255, 'canadian': 665, 'term': 4406, 'prior': 3402, 'moved': 2921, 'devoted': 1229, 'threat': 4468, 'incoherent': 2262, 'useless': 4694, 'appalling': 267, 'displays': 1291, 'fails': 1626, 'convince': 982, 'worthy': 4956, 'reasons': 3561, 'midnight': 2833, 'cowboy': 1024, 'notable': 3040, 'rated': 3528, 'academy': 77, 'receive': 3564, 'trust': 4597, 'combination': 881, 'stellar': 4174, 'ambitious': 211, 'friendship': 1835, 'joe': 2405, 'buck': 604, 'dressed': 1356, 'travels': 4568, 'texas': 4419, 'york': 4985, 'seek': 3859, 'prostitute': 3442, 'willing': 4889, 'faces': 1616, 'extreme': 1607, 'dry': 1375, 'con': 927, 'realise': 3549, 'offers': 3089, 'largely': 2516, 'cold': 870, 'gritty': 1974, 'convinced': 983, 'miles': 2842, 'somewhat': 4068, 'reminiscent': 3622, 'novel': 3051, 'streets': 4217, 'realistic': 3551, 'ourselves': 3141, 'stiff': 4187, 'winter': 4900, 'ultra': 4628, 'realism': 3550, 'portraying': 3345, 'modern': 2881, 'exceptional': 1556, 'debut': 1142, 'nominated': 3024, 'wayne': 4820, 'seven': 3904, 'mainly': 2706, 'flashbacks': 1744, 'brief': 578, 'circumstances': 820, 'led': 2556, 'path': 3211, 'final': 1719, 'large': 2515, 'amount': 219, 'provoking': 3454, 'ages': 152, 'photographer': 3261, 'nyc': 3064, 'dubbed': 1377, 'clean': 836, 'neighborhood': 2992, 'drugs': 1372, 'buddy': 607, 'became': 430, 'paced': 3163, 'officer': 3091, 'safety': 3773, 'spare': 4092, 'legal': 2561, 'corruption': 1001, 'nasty': 2967, 'controversial': 977, 'subjects': 4255, 'photography': 3262, 'criminals': 1057, 'adding': 117, 'technical': 4382, 'cameo': 655, 'officers': 3092, 'protagonists': 3444, 'tribute': 4580, 'balance': 386, 'depressing': 1186, 'bright': 580, 'mgm': 2827, 'shelf': 3927, '30': 42, 'video': 4732, 'masterpiece': 2757, '1970s': 17, 'introduce': 2333, 'babe': 374, 'bitter': 490, 'heaven': 2065, 'critic': 1060, 'gotta': 1943, 'uninteresting': 4659, 'manner': 2727, 'disjointed': 1285, 'ian': 2206, 'cure': 1080, 'skip': 4016, 'generous': 1883, 'authentic': 357, 'disagree': 1267, 'calling': 651, 'unrealistic': 4676, 'environment': 1503, 'lower': 2675, 'teenagers': 4392, 'behave': 444, 'hollywood': 2134, 'impressive': 2250, 'dramas': 1345, 'regarding': 3590, 'negative': 2990, 'names': 2962, 'wondering': 4930, 'conspiracy': 955, 'ideas': 2212, 'un': 4629, 'supernatural': 4302, 'loosely': 2649, 'company': 908, 'result': 3661, 'clips': 850, 'program': 3426, 'breaking': 569, 'church': 811, 'mainstream': 2707, 'views': 4741, 'significant': 3972, 'social': 4049, 'cultural': 1077, 'propaganda': 3437, 'alexander': 180, 'antics': 254, 'companion': 907, 'flaw': 1746, 'size': 4012, 'subplots': 4257, 'fully': 1844, 'temple': 4399, 'count': 1009, 'battle': 413, 'li': 2585, 'notes': 3045, 'warner': 4798, 'lacked': 2501, 'theater': 4428, 'everybody': 1538, 'zombies': 4998, 'resident': 3648, 'contain': 961, 'satire': 3789, 'runs': 3758, 'pacing': 3164, 'wise': 4903, 'incredible': 2266, 'mistakes': 2872, 'gem': 1874, 'dislike': 1286, 'unpleasant': 4673, 'unhappy': 4655, 'saga': 3774, 'western': 4852, 'hoping': 2157, 'interview': 2326, 'gene': 1876, 'testament': 4418, 'overcome': 3152, 'achieve': 92, 'goal': 1922, '60': 53, 'minute': 2857, 'martin': 2746, 'minds': 2851, 'everywhere': 1543, 'specifically': 4099, 'abusive': 75, 'executed': 1563, 'certain': 735, 'refreshing': 3587, 'command': 895, '13': 4, 'demented': 1175, 'cynical': 1092, 'familiar': 1641, 'service': 3897, 'protagonist': 3443, 'raise': 3509, 'nose': 3036, 'laws': 2538, 'base': 401, 'present': 3376, 'metaphor': 2822, 'bat': 409, 'cult': 1076, 'studio': 4240, 'combine': 882, '1940s': 13, 'sheer': 3926, 'explosions': 1595, 'painfully': 3173, 'shock': 3939, 'floating': 1755, 'flop': 1757, 'raising': 3511, 'voices': 4762, 'crying': 1073, 'lord': 2650, 'rings': 3700, 'ironic': 2352, 'solid': 4057, 'tim': 4495, 'repeated': 3632, 'sentence': 3882, 'versus': 4721, 'monsters': 2892, 'worthwhile': 4955, 'routine': 3744, 'versions': 4720, 'nudity': 3058, 'encounters': 1465, 'maintain': 2708, 'print': 3401, 'footage': 1779, 'aspect': 320, 'third': 4456, 'matters': 2768, 'confusing': 941, 'demons': 1177, 'myself': 2952, 'effort': 1430, 'senseless': 3879, 'hotel': 2172, '50': 51, 'picked': 3268, 'girlfriend': 1907, 'leslie': 2572, 'estate': 1523, 'agent': 150, 'jerry': 2394, 'rick': 3690, 'whos': 4875, 'property': 3440, 'annie': 246, 'brooks': 595, 'jane': 2378, 'linda': 2607, 'blair': 496, 'tommy': 4517, 'sullivan': 4288, 'catherine': 717, 'boat': 522, 'driver': 1364, 'trapped': 4563, 'lips': 2613, 'accidentally': 85, 'witches': 4910, 'virgin': 4748, 'demon': 1176, 'doll': 1311, 'themes': 4435, 'designed': 1201, 'enormous': 1488, 'levels': 2583, 'cake': 646, 'glenn': 1915, 'de': 1130, 'desire': 1203, 'skin': 4015, 'desired': 1204, 'extraordinary': 1605, 'needs': 2989, 'scheme': 3813, 'instantly': 2303, 'appealing': 271, 'expectations': 1574, 'recognize': 3570, 'terribly': 4409, 'gerard': 1892, 'outrageous': 3146, 'clothing': 859, 'west': 4851, 'homage': 2138, 'superb': 4296, 'butler': 635, 'bumbling': 620, 'unfortunate': 4652, 'worn': 4948, 'detailed': 1216, 'deserves': 1199, 'nomination': 3025, 'holds': 2128, 'comparing': 911, 'animated': 240, 'suffice': 4280, 'casting': 709, 'began': 440, 'deceased': 1145, 'conflicts': 939, 'african': 142, 'brooklyn': 594, 'screenplay': 3832, 'diamond': 1234, 'danny': 1111, 'directs': 1265, 'gradually': 1949, 'jewish': 2399, 'currently': 1084, 'finish': 1729, 'enters': 1494, 'willie': 4888, 'conflict': 938, 'meeting': 2792, 'bell': 457, 'friendly': 1833, 'sisters': 4002, 'descent': 1191, 'competition': 917, 'reveals': 3674, 'condition': 936, 'scripted': 3836, 'border': 538, 'primarily': 3395, 'solo': 4058, 'jazz': 2385, 'blues': 518, 'tension': 4405, 'sequences': 3889, 'speak': 4093, 'finds': 1725, 'aimed': 162, 'sexual': 3909, 'references': 3584, 'graphic': 1955, 'deaths': 1141, 'childrens': 791, 'introduces': 2335, 'indian': 2271, 'affect': 136, 'massive': 2754, 'twist': 4616, 'grand': 1950, 'happen': 2023, 'baseball': 402, 'stood': 4199, 'hits': 2122, 'flaws': 1749, 'ie': 2218, 'mitchell': 2874, 'homer': 2141, 'step': 4175, 'presence': 3375, 'moral': 2901, 'comparison': 912, 'surprisingly': 4317, 'sudden': 4273, 'impact': 2241, 'cases': 706, 'mystery': 2955, 'detective': 1218, 'dirty': 1266, 'lucky': 2681, 'robbery': 3712, 'inspiration': 2297, 'pursuit': 3478, 'citizen': 822, 'vacation': 4703, 'develops': 1224, 'sandra': 3783, 'jennifer': 2390, 'cruel': 1069, 'assault': 323, 'defined': 1159, 'vs': 4766, 'atmospheric': 333, 'helps': 2079, 'climax': 847, 'simplicity': 3984, 'spend': 4104, 'hours': 2174, 'costs': 1003, 'heads': 2056, 'london': 2639, 'encounter': 1464, 'learns': 2551, 'creep': 1050, 'terms': 4407, 'cleverly': 840, 'tense': 4404, 'fear': 1674, 'focusing': 1766, 'predictable': 3369, 'difference': 1244, 'era': 1511, 'dress': 1355, 'means': 2781, 'conclusion': 935, 'understood': 4646, 'silent': 3975, 'intellectual': 2309, 'todays': 4510, 'swear': 4335, 'favorites': 1670, 'spoilers': 4124, 'curious': 1082, 'highlight': 2100, 'topless': 4528, 'machine': 2691, 'pull': 3463, 'pulls': 3466, 'box': 554, 'object': 3065, 'military': 2843, 'throws': 4483, 'truck': 4594, 'guard': 1985, 'surprise': 4313, 'rubber': 3748, 'costume': 1004, 'pops': 3334, 'nearby': 2979, 'armed': 292, 'forces': 1785, 'protect': 3445, 'credibility': 1046, 'unintentional': 4657, 'alert': 178, '3000': 43, 'proof': 3436, 'americas': 215, 'dream': 1352, 'relationship': 3598, 'hill': 2105, 'steal': 4170, 'kiss': 2481, 'bath': 410, 'emotional': 1457, 'agrees': 157, 'happiness': 2028, 'ups': 4685, 'jean': 2387, 'throw': 4480, 'robinson': 3717, 'daddy': 1095, 'model': 2879, 'war': 4791, 'highlights': 2101, 'available': 360, 'christian': 806, 'recommended': 3573, 'trained': 4556, 'humanity': 2186, 'provides': 3452, 'portrays': 3346, 'survival': 4321, 'principal': 3400, 'animal': 238, 'mark': 2737, 'gangster': 1865, 'mafia': 2698, 'sucked': 4271, 'gag': 1858, 'location': 2633, 'variety': 4713, 'gun': 1993, 'kept': 2454, 'richard': 3687, 'joke': 2412, 'element': 1440, 'section': 3854, 'soviet': 4089, 'poster': 3355, 'generation': 1880, 'attacked': 337, 'united': 4663, 'continues': 970, 'mel': 2794, 'providing': 3453, 'technology': 4386, 'humans': 2187, 'tooth': 4525, 'birth': 485, 'drawn': 1349, 'deadly': 1132, 'mouse': 2918, 'adaptation': 113, 'suspenseful': 4332, 'weak': 4823, 'gang': 1864, 'hip': 2111, 'hop': 2151, 'suited': 4286, 'rachel': 3502, 'kim': 2473, 'maria': 2734, 'marie': 2735, 'split': 4119, 'riding': 3696, 'vengeance': 4718, 'patrick': 3215, 'sally': 3777, 'fbi': 1673, 'hot': 2171, 'intimate': 2328, 'handsome': 2018, 'wallace': 4781, 'stated': 4161, 'elizabeth': 1443, 'cartoon': 702, 'ugly': 4624, 'gold': 1929, 'developed': 1221, 'hat': 2042, 'tremendous': 4578, 'mexican': 2825, 'accent': 78, 'nevertheless': 3001, 'popular': 3335, 'abysmal': 76, 'studios': 4241, 'latter': 2526, 'frequently': 1829, 'chase': 767, 'self': 3870, 'titled': 4506, 'factory': 1621, 'weight': 4839, 'generic': 1882, 'cartoons': 703, 'blatant': 501, 'featuring': 1679, 'reputation': 3641, 'false': 1639, 'philosophical': 3255, 'melodramatic': 2796, 'superficial': 4298, 'deeply': 1155, 'arrival': 298, 'enemy': 1475, 'knowing': 2488, 'shell': 3928, 'incident': 2257, 'primary': 3396, 'relationships': 3599, 'wit': 4908, 'satisfying': 3792, 'conceived': 928, 'structure': 4233, 'statement': 4162, 'amateur': 206, 'questions': 3491, 'sides': 3967, 'feelings': 1683, 'gentle': 1887, 'lovers': 2671, 'essence': 1519, 'image': 2230, 'universal': 4664, 'appropriate': 282, 'marriage': 2741, 'uwe': 4702, 'boll': 528, 'classics': 835, 'hands': 2017, 'fate': 1663, 'latest': 2524, 'brains': 562, 'fest': 1693, 'bay': 415, 'board': 521, 'ignorant': 2220, 'rabbit': 3500, 'hole': 2129, 'unintentionally': 4658, 'discussion': 1282, 'places': 3286, 'internet': 2324, 'arthur': 304, 'epic': 1504, 'utterly': 4701, 'crash': 1032, 'whale': 4856, 'ego': 1433, 'project': 3429, 'wrote': 4974, 'executive': 1565, 'starred': 4153, 'believing': 456, 'existent': 1570, 'creation': 1039, 'horse': 2167, 'digital': 1249, 'sitting': 4007, 'closet': 856, 'dust': 1386, 'wrong': 4973, 'forgive': 1792, 'provided': 3451, '20': 29, 'hollywoods': 2135, 'suck': 4270, 'portrayed': 3344, 'forgot': 1793, 'root': 3738, 'urge': 4688, 'tame': 4364, 'mild': 2838, 'examples': 1552, 'amongst': 218, 'spoke': 4125, 'spectacular': 4100, 'post': 3354, 'plane': 3290, 'landing': 2510, 'trees': 4576, 'personally': 3245, 'stretched': 4222, 'absolute': 71, 'confidence': 937, 'critics': 1063, 'eddie': 1414, 'murphy': 2943, 'blank': 500, 'expression': 1600, 'sits': 4006, 'giant': 1902, 'bird': 483, 'cage': 643, 'impression': 2249, 'jackson': 2373, '1980s': 21, 'pop': 3332, 'features': 1678, '2004': 34, 'dated': 1118, 'pointed': 3319, 'screenwriter': 3834, 'equal': 1507, 'type': 4620, 'exists': 1571, 'remembered': 3618, 'mentioned': 2809, 'doom': 1324, 'brain': 561, 'terror': 4413, 'sake': 3776, 'stranger': 4213, 'market': 2738, 'fish': 1735, 'ruins': 3753, 'wall': 4780, 'arrived': 300, 'passion': 3207, 'emma': 1455, 'stunts': 4247, 'capturing': 677, '60s': 54, 'ahead': 159, 'depicted': 1182, 'drive': 1361, 'sports': 4130, 'revolution': 3681, 'praise': 3366, 'bruce': 601, 'basketball': 408, 'coach': 866, 'karen': 2442, 'william': 4886, 'tall': 4363, 'grade': 1948, 'arnold': 295, 'constant': 956, 'occasionally': 3074, 'radio': 3506, 'host': 2170, 'gabriel': 1856, 'spends': 4106, 'audiences': 352, 'vivid': 4759, 'losing': 2656, 'causes': 723, 'longer': 2643, 'abandoned': 62, 'bobby': 524, 'seeks': 3861, 'despair': 1205, 'useful': 4693, 'reaches': 3539, 'belongs': 459, '14': 6, 'depicts': 1184, 'abuse': 74, 'brutal': 602, 'wrapped': 4964, 'torn': 4529, 'medical': 2788, 'donna': 1321, 'anna': 244, 'telling': 4397, 'shirley': 3937, '1999': 27, 'lousy': 2665, 'insult': 2306, 'jail': 2374, 'disappeared': 1269, 'survive': 4322, 'stopped': 4202, 'fond': 1773, 'thoughts': 4465, 'express': 1598, 'differences': 1245, 'vast': 4715, 'feet': 1685, 'refuses': 3588, 'regret': 3592, 'winds': 4895, 'naked': 2958, 'instance': 2301, 'dies': 1243, 'jumps': 2430, 'saves': 3797, 'genuine': 1888, 'evening': 1532, 'thru': 4484, 'wizard': 4919, 'oz': 3161, 'spy': 4135, 'superbly': 4297, 'shortly': 3948, 'library': 2587, 'rural': 3759, 'pain': 3171, 'enjoyment': 1486, 'enjoys': 1487, 'purchase': 3471, 'paul': 3216, 'vincent': 4745, 'florida': 1758, 'april': 283, 'excited': 1559, 'glory': 1919, 'song': 4071, 'endure': 1473, 'finale': 1720, 'spike': 4110, 'jones': 2416, 'victor': 4730, 'charles': 762, 'mistress': 2873, 'essential': 1520, 'pat': 3210, 'kissing': 2482, 'fare': 1653, 'walter': 4783, 'captures': 676, 'stress': 4220, 'ultimate': 4626, 'requires': 3643, 'woody': 4936, 'arent': 287, 'tired': 4502, 'mentions': 2811, 'unexpected': 4649, 'writes': 4970, 'center': 730, 'door': 1326, 'apparent': 268, 'sleeping': 4025, 'wind': 4893, 'fit': 1737, 'dennis': 1178, 'hopper': 2158, 'underrated': 4641, 'menace': 2804, 'threatening': 4469, 'blow': 513, 'tried': 4583, 'intensity': 2314, 'carrying': 699, 'hooked': 2150, 'catching': 714, 'gangsters': 1866, 'football': 1780, 'involve': 2342, 'hunt': 2195, 'experienced': 1579, 'attached': 335, 'evident': 1545, 'team': 4379, 'shoots': 3945, '1st': 28, 'amateurish': 207, 'images': 2232, 'everyones': 1541, 'bothered': 548, '2nd': 41, 'training': 4557, 'whatsoever': 4860, 'carry': 698, 'hiding': 2096, 'idiots': 2217, 'wouldve': 4959, '3rd': 47, 'yelling': 4980, 'turkey': 4603, 'expert': 1583, 'thrill': 4472, 'saving': 3798, 'grace': 1947, 'revolves': 3683, 'waitress': 4772, 'halfway': 2005, 'charm': 765, 'strictly': 4223, 'ratings': 3531, 'pleasantly': 3305, 'signs': 3973, 'julia': 2425, 'isolated': 2360, 'standing': 4146, 'waters': 4816, 'edge': 1416, 'spot': 4131, 'nonsense': 3029, 'rough': 3742, 'filmmaker': 1716, 'weakest': 4824, 'agreed': 156, 'happening': 2025, 'horrendous': 2159, 'ask': 315, 'band': 390, 'welcome': 4841, 'destroyed': 1212, 'fool': 1776, 'stays': 4169, 'carries': 697, 'talent': 4355, 'roy': 3746, 'kapoor': 2441, 'yellow': 4981, 'held': 2071, 'revealed': 3672, 'occasional': 3073, 'lust': 2687, 'daring': 1113, 'foreign': 1787, 'wars': 4803, 'politically': 3327, 'politics': 3328, 'lena': 2566, 'wannabe': 4786, 'concert': 934, 'cards': 681, 'fill': 1711, 'dynamic': 1392, 'documentary': 1305, 'franco': 1817, 'acts': 107, 'cheating': 774, 'loaded': 2630, 'tricks': 4582, 'enterprise': 1493, 'captivating': 673, 'comfortable': 890, 'bergman': 465, 'purely': 3474, 'specific': 4098, 'sympathetic': 4343, 'vulnerable': 4767, 'connect': 943, 'intentionally': 2317, 'handed': 2013, 'narration': 2964, 'sorts': 4078, 'faults': 1667, 'ironically': 2353, 'artistic': 307, 'swedish': 4336, 'technique': 4384, 'chinese': 794, 'championship': 743, 'facing': 1618, 'clues': 863, 'investigate': 2339, 'immensely': 2240, 'choose': 797, 'powell': 3360, 'elegant': 1439, 'sir': 4000, 'noir': 3022, 'techniques': 4385, 'musicals': 2947, 'sinatra': 3989, 'singing': 3995, 'innovative': 2292, 'enthusiasm': 1499, 'suggests': 4282, 'naive': 2957, 'contact': 960, 'barbara': 396, 'st': 4137, 'content': 965, 'pie': 3273, 'acceptable': 81, 'flash': 1742, 'originally': 3130, 'chapter': 755, 'segments': 3869, 'saturday': 3793, 'included': 2259, 'reed': 3581, 'identity': 2214, 'sentimental': 3883, 'concerning': 932, 'odds': 3081, 'trio': 4586, 'dollar': 1312, 'rental': 3628, 'store': 4204, 'expecting': 1576, 'dumb': 1383, 'pleasant': 3304, 'ward': 4792, 'irritating': 2356, 'losers': 2654, 'cute': 1089, 'eve': 1530, 'seemed': 3863, 'competent': 916, 'hoped': 2153, 'overlooked': 3155, 'relatively': 3601, 'wealthy': 4826, 'depression': 1187, 'boss': 545, 'jr': 2421, 'strikes': 4225, 'soul': 4079, 'caused': 722, 'factor': 1620, 'relations': 3597, 'undoubtedly': 4647, 'canada': 664, 'nation': 2968, 'priceless': 3392, 'brosnan': 596, 'dance': 1102, 'till': 4494, 'met': 2820, 'pushed': 3480, 'native': 2971, 'closest': 855, 'noble': 3020, 'savage': 3794, 'interpretation': 2325, 'documentaries': 1304, 'collection': 872, 'spoiler': 4123, 'locations': 2634, 'luckily': 2680, 'satisfy': 3791, 'judging': 2423, 'village': 4742, 'seemingly': 3864, 'wear': 4829, 'chooses': 798, 'christians': 807, 'carrey': 694, 'target': 4367, 'douglas': 1332, 'assigned': 324, 'troubles': 4593, 'involvement': 2344, 'president': 3380, 'test': 4417, 'sutherland': 4334, '24': 39, 'prevent': 3387, 'overwhelming': 3158, 'forget': 1790, 'partner': 3200, 'eva': 1529, 'tight': 4493, 'pants': 3184, 'details': 1217, 'whoever': 4871, 'ruin': 3751, 'block': 507, 'notch': 3042, 'funniest': 1848, 'songs': 4072, 'favourite': 1671, '2000': 30, 'prison': 3403, 'helping': 2078, 'determined': 1219, 'repeat': 3631, 'previous': 3389, 'ken': 2451, 'locked': 2635, 'cell': 728, 'theyd': 4444, 'wonders': 4931, 'rubbish': 3749, 'screens': 3833, 'cusack': 1087, 'reached': 3538, 'buried': 622, 'slick': 4026, 'advertising': 132, 'scott': 3825, 'moore': 2900, 'don': 1318, 'simpson': 3987, 'sound': 4081, 'cities': 821, 'britain': 587, 'bullet': 618, 'added': 116, 'hanging': 2020, 'beats': 425, 'education': 1422, 'sympathy': 4344, 'paint': 3174, 'areas': 286, 'mindless': 2850, 'effectively': 1428, 'fox': 1811, 'approach': 281, 'namely': 2961, 'needed': 2987, 'plausible': 3297, 'relate': 3594, 'stan': 4142, 'mirror': 2860, 'stayed': 4167, 'bugs': 611, 'lights': 2595, 'suffered': 4277, 'painting': 3176, '1933': 12, 'cube': 1075, 'pit': 3280, 'sunday': 4293, 'morning': 2905, 'grasp': 1957, 'haunted': 2047, 'causing': 724, 'scope': 3822, 'impress': 2247, 'dawson': 1127, 'pointless': 3320, 'ball': 387, 'suit': 4284, 'horrid': 2162, 'dating': 1119, 'broke': 592, 'flight': 1754, 'cia': 812, 'intrigued': 2331, 'historically': 2117, 'accurate': 90, 'historical': 2116, 'explore': 1592, 'artist': 306, 'trek': 4577, 'date': 1117, 'seasons': 3845, 'energy': 1476, 'progress': 3427, 'improve': 2251, 'relatives': 3602, 'site': 4005, 'staff': 4138, 'definition': 1162, 'adventures': 131, 'neo': 2997, 'urban': 4687, 'watches': 4813, 'attitude': 345, 'traditional': 4550, 'results': 3663, 'walk': 4774, 'logical': 2637, 'offended': 3084, 'thousand': 4466, 'washington': 4805, 'search': 3842, 'reveal': 3671, 'methods': 2824, 'groups': 1978, 'johnny': 2408, 'tarzan': 4368, 'nonetheless': 3028, 'mixture': 2877, 'color': 875, 'wore': 4939, 'outfit': 3145, 'possessed': 3349, 'overdone': 3153, '15': 7, 'dozen': 1336, 'pair': 3177, 'mini': 2853, 'pan': 3182, 'nervous': 2998, 'european': 1528, 'cringe': 1058, 'endless': 1471, 'packed': 3167, 'passes': 3205, 'counter': 1010, 'trash': 4564, 'visually': 4757, 'fail': 1623, 'decisions': 1151, 'situations': 4009, 'betty': 473, 'pet': 3248, 'shop': 3946, 'tour': 4539, 'anymore': 257, 'cook': 987, 'carter': 701, 'hitchcock': 2120, 'realizes': 3555, 'robbins': 3713, 'listen': 2617, 'travesty': 4569, 'desperately': 1207, 'french': 1827, 'reflect': 3585, 'doubts': 1331, 'bonus': 533, '1980': 20, 'indie': 2273, 'bottom': 550, 'garden': 1869, 'wedding': 4835, 'heres': 2084, 'torture': 4530, 'smoking': 4040, 'crack': 1026, 'drunken': 1374, 'dad': 1094, 'props': 3441, 'bet': 469, 'divorce': 1299, 'brand': 564, 'season': 3844, 'spoken': 4126, 'claire': 829, 'danes': 1107, 'junk': 2434, 'rate': 3527, 'handled': 2016, 'crimes': 1055, 'tied': 4490, 'opened': 3112, 'warren': 4800, 'covers': 1023, '2007': 37, 'delivery': 1172, 'liberal': 2586, 'measure': 2784, 'wisdom': 4902, 'dickens': 1238, 'novels': 3052, 'contemporary': 964, 'hunting': 2198, 'fancy': 1647, 'hunters': 2197, 'oliver': 3101, 'author': 358, 'grow': 1979, 'books': 535, 'successfully': 4268, 'upper': 4684, 'earl': 1396, 'prepared': 3373, 'stanley': 4148, 'figures': 1710, 'serve': 3894, 'purposes': 3477, 'compared': 910, 'literature': 2621, 'bodies': 525, 'failure': 1627, 'tune': 4601, 'unable': 4630, 'characterization': 757, 'affair': 135, 'pot': 3356, 'switch': 4340, 'astaire': 329, 'marvelous': 2748, 'illogical': 2228, 'marry': 2743, 'drives': 1365, 'ginger': 1905, 'rogers': 3726, 'joan': 2402, 'performers': 3234, 'goldberg': 1930, 'campbell': 661, 'denzel': 1180, 'et': 1524, 'grandmother': 1952, 'grandfather': 1951, 'lacking': 2502, 'sincere': 3991, 'fortunately': 1802, 'force': 1783, 'pitt': 3282, 'moronic': 2906, '50s': 52, 'educational': 1423, 'bob': 523, 'videos': 4733, '80s': 59, 'parody': 3194, 'scares': 3807, 'mom': 2884, 'league': 2547, 'retarded': 3664, 'twin': 4614, 'field': 1701, 'opportunities': 3119, 'scare': 3804, 'wandering': 4784, 'delivering': 1170, 'typically': 4623, 'arrested': 297, 'provide': 3450, 'alice': 182, 'sleazy': 4023, 'attorney': 347, 'wins': 4899, 'hook': 2149, 'represents': 3640, 'leader': 2544, 'engaged': 1478, 'ford': 1786, 'slave': 4022, 'process': 3414, 'todd': 4511, 'follows': 1772, 'weve': 4855, 'settle': 3903, 'fonda': 1774, 'charlie': 763, 'composed': 925, 'conversations': 980, 'humble': 2188, 'julie': 2426, '1960s': 15, 'jealous': 2386, 'exposed': 1596, 'revolutionary': 3682, 'wave': 4817, 'profound': 3425, 'teenager': 4391, 'former': 1797, 'anger': 234, 'delivered': 1169, 'revealing': 3673, 'replaced': 3635, 'shower': 3958, 'wet': 4854, 'students': 4239, 'theyve': 4447, 'planned': 3292, 'investigation': 2340, 'issue': 2362, 'hopeless': 2155, 'send': 3876, 'sleep': 4024, 'shoot': 3943, 'forgettable': 1791, 'cable': 642, '1990s': 25, 'sat': 3787, 'jaws': 2383, 'floor': 1756, 'popcorn': 3333, 'clue': 862, 'ripped': 3702, 'hadnt': 2001, 'saved': 3796, 'recognition': 3569, '90s': 61, 'adam': 111, 'sandler': 3782, 'adams': 112, 'disturbed': 1297, 'deals': 1136, 'powerful': 3362, 'viewed': 4736, 'greatly': 1964, 'craft': 1027, 'accomplished': 87, 'sold': 4052, 'solution': 4059, 'nazis': 2977, 'remaining': 3611, 'sappy': 3785, 'blah': 495, 'dedicated': 1152, 'hasnt': 2041, 'cared': 683, 'sell': 3872, 'wanting': 4789, 'asian': 313, 'regular': 3593, 'ms': 2930, 'rip': 3701, 'chris': 804, 'newspaper': 3005, 'thankfully': 4423, 'empire': 1462, 'steals': 4172, 'justin': 2438, 'demand': 1173, 'september': 3885, 'dangerous': 1109, 'appreciated': 279, 'ii': 2223, 'monk': 2888, 'creating': 1038, 'promising': 3435, 'visual': 4756, 'semi': 3875, 'dutch': 1387, 'heights': 2070, 'regard': 3589, 'snow': 4045, 'rank': 3519, 'rambo': 3513, 'chose': 802, 'villains': 4744, 'tone': 4518, 'shocking': 3941, 'belong': 458, 'quest': 3488, 'redemption': 3579, 'throat': 4477, 'description': 1195, 'lol': 2638, 'guilty': 1992, 'pleasure': 3308, 'anyways': 261, 'drags': 1343, 'millions': 2847, 'renting': 3630, 'hide': 2094, 'godfather': 1924, 'skill': 4013, 'pal': 3178, 'hudson': 2181, 'continuity': 971, 'errors': 1514, 'changing': 750, 'colors': 877, 'admire': 121, 'jumping': 2429, 'orders': 3126, 'eg': 1432, 'cave': 725, 'dig': 1248, 'event': 1533, 'incompetent': 2263, 'wound': 4960, 'unsettling': 4678, 'future': 1853, 'efforts': 1431, 'capital': 671, 'lifestyle': 2591, 'grant': 1953, 'understanding': 4644, 'joseph': 2417, 'trial': 4579, 'defense': 1158, 'deeper': 1154, 'coffee': 868, 'destruction': 1214, 'vision': 4753, 'walls': 4782, 'reasonable': 3559, 'schools': 3815, 'died': 1242, 'mouth': 2919, 'ha': 1999, 'honesty': 2145, 'neat': 2981, 'translation': 4561, 'cross': 1065, 'focuses': 1765, 'builds': 615, 'morgan': 2904, 'freeman': 1826, 'research': 3645, 'independent': 2269, 'lane': 2513, 'rotten': 3741, 'secretary': 3851, '80': 58, 'vegas': 4716, 'grows': 1982, 'upset': 4686, 'eastern': 1406, 'europe': 1527, 'territory': 4412, 'vaguely': 4705, 'consistent': 952, 'disappear': 1268, 'remarkably': 3615, 'merit': 2814, 'amazed': 208, 'necessarily': 2982, 'carpenter': 692, 'uneven': 4648, 'recorded': 3575, 'official': 3093, 'shining': 3934, 'masterful': 2756, 'nicholson': 3010, 'overlook': 3154, 'surrounding': 4320, 'wendy': 4845, 'shelley': 3929, 'lloyd': 2628, 'dick': 1237, 'gift': 1903, 'capable': 670, 'ghosts': 1900, 'chain': 739, 'kubrick': 2494, 'larger': 2517, 'psychological': 3460, 'dealt': 1137, 'albeit': 173, 'twins': 4615, 'criticism': 1062, 'raised': 3510, 'insane': 2293, 'goofy': 1936, 'ideal': 2211, 'terrifying': 4411, 'harvey': 2039, 'cinemas': 815, 'complain': 918, 'cliché': 842, 'faithful': 1632, 'perfection': 3227, 'genres': 1886, 'current': 1083, 'survivors': 4326, 'seeking': 3860, 'affected': 137, 'harsh': 2037, 'suits': 4287, 'talk': 4359, 'ears': 1400, 'campy': 662, 'laughed': 2530, 'infamous': 2281, 'breasts': 571, 'dreadful': 1351, 'pilot': 3278, 'doc': 1301, 'jason': 2381, 'fighter': 1705, 'fay': 1672, 'kurt': 2497, '75': 57, 'stole': 4194, 'trailer': 4553, 'strongly': 4231, 'vote': 4765, 'charming': 766, 'persona': 3241, 'cuba': 1074, 'anne': 245, 'slightest': 4028, 'del': 1164, 'commented': 898, 'werewolf': 4849, 'shadow': 3913, 'beast': 421, 'university': 4666, 'professor': 3424, 'experiments': 1582, 'animals': 239, 'flawed': 1747, 'whenever': 4862, 'constructed': 958, 'horrific': 2163, 'row': 3745, 'introduction': 2336, 'africa': 141, 'represent': 3638, 'accents': 79, 'unwatchable': 4681, 'laid': 2506, 'mid': 2831, 'achievement': 94, 'makeup': 2715, 'card': 679, 'honestly': 2144, 'fictional': 1700, 'reads': 3546, 'wishes': 4906, 'california': 648, 'machines': 2692, 'complexity': 923, 'granted': 1954, 'tiny': 4501, 'mothers': 2911, 'stomach': 4196, 'pearl': 3222, 'prize': 3407, 'east': 1405, 'fortune': 1803, 'succeeded': 4264, 'paris': 3191, 'message': 2817, 'concerns': 933, 'concern': 930, 'shines': 3933, 'contained': 962, 'pages': 3169, 'stinker': 4191, 'lynch': 2689, 'unlikely': 4670, 'weeks': 4838, 'aged': 149, 'nicholas': 3009, 'broadway': 591, 'ran': 3514, 'charisma': 760, 'corporate': 997, 'dancer': 1103, 'singers': 3994, 'eager': 1394, 'matched': 2761, 'artificial': 305, 'appearances': 274, 'guest': 1989, 'murderer': 2940, 'owner': 3160, 'wonderfully': 4929, 'creators': 1043, 'meaningful': 2779, 'polished': 3325, 'birthday': 486, 'cousin': 1020, 'thrills': 4476, 'opposite': 3122, 'surprises': 4315, 'imaginative': 2234, 'imagined': 2236, 'combat': 880, 'outcome': 3143, 'spock': 4120, 'precious': 3368, 'limits': 2605, 'kirk': 2480, 'hopes': 2156, 'severe': 3907, 'convey': 981, 'futuristic': 1854, 'progresses': 3428, 'warn': 4796, 'pick': 3267, 'topic': 4527, 'rules': 3755, 'lose': 2652, 'abc': 63, 'amy': 222, 'ritter': 3706, 'understandable': 4643, 'steven': 4182, 'pays': 3220, 'seagal': 3840, 'cinderella': 813, 'status': 4165, 'royal': 3747, 'prince': 3398, 'admittedly': 123, 'colour': 878, 'manage': 2720, 'designs': 1202, 'ranks': 3520, 'philosophy': 3256, 'network': 2999, 'lucy': 2682, 'lasted': 2520, 'accused': 91, 'racism': 3504, 'crowd': 1066, 'couples': 1016, 'discuss': 1281, 'wilson': 4891, 'fell': 1687, 'flat': 1745, 'bland': 499, 'stale': 4141, 'witnessed': 4915, 'avoided': 363, 'waited': 4770, 'player': 3300, 'lame': 2508, 'caring': 689, 'lucas': 2678, 'molly': 2883, 'matt': 2766, 'thrillers': 4474, 'sensitive': 3880, 'sticks': 4186, 'alcoholic': 177, 'duty': 1388, 'complicated': 924, 'happily': 2027, 'occurs': 3077, 'planning': 3293, 'execution': 1564, 'actions': 101, 'garbo': 1868, 'chances': 746, 'angle': 235, 'superman': 4301, 'christ': 805, 'endearing': 1467, 'sixties': 4011, 'nostalgic': 3038, 'fired': 1732, 'jeremy': 2392, 'davies': 1124, 'roman': 3732, 'continue': 968, 'gotten': 1944, 'category': 716, 'meat': 2785, 'gratuitous': 1958, 'nail': 2956, 'potentially': 3358, 'presumably': 3382, 'scenario': 3809, 'menacing': 2805, 'hammer': 2011, 'downright': 1335, 'godzilla': 1926, 'arguably': 288, 'financial': 1722, 'fault': 1666, 'connection': 945, 'erotic': 1513, 'hollow': 2132, 'silence': 3974, 'patient': 3213, 'darker': 1115, 'sword': 4341, 'claimed': 827, 'soldiers': 4054, 'burned': 624, 'stone': 4197, 'paranoia': 3188, 'stones': 4198, 'authority': 359, 'forty': 1804, 'devoid': 1228, 'arrives': 301, 'empty': 1463, 'pulled': 3464, 'blind': 505, 'bold': 527, '16': 8, 'thinks': 4455, 'worker': 4942, 'breathtaking': 573, 'insight': 2295, 'culture': 1078, 'caught': 720, 'unbelievable': 4633, 'inane': 2255, 'abilities': 64, 'strip': 4228, 'reviewer': 3678, 'motivation': 2913, 'properly': 3439, 'pg': 3252, 'tiresome': 4503, 'museum': 2944, 'overacting': 3150, 'assumed': 328, 'sophisticated': 4075, 'gas': 1871, 'biggest': 479, 'miracle': 2859, 'walker': 4777, 'ice': 2207, 'turner': 4606, 'gory': 1940, 'ireland': 2349, 'halloween': 2007, 'breaks': 570, 'safe': 3772, 'cannibal': 667, 'flashback': 1743, 'montage': 2893, 'disgusting': 1284, 'niro': 3018, 'vampire': 4710, 'cats': 719, 'ridden': 3692, 'riveting': 3709, 'likewise': 2601, 'tap': 4365, 'spanish': 4091, 'agents': 151, 'exceptionally': 1557, 'alfred': 181, 'keaton': 2446, 'fetched': 1695, 'asked': 316, 'quit': 3496, 'security': 3855, 'wearing': 4830, 'ring': 3699, 'spring': 4134, 'page': 3168, 'mine': 2852, 'hospital': 2169, 'dialogs': 1231, 'map': 2731, 'enemies': 1474, 'ed': 1413, 'ground': 1976, 'danger': 1108, 'mask': 2750, 'pride': 3393, 'friday': 1831, 'wasting': 4809, 'afternoon': 144, 'crush': 1071, 'sue': 4275, 'alcohol': 176, 'addition': 118, 'resort': 3651, 'explains': 1587, 'brazil': 567, 'theatrical': 4431, 'obsession': 3069, 'treatment': 4573, 'required': 3642, 'union': 4660, 'reunion': 3670, 'lou': 2661, '1950s': 14, 'princess': 3399, 'glass': 1914, 'complaint': 919, 'according': 88, 'chaos': 753, 'moves': 2924, 'greater': 1962, 'korean': 2493, 'months': 2896, 'leo': 2569, 'christopher': 809, 'jay': 2384, 'beliefs': 451, 'priest': 3394, 'vague': 4704, 'panic': 3183, 'importance': 2243, 'scripts': 3837, 'thief': 4449, 'ass': 322, 'selling': 3874, 'psychiatrist': 3457, 'margaret': 2733, 'patients': 3214, 'mike': 2837, 'ensues': 1491, 'proceedings': 3412, 'draws': 1350, 'amounts': 220, 'viewings': 4740, 'bette': 470, 'davis': 1125, 'mildred': 2840, 'fallen': 1636, 'occasion': 3072, 'stolen': 4195, 'damage': 1098, 'bridge': 577, 'rise': 3703, 'cup': 1079, 'prisoners': 3405, 'circle': 819, 'soccer': 4048, 'nations': 2970, 'catholic': 718, 'battles': 414, 'cutting': 1091, 'sin': 3988, 'insulting': 2307, 'unoriginal': 4672, 'walken': 4776, 'afford': 138, 'comedian': 885, 'fabulous': 1613, 'awesome': 370, 'luck': 2679, 'chorus': 801, 'repeatedly': 3633, 'toy': 4543, 'delight': 1166, 'entertain': 1495, 'picking': 3269, 'resist': 3649, 'technically': 4383, 'needless': 2988, 'irrelevant': 2355, 'bullets': 619, 'nuclear': 3056, 'calls': 652, 'sidney': 3968, 'caine': 645, 'anderson': 227, 'lumet': 2686, 'sean': 3841, 'da': 1093, 'photos': 3263, 'stops': 4203, 'dan': 1101, 'sadness': 3771, 'slaughter': 4021, 'widow': 4882, 'fourth': 1810, 'study': 4242, 'stock': 4193, 'promises': 3434, 'nancy': 2963, 'vice': 4726, 'robot': 3718, 'robots': 3719, 'core': 994, 'kidnapped': 2464, 'charlotte': 764, 'struck': 4232, 'hearing': 2060, 'freedom': 1825, 'inevitable': 2279, 'classes': 832, 'brilliantly': 583, 'trailers': 4554, 'expressed': 1599, 'generations': 1881, 'dear': 1139, 'motives': 2915, 'incomprehensible': 2264, 'orange': 3124, 'satisfied': 3790, 'intention': 2316, 'concerned': 931, 'national': 2969, 'indians': 2272, 'butt': 636, 'ps': 3455, 'closing': 857, 'lowest': 2676, 'mann': 2726, 'integrity': 2308, 'jeff': 2388, 'stewart': 4184, 'smaller': 4034, 'joey': 2406, 'beating': 424, 'amanda': 205, 'blake': 497, 'easier': 1403, 'clown': 860, 'broad': 589, 'mundane': 2937, 'thank': 4422, 'awake': 364, 'laughter': 2533, 'bang': 392, 'luke': 2685, 'eat': 1409, 'thomas': 4459, 'gross': 1975, 'bbc': 416, 'paltrow': 3180, 'originality': 3129, 'terry': 4416, 'cary': 704, 'pretentious': 3385, 'covered': 1022, 'shadows': 3914, 'uncomfortable': 4636, 'arrogant': 302, 'website': 4833, 'stereotype': 4178, 'bank': 393, 'sons': 4073, 'established': 1522, 'akshay': 169, 'turning': 4607, 'simplistic': 3985, 'tons': 4521, 'achieved': 93, 'talked': 4360, 'expressions': 1601, 'performs': 3236, 'brilliance': 581, 'comics': 893, 'visits': 4755, 'rolling': 3731, 'explosion': 1594, 'remotely': 3624, 'plant': 3295, 'furthermore': 1851, 'huh': 2184, 'drag': 1340, 'splatter': 4117, 'cg': 737, 'failing': 1625, 'disease': 1283, 'alas': 172, 'shall': 3917, 'steps': 4177, 'elvis': 1449, 'lyrics': 2690, '90': 60, 'models': 2880, 'tunes': 4602, 'bear': 419, 'trap': 4562, 'sitcom': 4004, 'aliens': 184, 'von': 4764, 'cliche': 841, 'palace': 3179, 'prefer': 3370, 'invasion': 2337, 'doomed': 1325, 'peace': 3221, 'underlying': 4640, 'global': 1917, 'tender': 4402, 'eccentric': 1412, 'spell': 4103, 'respected': 3654, 'touched': 4535, 'omen': 3103, 'synopsis': 4345, 'influence': 2283, 'photographed': 3260, 'eerie': 1425, 'icon': 2208, 'carradine': 693, 'blew': 504, 'previously': 3390, 'chick': 784, 'alike': 185, 'stanwyck': 4149, 'talks': 4362, 'brando': 565, 'cooper': 989, 'cruise': 1070, 'roberts': 3715, 'spielberg': 4109, 'hart': 2038, 'benefit': 464, 'bringing': 585, 'throwing': 4481, 'stereotypical': 4180, 'desert': 1196, 'someones': 4065, 'symbolism': 4342, 'nostalgia': 3037, 'warm': 4793, 'minimum': 2855, 'wounded': 4961, 'army': 294, 'altogether': 202, 'frustrated': 1839, 'navy': 2975, 'improvement': 2253, 'rangers': 3518, 'fifteen': 1703, 'embarrassment': 1453, 'angry': 237, 'thumbs': 4486, 'explicit': 1589, 'criminal': 1056, 'mst3k': 2931, 'attend': 343, 'orson': 3132, 'welles': 4843, 'thirty': 4457, 'resources': 3652, 'bare': 397, 'swim': 4338, 'pushing': 3481, 'jungle': 2432, '30s': 44, '40s': 49, 'apes': 266, 'sloppy': 4030, 'nights': 3015, 'channels': 752, 'sport': 4129, 'remote': 3623, 'ninja': 3017, 'buildings': 614, 'chuck': 810, 'ease': 1402, 'colonel': 874, 'showdown': 3956, 'brave': 566, 'nelson': 2996, 'activities': 102, 'substance': 4259, 'superhero': 4299, 'absence': 69, 'staring': 4152, 'assume': 327, 'poetic': 3315, 'device': 1225, 'suffering': 4278, 'fatal': 1662, 'phantom': 3253, 'taxi': 4372, 'glover': 1920, 'highest': 2099, 'contrived': 975, 'boot': 537, 'cagney': 644, 'wrap': 4963, '2005': 35, 'online': 3108, 'removed': 3625, '2006': 36, 'weapons': 4828, 'accepted': 82, 'thoughtful': 4464, 'cardboard': 680, 'explored': 1593, 'unreal': 4675, 'ear': 1395, 'max': 2772, 'knife': 2485, 'hamilton': 2009, 'leonard': 2570, 'restored': 3660, 'lion': 2612, 'careful': 686, 'unit': 4662, 'beer': 438, 'heroic': 2087, 'westerns': 4853, 'beings': 448, 'strangely': 4212, 'bound': 552, 'norman': 3034, 'montana': 2894, 'spirits': 4114, 'degree': 1163, 'position': 3347, 'chicago': 783, 'craig': 1029, 'obnoxious': 3066, 'jessica': 2396, 'brian': 575, 'honor': 2147, 'carl': 690, 'chief': 786, 'stunned': 4244, 'curse': 1085, 'endings': 1470, 'glimpse': 1916, 'plastic': 3296, 'bucks': 605, 'laughably': 2529, 'dragged': 1341, 'countries': 1012, 'celebrity': 727, 'tedious': 4388, 'emphasis': 1461, 'exploitation': 1590, 'banned': 394, 'challenging': 742, 'contract': 972, 'ned': 2985, 'beatty': 426, 'hal': 2003, 'chases': 769, 'considerable': 949, 'march': 2732, 'doors': 1327, 'describes': 1194, 'nurse': 3062, 'tea': 4374, 'andrews': 229, 'shoes': 3942, 'sing': 3992, 'tree': 4575, 'elephant': 1442, 'surrounded': 4319, 'catches': 713, 'arm': 291, 'reaching': 3540, 'drops': 1370, 'secretly': 3852, 'waves': 4818, 'players': 3301, 'bomb': 530, 'womans': 4922, 'familys': 1644, 'neil': 2994, 'cox': 1025, 'shakespeare': 3916, 'fields': 1702, 'occurred': 3076, 'displayed': 1290, 'growing': 1980, 'fits': 1738, '3d': 46, 'invisible': 2341, 'cover': 1021, 'parent': 3189, 'suspicious': 4333, 'le': 2542, 'household': 2176, 'cares': 688, 'carefully': 687, 'stereotypes': 4179, 'consequences': 946, 'solve': 4060, 'miserable': 2862, 'access': 83, 'titles': 4507, 'larry': 2518, 'audio': 353, 'checking': 776, 'ships': 3936, 'curtis': 1086, 'suffers': 4279, 'toys': 4544, 'scarecrow': 3805, 'walked': 4775, 'steve': 4181, 'sunshine': 4294, 'user': 4695, 'steel': 4173, '1990': 24, 'hired': 2114, 'bible': 476, 'dancers': 1104, 'centers': 732, 'massacre': 2752, 'succeeds': 4265, 'aid': 160, 'compelled': 914, 'rule': 3754, 'reasonably': 3560, 'forth': 1801, 'practically': 3364, 'aforementioned': 139, 'relevant': 3605, 'lying': 2688, 'jonathan': 2415, 'format': 1796, 'product': 3420, 'kitchen': 2483, 'suffer': 4276, 'formulaic': 1800, 'van': 4712, 'beach': 418, 'disappoint': 1270, 'cheek': 777, 'dubbing': 1378, 'disc': 1276, 'recording': 3576, 'chair': 740, 'slap': 4018, 'oil': 3096, 'manager': 2722, 'equipment': 1509, 'lengthy': 2568, 'ballet': 388, 'shallow': 3918, 'mile': 2841, 'itll': 2367, 'samurai': 3780, 'distant': 1293, 'buff': 609, 'load': 2629, 'rats': 3532, 'assistant': 325, '2002': 32, 'sexuality': 3910, 'freddy': 1823, 'proper': 3438, 'messages': 2818, 'crude': 1068, 'scottish': 3826, 'accompanied': 86, 'north': 3035, 'jake': 2375, 'liners': 2609, 'sidekick': 3966, 'kane': 2440, 'veteran': 4723, 'performed': 3232, 'classical': 834, 'holy': 2137, 'louise': 2664, 'entry': 1502, 'resembles': 3647, 'bela': 449, 'dave': 1122, 'spread': 4133, 'critical': 1061, 'engage': 1477, 'airplane': 166, 'clark': 830, 'borrowed': 544, 'compassion': 913, 'terrorist': 4414, 'distribution': 1296, 'closed': 852, 'misses': 2867, 'interviews': 2327, 'exercise': 1566, 'appearing': 276, 'willis': 4890, 'georges': 1891, 'tear': 4380, 'shirt': 3938, 'signed': 3971, 'holiday': 2131, 'personalities': 3243, 'der': 1189, 'legs': 2564, 'hardcore': 2031, 'bands': 391, 'creator': 1042, 'wood': 4933, 'imitation': 2238, 'minded': 2849, 'eyed': 1610, 'surface': 4311, 'advise': 134, 'ya': 4976, 'unbelievably': 4634, 'kennedy': 2452, 'cried': 1053, 'unbearable': 4632, 'latin': 2525, 'overly': 3156, 'distinct': 1294, 'similarly': 3980, 'goodness': 1935, 'trick': 4581, 'vhs': 4724, 'chilling': 792, 'unpredictable': 4674, 'treats': 4574, 'edward': 1424, 'trilogy': 4585, 'faster': 1660, 'staged': 4140, 'stunt': 4246, 'iii': 2224, 'virginia': 4749, 'attracted': 348, 'bone': 532, 'drivel': 1362, 'ridiculously': 3695, 'twisted': 4617, 'hitting': 2123, 'seed': 3857, 'nightmares': 3014, 'reminded': 3620, 'persons': 3246, 'relies': 3607, 'cheated': 773, 'separate': 3884, 'laurel': 2535, 'hardy': 2034, 'mummy': 2936, 'guessed': 1987, 'exaggerated': 1550, 'mildly': 2839, 'raymond': 3535, 'ensemble': 1490, 'othello': 3135, 'masterpieces': 2758, 'hamlet': 2010, 'hood': 2148, 'ted': 4387, 'horrifying': 2164, 'cameron': 659, 'ashley': 312, 'michelle': 2829, 'jesse': 2395, 'alex': 179, 'guts': 1996, 'thick': 4448, 'devils': 1227, 'hints': 2110, 'hysterical': 2205, 'aint': 163, 'fascinated': 1655, 'editor': 1421, 'dropped': 1368, 'newly': 3003, 'nazi': 2976, 'visible': 4752, 'widmark': 4881, 'miscast': 2861, 'sounding': 4083, 'sings': 3997, 'jimmy': 2401, 'vampires': 4711, 'charismatic': 761, 'los': 2651, 'dracula': 1339, 'blade': 494, 'paulie': 3217, 'subsequent': 4258, 'ham': 2008, 'perry': 3239, 'prequel': 3374, 'connected': 944, 'solely': 4056, 'lively': 2625, 'dances': 1105, 'instant': 2302, 'thrilling': 4475, 'overrated': 3157, 'mass': 2751, 'exposure': 1597, 'dude': 1379, 'segment': 3868, 'blowing': 514, 'kicked': 2459, 'taught': 4371, 'worthless': 4954, 'fashioned': 1658, 'relief': 3606, 'pulling': 3465, '35': 45, 'edie': 1417, 'odd': 3079, 'attraction': 349, 'parallel': 3187, 'rex': 3684, 'drawing': 1348, 'similarities': 3979, 'greed': 1965, 'bacall': 376, 'tracy': 4547, 'victoria': 4731, 'allowing': 191, 'sarah': 3786, 'ties': 4491, 'clip': 849, 'seventies': 3905, 'crucial': 1067, 'inappropriate': 2256, 'population': 3337, 'heat': 2064, 'heston': 2091, 'peters': 3250, 'polanski': 3323, 'darkness': 1116, 'marty': 2747, '13th': 5, 'simon': 3982, 'summary': 4290, 'fooled': 1777, 'fisher': 1736, 'shed': 3925, 'directorial': 1263, 'derek': 1190, 'houses': 2177, 'popularity': 3336, 'workers': 4943, 'porno': 3339, 'choreography': 800, 'strike': 4224, 'eyre': 1612, 'dalton': 1097, 'rochester': 3720, 'fever': 1696, 'toilet': 4513, 'ship': 3935, 'surviving': 4324, 'leg': 2560, 'boxing': 555, 'sacrifice': 3767, 'roger': 3725, 'hurts': 2200, '2003': 33, 'suitable': 4285, 'tad': 4348, 'journalist': 2418, 'streisand': 4218, 'portion': 3340, 'twelve': 4610, 'diane': 1236, 'craven': 1033, 'projects': 3430, 'donald': 1319, 'jamie': 2377, 'meaningless': 2780, 'diana': 1235, 'corpse': 998, 'matthew': 2770, 'slight': 4027, 'jeffrey': 2389, 'glorious': 1918, 'stealing': 4171, 'fitting': 1739, 'centered': 731, 'civilization': 825, 'gain': 1860, 'wishing': 4907, 'dialogues': 1233, 'noise': 3023, 'lit': 2619, 'caliber': 647, 'cinematographer': 817, 'inevitably': 2280, 'wondered': 4927, 'stronger': 4230, 'reflection': 3586, 'opposed': 3121, 'freak': 1821, 'scientists': 3820, 'commercials': 901, 'chicks': 785, 'damon': 1100, 'zone': 4999, 'remind': 3619, 'sun': 4292, 'photo': 3259, 'silver': 3977, 'crafted': 1028, 'jaw': 2382, 'dropping': 1369, 'domino': 1317, 'mickey': 2830, 'susan': 4327, 'wished': 4905, 'airport': 167, 'sink': 3999, 'creativity': 1041, 'rid': 3691, 'ruby': 3750, 'elaborate': 1437, 'loyal': 2677, 'fx': 1855, 'dinosaurs': 1254, 'transition': 4560, 'dub': 1376, 'heck': 2068, 'sounded': 4082, 'winters': 4901, 'producing': 3419, 'text': 4420, 'flow': 1759, 'adorable': 124, 'miller': 2845, 'surfing': 4312, 'improved': 2252, 'crocodile': 1064, 'frequent': 1828, 'clumsy': 864, 'olivier': 3102, 'purple': 3475, 'rival': 3707, 'prisoner': 3404, 'treasure': 4570, 'risk': 3705, 'burton': 628, '1984': 23, 'via': 4725, 'teachers': 4377, 'awfully': 372, 'lawrence': 2537, 'burn': 623, 'rocket': 3722, 'finger': 1728, 'interaction': 2319, 'iron': 2351, 'notorious': 3050, 'bathroom': 411, 'ethan': 1526, 'excessive': 1558, 'deliberately': 1165, 'annoyed': 247, 'wives': 4918, 'marks': 2740, 'females': 1691, 'funeral': 1846, 'parties': 3198, 'knock': 2486, 'instinct': 2305, 'bleak': 502, 'hitler': 2121, 'sneak': 4043, 'jobs': 2404, 'stiller': 4189, 'blacks': 493, 'hire': 2113, 'domestic': 1316, 'morris': 2907, 'lisa': 2614, 'dinosaur': 1253, 'tie': 4489, 'shark': 3922, 'arrive': 299, 'inferior': 2282, 'nuts': 3063, 'transformation': 4559, 'construction': 959, 'handful': 2014, 'joined': 2411, 'defend': 1157, 'jerk': 2393, 'lees': 2558, 'tiger': 4492, '1972': 18, 'wed': 4834, 'carrie': 695, 'resemblance': 3646, 'blunt': 519, 'dentist': 1179, 'ann': 243, 'definite': 1160, 'equivalent': 1510, 'bakshi': 385, 'junior': 2433, 'yesterday': 4983, 'operation': 3116, 'intrigue': 2330, 'pretending': 3384, 'hippie': 2112, 'lifetime': 2592, 'mail': 2704, 'calm': 653, 'matches': 2762, 'remarks': 3616, 'forbidden': 1782, 'lily': 2603, 'hyde': 2203, 'richards': 3688, 'outer': 3144, 'landscapes': 2512, 'birds': 484, 'roots': 3739, 'mall': 2718, 'melting': 2797, 'duo': 1384, 'petty': 3251, 'juvenile': 2439, 'bottle': 549, 'khan': 2457, 'tongue': 4519, 'flynn': 1762, 'chased': 768, 'letter': 2579, 'carol': 691, 'button': 637, 'vietnam': 4734, 'ho': 2124, 'wake': 4773, 'possibility': 3351, 'francis': 1815, 'destiny': 1210, 'destroying': 1213, 'spots': 4132, 'push': 3479, 'conventional': 978, 'trashy': 4565, 'screams': 3829, 'shake': 3915, 'gandhi': 1863, 'plight': 3310, 'spirited': 4113, 'iraq': 2348, 'partly': 3199, 'valley': 4706, 'existed': 1568, 'rising': 3704, 'consistently': 953, 'rebel': 3562, 'shape': 3920, 'monkeys': 2890, 'macy': 2693, 'catchy': 715, 'kingdom': 2478, 'bo': 520, 'exotic': 1572, 'laura': 2534, 'hello': 2075, 'kay': 2445, 'fix': 1741, 'stargate': 4151, 'prom': 3431, 'maggie': 2700, 'matthau': 2769, 'judy': 2424, 'moody': 2898, 'snl': 4044, 'contest': 966, 'performing': 3235, 'lemmon': 2565, 'felix': 1686, 'developing': 1222, 'disneys': 1288, 'defeat': 1156, 'uninspired': 4656, 'daily': 1096, 'simmons': 3981, 'rendition': 3626, 'inventive': 2338, 'stilted': 4190, '70': 55, 'aids': 161, 'sexually': 3911, 'rolled': 3730, 'showcase': 3955, 'santa': 3784, 'ape': 265, 'tomatoes': 4516, 'helicopter': 2073, 'farce': 1652, 'hank': 2021, 'june': 2431, 'supported': 4304, 'germans': 1894, 'dorothy': 1328, 'mysteries': 2953, 'guide': 1990, '1983': 22, 'threw': 4471, 'preview': 3388, 'intent': 2315, 'wing': 4896, 'troops': 4590, 'illegal': 2226, 'messed': 2819, 'mistaken': 2871, 'duke': 1381, 'transfer': 4558, 'wrestling': 4966, 'tends': 4403, '2001': 31, 'quotes': 3499, 'satan': 3788, 'opinions': 3118, 'inspector': 2296, 'wolf': 4920, 'elm': 1445, 'letters': 2580, 'bargain': 399, 'bettie': 472, 'smiling': 4037, 'feed': 1680, 'stooges': 4200, 'desperation': 1208, 'buffs': 610, 'ellen': 1444, 'intentions': 2318, 'communist': 905, 'mighty': 2835, 'holmes': 2136, 'madonna': 2697, 'resulting': 3662, 'aging': 153, 'richardson': 3689, 'scooby': 3821, 'doo': 1323, 'scrooge': 3838, 'edgar': 1415, 'poem': 3314, 'sends': 3877, 'tag': 4349, 'mtv': 2932, 'unseen': 4677, 'angeles': 232, 'merits': 2815, 'album': 175, 'retired': 3665, 'witnesses': 4916, 'gundam': 1994, 'childish': 789, 'jenny': 2391, 'stevens': 4183, 'rob': 3711, 'attitudes': 346, 'lugosi': 2684, 'myers': 2951, 'atlantis': 331, 'twilight': 4613, 'mayor': 2775, 'berlin': 466, 'buddies': 606, 'che': 771, 'orleans': 3131, 'johnson': 2409, 'mario': 2736, 'advanced': 128, 'karloff': 2443, 'species': 4097, 'appreciation': 280, 'fury': 1852, 'fulci': 1842, 'grinch': 1972, 'brady': 560, 'elvira': 1448, 'pokemon': 3322, 'blob': 506, 'modesty': 2882, 'miike': 2836, 'gadget': 1857}\n"
     ]
    }
   ],
   "source": [
    "print(str(vocabulary))"
   ]
  },
  {
   "cell_type": "markdown",
   "metadata": {},
   "source": [
    "Once you have added the endpoint name to the Lambda function, click on **Save**. Your Lambda function is now up and running. Next we need to create a way for our web app to execute the Lambda function."
   ]
  },
  {
   "cell_type": "markdown",
   "metadata": {},
   "source": [
    "### Setting up API Gateway\n",
    "\n",
    "Now that our Lambda function is set up, it is time to create a new API using API Gateway that will trigger the Lambda function we have just created.\n",
    "\n",
    "Using AWS Console, navigate to **Amazon API Gateway** and then click on **Get started**.\n",
    "\n",
    "On the next page, make sure that **New API** is selected and give the new api a name, for example, `sentiment_analysis_web_app`. Then, click on **Create API**.\n",
    "\n",
    "Now we have created an API, however it doesn't currently do anything. What we want it to do is to trigger the Lambda function that we created earlier.\n",
    "\n",
    "Select the **Actions** dropdown menu and click **Create Method**. A new blank method will be created, select its dropdown menu and select **POST**, then click on the check mark beside it.\n",
    "\n",
    "For the integration point, make sure that **Lambda Function** is selected and click on the **Use Lambda Proxy integration**. This option makes sure that the data that is sent to the API is then sent directly to the Lambda function with no processing. It also means that the return value must be a proper response object as it will also not be processed by API Gateway.\n",
    "\n",
    "Type the name of the Lambda function you created earlier into the **Lambda Function** text entry box and then click on **Save**. Click on **OK** in the pop-up box that then appears, giving permission to API Gateway to invoke the Lambda function you created.\n",
    "\n",
    "The last step in creating the API Gateway is to select the **Actions** dropdown and click on **Deploy API**. You will need to create a new Deployment stage and name it anything you like, for example `prod`.\n",
    "\n",
    "You have now successfully set up a public API to access your SageMaker model. Make sure to copy or write down the URL provided to invoke your newly created public API as this will be needed in the next step. This URL can be found at the top of the page, highlighted in blue next to the text **Invoke URL**."
   ]
  },
  {
   "cell_type": "markdown",
   "metadata": {},
   "source": [
    "## Step 7: Deploying our web app\n",
    "\n",
    "Now that we have a publicly available API, we can start using it in a web app. For our purposes, we have provided a simple static html file which can make use of the public api you created earlier.\n",
    "\n",
    "In the `website` folder there should be a file called `index.html`. Download the file to your computer and open that file up in a text editor of your choice. There should be a line which contains **\\*\\*REPLACE WITH PUBLIC API URL\\*\\***. Replace this string with the url that you wrote down in the last step and then save the file.\n",
    "\n",
    "Now, if you open `index.html` on your local computer, your browser will behave as a local web server and you can use the provided site to interact with your SageMaker model.\n",
    "\n",
    "If you'd like to go further, you can host this html file anywhere you'd like, for example using github or hosting a static site on Amazon's S3. Once you have done this you can share the link with anyone you'd like and have them play with it too!\n",
    "\n",
    "> **Important Note** In order for the web app to communicate with the SageMaker endpoint, the endpoint has to actually be deployed and running. This means that you are paying for it. Make sure that the endpoint is running when you want to use the web app but that you shut it down when you don't need it, otherwise you will end up with a surprisingly large AWS bill."
   ]
  },
  {
   "cell_type": "markdown",
   "metadata": {},
   "source": [
    "### Delete the endpoint\n",
    "\n",
    "Remember to always shut down your endpoint if you are no longer using it. You are charged for the length of time that the endpoint is running so if you forget and leave it on you could end up with an unexpectedly large bill."
   ]
  },
  {
   "cell_type": "code",
   "execution_count": 82,
   "metadata": {},
   "outputs": [
    {
     "ename": "ClientError",
     "evalue": "An error occurred (ValidationException) when calling the DeleteEndpointConfig operation: Could not find endpoint configuration \"arn:aws:sagemaker:us-west-2:881038864233:endpoint-config/xgboost-2020-09-26-03-04-01-091\".",
     "output_type": "error",
     "traceback": [
      "\u001b[0;31m---------------------------------------------------------------------------\u001b[0m",
      "\u001b[0;31mClientError\u001b[0m                               Traceback (most recent call last)",
      "\u001b[0;32m<ipython-input-82-16a6b43a8b29>\u001b[0m in \u001b[0;36m<module>\u001b[0;34m\u001b[0m\n\u001b[0;32m----> 1\u001b[0;31m \u001b[0mxgb_predictor\u001b[0m\u001b[0;34m.\u001b[0m\u001b[0mdelete_endpoint\u001b[0m\u001b[0;34m(\u001b[0m\u001b[0;34m)\u001b[0m\u001b[0;34m\u001b[0m\u001b[0;34m\u001b[0m\u001b[0m\n\u001b[0m",
      "\u001b[0;32m~/anaconda3/envs/python3/lib/python3.6/site-packages/sagemaker/predictor.py\u001b[0m in \u001b[0;36mdelete_endpoint\u001b[0;34m(self, delete_endpoint_config)\u001b[0m\n\u001b[1;32m    174\u001b[0m         \"\"\"\n\u001b[1;32m    175\u001b[0m         \u001b[0;32mif\u001b[0m \u001b[0mdelete_endpoint_config\u001b[0m\u001b[0;34m:\u001b[0m\u001b[0;34m\u001b[0m\u001b[0;34m\u001b[0m\u001b[0m\n\u001b[0;32m--> 176\u001b[0;31m             \u001b[0mself\u001b[0m\u001b[0;34m.\u001b[0m\u001b[0m_delete_endpoint_config\u001b[0m\u001b[0;34m(\u001b[0m\u001b[0;34m)\u001b[0m\u001b[0;34m\u001b[0m\u001b[0;34m\u001b[0m\u001b[0m\n\u001b[0m\u001b[1;32m    177\u001b[0m \u001b[0;34m\u001b[0m\u001b[0m\n\u001b[1;32m    178\u001b[0m         \u001b[0mself\u001b[0m\u001b[0;34m.\u001b[0m\u001b[0msagemaker_session\u001b[0m\u001b[0;34m.\u001b[0m\u001b[0mdelete_endpoint\u001b[0m\u001b[0;34m(\u001b[0m\u001b[0mself\u001b[0m\u001b[0;34m.\u001b[0m\u001b[0mendpoint\u001b[0m\u001b[0;34m)\u001b[0m\u001b[0;34m\u001b[0m\u001b[0;34m\u001b[0m\u001b[0m\n",
      "\u001b[0;32m~/anaconda3/envs/python3/lib/python3.6/site-packages/sagemaker/predictor.py\u001b[0m in \u001b[0;36m_delete_endpoint_config\u001b[0;34m(self)\u001b[0m\n\u001b[1;32m    160\u001b[0m     \u001b[0;32mdef\u001b[0m \u001b[0m_delete_endpoint_config\u001b[0m\u001b[0;34m(\u001b[0m\u001b[0mself\u001b[0m\u001b[0;34m)\u001b[0m\u001b[0;34m:\u001b[0m\u001b[0;34m\u001b[0m\u001b[0;34m\u001b[0m\u001b[0m\n\u001b[1;32m    161\u001b[0m         \u001b[0;34m\"\"\"Delete the Amazon SageMaker endpoint configuration\"\"\"\u001b[0m\u001b[0;34m\u001b[0m\u001b[0;34m\u001b[0m\u001b[0m\n\u001b[0;32m--> 162\u001b[0;31m         \u001b[0mself\u001b[0m\u001b[0;34m.\u001b[0m\u001b[0msagemaker_session\u001b[0m\u001b[0;34m.\u001b[0m\u001b[0mdelete_endpoint_config\u001b[0m\u001b[0;34m(\u001b[0m\u001b[0mself\u001b[0m\u001b[0;34m.\u001b[0m\u001b[0m_endpoint_config_name\u001b[0m\u001b[0;34m)\u001b[0m\u001b[0;34m\u001b[0m\u001b[0;34m\u001b[0m\u001b[0m\n\u001b[0m\u001b[1;32m    163\u001b[0m \u001b[0;34m\u001b[0m\u001b[0m\n\u001b[1;32m    164\u001b[0m     \u001b[0;32mdef\u001b[0m \u001b[0mdelete_endpoint\u001b[0m\u001b[0;34m(\u001b[0m\u001b[0mself\u001b[0m\u001b[0;34m,\u001b[0m \u001b[0mdelete_endpoint_config\u001b[0m\u001b[0;34m=\u001b[0m\u001b[0;32mTrue\u001b[0m\u001b[0;34m)\u001b[0m\u001b[0;34m:\u001b[0m\u001b[0;34m\u001b[0m\u001b[0;34m\u001b[0m\u001b[0m\n",
      "\u001b[0;32m~/anaconda3/envs/python3/lib/python3.6/site-packages/sagemaker/session.py\u001b[0m in \u001b[0;36mdelete_endpoint_config\u001b[0;34m(self, endpoint_config_name)\u001b[0m\n\u001b[1;32m   2478\u001b[0m         \"\"\"\n\u001b[1;32m   2479\u001b[0m         \u001b[0mLOGGER\u001b[0m\u001b[0;34m.\u001b[0m\u001b[0minfo\u001b[0m\u001b[0;34m(\u001b[0m\u001b[0;34m\"Deleting endpoint configuration with name: %s\"\u001b[0m\u001b[0;34m,\u001b[0m \u001b[0mendpoint_config_name\u001b[0m\u001b[0;34m)\u001b[0m\u001b[0;34m\u001b[0m\u001b[0;34m\u001b[0m\u001b[0m\n\u001b[0;32m-> 2480\u001b[0;31m         \u001b[0mself\u001b[0m\u001b[0;34m.\u001b[0m\u001b[0msagemaker_client\u001b[0m\u001b[0;34m.\u001b[0m\u001b[0mdelete_endpoint_config\u001b[0m\u001b[0;34m(\u001b[0m\u001b[0mEndpointConfigName\u001b[0m\u001b[0;34m=\u001b[0m\u001b[0mendpoint_config_name\u001b[0m\u001b[0;34m)\u001b[0m\u001b[0;34m\u001b[0m\u001b[0;34m\u001b[0m\u001b[0m\n\u001b[0m\u001b[1;32m   2481\u001b[0m \u001b[0;34m\u001b[0m\u001b[0m\n\u001b[1;32m   2482\u001b[0m     \u001b[0;32mdef\u001b[0m \u001b[0mdelete_model\u001b[0m\u001b[0;34m(\u001b[0m\u001b[0mself\u001b[0m\u001b[0;34m,\u001b[0m \u001b[0mmodel_name\u001b[0m\u001b[0;34m)\u001b[0m\u001b[0;34m:\u001b[0m\u001b[0;34m\u001b[0m\u001b[0;34m\u001b[0m\u001b[0m\n",
      "\u001b[0;32m~/anaconda3/envs/python3/lib/python3.6/site-packages/botocore/client.py\u001b[0m in \u001b[0;36m_api_call\u001b[0;34m(self, *args, **kwargs)\u001b[0m\n\u001b[1;32m    335\u001b[0m                     \"%s() only accepts keyword arguments.\" % py_operation_name)\n\u001b[1;32m    336\u001b[0m             \u001b[0;31m# The \"self\" in this scope is referring to the BaseClient.\u001b[0m\u001b[0;34m\u001b[0m\u001b[0;34m\u001b[0m\u001b[0;34m\u001b[0m\u001b[0m\n\u001b[0;32m--> 337\u001b[0;31m             \u001b[0;32mreturn\u001b[0m \u001b[0mself\u001b[0m\u001b[0;34m.\u001b[0m\u001b[0m_make_api_call\u001b[0m\u001b[0;34m(\u001b[0m\u001b[0moperation_name\u001b[0m\u001b[0;34m,\u001b[0m \u001b[0mkwargs\u001b[0m\u001b[0;34m)\u001b[0m\u001b[0;34m\u001b[0m\u001b[0;34m\u001b[0m\u001b[0m\n\u001b[0m\u001b[1;32m    338\u001b[0m \u001b[0;34m\u001b[0m\u001b[0m\n\u001b[1;32m    339\u001b[0m         \u001b[0m_api_call\u001b[0m\u001b[0;34m.\u001b[0m\u001b[0m__name__\u001b[0m \u001b[0;34m=\u001b[0m \u001b[0mstr\u001b[0m\u001b[0;34m(\u001b[0m\u001b[0mpy_operation_name\u001b[0m\u001b[0;34m)\u001b[0m\u001b[0;34m\u001b[0m\u001b[0;34m\u001b[0m\u001b[0m\n",
      "\u001b[0;32m~/anaconda3/envs/python3/lib/python3.6/site-packages/botocore/client.py\u001b[0m in \u001b[0;36m_make_api_call\u001b[0;34m(self, operation_name, api_params)\u001b[0m\n\u001b[1;32m    654\u001b[0m             \u001b[0merror_code\u001b[0m \u001b[0;34m=\u001b[0m \u001b[0mparsed_response\u001b[0m\u001b[0;34m.\u001b[0m\u001b[0mget\u001b[0m\u001b[0;34m(\u001b[0m\u001b[0;34m\"Error\"\u001b[0m\u001b[0;34m,\u001b[0m \u001b[0;34m{\u001b[0m\u001b[0;34m}\u001b[0m\u001b[0;34m)\u001b[0m\u001b[0;34m.\u001b[0m\u001b[0mget\u001b[0m\u001b[0;34m(\u001b[0m\u001b[0;34m\"Code\"\u001b[0m\u001b[0;34m)\u001b[0m\u001b[0;34m\u001b[0m\u001b[0;34m\u001b[0m\u001b[0m\n\u001b[1;32m    655\u001b[0m             \u001b[0merror_class\u001b[0m \u001b[0;34m=\u001b[0m \u001b[0mself\u001b[0m\u001b[0;34m.\u001b[0m\u001b[0mexceptions\u001b[0m\u001b[0;34m.\u001b[0m\u001b[0mfrom_code\u001b[0m\u001b[0;34m(\u001b[0m\u001b[0merror_code\u001b[0m\u001b[0;34m)\u001b[0m\u001b[0;34m\u001b[0m\u001b[0;34m\u001b[0m\u001b[0m\n\u001b[0;32m--> 656\u001b[0;31m             \u001b[0;32mraise\u001b[0m \u001b[0merror_class\u001b[0m\u001b[0;34m(\u001b[0m\u001b[0mparsed_response\u001b[0m\u001b[0;34m,\u001b[0m \u001b[0moperation_name\u001b[0m\u001b[0;34m)\u001b[0m\u001b[0;34m\u001b[0m\u001b[0;34m\u001b[0m\u001b[0m\n\u001b[0m\u001b[1;32m    657\u001b[0m         \u001b[0;32melse\u001b[0m\u001b[0;34m:\u001b[0m\u001b[0;34m\u001b[0m\u001b[0;34m\u001b[0m\u001b[0m\n\u001b[1;32m    658\u001b[0m             \u001b[0;32mreturn\u001b[0m \u001b[0mparsed_response\u001b[0m\u001b[0;34m\u001b[0m\u001b[0;34m\u001b[0m\u001b[0m\n",
      "\u001b[0;31mClientError\u001b[0m: An error occurred (ValidationException) when calling the DeleteEndpointConfig operation: Could not find endpoint configuration \"arn:aws:sagemaker:us-west-2:881038864233:endpoint-config/xgboost-2020-09-26-03-04-01-091\"."
     ]
    }
   ],
   "source": [
    "xgb_predictor.delete_endpoint()"
   ]
  },
  {
   "cell_type": "markdown",
   "metadata": {},
   "source": [
    "## Optional: Clean up\n",
    "\n",
    "The default notebook instance on SageMaker doesn't have a lot of excess disk space available. As you continue to complete and execute notebooks you will eventually fill up this disk space, leading to errors which can be difficult to diagnose. Once you are completely finished using a notebook it is a good idea to remove the files that you created along the way. Of course, you can do this from the terminal or from the notebook hub if you would like. The cell below contains some commands to clean up the created files from within the notebook."
   ]
  },
  {
   "cell_type": "code",
   "execution_count": 83,
   "metadata": {},
   "outputs": [],
   "source": [
    "# First we will remove all of the files contained in the data_dir directory\n",
    "!rm $data_dir/*\n",
    "\n",
    "# And then we delete the directory itself\n",
    "!rmdir $data_dir\n",
    "\n",
    "# Similarly we remove the files in the cache_dir directory and the directory itself\n",
    "!rm $cache_dir/*\n",
    "!rmdir $cache_dir"
   ]
  },
  {
   "cell_type": "code",
   "execution_count": null,
   "metadata": {},
   "outputs": [],
   "source": []
  }
 ],
 "metadata": {
  "kernelspec": {
   "display_name": "conda_python3",
   "language": "python",
   "name": "conda_python3"
  },
  "language_info": {
   "codemirror_mode": {
    "name": "ipython",
    "version": 3
   },
   "file_extension": ".py",
   "mimetype": "text/x-python",
   "name": "python",
   "nbconvert_exporter": "python",
   "pygments_lexer": "ipython3",
   "version": "3.6.10"
  }
 },
 "nbformat": 4,
 "nbformat_minor": 2
}
